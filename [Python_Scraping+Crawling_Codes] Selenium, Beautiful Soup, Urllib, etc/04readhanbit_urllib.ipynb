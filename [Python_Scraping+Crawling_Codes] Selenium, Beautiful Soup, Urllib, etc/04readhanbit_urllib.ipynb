{
 "cells": [
  {
   "cell_type": "code",
   "execution_count": null,
   "metadata": {},
   "outputs": [],
   "source": [
    "from urllib.request import urlopen #내장이라 별도 패키지 설치 불요!\n",
    "\n",
    "url='http://www.hanbit.co.kr/store/books/bestseller_list.html'\n",
    "docs=urlopen(url)\n",
    "\n",
    "encode=docs.info().get_content_charset()\n",
    "text=doc.read().decode(encode)\n",
    "\n",
    "with open('data/'\n"
   ]
  }
 ],
 "metadata": {
  "kernelspec": {
   "display_name": "Python 3",
   "language": "python",
   "name": "python3"
  },
  "language_info": {
   "codemirror_mode": {
    "name": "ipython",
    "version": 3
   },
   "file_extension": ".py",
   "mimetype": "text/x-python",
   "name": "python",
   "nbconvert_exporter": "python",
   "pygments_lexer": "ipython3",
   "version": "3.6.8"
  }
 },
 "nbformat": 4,
 "nbformat_minor": 2
}
