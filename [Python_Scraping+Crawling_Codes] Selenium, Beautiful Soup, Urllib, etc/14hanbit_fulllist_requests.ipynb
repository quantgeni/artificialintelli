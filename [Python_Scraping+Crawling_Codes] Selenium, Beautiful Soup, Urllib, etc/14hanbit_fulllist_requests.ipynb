{
 "cells": [
  {
   "cell_type": "code",
   "execution_count": 18,
   "metadata": {},
   "outputs": [
    {
     "ename": "SyntaxError",
     "evalue": "invalid syntax (<ipython-input-18-9b495a3df458>, line 24)",
     "output_type": "error",
     "traceback": [
      "\u001b[0;36m  File \u001b[0;32m\"<ipython-input-18-9b495a3df458>\"\u001b[0;36m, line \u001b[0;32m24\u001b[0m\n\u001b[0;31m    css 선택자!!\u001b[0m\n\u001b[0m          ^\u001b[0m\n\u001b[0;31mSyntaxError\u001b[0m\u001b[0;31m:\u001b[0m invalid syntax\n"
     ]
    }
   ],
   "source": [
    "import requests\n",
    "import lxml.html\n",
    "\n",
    "url='http://www.hanbit.co.kr/store/books/full_book_list.html'\n",
    "res=requests.get(url)\n",
    "\n",
    "#print(res.status_code) #404는 없는 url 겟 요청 시..\n",
    "#print()\n",
    "#print(res.encoding)\n",
    "#print()\n",
    "#print(res.headers['content-type'])\n",
    "#print()\n",
    "html=res.text #인코딩 된 형식 출력!! (추천!) res.text => 스크래핑 한 결과를 분석해서 필요한 데이터를 추출하기 위해 변수에 저장\n",
    "#print()\n",
    "#print(res.content) #인코딩 안 한 형식 출력 => 바이트형 출력\n",
    "root=lxml.html.fromstring(html)\n",
    "#html 문서 내의 내용을 요소로 탐색할 수 있도록 계층구조를 메모리 내에 생성함\n",
    "#print(root)\n",
    "\n",
    "#도서 제목은 p태그의 bopok_tit라는 클래스에 있음\n",
    "#문서 내 특정 데이터를 추출하려면 css 표기법이나 xpath 표기법을 사용함\n",
    "#css 클래스 속성이 'book_tit'인 p요소의 하위요소 a 요소들을 추출함\n",
    "\n",
    "css 선택자!!\n",
    "for part_html in root.cssselect('td.left a'):\n",
    "    print(part_html.text_content())\n",
    "    print(part_html.get('href'))\n",
    "print()\n",
    "//*[@id=\"container\"]/div[2]/div[4]/table/tbody/tr[3]/td[2]/a\n",
    "for part_html in root.xpath('//td[2]/a'):\n",
    "    print(part_html.text_content())\n",
    "    print(part_html.get('href'))\n",
    "print()   \n",
    "for part_html in root.xpath('//td[@class=\"left\"]/a'):\n",
    "    print(part_html.text_content())\n",
    "    print(part_html.get('href'))"
   ]
  }
 ],
 "metadata": {
  "kernelspec": {
   "display_name": "Python 3",
   "language": "python",
   "name": "python3"
  },
  "language_info": {
   "codemirror_mode": {
    "name": "ipython",
    "version": 3
   },
   "file_extension": ".py",
   "mimetype": "text/x-python",
   "name": "python",
   "nbconvert_exporter": "python",
   "pygments_lexer": "ipython3",
   "version": "3.6.8"
  }
 },
 "nbformat": 4,
 "nbformat_minor": 2
}
