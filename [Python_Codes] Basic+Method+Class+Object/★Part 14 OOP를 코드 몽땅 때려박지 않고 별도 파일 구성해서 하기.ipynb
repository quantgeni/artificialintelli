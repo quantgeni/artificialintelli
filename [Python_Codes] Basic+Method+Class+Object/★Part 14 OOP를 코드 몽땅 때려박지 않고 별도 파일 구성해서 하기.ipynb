{
 "cells": [
  {
   "cell_type": "markdown",
   "metadata": {},
   "source": [
    "# 패키지 모듈 방식\n",
    "\n",
    "## 방법1) pycharm 같은 IDE에서 사용할면?\n",
    "## 파이썬가상환경/Lib/site-packages에 복사해둠\n",
    "## 예: C:\\Users\\TJ\\venv\\py36\\Lib\\site-packages\n",
    "\n",
    "## 방법2) 주피터노트북 \n",
    "## 파이썬설치위치/Lib/site-packages\n",
    "\n",
    "## 먼저 winscp로 관련 파일 업로드.\n",
    "## 파이썬설치위치 알아보기 위해 whereis python \n",
    "## => /usr/local/python3\n",
    "\n",
    "## 설치위치 확인 ls /usr/local/python3/lib/python3.6/site-packages\n",
    "## sudo su\n",
    "## cd /usr/local/python3/lib/python3.6\n",
    "## cp /home/centos/*.py site-packages/\n",
    "## ls site-packages\n",
    "\n",
    "## 파일복사 후 주피터 노트북 재시작 해야함\n",
    "## 주피터노트북 web UI 상의 Home 페이지에서 Quit 버튼을 클릭함. 리눅스 쪽 주피터 종료\n",
    "## exit\n",
    "## jupyter-notebook --ip=AWS아이피&"
   ]
  },
  {
   "cell_type": "code",
   "execution_count": 1,
   "metadata": {},
   "outputs": [
    {
     "name": "stdout",
     "output_type": "stream",
     "text": [
      "이름은? 손담비\n",
      "국어는? : 95\n",
      "영어는? : 55\n",
      "수학은? : 68\n",
      "0,손담비,95,55,68,218,43.6,F,\n"
     ]
    },
    {
     "ename": "NameError",
     "evalue": "name 'pymysql' is not defined",
     "output_type": "error",
     "traceback": [
      "\u001b[0;31m---------------------------------------------------------------------------\u001b[0m",
      "\u001b[0;31mNameError\u001b[0m                                 Traceback (most recent call last)",
      "\u001b[0;32m<ipython-input-1-23821626abc1>\u001b[0m in \u001b[0;36m<module>\u001b[0;34m\u001b[0m\n\u001b[1;32m     17\u001b[0m \u001b[0;34m\u001b[0m\u001b[0m\n\u001b[1;32m     18\u001b[0m \u001b[0msjdao\u001b[0m\u001b[0;34m=\u001b[0m\u001b[0mSungJukDAO\u001b[0m\u001b[0;34m(\u001b[0m\u001b[0;34m)\u001b[0m\u001b[0;34m\u001b[0m\u001b[0;34m\u001b[0m\u001b[0m\n\u001b[0;32m---> 19\u001b[0;31m \u001b[0msjs\u001b[0m\u001b[0;34m=\u001b[0m\u001b[0msjdao\u001b[0m\u001b[0;34m.\u001b[0m\u001b[0mselectSungJuk\u001b[0m\u001b[0;34m(\u001b[0m\u001b[0;34m)\u001b[0m\u001b[0;34m\u001b[0m\u001b[0;34m\u001b[0m\u001b[0m\n\u001b[0m\u001b[1;32m     20\u001b[0m \u001b[0;32mfor\u001b[0m \u001b[0msj\u001b[0m \u001b[0;32min\u001b[0m \u001b[0msjs\u001b[0m\u001b[0;34m:\u001b[0m\u001b[0mprint\u001b[0m\u001b[0;34m(\u001b[0m\u001b[0msj\u001b[0m\u001b[0;34m.\u001b[0m\u001b[0mprintList\u001b[0m\u001b[0;34m(\u001b[0m\u001b[0;34m)\u001b[0m\u001b[0;34m)\u001b[0m\u001b[0;34m\u001b[0m\u001b[0;34m\u001b[0m\u001b[0m\n\u001b[1;32m     21\u001b[0m \u001b[0;34m\u001b[0m\u001b[0m\n",
      "\u001b[0;32m~/SungJukDAO.py\u001b[0m in \u001b[0;36mselectSungJuk\u001b[0;34m(self)\u001b[0m\n\u001b[1;32m     26\u001b[0m \u001b[0;34m\u001b[0m\u001b[0m\n\u001b[1;32m     27\u001b[0m     \u001b[0;32mdef\u001b[0m \u001b[0mselectSungJuk\u001b[0m\u001b[0;34m(\u001b[0m\u001b[0mself\u001b[0m\u001b[0;34m)\u001b[0m\u001b[0;34m:\u001b[0m\u001b[0;34m\u001b[0m\u001b[0;34m\u001b[0m\u001b[0m\n\u001b[0;32m---> 28\u001b[0;31m         \u001b[0mconn\u001b[0m\u001b[0;34m=\u001b[0m\u001b[0mself\u001b[0m\u001b[0;34m.\u001b[0m\u001b[0mmakeConn\u001b[0m\u001b[0;34m(\u001b[0m\u001b[0;34m)\u001b[0m\u001b[0;34m\u001b[0m\u001b[0;34m\u001b[0m\u001b[0m\n\u001b[0m\u001b[1;32m     29\u001b[0m \u001b[0;34m\u001b[0m\u001b[0m\n\u001b[1;32m     30\u001b[0m         \u001b[0mcursor\u001b[0m\u001b[0;34m=\u001b[0m\u001b[0mconn\u001b[0m\u001b[0;34m.\u001b[0m\u001b[0mcursor\u001b[0m\u001b[0;34m(\u001b[0m\u001b[0;34m)\u001b[0m\u001b[0;34m\u001b[0m\u001b[0;34m\u001b[0m\u001b[0m\n",
      "\u001b[0;32m~/SungJukDAO.py\u001b[0m in \u001b[0;36mmakeConn\u001b[0;34m(self)\u001b[0m\n\u001b[1;32m     11\u001b[0m     \u001b[0;32mdef\u001b[0m \u001b[0mmakeConn\u001b[0m\u001b[0;34m(\u001b[0m\u001b[0mself\u001b[0m\u001b[0;34m)\u001b[0m\u001b[0;34m:\u001b[0m\u001b[0;34m\u001b[0m\u001b[0;34m\u001b[0m\u001b[0m\n\u001b[1;32m     12\u001b[0m         \u001b[0mconnstr\u001b[0m\u001b[0;34m=\u001b[0m\u001b[0;34m[\u001b[0m\u001b[0;34m'52.79.135.218'\u001b[0m\u001b[0;34m,\u001b[0m\u001b[0;34m'bigdata'\u001b[0m\u001b[0;34m,\u001b[0m\u001b[0;34m'bigdata0220'\u001b[0m\u001b[0;34m,\u001b[0m\u001b[0;34m'utf8'\u001b[0m\u001b[0;34m]\u001b[0m\u001b[0;34m\u001b[0m\u001b[0;34m\u001b[0m\u001b[0m\n\u001b[0;32m---> 13\u001b[0;31m         \u001b[0mconn\u001b[0m\u001b[0;34m=\u001b[0m\u001b[0mpymysql\u001b[0m\u001b[0;34m.\u001b[0m\u001b[0mconnect\u001b[0m\u001b[0;34m(\u001b[0m\u001b[0mhost\u001b[0m\u001b[0;34m=\u001b[0m\u001b[0mconnstr\u001b[0m\u001b[0;34m[\u001b[0m\u001b[0;36m0\u001b[0m\u001b[0;34m]\u001b[0m\u001b[0;34m,\u001b[0m\u001b[0muser\u001b[0m\u001b[0;34m=\u001b[0m\u001b[0mconnstr\u001b[0m\u001b[0;34m[\u001b[0m\u001b[0;36m1\u001b[0m\u001b[0;34m]\u001b[0m\u001b[0;34m,\u001b[0m\u001b[0mpassword\u001b[0m\u001b[0;34m=\u001b[0m\u001b[0mconnstr\u001b[0m\u001b[0;34m[\u001b[0m\u001b[0;36m2\u001b[0m\u001b[0;34m]\u001b[0m\u001b[0;34m,\u001b[0m\u001b[0mdb\u001b[0m\u001b[0;34m=\u001b[0m\u001b[0mconnstr\u001b[0m\u001b[0;34m[\u001b[0m\u001b[0;36m1\u001b[0m\u001b[0;34m]\u001b[0m\u001b[0;34m,\u001b[0m\u001b[0mcharset\u001b[0m\u001b[0;34m=\u001b[0m\u001b[0mconnstr\u001b[0m\u001b[0;34m[\u001b[0m\u001b[0;36m3\u001b[0m\u001b[0;34m]\u001b[0m\u001b[0;34m)\u001b[0m\u001b[0;34m\u001b[0m\u001b[0;34m\u001b[0m\u001b[0m\n\u001b[0m\u001b[1;32m     14\u001b[0m         \u001b[0;32mreturn\u001b[0m \u001b[0mconn\u001b[0m\u001b[0;34m\u001b[0m\u001b[0;34m\u001b[0m\u001b[0m\n\u001b[1;32m     15\u001b[0m \u001b[0;34m\u001b[0m\u001b[0m\n",
      "\u001b[0;31mNameError\u001b[0m: name 'pymysql' is not defined"
     ]
    }
   ],
   "source": [
    "#패키지 모듈 방식으로 성적 처피 프로그램 구현\n",
    "#SungJukVO.py, SungJukService.py, SungJukDAO.py 파일을 만들고 코드를 작성(복사) 해 둠\n",
    "#별도 저장 파일을 불러오기 위해 import\n",
    "\n",
    "import SungJukDAO\n",
    "import SungJukService\n",
    "import SungJukVO\n",
    "from SungJukDAO import SungJukDAO\n",
    "from SungJukService import SungJukService\n",
    "from SungJukVO import SungJukVO\n",
    "\n",
    "\n",
    "sjsrv=SungJukService() #import 명령으로 클래스를 지정하고 호출하려면 파일명(모듈명).클래스명)() 형식을 이용\n",
    "sj1=sjsrv.readSungJuk()\n",
    "sjsrv.computeSungJuk(sj1)\n",
    "print(sj1)\n",
    "\n",
    "sjdao=SungJukDAO()\n",
    "sjs=sjdao.selectSungJuk()\n",
    "for sj in sjs:print(sj.printList())\n",
    "    \n",
    "sjdao=SungJukDAO()\n",
    "sj=sjdao.selectOneSungJuk(2)\n",
    "print(sj)"
   ]
  },
  {
   "cell_type": "code",
   "execution_count": null,
   "metadata": {},
   "outputs": [],
   "source": []
  },
  {
   "cell_type": "code",
   "execution_count": null,
   "metadata": {},
   "outputs": [],
   "source": []
  },
  {
   "cell_type": "code",
   "execution_count": null,
   "metadata": {},
   "outputs": [],
   "source": []
  },
  {
   "cell_type": "code",
   "execution_count": null,
   "metadata": {},
   "outputs": [],
   "source": []
  },
  {
   "cell_type": "code",
   "execution_count": null,
   "metadata": {},
   "outputs": [],
   "source": []
  },
  {
   "cell_type": "code",
   "execution_count": null,
   "metadata": {},
   "outputs": [],
   "source": []
  },
  {
   "cell_type": "code",
   "execution_count": null,
   "metadata": {},
   "outputs": [],
   "source": []
  },
  {
   "cell_type": "code",
   "execution_count": null,
   "metadata": {},
   "outputs": [],
   "source": []
  },
  {
   "cell_type": "code",
   "execution_count": null,
   "metadata": {},
   "outputs": [],
   "source": []
  },
  {
   "cell_type": "code",
   "execution_count": null,
   "metadata": {},
   "outputs": [],
   "source": []
  }
 ],
 "metadata": {
  "kernelspec": {
   "display_name": "Python 3",
   "language": "python",
   "name": "python3"
  },
  "language_info": {
   "codemirror_mode": {
    "name": "ipython",
    "version": 3
   },
   "file_extension": ".py",
   "mimetype": "text/x-python",
   "name": "python",
   "nbconvert_exporter": "python",
   "pygments_lexer": "ipython3",
   "version": "3.6.8"
  }
 },
 "nbformat": 4,
 "nbformat_minor": 2
}
