{
 "cells": [
  {
   "cell_type": "code",
   "execution_count": 2,
   "metadata": {},
   "outputs": [
    {
     "name": "stdout",
     "output_type": "stream",
     "text": [
      "수지 님의 학점은 수 입니다\n"
     ]
    }
   ],
   "source": [
    "#텍스트 꾸미기\n",
    "\n",
    "#'수지'님의 학점은 '수'입니다\n",
    "\n",
    "name='수지'\n",
    "grd='수'\n",
    "\n",
    "print(name+' 님의 학점은 '+grd+' 입니다')"
   ]
  },
  {
   "cell_type": "code",
   "execution_count": 4,
   "metadata": {},
   "outputs": [
    {
     "ename": "TypeError",
     "evalue": "must be str, not float",
     "output_type": "error",
     "traceback": [
      "\u001b[0;31m---------------------------------------------------------------------------\u001b[0m",
      "\u001b[0;31mTypeError\u001b[0m                                 Traceback (most recent call last)",
      "\u001b[0;32m<ipython-input-4-855756b186ae>\u001b[0m in \u001b[0;36m<module>\u001b[0;34m\u001b[0m\n\u001b[1;32m      1\u001b[0m \u001b[0mmean\u001b[0m\u001b[0;34m=\u001b[0m\u001b[0;36m98.9\u001b[0m\u001b[0;34m\u001b[0m\u001b[0;34m\u001b[0m\u001b[0m\n\u001b[1;32m      2\u001b[0m \u001b[0;34m\u001b[0m\u001b[0m\n\u001b[0;32m----> 3\u001b[0;31m \u001b[0mprint\u001b[0m\u001b[0;34m(\u001b[0m\u001b[0;34m'당신의 학점은'\u001b[0m\u001b[0;34m+\u001b[0m\u001b[0mmean\u001b[0m\u001b[0;34m+\u001b[0m\u001b[0;34m'입니다'\u001b[0m\u001b[0;34m)\u001b[0m\u001b[0;34m\u001b[0m\u001b[0;34m\u001b[0m\u001b[0m\n\u001b[0m",
      "\u001b[0;31mTypeError\u001b[0m: must be str, not float"
     ]
    }
   ],
   "source": [
    "mean=98.9\n",
    "\n",
    "print('당신의 학점은'+mean+'입니다')"
   ]
  },
  {
   "cell_type": "code",
   "execution_count": 6,
   "metadata": {},
   "outputs": [
    {
     "name": "stdout",
     "output_type": "stream",
     "text": [
      "당신의 학점은98.9입니다\n"
     ]
    }
   ],
   "source": [
    "mean=98.9\n",
    "\n",
    "print('당신의 학점은'+str(mean)+'입니다')"
   ]
  },
  {
   "cell_type": "code",
   "execution_count": 19,
   "metadata": {},
   "outputs": [
    {
     "name": "stdout",
     "output_type": "stream",
     "text": [
      "수지님의 학점은 수입니다\n",
      "수지님의 학점은 98.9입니다\n",
      "['수지', 98.9, '수']님의 학점은\n"
     ]
    }
   ],
   "source": [
    "#format함수로 text 꾸미기\n",
    "name='수지'\n",
    "grd='수'\n",
    "mean=98.9\n",
    "\n",
    "fmt='{}님의 학점은 {}입니다'\n",
    "print(fmt.format(name,grd))\n",
    "\n",
    "fmt='{}님의 학점은 {}입니다'\n",
    "print(fmt.format(name,mean))\n",
    "\n",
    "fmt='{}님의 학점은'\n",
    "print(fmt.format([name,mean,grd]))\n"
   ]
  },
  {
   "cell_type": "code",
   "execution_count": 10,
   "metadata": {},
   "outputs": [
    {
     "name": "stdout",
     "output_type": "stream",
     "text": [
      "수지님의 학점은 수입니다\n",
      "수지님의 학점은 98.9입니다\n",
      "수지님의 학점은 수, 평균은 98.9입니다\n"
     ]
    }
   ],
   "source": [
    "#format함수로 text 꾸미기\n",
    "name='수지'\n",
    "grd='수'\n",
    "mean=98.9\n",
    "\n",
    "fmt='{}님의 학점은 {}입니다'\n",
    "print(fmt.format(name,grd))\n",
    "\n",
    "fmt='{}님의 학점은 {}입니다'\n",
    "print(fmt.format(name,mean))\n",
    "\n",
    "fmt='{0}님의 학점은 {2}, 평균은 {1}입니다'\n",
    "print(fmt.format(name,mean,grd))\n"
   ]
  },
  {
   "cell_type": "code",
   "execution_count": 63,
   "metadata": {},
   "outputs": [
    {
     "name": "stdout",
     "output_type": "stream",
     "text": [
      "수지님의 학점은 수, 평균은 98.9입니다\n",
      "수지입니다\n",
      "['수지', 98.9, '수']입니다\n"
     ]
    }
   ],
   "source": [
    "#리스트 요소로 출력 : 리스트번호[인덱스]\n",
    "\n",
    "name='수지'\n",
    "grd='수'\n",
    "mean=98.9\n",
    "\n",
    "fmt='{0[0]}님의 학점은 {0[2]}, 평균은 {0[1]}입니다'\n",
    "print(fmt.format([name,mean,grd]))\n",
    "\n",
    "fmt='{0[0]}입니다'\n",
    "print(fmt.format([name,mean,grd]))\n",
    "\n",
    "fmt='{}입니다'\n",
    "print(fmt.format([name,mean,grd]))"
   ]
  },
  {
   "cell_type": "code",
   "execution_count": 14,
   "metadata": {},
   "outputs": [
    {
     "ename": "IndexError",
     "evalue": "tuple index out of range",
     "output_type": "error",
     "traceback": [
      "\u001b[0;31m---------------------------------------------------------------------------\u001b[0m",
      "\u001b[0;31mIndexError\u001b[0m                                Traceback (most recent call last)",
      "\u001b[0;32m<ipython-input-14-01976b793350>\u001b[0m in \u001b[0;36m<module>\u001b[0;34m\u001b[0m\n\u001b[1;32m      7\u001b[0m \u001b[0mfmt\u001b[0m\u001b[0;34m=\u001b[0m\u001b[0;34m'{1[0]}님의 학점은 {0[1]}, 평균은 {0[2]}입니다'\u001b[0m\u001b[0;34m\u001b[0m\u001b[0;34m\u001b[0m\u001b[0m\n\u001b[1;32m      8\u001b[0m \u001b[0;34m\u001b[0m\u001b[0m\n\u001b[0;32m----> 9\u001b[0;31m \u001b[0mprint\u001b[0m\u001b[0;34m(\u001b[0m\u001b[0mfmt\u001b[0m\u001b[0;34m.\u001b[0m\u001b[0mformat\u001b[0m\u001b[0;34m(\u001b[0m\u001b[0;34m[\u001b[0m\u001b[0mname\u001b[0m\u001b[0;34m,\u001b[0m\u001b[0mmean\u001b[0m\u001b[0;34m,\u001b[0m\u001b[0mgrd\u001b[0m\u001b[0;34m]\u001b[0m\u001b[0;34m)\u001b[0m\u001b[0;34m)\u001b[0m\u001b[0;34m\u001b[0m\u001b[0;34m\u001b[0m\u001b[0m\n\u001b[0m",
      "\u001b[0;31mIndexError\u001b[0m: tuple index out of range"
     ]
    }
   ],
   "source": [
    "#리스트 요소로 출력 : 리스트번호[인덱스]\n",
    "\n",
    "name='수지'\n",
    "grd='수'\n",
    "mean=98.9\n",
    "\n",
    "fmt='{1[0]}님의 학점은 {0[1]}, 평균은 {0[2]}입니다'\n",
    "\n",
    "print(fmt.format([name,mean,grd]))"
   ]
  },
  {
   "cell_type": "code",
   "execution_count": 59,
   "metadata": {},
   "outputs": [
    {
     "name": "stdout",
     "output_type": "stream",
     "text": [
      "국가:1 | 인구수: 2\n",
      "\n",
      "국가:China | 인구수: 1403500365\n",
      "국가:Japan | 인구수: 140332423500365\n",
      "국가:S.Korea | 인구수: 1403505\n",
      "국가:Pitcarian Islands | 인구수: 1365\n",
      "\n",
      "국가:          1403500365 | 인구수: China          \n",
      "국가:     140332423500365 | 인구수: Japan          \n",
      "국가:             1403505 | 인구수: S.Korea        \n",
      "국가:                1365 | 인구수: Pitcarian Islands\n",
      "\n",
      "국가:China                | 인구수:       1403500365\n",
      "국가:Japan                | 인구수:  140332423500365\n",
      "국가:S.Korea              | 인구수:          1403505\n",
      "국가:Pitcarian Islands    | 인구수:             1365\n",
      "\n",
      "국가:China                | 인구수: 00000000001403500365\n",
      "국가:Japan                | 인구수: 00000140332423500365\n",
      "국가:S.Korea              | 인구수: 00000000000001403505\n",
      "국가:Pitcarian Islands    | 인구수: 00000000000000001365\n"
     ]
    }
   ],
   "source": [
    "#길이가 일정하지 않은 텍스트 출력\n",
    "nations = [\n",
    "    {'name': 'China', 'pop':1403500365},\n",
    "    {'name': 'Japan', 'pop':140332423500365},\n",
    "    {'name': 'S.Korea', 'pop':1403505},\n",
    "    {'name': 'Pitcarian Islands', 'pop':1365},\n",
    "]\n",
    "\n",
    "fmt='국가:{} | 인구수: {}'\n",
    "\n",
    "print(fmt.format(1,2))\n",
    "print()\n",
    "\n",
    "for item in nations:\n",
    "    print(fmt.format(item['name'],item['pop']))\n",
    "print()\n",
    "\n",
    "fmt='국가:{1:20} | 인구수: {0:15}'\n",
    "\n",
    "for item in nations:\n",
    "    print(fmt.format(item['name'],item['pop']))\n",
    "print()\n",
    "\n",
    "fmt='국가:{0:20} | 인구수: {1:16}'\n",
    "for item in nations:\n",
    "    print(fmt.format(item['name'],item['pop']))\n",
    "print()\n",
    "\n",
    "fmt='국가:{0:20} | 인구수: {1:020}'\n",
    "for item in nations:\n",
    "    print(fmt.format(item['name'],item['pop']))"
   ]
  },
  {
   "cell_type": "code",
   "execution_count": 25,
   "metadata": {},
   "outputs": [
    {
     "name": "stdout",
     "output_type": "stream",
     "text": [
      "국가:               China | 인구수: 1403500365\n",
      "국가:               Japan | 인구수: 140332423500365\n",
      "국가:             S.Korea | 인구수: 0001403505\n",
      "국가:   Pitcarian Islands | 인구수: 0000001365\n"
     ]
    }
   ],
   "source": [
    "#자리에 정렬 이용 : < 왼쪽         > 오른쪽\n",
    "nations = [\n",
    "    {'name': 'China', 'pop':1403500365},\n",
    "    {'name': 'Japan', 'pop':140332423500365},\n",
    "    {'name': 'S.Korea', 'pop':1403505},\n",
    "    {'name': 'Pitcarian Islands', 'pop':1365},\n",
    "]\n",
    "\n",
    "fmt='국가:{0:>20} | 인구수: {1:010}'\n",
    "\n",
    "for item in nations:\n",
    "    print(fmt.format(item['name'],item['pop']))"
   ]
  },
  {
   "cell_type": "code",
   "execution_count": 32,
   "metadata": {},
   "outputs": [
    {
     "name": "stdout",
     "output_type": "stream",
     "text": [
      "{'name': 'China', 'pop': 1403500365}\n",
      "1\n",
      "{'name': 'Japan', 'pop': 140332423500365}\n",
      "2\n",
      "{'name': 'S.Korea', 'pop': 1403505}\n",
      "3\n",
      "{'name': 'Pitcarian Islands', 'pop': 1365}\n",
      "4\n"
     ]
    }
   ],
   "source": [
    "#길이가 일정하지 않은 텍스트 출력\n",
    "nations = [\n",
    "    {'name': 'China', 'pop':1403500365},\n",
    "    {'name': 'Japan', 'pop':140332423500365},\n",
    "    {'name': 'S.Korea', 'pop':1403505},\n",
    "    {'name': 'Pitcarian Islands', 'pop':1365},\n",
    "]\n",
    "\n",
    "i=0\n",
    "for item in nations: #item 리스트 안에 있는 각 {}를 하나씩 루프 돌림\n",
    "    print(item)\n",
    "    i+=1\n",
    "    print(i)"
   ]
  },
  {
   "cell_type": "code",
   "execution_count": 46,
   "metadata": {},
   "outputs": [
    {
     "name": "stdout",
     "output_type": "stream",
     "text": [
      "국어:{kor} 영어:{eng} 수학:{mat}\n",
      "국어:98 영어:97 수학:96\n",
      "총점:291 평균:97.0\n",
      "국어:98 영어:             97 수학:00096\n",
      "총점:291 평균:97.0\n"
     ]
    }
   ],
   "source": [
    "#format 문자열 리터럴 formatted string literal\n",
    "#문자열 속의 식을 평가식으로 치환하게 해줌. python 3.6부터 도입\n",
    "\n",
    "kor,eng,mat=98,97,96\n",
    "print('국어:{kor} 영어:{eng} 수학:{mat}')\n",
    "print(f'국어:{kor} 영어:{eng} 수학:{mat}')\n",
    "print(f'총점:{kor+eng+mat} 평균:{(kor+eng+mat)/3}')\n",
    "\n",
    "print(f'국어:{kor} 영어:{eng:15} 수학:{mat:05}')\n",
    "print(f'총점:{kor+eng+mat} 평균:{(kor+eng+mat)/3}')"
   ]
  },
  {
   "cell_type": "code",
   "execution_count": 49,
   "metadata": {},
   "outputs": [
    {
     "data": {
      "text/plain": [
       "<_sre.SRE_Match object; span=(7, 12), match='World'>"
      ]
     },
     "execution_count": 49,
     "metadata": {},
     "output_type": "execute_result"
    }
   ],
   "source": [
    "#정규 표현식\n",
    "#텍스트를 다룰 때 텍스트에서 일정한 패턴(규칙)을 찾아야 할 필요 존재\n",
    "#패턴: 전화번호 형식, 이메일 형식 등\n",
    "\n",
    "#텍스트 패턴 표현하는 일정한 표현식 => regular expression\n",
    "#파이썬에서는 re라는 모듈을 이용해서 정규표현식 패턴 다룸\n",
    "\n",
    "import re\n",
    "\n",
    "str1='Hello, World!!'\n",
    "\n",
    "#텍스트에서 패턴 존재여부확인\n",
    "pat=re.compile(r'Hello') #패턴을 re객체로 컴파일 해둠 - 성능 개선\n",
    "re.search(pat,str1) #str1에서 pat에 매핑된 'Hello'를 찾아라"
   ]
  },
  {
   "cell_type": "code",
   "execution_count": 67,
   "metadata": {},
   "outputs": [
    {
     "data": {
      "text/plain": [
       "<_sre.SRE_Match object; span=(7, 12), match='World'>"
      ]
     },
     "execution_count": 67,
     "metadata": {},
     "output_type": "execute_result"
    }
   ],
   "source": [
    "#정규 표현식\n",
    "#텍스트를 다룰 때 텍스트에서 일정한 패턴(규칙)을 찾아야 할 필요 존재\n",
    "#패턴: 전화번호 형식, 이메일 형식 등\n",
    "\n",
    "#텍스트 패턴 표현하는 일정한 표현식 => regular expression\n",
    "#파이썬에서는 re라는 모듈을 이용해서 정규표현식 패턴 다룸\n",
    "\n",
    "import re\n",
    "\n",
    "str1='Hello, World!!'\n",
    "\n",
    "#텍스트에서 패턴 존재여부확인\n",
    "pat2=re.compile(r'World') #패턴을 re객체로 컴파일 해둠 - 성능 개선\n",
    "re.search(pat2,str1) #str1에서 pat에 매핑된 'Hello'를 찾아라\n"
   ]
  },
  {
   "cell_type": "code",
   "execution_count": 64,
   "metadata": {},
   "outputs": [
    {
     "data": {
      "text/plain": [
       "<_sre.SRE_Match object; span=(7, 12), match='World'>"
      ]
     },
     "execution_count": 64,
     "metadata": {},
     "output_type": "execute_result"
    }
   ],
   "source": [
    "import re\n",
    "\n",
    "str1='Hello, World!!'\n",
    "re.search(r'World',str1)"
   ]
  },
  {
   "cell_type": "code",
   "execution_count": 65,
   "metadata": {},
   "outputs": [
    {
     "data": {
      "text/plain": [
       "<_sre.SRE_Match object; span=(7, 12), match='World'>"
      ]
     },
     "execution_count": 65,
     "metadata": {},
     "output_type": "execute_result"
    }
   ],
   "source": [
    "import re\n",
    "\n",
    "str1='Hello, World!!'\n",
    "re.search('World',str1)"
   ]
  },
  {
   "cell_type": "code",
   "execution_count": 68,
   "metadata": {},
   "outputs": [
    {
     "data": {
      "text/plain": [
       "<_sre.SRE_Match object; span=(7, 12), match='World'>"
      ]
     },
     "execution_count": 68,
     "metadata": {},
     "output_type": "execute_result"
    }
   ],
   "source": [
    "import re\n",
    "str1='Hello, World!!'\n",
    "pat2=='World'\n",
    "re.search(pat2,str1) "
   ]
  },
  {
   "cell_type": "code",
   "execution_count": 71,
   "metadata": {},
   "outputs": [
    {
     "data": {
      "text/plain": [
       "<_sre.SRE_Match object; span=(0, 6), match='Python'>"
      ]
     },
     "execution_count": 71,
     "metadata": {},
     "output_type": "execute_result"
    }
   ],
   "source": [
    "str1='Python'\n",
    "str2='Python Data Science'\n",
    "str3='Hello, Python!!!'\n",
    "\n",
    "re.search(r'Python',str1)\n",
    "re.match(r'Python',str1)\n",
    "re.fullmatch(r'Python',str1)"
   ]
  },
  {
   "cell_type": "code",
   "execution_count": 72,
   "metadata": {},
   "outputs": [
    {
     "data": {
      "text/plain": [
       "<_sre.SRE_Match object; span=(0, 6), match='Python'>"
      ]
     },
     "execution_count": 72,
     "metadata": {},
     "output_type": "execute_result"
    }
   ],
   "source": [
    "str1='Python'\n",
    "str2='Python Data Science'\n",
    "str3='Hello, Python!!!'\n",
    "\n",
    "re.match(r'Python',str1)"
   ]
  },
  {
   "cell_type": "code",
   "execution_count": 78,
   "metadata": {},
   "outputs": [
    {
     "data": {
      "text/plain": [
       "<_sre.SRE_Match object; span=(0, 6), match='Python'>"
      ]
     },
     "execution_count": 78,
     "metadata": {},
     "output_type": "execute_result"
    }
   ],
   "source": [
    "str1='Python'\n",
    "str2='Python Data Science'\n",
    "str3='Hello, Python!!!'\n",
    "\n",
    "re.match(r'Python',str2)"
   ]
  },
  {
   "cell_type": "code",
   "execution_count": 79,
   "metadata": {},
   "outputs": [],
   "source": [
    "str1='Python'\n",
    "str2='Python Data Science'\n",
    "str3='Hello, Python!!!'\n",
    "\n",
    "re.match(r'Python',str3) #못 찾아줌!!"
   ]
  },
  {
   "cell_type": "code",
   "execution_count": 76,
   "metadata": {},
   "outputs": [
    {
     "data": {
      "text/plain": [
       "<_sre.SRE_Match object; span=(0, 19), match='Python Data Science'>"
      ]
     },
     "execution_count": 76,
     "metadata": {},
     "output_type": "execute_result"
    }
   ],
   "source": [
    "str1='Python'\n",
    "str2='Python Data Science'\n",
    "str3='Hello, Python!!!'\n",
    "\n",
    "re.fullmatch(r'Python Data Science',str2)"
   ]
  },
  {
   "cell_type": "code",
   "execution_count": 77,
   "metadata": {},
   "outputs": [],
   "source": [
    "str1='Python'\n",
    "str2='Python Data Science'\n",
    "str3='Hello, Python!!!'\n",
    "\n",
    "re.fullmatch(r'Python Data',str2) #못 찾아줌!"
   ]
  },
  {
   "cell_type": "code",
   "execution_count": 82,
   "metadata": {},
   "outputs": [
    {
     "data": {
      "text/plain": [
       "<_sre.SRE_Match object; span=(0, 6), match='Python'>"
      ]
     },
     "execution_count": 82,
     "metadata": {},
     "output_type": "execute_result"
    }
   ],
   "source": [
    "str1='Python'\n",
    "str2='Python Data Science'\n",
    "str3='Hello, Python!!!'\n",
    "\n",
    "re.search(r'Python',str1)"
   ]
  },
  {
   "cell_type": "code",
   "execution_count": 81,
   "metadata": {},
   "outputs": [
    {
     "data": {
      "text/plain": [
       "<_sre.SRE_Match object; span=(0, 6), match='Python'>"
      ]
     },
     "execution_count": 81,
     "metadata": {},
     "output_type": "execute_result"
    }
   ],
   "source": [
    "str1='Python'\n",
    "str2='Python Data Science'\n",
    "str3='Hello, Python!!!'\n",
    "\n",
    "re.search(r'Python',str2)"
   ]
  },
  {
   "cell_type": "code",
   "execution_count": 83,
   "metadata": {},
   "outputs": [
    {
     "data": {
      "text/plain": [
       "<_sre.SRE_Match object; span=(7, 13), match='Python'>"
      ]
     },
     "execution_count": 83,
     "metadata": {},
     "output_type": "execute_result"
    }
   ],
   "source": [
    "str1='Python'\n",
    "str2='Python Data Science'\n",
    "str3='Hello, Python!!!'\n",
    "\n",
    "re.search(r'Python',str3)"
   ]
  },
  {
   "cell_type": "code",
   "execution_count": 85,
   "metadata": {},
   "outputs": [
    {
     "name": "stdout",
     "output_type": "stream",
     "text": [
      "패턴존재함\n"
     ]
    }
   ],
   "source": [
    "#패턴 일치 결과로 조건문에 적용\n",
    "str1='Python'\n",
    "str2='Python Data Science'\n",
    "str3='Hello, Python!!!'\n",
    "\n",
    "matchs = re.search(r'Python',str3)\n",
    "if matchs: print('패턴존재함')\n",
    "else: print('패턴존재x')"
   ]
  },
  {
   "cell_type": "code",
   "execution_count": 87,
   "metadata": {},
   "outputs": [
    {
     "name": "stdout",
     "output_type": "stream",
     "text": [
      "Java\n",
      "\n"
     ]
    }
   ],
   "source": [
    "#패턴으로 찾은 후 다른 문자열로 치환 : sub\n",
    "\n",
    "str1='Python'\n",
    "str2='Python Data Science'\n",
    "str3='Hello, Python!!!'\n",
    "\n",
    "str2=re.sub(r'Python','Java',str1)\n",
    "print(str2)"
   ]
  },
  {
   "cell_type": "code",
   "execution_count": 90,
   "metadata": {},
   "outputs": [
    {
     "name": "stdout",
     "output_type": "stream",
     "text": [
      "Data Science\n"
     ]
    }
   ],
   "source": [
    "str1='Python'\n",
    "str2='Python Data Science'\n",
    "str3='Hello, Python!!!'\n",
    "\n",
    "str4=re.sub(r'Python ','',str2)\n",
    "print(str4)"
   ]
  },
  {
   "cell_type": "markdown",
   "metadata": {},
   "source": [
    "# 정규 표현식 문자열\n",
    "### .:개행문자를 제외한 아무 문자 하나\n",
    "###  \\w : 숫자 밑줄 알파벳 중 아무 문자 하나 => [a-z  A-Z  0-9   _ ]와 동일\n",
    "###  \\d : 숫자 중 아무 숫자 하나 => [0-9]와 동일\n",
    "### \\s : 공백 문자 중 아무 공백 문자... => [\\t \\n \\r \\f \\v]\n",
    "\n",
    "### ^ : 텍스트 시작\n",
    "### $ : 텍스트 끝\n",
    "\n",
    "### ? : 앞 문자 0 또는 1번만 출현\n",
    "### + : 앞 문자 1번 이상 출현\n",
    "### * : 앞 문자 0번 이상 출현\n",
    "\n",
    "### [문자들] : 대괄호속 문자들 중 하나\n",
    "### [^문자들] : 대괄호속 문자들 아닌 문자 하나\n",
    "\n",
    "### 숫자} :  앞 문자가 숫자만큼 출현\n",
    "### 숫자1,숫자2} : 앞 문자가 숫자1~숫자2 만큼 출현"
   ]
  },
  {
   "cell_type": "code",
   "execution_count": 97,
   "metadata": {},
   "outputs": [
    {
     "name": "stdout",
     "output_type": "stream",
     "text": [
      "홍길동\n"
     ]
    }
   ],
   "source": [
    "#텍스트에서 한글 영어 숫자 추출\n",
    "str4='12345Python홍길동'\n",
    "\n",
    "kor=re.search(r'홍길동',str4)\n",
    "print(kor.group())"
   ]
  },
  {
   "cell_type": "code",
   "execution_count": 107,
   "metadata": {},
   "outputs": [
    {
     "ename": "AttributeError",
     "evalue": "'list' object has no attribute 'group'",
     "output_type": "error",
     "traceback": [
      "\u001b[0;31m---------------------------------------------------------------------------\u001b[0m",
      "\u001b[0;31mAttributeError\u001b[0m                            Traceback (most recent call last)",
      "\u001b[0;32m<ipython-input-107-cae4525ecdd7>\u001b[0m in \u001b[0;36m<module>\u001b[0;34m\u001b[0m\n\u001b[1;32m      3\u001b[0m \u001b[0;34m\u001b[0m\u001b[0m\n\u001b[1;32m      4\u001b[0m \u001b[0mkor\u001b[0m\u001b[0;34m=\u001b[0m\u001b[0mre\u001b[0m\u001b[0;34m.\u001b[0m\u001b[0mfindall\u001b[0m\u001b[0;34m(\u001b[0m\u001b[0;34mr'[가-힣]{1}'\u001b[0m\u001b[0;34m,\u001b[0m\u001b[0mstr4\u001b[0m\u001b[0;34m)\u001b[0m\u001b[0;34m\u001b[0m\u001b[0;34m\u001b[0m\u001b[0m\n\u001b[0;32m----> 5\u001b[0;31m \u001b[0mprint\u001b[0m\u001b[0;34m(\u001b[0m\u001b[0mkor\u001b[0m\u001b[0;34m.\u001b[0m\u001b[0mgroup\u001b[0m\u001b[0;34m(\u001b[0m\u001b[0;34m)\u001b[0m\u001b[0;34m)\u001b[0m\u001b[0;34m\u001b[0m\u001b[0;34m\u001b[0m\u001b[0m\n\u001b[0m",
      "\u001b[0;31mAttributeError\u001b[0m: 'list' object has no attribute 'group'"
     ]
    }
   ],
   "source": [
    "#텍스트에서 한글 영어 숫자 추출\n",
    "str4='12345Python홍길동'\n",
    "\n",
    "kor=re.findall(r'[가-힣]{1}',str4)\n",
    "print(kor.group())"
   ]
  },
  {
   "cell_type": "code",
   "execution_count": 122,
   "metadata": {},
   "outputs": [
    {
     "name": "stdout",
     "output_type": "stream",
     "text": [
      "['허준', '홍길동']\n"
     ]
    }
   ],
   "source": [
    "#텍스트에서 한글 영어 숫자 추출\n",
    "str4='허준12345Python홍길동'\n",
    "\n",
    "kor=re.findall(r'[가-힣]{2,3}',str4)\n",
    "print(kor) #findall은 리스트로 들어감"
   ]
  },
  {
   "cell_type": "code",
   "execution_count": 106,
   "metadata": {},
   "outputs": [
    {
     "name": "stdout",
     "output_type": "stream",
     "text": [
      "홍\n",
      "홍길\n",
      "홍길동\n",
      "홍길동\n"
     ]
    }
   ],
   "source": [
    "#텍스트에서 한글 영어 숫자 추출\n",
    "str4='12345Python홍길동'\n",
    "\n",
    "kor=re.search(r'[가-힣]{1}',str4)\n",
    "print(kor.group())\n",
    "\n",
    "kor=re.search(r'[가-힣]{2}',str4)\n",
    "print(kor.group())\n",
    "\n",
    "kor=re.search(r'[가-힣]{3}',str4)\n",
    "print(kor.group())\n",
    "\n",
    "kor=re.search(r'[가-힣]{1,3}',str4)\n",
    "print(kor.group())"
   ]
  },
  {
   "cell_type": "code",
   "execution_count": 133,
   "metadata": {},
   "outputs": [
    {
     "name": "stdout",
     "output_type": "stream",
     "text": [
      "y\n",
      "P\n",
      "Python\n",
      "허\n",
      "허준1234\n",
      "1\n",
      "12345\n",
      "12345\n",
      "1\n"
     ]
    }
   ],
   "source": [
    "#텍스트에서 한글 영어 숫자 추출\n",
    "str4='허준12345Python홍길동'\n",
    "\n",
    "eng=re.search(r'[a-z]',str4)\n",
    "print(eng.group())\n",
    "\n",
    "eng=re.search(r'[a-zA-Z]',str4)\n",
    "print(eng.group())\n",
    "\n",
    "eng=re.search(r'[a-zA-Z]{6}',str4)\n",
    "print(eng.group())\n",
    "\n",
    "eng=re.search(r'\\w',str4)\n",
    "print(eng.group())\n",
    "\n",
    "alpnum=re.search(r'\\w{6}',str4)\n",
    "print(alpnum.group())\n",
    "\n",
    "digit=re.search(r'[0-9]',str4)\n",
    "print(digit.group())\n",
    "\n",
    "digit=re.search(r'[0-9]{5}',str4)\n",
    "print(digit.group())\n",
    "\n",
    "digit=re.search(r'\\d{5}',str4)\n",
    "print(digit.group())\n",
    "                     \n",
    "digit=re.search(r'\\d',str4)\n",
    "print(digit.group())"
   ]
  },
  {
   "cell_type": "code",
   "execution_count": 135,
   "metadata": {},
   "outputs": [
    {
     "name": "stdout",
     "output_type": "stream",
     "text": [
      "010-9876-5432\n"
     ]
    }
   ],
   "source": [
    "#텍스트에서 전화번호 패턴 찾기\n",
    "str5='이름:수지, 연락처: 010-9876-5432, 주소: 서울시 광진구 자양동 321'\n",
    "\n",
    "tel=re.search(r'[0-9]{3}-[0-9]{4}-[0-9]{4}',str5)\n",
    "print(tel.group())"
   ]
  },
  {
   "cell_type": "code",
   "execution_count": 136,
   "metadata": {},
   "outputs": [
    {
     "name": "stdout",
     "output_type": "stream",
     "text": [
      "010-9876-5432\n"
     ]
    }
   ],
   "source": [
    "#텍스트에서 전화번호 패턴 찾기\n",
    "str5='이름:수지, 연락처: 010-9876-5432, 주소: 서울시 광진구 자양동 321'\n",
    "\n",
    "tel=re.search(r'\\d{3}-\\d{4}-\\d{4}',str5)\n",
    "print(tel.group())"
   ]
  },
  {
   "cell_type": "code",
   "execution_count": 139,
   "metadata": {},
   "outputs": [
    {
     "name": "stdout",
     "output_type": "stream",
     "text": [
      "010-9876-5432\n"
     ]
    }
   ],
   "source": [
    "#텍스트에서 전화번호 패턴 찾기\n",
    "str5='이름:수지, 연락처: 010-9876-5432, 주소: 서울시 광진구 자양동 321'\n",
    "\n",
    "tel=re.search(r'01\\d-\\d{4}-\\d{4}',str5)\n",
    "print(tel.group())"
   ]
  },
  {
   "cell_type": "code",
   "execution_count": 142,
   "metadata": {},
   "outputs": [
    {
     "name": "stdout",
     "output_type": "stream",
     "text": [
      "None\n"
     ]
    }
   ],
   "source": [
    "#텍스트에서 전화번호 패턴 찾기\n",
    "str5='이름:수지, 연락처: 010-9876-5432, 주소: 서울시 광진구 자양동 321'\n",
    "\n",
    "tel=re.search(r'\\d-\\d-\\d',str5)\n",
    "print(tel)"
   ]
  },
  {
   "cell_type": "code",
   "execution_count": 145,
   "metadata": {},
   "outputs": [
    {
     "name": "stdout",
     "output_type": "stream",
     "text": [
      "0-9\n"
     ]
    }
   ],
   "source": [
    "#텍스트에서 전화번호 패턴 찾기\n",
    "str5='이름:수지, 연락처: 010-9876-5432, 주소: 서울시 광진구 자양동 321'\n",
    "\n",
    "tel=re.search(r'\\d-\\d',str5)\n",
    "print(tel.group())"
   ]
  },
  {
   "cell_type": "code",
   "execution_count": 151,
   "metadata": {},
   "outputs": [
    {
     "name": "stdout",
     "output_type": "stream",
     "text": [
      "파이썬\n",
      "파이썬\n",
      "   !!\n",
      "I Love 파이썬 Programming!!\n"
     ]
    }
   ],
   "source": [
    "str6='I Love 파이썬 Programming!!'\n",
    "str7='a1가b2나c3다d4라e5마f6바g7사'\n",
    "\n",
    "#한글만 추출 정규식 이용 korean_only라는 함수 작성\n",
    "p=re.search(r'[가-힣]{3}',str6)\n",
    "print(p.group())\n",
    "\n",
    "p=re.sub(r'[A-Za-z!\\s]','',str6) #\\s는 빈칸 찾기!! ㅋㅋㅋ\n",
    "print(p)\n",
    "\n",
    "p=re.sub(r'\\w','',str6)\n",
    "print(p)\n",
    "\n",
    "p=re.sub(r'','',str6)\n",
    "print(p)"
   ]
  },
  {
   "cell_type": "code",
   "execution_count": 152,
   "metadata": {},
   "outputs": [
    {
     "ename": "AttributeError",
     "evalue": "'NoneType' object has no attribute 'group'",
     "output_type": "error",
     "traceback": [
      "\u001b[0;31m---------------------------------------------------------------------------\u001b[0m",
      "\u001b[0;31mAttributeError\u001b[0m                            Traceback (most recent call last)",
      "\u001b[0;32m<ipython-input-152-2bd6aa860312>\u001b[0m in \u001b[0;36m<module>\u001b[0;34m\u001b[0m\n\u001b[1;32m      2\u001b[0m \u001b[0;34m\u001b[0m\u001b[0m\n\u001b[1;32m      3\u001b[0m \u001b[0mp\u001b[0m\u001b[0;34m=\u001b[0m\u001b[0mre\u001b[0m\u001b[0;34m.\u001b[0m\u001b[0msearch\u001b[0m\u001b[0;34m(\u001b[0m\u001b[0;34mr'[가-힣]{2}'\u001b[0m\u001b[0;34m,\u001b[0m\u001b[0mstr7\u001b[0m\u001b[0;34m)\u001b[0m\u001b[0;34m\u001b[0m\u001b[0;34m\u001b[0m\u001b[0m\n\u001b[0;32m----> 4\u001b[0;31m \u001b[0mprint\u001b[0m\u001b[0;34m(\u001b[0m\u001b[0mp\u001b[0m\u001b[0;34m.\u001b[0m\u001b[0mgroup\u001b[0m\u001b[0;34m(\u001b[0m\u001b[0;34m)\u001b[0m\u001b[0;34m)\u001b[0m\u001b[0;34m\u001b[0m\u001b[0;34m\u001b[0m\u001b[0m\n\u001b[0m",
      "\u001b[0;31mAttributeError\u001b[0m: 'NoneType' object has no attribute 'group'"
     ]
    }
   ],
   "source": [
    "str7='a1가b2나c3다d4라e5마f6바g7사'\n",
    "\n",
    "p=re.search(r'[가-힣]{2}',str7)\n",
    "print(p.group())"
   ]
  },
  {
   "cell_type": "code",
   "execution_count": 158,
   "metadata": {},
   "outputs": [
    {
     "name": "stdout",
     "output_type": "stream",
     "text": [
      "['가', '나', '다', '라', '마', '바', '사']\n",
      "가나다라마바사\n",
      "가나다라마바사\n",
      "a\n"
     ]
    }
   ],
   "source": [
    "str7='a1가b2나c3다d4라e5마f6바g7사'\n",
    "\n",
    "p=re.findall(r'[가-힣]',str7)\n",
    "print(p)\n",
    "print(''.join(p))\n",
    "print(re.sub(r'[a-z0-9]','',str7))\n",
    "\n",
    "p=re.search(r'^[a-z0-9]',str7)\n",
    "print(p.group())"
   ]
  },
  {
   "cell_type": "code",
   "execution_count": 162,
   "metadata": {},
   "outputs": [
    {
     "name": "stdout",
     "output_type": "stream",
     "text": [
      "파이썬\n",
      "가나다라마바사\n"
     ]
    }
   ],
   "source": [
    "def korean_only(s):\n",
    "    p=re.findall(r'[^0-9a-zA-Z!\\s]',s)\n",
    "    return ''.join(p)\n",
    "\n",
    "print(korean_only('I Love 파이썬 Programming!!'))\n",
    "print(korean_only('a1가b2나c3다d4라e5마f6바g7사'))"
   ]
  },
  {
   "cell_type": "code",
   "execution_count": 161,
   "metadata": {},
   "outputs": [
    {
     "name": "stdout",
     "output_type": "stream",
     "text": [
      "I Love  Programming!!\n",
      "a1b2c3d4e5f6g7\n"
     ]
    }
   ],
   "source": [
    "def korean_only(s):\n",
    "    p=re.findall(r'[^가-힣]',s)\n",
    "    return ''.join(p)\n",
    "\n",
    "print(korean_only('I Love 파이썬 Programming!!'))\n",
    "print(korean_only('a1가b2나c3다d4라e5마f6바g7사'))"
   ]
  },
  {
   "cell_type": "code",
   "execution_count": 164,
   "metadata": {},
   "outputs": [
    {
     "ename": "AttributeError",
     "evalue": "module 'collections' has no attribute 'counter'",
     "output_type": "error",
     "traceback": [
      "\u001b[0;31m---------------------------------------------------------------------------\u001b[0m",
      "\u001b[0;31mAttributeError\u001b[0m                            Traceback (most recent call last)",
      "\u001b[0;32m<ipython-input-164-6bf408b87cde>\u001b[0m in \u001b[0;36m<module>\u001b[0;34m\u001b[0m\n\u001b[1;32m      3\u001b[0m \u001b[0mval\u001b[0m\u001b[0;34m=\u001b[0m\u001b[0;34m[\u001b[0m\u001b[0;36m1\u001b[0m\u001b[0;34m,\u001b[0m\u001b[0;36m3\u001b[0m\u001b[0;34m,\u001b[0m\u001b[0;36m2\u001b[0m\u001b[0;34m,\u001b[0m\u001b[0;36m1\u001b[0m\u001b[0;34m,\u001b[0m\u001b[0;36m1\u001b[0m\u001b[0;34m,\u001b[0m\u001b[0;36m2\u001b[0m\u001b[0;34m,\u001b[0m\u001b[0;36m3\u001b[0m\u001b[0;34m,\u001b[0m\u001b[0;36m4\u001b[0m\u001b[0;34m,\u001b[0m\u001b[0;36m2\u001b[0m\u001b[0;34m,\u001b[0m\u001b[0;36m1\u001b[0m\u001b[0;34m,\u001b[0m\u001b[0;36m1\u001b[0m\u001b[0;34m,\u001b[0m\u001b[0;36m1\u001b[0m\u001b[0;34m,\u001b[0m\u001b[0;36m2\u001b[0m\u001b[0;34m]\u001b[0m\u001b[0;34m\u001b[0m\u001b[0;34m\u001b[0m\u001b[0m\n\u001b[1;32m      4\u001b[0m \u001b[0;34m\u001b[0m\u001b[0m\n\u001b[0;32m----> 5\u001b[0;31m \u001b[0mprint\u001b[0m\u001b[0;34m(\u001b[0m\u001b[0mcollections\u001b[0m\u001b[0;34m.\u001b[0m\u001b[0mcounter\u001b[0m\u001b[0;34m(\u001b[0m\u001b[0mval\u001b[0m\u001b[0;34m)\u001b[0m\u001b[0;34m)\u001b[0m\u001b[0;34m\u001b[0m\u001b[0;34m\u001b[0m\u001b[0m\n\u001b[0m\u001b[1;32m      6\u001b[0m \u001b[0;34m\u001b[0m\u001b[0m\n",
      "\u001b[0;31mAttributeError\u001b[0m: module 'collections' has no attribute 'counter'"
     ]
    }
   ],
   "source": [
    "import collections\n",
    "\n",
    "val=[1,3,2,1,1,2,3,4,2,1,1,1,2]\n",
    "\n",
    "print(collections.counter(val))"
   ]
  },
  {
   "cell_type": "code",
   "execution_count": 165,
   "metadata": {},
   "outputs": [
    {
     "name": "stdout",
     "output_type": "stream",
     "text": [
      "Counter({1: 6, 2: 4, 3: 2, 4: 1})\n"
     ]
    }
   ],
   "source": [
    "import collections\n",
    "\n",
    "val=[1,3,2,1,1,2,3,4,2,1,1,1,2]\n",
    "\n",
    "print(collections.Counter(val))"
   ]
  },
  {
   "cell_type": "code",
   "execution_count": 173,
   "metadata": {},
   "outputs": [
    {
     "name": "stdout",
     "output_type": "stream",
     "text": [
      "Counter({1: 6, 2: 4, 3: 2, 4: 1})\n",
      "Counter({1: 6, 2: 4, 3: 2, 4: 1})\n"
     ]
    }
   ],
   "source": [
    "import collections\n",
    "from collections import Counter\n",
    "\n",
    "val=[1,3,2,1,1,2,3,4,2,1,1,1,2]\n",
    "\n",
    "print(collections.Counter(val))\n",
    "print(Counter(val))"
   ]
  },
  {
   "cell_type": "code",
   "execution_count": 167,
   "metadata": {},
   "outputs": [
    {
     "name": "stdout",
     "output_type": "stream",
     "text": [
      "Counter({'a': 3, 'f': 3, 'b': 2, 'd': 2, 'e': 2, 'c': 1, 'g': 1})\n"
     ]
    }
   ],
   "source": [
    "str1='aabcdefbagffde'\n",
    "\n",
    "print(collections.Counter(str1))"
   ]
  },
  {
   "cell_type": "code",
   "execution_count": 180,
   "metadata": {},
   "outputs": [
    {
     "name": "stdout",
     "output_type": "stream",
     "text": [
      "Counter({'I': 3, 'to': 3, 'from': 3, 'the': 3, 'be': 2, 'you': 2, 'three': 2, 'am': 1, 'honored': 1, 'with': 1, 'today': 1, 'at': 1, 'your': 1, 'commencement': 1, 'one': 1, 'of': 1, 'finest': 1, 'universities': 1, 'in': 1, 'world.': 1, 'never': 1, 'graduated': 1, 'college.': 1, 'Truth': 1, 'told,': 1, 'this': 1, 'is': 1, 'closest': 1, 'Ive': 1, 'ever': 1, 'gotten': 1, 'a': 1, 'college': 1, 'graduation.': 1, 'Today': 1, 'want': 1, 'tell': 1, 'stories': 1, 'my': 1, 'life.': 1, 'Thats': 1, 'it.': 1, 'No': 1, 'big': 1, 'deal.': 1, 'Just': 1, 'stories.': 1})\n"
     ]
    }
   ],
   "source": [
    "\n",
    "text='I am honored to be with you today at your commencement from one of the finest universities in the world. I never graduated from college. Truth be told, this is the closest Ive ever gotten to a college graduation. Today I want to tell you three stories from my life. Thats it. No big deal. Just three stories.'\n",
    "\n",
    "words=text.split() #문장을 공백을 기준으로 각 단어로 잘라냄\n",
    "print(collections.Counter(words))"
   ]
  },
  {
   "cell_type": "code",
   "execution_count": 182,
   "metadata": {},
   "outputs": [
    {
     "name": "stdout",
     "output_type": "stream",
     "text": [
      "Counter({'I': 3, 'to': 3, 'from': 3, 'the': 3, 'be': 2, 'you': 2, 'three': 2, 'am': 1, 'honored': 1, 'with': 1, 'today': 1, 'at': 1, 'your': 1, 'commencement': 1, 'one': 1, 'of': 1, 'finest': 1, 'universities': 1, 'in': 1, 'world.': 1, 'never': 1, 'graduated': 1, 'college.': 1, 'Truth': 1, 'told,': 1, 'this': 1, 'is': 1, 'closest': 1, 'Ive': 1, 'ever': 1, 'gotten': 1, 'a': 1, 'college': 1, 'graduation.': 1, 'Today': 1, 'want': 1, 'tell': 1, 'stories': 1, 'my': 1, 'life.': 1, 'Thats': 1, 'it.': 1, 'No': 1, 'big': 1, 'deal.': 1, 'Just': 1, 'stories.': 1})\n"
     ]
    }
   ],
   "source": [
    "\n",
    "text='I am honored to be with you today at your commencement from one of the finest universities in the world. I never graduated from college. Truth be told, this is the closest Ive ever gotten to a college graduation. Today I want to tell you three stories from my life. Thats it. No big deal. Just three stories.'\n",
    "\n",
    "words=text.split(' ') #문장을 공백을 기준으로 각 단어로 잘라냄\n",
    "print(collections.Counter(words))"
   ]
  },
  {
   "cell_type": "code",
   "execution_count": 187,
   "metadata": {},
   "outputs": [
    {
     "name": "stdout",
     "output_type": "stream",
     "text": [
      "Counter({'I': 3, 'to': 3, 'from': 3, 'the': 3, 'be': 2, 'you': 2, 'three': 2, 'am': 1, 'honored': 1, 'with': 1, 'today': 1, 'at': 1, 'your': 1, 'commencement': 1, 'one': 1, 'of': 1, 'finest': 1, 'universities': 1, 'in': 1, 'world.': 1, 'never': 1, 'graduated': 1, 'college.': 1, 'Truth': 1, 'told,': 1, 'this': 1, 'is': 1, 'closest': 1, 'Ive': 1, 'ever': 1, 'gotten': 1, 'a': 1, 'college': 1, 'graduation.': 1, 'Today': 1, 'want': 1, 'tell': 1, 'stories': 1, 'my': 1, 'life.': 1, 'Thats': 1, 'it.': 1, 'No': 1, 'big': 1, 'deal.': 1, 'Just': 1, 'stories.': 1})\n",
      "3\n",
      "0\n"
     ]
    }
   ],
   "source": [
    "text='I am honored to be with you today at your commencement from one of the finest universities in the world. I never graduated from college. Truth be told, this is the closest Ive ever gotten to a college graduation. Today I want to tell you three stories from my life. Thats it. No big deal. Just three stories.'\n",
    "\n",
    "words=text.split() #문장을 공백을 기준으로 각 단어로 잘라냄\n",
    "print(collections.Counter(words))\n",
    "\n",
    "wdcnt=Counter(words)\n",
    "\n",
    "print(wdcnt.get('I',0)) #I단어의 빈도수 출력. 없으면 0으로 출력\n",
    "print(wdcnt.get('xyz',0))"
   ]
  },
  {
   "cell_type": "code",
   "execution_count": 190,
   "metadata": {},
   "outputs": [
    {
     "name": "stdout",
     "output_type": "stream",
     "text": [
      "Counter({1: 6, 2: 4, 3: 2, 4: 1})\n",
      "\n",
      "[(1, 6), (2, 4), (3, 2)]\n",
      "\n",
      "[(1, 6), (2, 4), (3, 2), (4, 1)]\n"
     ]
    }
   ],
   "source": [
    "#최상위 빈도수 출력 : most_common\n",
    "chars=Counter(val)\n",
    "print(chars)\n",
    "print()\n",
    "print(chars.most_common(3))\n",
    "print()\n",
    "print(chars.most_common(5))\n"
   ]
  },
  {
   "cell_type": "code",
   "execution_count": null,
   "metadata": {},
   "outputs": [],
   "source": [
    "text='I am honored to be with you today at your commencement from one of the finest universities in the world. I never graduated from college. Truth be told, this is the closest Ive ever gotten to a college graduation. Today I want to tell you three stories from my life. Thats it. No big deal. Just three stories.'\n",
    "\n"
   ]
  },
  {
   "cell_type": "markdown",
   "metadata": {},
   "source": [
    "## 파일 입출력 다루기. 프로그램 상 입력 데이터, 프로그램 종료 시 메모리에서 사라짐. \n",
    "## 입력 데이터 나중에도 사영하려면 저장장치에 기록해야 함 (데이터 영속성!!)\n",
    "\n",
    "\n",
    "### 파일 읽거나 쓸 때 절차. open 함수로 대상 파일 지정하고 객체 얻음. 파일 객체에 입력/출력 작업 실행. 작업 끝나면 close 함수로 파일 닫음."
   ]
  },
  {
   "cell_type": "code",
   "execution_count": 199,
   "metadata": {},
   "outputs": [
    {
     "name": "stdout",
     "output_type": "stream",
     "text": [
      "존경하는 한완상 위원장께서 3.1운동과 임시정부수립 100주년 기념사업의 추진방향을 발표해 주셨습니다. \n",
      "\n",
      "1\n",
      "\n",
      "\n",
      "2\n",
      "감사합니다.\n",
      "\n",
      "3\n",
      "\n",
      "\n",
      "4\n",
      "\n",
      "\n",
      "5\n",
      "\n",
      "\n",
      "6\n",
      "위원 여러분, 7대 종단 대표 여러분, \n",
      "\n",
      "7\n",
      "\n",
      "\n",
      "8\n",
      "뜻깊은 자리에서 뵙게 되어 참으로 반갑습니다. \n",
      "\n",
      "9\n",
      "\n",
      "\n",
      "10\n",
      "\n",
      "\n",
      "11\n",
      "\n",
      "\n",
      "12\n",
      "위원 한 분 한 분의 삶에서 대한민국 100년의 역사를 봅니다. \n",
      "\n",
      "13\n",
      "\n",
      "\n",
      "14\n",
      "독립운동가의 후손, 민주열사 유가족, 청계피복노조 여성 노동운동가와 파독간호사, 노조와 기업인 대표를 비롯한 예순 여덟 분이 함께 해주셨습니다. \n",
      "\n",
      "15\n",
      "\n",
      "\n",
      "16\n",
      "\n",
      "\n",
      "17\n",
      "\n",
      "\n",
      "18\n",
      "100년을 넘어 다시 희망의 100년을 위해 위원직을 수락해 주신 모든 분들께 깊은 존경과 감사의 말씀을 드립니다. \n",
      "\n",
      "19\n",
      "\n",
      "\n",
      "20\n",
      "\n",
      "\n",
      "21\n",
      "\n",
      "\n",
      "22\n",
      "현재, 여성 민간위원의 비율이 과반을 넘고 있습니다.\n",
      "\n",
      "23\n",
      "\n",
      "\n",
      "24\n",
      "정부 위원회 최초입니다. \n",
      "\n",
      "25\n",
      "\n",
      "\n",
      "26\n",
      "다른 위원회 구성에도 모범이 될 수 있도록 구성이 완료될 때까지 조금만 더 수고해 주시기 바랍니다.\n",
      "\n",
      "27\n",
      "\n",
      "\n",
      "28\n",
      "\n",
      "\n",
      "29\n",
      "\n",
      "\n",
      "30\n",
      "위원 여러분, \n",
      "\n",
      "31\n",
      "\n",
      "\n",
      "32\n",
      "1919년 한반도와 세계 각지의 하늘에 ‘대한독립 만세’의 외침이 울려 퍼졌습니다. \n",
      "\n",
      "33\n",
      "\n",
      "\n",
      "34\n",
      "3.1운동은 민족의 자주독립과 평화, 민주와 인권의 가치를 외친 선언이자 실천이었습니다. \n",
      "\n",
      "35\n",
      "\n",
      "\n",
      "36\n",
      "\n",
      "\n",
      "37\n",
      "\n",
      "\n",
      "38\n",
      "3.1운동으로 분출된 민족의 역량은 대한민국 임시정부 수립으로 이어졌습니다. \n",
      "\n",
      "39\n",
      "\n",
      "\n",
      "40\n",
      "100년 전 선조들은 일제의 불의와 폭력에 맞섰고, 성별과 빈부의 차별, 소수의 특권과 기득권, 불공정과 불평등을 청산하고자 했습니다. \n",
      "\n",
      "41\n",
      "\n",
      "\n",
      "42\n",
      "\n",
      "\n",
      "43\n",
      "\n",
      "\n",
      "44\n",
      "모두가 자유롭고 평등한 민주공화국을 외쳤습니다. \n",
      "\n",
      "45\n",
      "\n",
      "\n",
      "46\n",
      "임시정부가 대한민국이라는 국호와 함께 민주공화국을 국체로 선언한 것은 그 시기를 생각해보면 참으로 놀라운 일입니다.\n",
      "\n",
      "47\n",
      "\n",
      "\n",
      "48\n",
      "\n",
      "\n",
      "49\n",
      "\n",
      "\n",
      "50\n",
      "왕정과 식민지를 뛰어넘어 민주공화국을 탄생시킨 선조들의 고귀한 정신은 100년 동안 잠들지 않았습니다. \n",
      "\n",
      "51\n",
      "\n",
      "\n",
      "52\n",
      "지난 촛불혁명은 3.1운동의 정신을 이은, 명예로운 시민혁명이었습니다. \n",
      "\n",
      "53\n",
      "\n",
      "\n",
      "54\n",
      "\n",
      "\n",
      "55\n",
      "\n",
      "\n",
      "56\n",
      "남북정상회담을 성공시킨 주인공도 국민입니다. \n",
      "\n",
      "57\n",
      "\n",
      "\n",
      "58\n",
      "한반도의 평화와 공동번영을 염원하는 국민의 힘이 대담한 상상력의 바탕이 되었고, 한반도에 새로운 100년의 역사를 열고 있습니다.\n",
      "\n",
      "59\n",
      "\n",
      "\n",
      "60\n",
      "\n",
      "\n",
      "61\n",
      "\n",
      "\n",
      "62\n",
      "위원 여러분, \n",
      "\n",
      "63\n",
      "\n",
      "\n",
      "64\n",
      "우리에게는 민주공화국 100년의 자랑스러운 역사가 있습니다. \n",
      "\n",
      "65\n",
      "\n",
      "\n",
      "66\n",
      "동시에 선조들의 위대한 유산을 더욱 풍요롭게 만들어 미래 세대에게 물려줄 책무도 부여받고 있습니다. \n",
      "\n",
      "67\n",
      "\n",
      "\n",
      "68\n",
      "\n",
      "\n",
      "69\n",
      "\n",
      "\n",
      "70\n",
      "누구보다 청년들이 역사에서 길을 발견하고, 공동체의 삶에 자긍심을 가져야 새로운 100년을 열 수 있습니다. \n",
      "\n",
      "71\n",
      "\n",
      "\n",
      "72\n",
      "\n",
      "\n",
      "73\n",
      "\n",
      "\n",
      "74\n",
      "3.1운동과 임시정부 수립 100주년을 기념하는 일이 정의롭고 공정한 나라의 토대가 되어야 할 것입니다.\n",
      "\n",
      "75\n",
      "\n",
      "\n",
      "76\n",
      "\n",
      "\n",
      "77\n",
      "\n",
      "\n",
      "78\n",
      "지난 1월 정부는 대한민국 임시정부기념관 건립위원회를 출범시켰습니다. \n",
      "\n",
      "79\n",
      "\n",
      "\n",
      "80\n",
      "기념관에는 독립을 위해 희생하고 헌신한 분들의 삶과 정신을 하나하나 충실히 담아낼 것입니다.\n",
      "\n",
      "81\n",
      "\n",
      "\n",
      "82\n",
      "중국 충칭의 광복군 총사령부 복원도 임시정부 수립 100주년이 되는 내년 4월을 목표로 중국 정부와 긴밀하게 협력하고 있습니다.\n",
      "\n",
      "83\n",
      "\n",
      "\n",
      "84\n",
      "\n",
      "\n",
      "85\n",
      "\n",
      "\n",
      "86\n",
      "일제가 훼손한 이상룡 선생의 본가 안동의 임청각도 올해 말까지 종합정비계획을 수립해 본격적인 복원에 착수할 것입니다.\n",
      "\n",
      "87\n",
      "\n",
      "\n",
      "88\n",
      "연해주 독립운동의 대부 최재형 선생을 기리는 기념관이 러시아 우수리스크에서 올해 안에 개관할 예정입니다.\n",
      "\n",
      "89\n",
      "\n",
      "\n",
      "90\n",
      "\n",
      "\n",
      "91\n",
      "\n",
      "\n",
      "92\n",
      "여성 독립운동가와 의병도 적극 발굴하고 있습니다.\n",
      "\n",
      "93\n",
      "\n",
      "\n",
      "94\n",
      "정부는 옥고(獄苦) 여부와 상관없이 독립운동 사실이 확인되면 포상을 추진할 수 있도록 독립유공자 심사기준을 전면 개선했습니다.\n",
      "\n",
      "95\n",
      "\n",
      "\n",
      "96\n",
      "모든 애국지사와 독립유공자의 후손들께 국가의 도리를 다해 나갈 것입니다. \n",
      "\n",
      "97\n",
      "\n",
      "\n",
      "98\n",
      "\n",
      "\n",
      "99\n",
      "\n",
      "\n",
      "100\n",
      "70년을 이어온 남북분단과 적대는 독립운동의 역사도 갈라놓았습니다. \n",
      "\n",
      "101\n",
      "\n",
      "\n",
      "102\n",
      "지난 4월 27일 저와 김정은 위원장은 3.1운동 100주년 남북공동기념 사업추진을 논의했고 판문점 선언에 그 취지를 담았습니다.\n",
      "\n",
      "103\n",
      "\n",
      "\n",
      "104\n",
      "\n",
      "\n",
      "105\n",
      "\n",
      "\n",
      "106\n",
      "남과 북이 독립운동의 역사를 함께 공유하게 된다면 서로의 마음도 더 가까워질 수 있을 것이라 생각합니다. \n",
      "\n",
      "107\n",
      "\n",
      "\n",
      "108\n",
      "위원회에서, 남북이 공동으로 할 수 있는 사업까지 구상해 주실 것을 당부 드립니다.\n",
      "\n",
      "109\n",
      "\n",
      "\n",
      "110\n",
      "\n",
      "\n",
      "111\n",
      "\n",
      "\n",
      "112\n",
      "100주년 기념사업 하나하나가 우리의 역사적 자긍심의 근거가 될 것입니다.\n",
      "\n",
      "113\n",
      "\n",
      "\n",
      "114\n",
      "청년들은 대한민국을 더 사랑하게 될 것입니다.\n",
      "\n",
      "115\n",
      "\n",
      "\n",
      "116\n",
      "\n",
      "\n",
      "117\n",
      "\n",
      "\n",
      "118\n",
      "존경하는 위원 여러분, \n",
      "\n",
      "119\n",
      "\n",
      "\n",
      "120\n",
      "1919년 3월 5일, 서울역 광장에서는 유관순 열사와 이화학당 친구들이 1만여 명의 청년학생들과 함께 만세 시위를 벌였습니다. \n",
      "\n",
      "121\n",
      "\n",
      "\n",
      "122\n",
      "나흘 뒤, 독립군의 어머니 남자현 여사가 이곳에서 기차를 타고 압록강을 건넜습니다. \n",
      "\n",
      "123\n",
      "\n",
      "\n",
      "124\n",
      "\n",
      "\n",
      "125\n",
      "\n",
      "\n",
      "126\n",
      "1907년 4월 22일, 고종의 특명을 받은 이준 선생은 이곳 서울역에서 출발해 부산, 블라디보스톡을 거쳐 시베리아횡단열차로 헤이그에 이르렀습니다.\n",
      "\n",
      "127\n",
      "\n",
      "\n",
      "128\n",
      "1936년 6월 4일, 스물넷의 마라톤 선수 손기정이 베를린으로 가기 위해 기차에 오른 것도 서울역이었습니다.\n",
      "\n",
      "129\n",
      "\n",
      "\n",
      "130\n",
      "최초의 여성 서양화가 나혜석도 1927년 서른하나의 나이에 같은 열차로 파리를 향했습니다. \n",
      "\n",
      "131\n",
      "\n",
      "\n",
      "132\n",
      "\n",
      "\n",
      "133\n",
      "\n",
      "\n",
      "134\n",
      "서울역은 우리 역사의 주요 무대였고 대륙으로 우리의 삶을 확장하는 출발지였습니다.\n",
      "\n",
      "135\n",
      "\n",
      "\n",
      "136\n",
      "오늘 3.1운동, 임시정부 100주년 기념사업추진위원회는 서울역에 남겨진 우리 역사의 발걸음을 되새기면서,\n",
      "\n",
      "137\n",
      "\n",
      "\n",
      "138\n",
      "우리가 가야할 미래를 바라보고 있습니다.\n",
      "\n",
      "139\n",
      "\n",
      "\n",
      "140\n",
      "\n",
      "\n",
      "141\n",
      "\n",
      "\n",
      "142\n",
      "여러분,\n",
      "\n",
      "143\n",
      "\n",
      "\n",
      "144\n",
      "이곳에서 열리는 출범식이 새로운 100년을 알리는 기적 소리와 함께 지난 100년을 기념하는 힘찬 출발의 자리가 되길 기원합니다. \n",
      "\n",
      "145\n",
      "\n",
      "\n",
      "146\n",
      "\n",
      "\n",
      "147\n",
      "\n",
      "\n",
      "148\n",
      "감사합니다.\n",
      "149\n"
     ]
    }
   ],
   "source": [
    "#steve.txt 파일 읽고 내용 출력\n",
    "\n",
    "f=open('steve.txt','r',encoding='utf-8') #r은 읽기모드. 생략해도 기본은 읽기모드\n",
    "i=0\n",
    "for doc in f:\n",
    "    print(doc)\n",
    "    i+=1\n",
    "    print(i)\n",
    "f.close() #이거 닫는거랑 프린트 찍힌거랑 관계 없음. \n",
    "\n",
    "#open(파일,모드,인코딩)"
   ]
  },
  {
   "cell_type": "code",
   "execution_count": 201,
   "metadata": {},
   "outputs": [
    {
     "ename": "SyntaxError",
     "evalue": "invalid syntax (<ipython-input-201-97a555cae76f>, line 3)",
     "output_type": "error",
     "traceback": [
      "\u001b[0;36m  File \u001b[0;32m\"<ipython-input-201-97a555cae76f>\"\u001b[0;36m, line \u001b[0;32m3\u001b[0m\n\u001b[0;31m    f= with open('steve.txt','r',encoding='utf-8') #r은 읽기모드. 생략해도 기본은 읽기모드\u001b[0m\n\u001b[0m          ^\u001b[0m\n\u001b[0;31mSyntaxError\u001b[0m\u001b[0;31m:\u001b[0m invalid syntax\n"
     ]
    }
   ],
   "source": [
    "#steve.txt 파일 읽고 내용 출력\n",
    "\n",
    "f=with open('steve.txt','r',encoding='utf-8') #r은 읽기모드. 생략해도 기본은 읽기모드\n",
    "i=0\n",
    "for doc in f:\n",
    "    print(doc)\n",
    "    i+=1\n",
    "    print(i)"
   ]
  },
  {
   "cell_type": "code",
   "execution_count": 202,
   "metadata": {},
   "outputs": [
    {
     "name": "stdout",
     "output_type": "stream",
     "text": [
      "존경하는 한완상 위원장께서 3.1운동과 임시정부수립 100주년 기념사업의 추진방향을 발표해 주셨습니다. \n",
      "\n",
      "1\n",
      "\n",
      "\n",
      "2\n",
      "감사합니다.\n",
      "\n",
      "3\n",
      "\n",
      "\n",
      "4\n",
      "\n",
      "\n",
      "5\n",
      "\n",
      "\n",
      "6\n",
      "위원 여러분, 7대 종단 대표 여러분, \n",
      "\n",
      "7\n",
      "\n",
      "\n",
      "8\n",
      "뜻깊은 자리에서 뵙게 되어 참으로 반갑습니다. \n",
      "\n",
      "9\n",
      "\n",
      "\n",
      "10\n",
      "\n",
      "\n",
      "11\n",
      "\n",
      "\n",
      "12\n",
      "위원 한 분 한 분의 삶에서 대한민국 100년의 역사를 봅니다. \n",
      "\n",
      "13\n",
      "\n",
      "\n",
      "14\n",
      "독립운동가의 후손, 민주열사 유가족, 청계피복노조 여성 노동운동가와 파독간호사, 노조와 기업인 대표를 비롯한 예순 여덟 분이 함께 해주셨습니다. \n",
      "\n",
      "15\n",
      "\n",
      "\n",
      "16\n",
      "\n",
      "\n",
      "17\n",
      "\n",
      "\n",
      "18\n",
      "100년을 넘어 다시 희망의 100년을 위해 위원직을 수락해 주신 모든 분들께 깊은 존경과 감사의 말씀을 드립니다. \n",
      "\n",
      "19\n",
      "\n",
      "\n",
      "20\n",
      "\n",
      "\n",
      "21\n",
      "\n",
      "\n",
      "22\n",
      "현재, 여성 민간위원의 비율이 과반을 넘고 있습니다.\n",
      "\n",
      "23\n",
      "\n",
      "\n",
      "24\n",
      "정부 위원회 최초입니다. \n",
      "\n",
      "25\n",
      "\n",
      "\n",
      "26\n",
      "다른 위원회 구성에도 모범이 될 수 있도록 구성이 완료될 때까지 조금만 더 수고해 주시기 바랍니다.\n",
      "\n",
      "27\n",
      "\n",
      "\n",
      "28\n",
      "\n",
      "\n",
      "29\n",
      "\n",
      "\n",
      "30\n",
      "위원 여러분, \n",
      "\n",
      "31\n",
      "\n",
      "\n",
      "32\n",
      "1919년 한반도와 세계 각지의 하늘에 ‘대한독립 만세’의 외침이 울려 퍼졌습니다. \n",
      "\n",
      "33\n",
      "\n",
      "\n",
      "34\n",
      "3.1운동은 민족의 자주독립과 평화, 민주와 인권의 가치를 외친 선언이자 실천이었습니다. \n",
      "\n",
      "35\n",
      "\n",
      "\n",
      "36\n",
      "\n",
      "\n",
      "37\n",
      "\n",
      "\n",
      "38\n",
      "3.1운동으로 분출된 민족의 역량은 대한민국 임시정부 수립으로 이어졌습니다. \n",
      "\n",
      "39\n",
      "\n",
      "\n",
      "40\n",
      "100년 전 선조들은 일제의 불의와 폭력에 맞섰고, 성별과 빈부의 차별, 소수의 특권과 기득권, 불공정과 불평등을 청산하고자 했습니다. \n",
      "\n",
      "41\n",
      "\n",
      "\n",
      "42\n",
      "\n",
      "\n",
      "43\n",
      "\n",
      "\n",
      "44\n",
      "모두가 자유롭고 평등한 민주공화국을 외쳤습니다. \n",
      "\n",
      "45\n",
      "\n",
      "\n",
      "46\n",
      "임시정부가 대한민국이라는 국호와 함께 민주공화국을 국체로 선언한 것은 그 시기를 생각해보면 참으로 놀라운 일입니다.\n",
      "\n",
      "47\n",
      "\n",
      "\n",
      "48\n",
      "\n",
      "\n",
      "49\n",
      "\n",
      "\n",
      "50\n",
      "왕정과 식민지를 뛰어넘어 민주공화국을 탄생시킨 선조들의 고귀한 정신은 100년 동안 잠들지 않았습니다. \n",
      "\n",
      "51\n",
      "\n",
      "\n",
      "52\n",
      "지난 촛불혁명은 3.1운동의 정신을 이은, 명예로운 시민혁명이었습니다. \n",
      "\n",
      "53\n",
      "\n",
      "\n",
      "54\n",
      "\n",
      "\n",
      "55\n",
      "\n",
      "\n",
      "56\n",
      "남북정상회담을 성공시킨 주인공도 국민입니다. \n",
      "\n",
      "57\n",
      "\n",
      "\n",
      "58\n",
      "한반도의 평화와 공동번영을 염원하는 국민의 힘이 대담한 상상력의 바탕이 되었고, 한반도에 새로운 100년의 역사를 열고 있습니다.\n",
      "\n",
      "59\n",
      "\n",
      "\n",
      "60\n",
      "\n",
      "\n",
      "61\n",
      "\n",
      "\n",
      "62\n",
      "위원 여러분, \n",
      "\n",
      "63\n",
      "\n",
      "\n",
      "64\n",
      "우리에게는 민주공화국 100년의 자랑스러운 역사가 있습니다. \n",
      "\n",
      "65\n",
      "\n",
      "\n",
      "66\n",
      "동시에 선조들의 위대한 유산을 더욱 풍요롭게 만들어 미래 세대에게 물려줄 책무도 부여받고 있습니다. \n",
      "\n",
      "67\n",
      "\n",
      "\n",
      "68\n",
      "\n",
      "\n",
      "69\n",
      "\n",
      "\n",
      "70\n",
      "누구보다 청년들이 역사에서 길을 발견하고, 공동체의 삶에 자긍심을 가져야 새로운 100년을 열 수 있습니다. \n",
      "\n",
      "71\n",
      "\n",
      "\n",
      "72\n",
      "\n",
      "\n",
      "73\n",
      "\n",
      "\n",
      "74\n",
      "3.1운동과 임시정부 수립 100주년을 기념하는 일이 정의롭고 공정한 나라의 토대가 되어야 할 것입니다.\n",
      "\n",
      "75\n",
      "\n",
      "\n",
      "76\n",
      "\n",
      "\n",
      "77\n",
      "\n",
      "\n",
      "78\n",
      "지난 1월 정부는 대한민국 임시정부기념관 건립위원회를 출범시켰습니다. \n",
      "\n",
      "79\n",
      "\n",
      "\n",
      "80\n",
      "기념관에는 독립을 위해 희생하고 헌신한 분들의 삶과 정신을 하나하나 충실히 담아낼 것입니다.\n",
      "\n",
      "81\n",
      "\n",
      "\n",
      "82\n",
      "중국 충칭의 광복군 총사령부 복원도 임시정부 수립 100주년이 되는 내년 4월을 목표로 중국 정부와 긴밀하게 협력하고 있습니다.\n",
      "\n",
      "83\n",
      "\n",
      "\n",
      "84\n",
      "\n",
      "\n",
      "85\n",
      "\n",
      "\n",
      "86\n",
      "일제가 훼손한 이상룡 선생의 본가 안동의 임청각도 올해 말까지 종합정비계획을 수립해 본격적인 복원에 착수할 것입니다.\n",
      "\n",
      "87\n",
      "\n",
      "\n",
      "88\n",
      "연해주 독립운동의 대부 최재형 선생을 기리는 기념관이 러시아 우수리스크에서 올해 안에 개관할 예정입니다.\n",
      "\n",
      "89\n",
      "\n",
      "\n",
      "90\n",
      "\n",
      "\n",
      "91\n",
      "\n",
      "\n",
      "92\n",
      "여성 독립운동가와 의병도 적극 발굴하고 있습니다.\n",
      "\n",
      "93\n",
      "\n",
      "\n",
      "94\n",
      "정부는 옥고(獄苦) 여부와 상관없이 독립운동 사실이 확인되면 포상을 추진할 수 있도록 독립유공자 심사기준을 전면 개선했습니다.\n",
      "\n",
      "95\n",
      "\n",
      "\n",
      "96\n",
      "모든 애국지사와 독립유공자의 후손들께 국가의 도리를 다해 나갈 것입니다. \n",
      "\n",
      "97\n",
      "\n",
      "\n",
      "98\n",
      "\n",
      "\n",
      "99\n",
      "\n",
      "\n",
      "100\n",
      "70년을 이어온 남북분단과 적대는 독립운동의 역사도 갈라놓았습니다. \n",
      "\n",
      "101\n",
      "\n",
      "\n",
      "102\n",
      "지난 4월 27일 저와 김정은 위원장은 3.1운동 100주년 남북공동기념 사업추진을 논의했고 판문점 선언에 그 취지를 담았습니다.\n",
      "\n",
      "103\n",
      "\n",
      "\n",
      "104\n",
      "\n",
      "\n",
      "105\n",
      "\n",
      "\n",
      "106\n",
      "남과 북이 독립운동의 역사를 함께 공유하게 된다면 서로의 마음도 더 가까워질 수 있을 것이라 생각합니다. \n",
      "\n",
      "107\n",
      "\n",
      "\n",
      "108\n",
      "위원회에서, 남북이 공동으로 할 수 있는 사업까지 구상해 주실 것을 당부 드립니다.\n",
      "\n",
      "109\n",
      "\n",
      "\n",
      "110\n",
      "\n",
      "\n",
      "111\n",
      "\n",
      "\n",
      "112\n",
      "100주년 기념사업 하나하나가 우리의 역사적 자긍심의 근거가 될 것입니다.\n",
      "\n",
      "113\n",
      "\n",
      "\n",
      "114\n",
      "청년들은 대한민국을 더 사랑하게 될 것입니다.\n",
      "\n",
      "115\n",
      "\n",
      "\n",
      "116\n",
      "\n",
      "\n",
      "117\n",
      "\n",
      "\n",
      "118\n",
      "존경하는 위원 여러분, \n",
      "\n",
      "119\n",
      "\n",
      "\n",
      "120\n",
      "1919년 3월 5일, 서울역 광장에서는 유관순 열사와 이화학당 친구들이 1만여 명의 청년학생들과 함께 만세 시위를 벌였습니다. \n",
      "\n",
      "121\n",
      "\n",
      "\n",
      "122\n",
      "나흘 뒤, 독립군의 어머니 남자현 여사가 이곳에서 기차를 타고 압록강을 건넜습니다. \n",
      "\n",
      "123\n",
      "\n",
      "\n",
      "124\n",
      "\n",
      "\n",
      "125\n",
      "\n",
      "\n",
      "126\n",
      "1907년 4월 22일, 고종의 특명을 받은 이준 선생은 이곳 서울역에서 출발해 부산, 블라디보스톡을 거쳐 시베리아횡단열차로 헤이그에 이르렀습니다.\n",
      "\n",
      "127\n",
      "\n",
      "\n",
      "128\n",
      "1936년 6월 4일, 스물넷의 마라톤 선수 손기정이 베를린으로 가기 위해 기차에 오른 것도 서울역이었습니다.\n",
      "\n",
      "129\n",
      "\n",
      "\n",
      "130\n",
      "최초의 여성 서양화가 나혜석도 1927년 서른하나의 나이에 같은 열차로 파리를 향했습니다. \n",
      "\n",
      "131\n",
      "\n",
      "\n",
      "132\n",
      "\n",
      "\n",
      "133\n",
      "\n",
      "\n",
      "134\n",
      "서울역은 우리 역사의 주요 무대였고 대륙으로 우리의 삶을 확장하는 출발지였습니다.\n",
      "\n",
      "135\n",
      "\n",
      "\n",
      "136\n",
      "오늘 3.1운동, 임시정부 100주년 기념사업추진위원회는 서울역에 남겨진 우리 역사의 발걸음을 되새기면서,\n",
      "\n",
      "137\n",
      "\n",
      "\n",
      "138\n",
      "우리가 가야할 미래를 바라보고 있습니다.\n",
      "\n",
      "139\n",
      "\n",
      "\n",
      "140\n",
      "\n",
      "\n",
      "141\n",
      "\n",
      "\n",
      "142\n",
      "여러분,\n",
      "\n",
      "143\n",
      "\n",
      "\n",
      "144\n",
      "이곳에서 열리는 출범식이 새로운 100년을 알리는 기적 소리와 함께 지난 100년을 기념하는 힘찬 출발의 자리가 되길 기원합니다. \n",
      "\n",
      "145\n",
      "\n",
      "\n",
      "146\n",
      "\n",
      "\n",
      "147\n",
      "\n",
      "\n",
      "148\n",
      "감사합니다.\n",
      "149\n"
     ]
    }
   ],
   "source": [
    "i=0\n",
    "with open('steve.txt','r',encoding='utf-8') as f: #r은 읽기모드. 생략해도 기본은 읽기모드 // with open 하면 별도 .close() 안 써도 닫힘\n",
    "    for doc in f:\n",
    "        print(doc)\n",
    "        i+=1\n",
    "        print(i)"
   ]
  },
  {
   "cell_type": "code",
   "execution_count": 204,
   "metadata": {},
   "outputs": [
    {
     "ename": "TypeError",
     "evalue": "write() argument must be str, not int",
     "output_type": "error",
     "traceback": [
      "\u001b[0;31m---------------------------------------------------------------------------\u001b[0m",
      "\u001b[0;31mTypeError\u001b[0m                                 Traceback (most recent call last)",
      "\u001b[0;32m<ipython-input-204-15e16f40ae03>\u001b[0m in \u001b[0;36m<module>\u001b[0;34m\u001b[0m\n\u001b[1;32m      2\u001b[0m \u001b[0mf\u001b[0m\u001b[0;34m=\u001b[0m\u001b[0mopen\u001b[0m\u001b[0;34m(\u001b[0m\u001b[0;34m'number100.txt'\u001b[0m\u001b[0;34m,\u001b[0m\u001b[0;34m'w'\u001b[0m\u001b[0;34m,\u001b[0m\u001b[0mencoding\u001b[0m\u001b[0;34m=\u001b[0m\u001b[0;34m'utf-8'\u001b[0m\u001b[0;34m)\u001b[0m\u001b[0;34m\u001b[0m\u001b[0;34m\u001b[0m\u001b[0m\n\u001b[1;32m      3\u001b[0m \u001b[0;32mfor\u001b[0m \u001b[0mi\u001b[0m \u001b[0;32min\u001b[0m \u001b[0mrange\u001b[0m\u001b[0;34m(\u001b[0m\u001b[0;36m1\u001b[0m\u001b[0;34m,\u001b[0m\u001b[0;36m100\u001b[0m\u001b[0;34m+\u001b[0m\u001b[0;36m1\u001b[0m\u001b[0;34m)\u001b[0m\u001b[0;34m:\u001b[0m\u001b[0;34m\u001b[0m\u001b[0;34m\u001b[0m\u001b[0m\n\u001b[0;32m----> 4\u001b[0;31m     \u001b[0mf\u001b[0m\u001b[0;34m.\u001b[0m\u001b[0mwrite\u001b[0m\u001b[0;34m(\u001b[0m\u001b[0mi\u001b[0m\u001b[0;34m)\u001b[0m\u001b[0;34m\u001b[0m\u001b[0;34m\u001b[0m\u001b[0m\n\u001b[0m",
      "\u001b[0;31mTypeError\u001b[0m: write() argument must be str, not int"
     ]
    }
   ],
   "source": [
    "#number100.txt 파일 만들고 내용 1~100 숫자 저장\n",
    "f=open('number100.txt','w',encoding='utf-8')\n",
    "for i in range(1,100+1):\n",
    "    f.write(i)"
   ]
  },
  {
   "cell_type": "code",
   "execution_count": null,
   "metadata": {},
   "outputs": [],
   "source": []
  },
  {
   "cell_type": "code",
   "execution_count": 205,
   "metadata": {},
   "outputs": [
    {
     "ename": "TypeError",
     "evalue": "'str' object is not callable",
     "output_type": "error",
     "traceback": [
      "\u001b[0;31m---------------------------------------------------------------------------\u001b[0m",
      "\u001b[0;31mTypeError\u001b[0m                                 Traceback (most recent call last)",
      "\u001b[0;32m<ipython-input-205-a982838c04ea>\u001b[0m in \u001b[0;36m<module>\u001b[0;34m\u001b[0m\n\u001b[1;32m      2\u001b[0m \u001b[0mf\u001b[0m\u001b[0;34m=\u001b[0m\u001b[0mopen\u001b[0m\u001b[0;34m(\u001b[0m\u001b[0;34m'number100.txt'\u001b[0m\u001b[0;34m,\u001b[0m\u001b[0;34m'w'\u001b[0m\u001b[0;34m,\u001b[0m\u001b[0mencoding\u001b[0m\u001b[0;34m=\u001b[0m\u001b[0;34m'utf-8'\u001b[0m\u001b[0;34m)\u001b[0m\u001b[0;34m\u001b[0m\u001b[0;34m\u001b[0m\u001b[0m\n\u001b[1;32m      3\u001b[0m \u001b[0;32mfor\u001b[0m \u001b[0mi\u001b[0m \u001b[0;32min\u001b[0m \u001b[0mrange\u001b[0m\u001b[0;34m(\u001b[0m\u001b[0;36m1\u001b[0m\u001b[0;34m,\u001b[0m\u001b[0;36m100\u001b[0m\u001b[0;34m+\u001b[0m\u001b[0;36m1\u001b[0m\u001b[0;34m)\u001b[0m\u001b[0;34m:\u001b[0m\u001b[0;34m\u001b[0m\u001b[0;34m\u001b[0m\u001b[0m\n\u001b[0;32m----> 4\u001b[0;31m     \u001b[0mf\u001b[0m\u001b[0;34m.\u001b[0m\u001b[0mwrite\u001b[0m\u001b[0;34m(\u001b[0m\u001b[0mstr\u001b[0m\u001b[0;34m(\u001b[0m\u001b[0mi\u001b[0m\u001b[0;34m)\u001b[0m\u001b[0;34m)\u001b[0m\u001b[0;34m\u001b[0m\u001b[0;34m\u001b[0m\u001b[0m\n\u001b[0m",
      "\u001b[0;31mTypeError\u001b[0m: 'str' object is not callable"
     ]
    }
   ],
   "source": [
    "#number100.txt 파일 만들고 내용 1~100 숫자 저장\n",
    "f=open('number100.txt','w',encoding='utf-8')\n",
    "for i in range(1,100+1):\n",
    "    f.write(str(i))"
   ]
  },
  {
   "cell_type": "code",
   "execution_count": null,
   "metadata": {},
   "outputs": [],
   "source": []
  },
  {
   "cell_type": "code",
   "execution_count": null,
   "metadata": {},
   "outputs": [],
   "source": []
  },
  {
   "cell_type": "code",
   "execution_count": null,
   "metadata": {},
   "outputs": [],
   "source": []
  },
  {
   "cell_type": "code",
   "execution_count": null,
   "metadata": {},
   "outputs": [],
   "source": []
  },
  {
   "cell_type": "code",
   "execution_count": null,
   "metadata": {},
   "outputs": [],
   "source": []
  },
  {
   "cell_type": "code",
   "execution_count": null,
   "metadata": {},
   "outputs": [],
   "source": []
  },
  {
   "cell_type": "code",
   "execution_count": null,
   "metadata": {},
   "outputs": [],
   "source": []
  },
  {
   "cell_type": "code",
   "execution_count": null,
   "metadata": {},
   "outputs": [],
   "source": []
  }
 ],
 "metadata": {
  "kernelspec": {
   "display_name": "Python 3",
   "language": "python",
   "name": "python3"
  },
  "language_info": {
   "codemirror_mode": {
    "name": "ipython",
    "version": 3
   },
   "file_extension": ".py",
   "mimetype": "text/x-python",
   "name": "python",
   "nbconvert_exporter": "python",
   "pygments_lexer": "ipython3",
   "version": "3.6.8"
  }
 },
 "nbformat": 4,
 "nbformat_minor": 2
}
