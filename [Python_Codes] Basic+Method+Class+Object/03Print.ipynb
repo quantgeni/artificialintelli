{
 "cells": [
  {
   "cell_type": "markdown",
   "metadata": {},
   "source": [
    "## %"
   ]
  },
  {
   "cell_type": "code",
   "execution_count": 2,
   "metadata": {},
   "outputs": [
    {
     "name": "stdout",
     "output_type": "stream",
     "text": [
      "1 2\n"
     ]
    }
   ],
   "source": [
    "a=1\n",
    "b=2\n",
    "print(a,b)"
   ]
  },
  {
   "cell_type": "code",
   "execution_count": 10,
   "metadata": {},
   "outputs": [
    {
     "name": "stdout",
     "output_type": "stream",
     "text": [
      "a = 1\n"
     ]
    }
   ],
   "source": [
    "print('a = %d' %a)"
   ]
  },
  {
   "cell_type": "code",
   "execution_count": 12,
   "metadata": {},
   "outputs": [
    {
     "name": "stdout",
     "output_type": "stream",
     "text": [
      "1 + 2 = 3\n"
     ]
    }
   ],
   "source": [
    "print(a,'+',b,'=',a+b)"
   ]
  },
  {
   "cell_type": "code",
   "execution_count": 14,
   "metadata": {},
   "outputs": [
    {
     "name": "stdout",
     "output_type": "stream",
     "text": [
      "1 + 2 = 3\n"
     ]
    }
   ],
   "source": [
    "print('%d + %d = %d'%(a,b,a+b))"
   ]
  },
  {
   "cell_type": "code",
   "execution_count": 18,
   "metadata": {},
   "outputs": [
    {
     "name": "stdout",
     "output_type": "stream",
     "text": [
      "|123|,|  123|,|00123|\n"
     ]
    }
   ],
   "source": [
    "a=123\n",
    "print('|%d|,|%5d|,|%05d|' % (a,a,a)) # %5d는 5자리 정수 // %05d는 5자리 정수이되 남는 자리는 0으로 채우라는 말"
   ]
  },
  {
   "cell_type": "code",
   "execution_count": 20,
   "metadata": {},
   "outputs": [
    {
     "name": "stdout",
     "output_type": "stream",
     "text": [
      "12345.678900,  12345.68,12345.7\n"
     ]
    }
   ],
   "source": [
    "b=12345.6789\n",
    "print('%f,%10.2f,%3.1f' % (b,b,b)) #마지막은 총 3자리지만 오바되는건 그대로 나옴"
   ]
  },
  {
   "cell_type": "code",
   "execution_count": 22,
   "metadata": {},
   "outputs": [
    {
     "name": "stdout",
     "output_type": "stream",
     "text": [
      "Hello, World!!,Hello, World!!,      Hello, World!!\n"
     ]
    }
   ],
   "source": [
    "c='Hello, World!!'\n",
    "print('%s,%5s,%20s' % (c,c,c))"
   ]
  },
  {
   "cell_type": "code",
   "execution_count": 42,
   "metadata": {},
   "outputs": [
    {
     "name": "stdout",
     "output_type": "stream",
     "text": [
      "123  12300123\n"
     ]
    },
    {
     "ename": "IndexError",
     "evalue": "tuple index out of range",
     "output_type": "error",
     "traceback": [
      "\u001b[0;31m---------------------------------------------------------------------------\u001b[0m",
      "\u001b[0;31mIndexError\u001b[0m                                Traceback (most recent call last)",
      "\u001b[0;32m<ipython-input-42-96444ed0951c>\u001b[0m in \u001b[0;36m<module>\u001b[0;34m\u001b[0m\n\u001b[1;32m      1\u001b[0m \u001b[0mprint\u001b[0m\u001b[0;34m(\u001b[0m\u001b[0;34m'{0:d}{1:5d}{2:05d}'\u001b[0m\u001b[0;34m.\u001b[0m\u001b[0mformat\u001b[0m\u001b[0;34m(\u001b[0m\u001b[0ma\u001b[0m\u001b[0;34m,\u001b[0m\u001b[0ma\u001b[0m\u001b[0;34m,\u001b[0m\u001b[0ma\u001b[0m\u001b[0;34m)\u001b[0m\u001b[0;34m)\u001b[0m\u001b[0;34m\u001b[0m\u001b[0;34m\u001b[0m\u001b[0m\n\u001b[0;32m----> 2\u001b[0;31m \u001b[0mprint\u001b[0m\u001b[0;34m(\u001b[0m\u001b[0;34m'{3:d}{1:5d}{2:05d}'\u001b[0m\u001b[0;34m.\u001b[0m\u001b[0mformat\u001b[0m\u001b[0;34m(\u001b[0m\u001b[0;36m100\u001b[0m\u001b[0;34m,\u001b[0m\u001b[0;36m200\u001b[0m\u001b[0;34m,\u001b[0m\u001b[0;36m300\u001b[0m\u001b[0;34m)\u001b[0m\u001b[0;34m)\u001b[0m\u001b[0;34m\u001b[0m\u001b[0;34m\u001b[0m\u001b[0m\n\u001b[0m\u001b[1;32m      3\u001b[0m \u001b[0mprint\u001b[0m\u001b[0;34m(\u001b[0m\u001b[0;34m'{} {} {}'\u001b[0m\u001b[0;34m.\u001b[0m\u001b[0mformat\u001b[0m\u001b[0;34m(\u001b[0m\u001b[0ma\u001b[0m\u001b[0;34m,\u001b[0m\u001b[0ma\u001b[0m\u001b[0;34m,\u001b[0m\u001b[0ma\u001b[0m\u001b[0;34m)\u001b[0m\u001b[0;34m)\u001b[0m\u001b[0;34m\u001b[0m\u001b[0;34m\u001b[0m\u001b[0m\n",
      "\u001b[0;31mIndexError\u001b[0m: tuple index out of range"
     ]
    }
   ],
   "source": [
    "print('{0:d}{1:5d}{2:05d}'.format(a,a,a))\n",
    "print('{3:d}{1:5d}{2:05d}'.format(100,200,300))\n",
    "print('{} {} {}'.format(a,a,a))"
   ]
  },
  {
   "cell_type": "code",
   "execution_count": 44,
   "metadata": {},
   "outputs": [
    {
     "name": "stdout",
     "output_type": "stream",
     "text": [
      "123 456 789\n",
      "123\n",
      "456\n",
      "789\n",
      "123\t456\t789\n",
      "123\t\t456\t\t789\n"
     ]
    }
   ],
   "source": [
    "print('123 456 789')\n",
    "print('123\\n456\\n789')\n",
    "print('123\\t456\\t789')\n",
    "print('123\\t\\t456\\t\\t789')"
   ]
  },
  {
   "cell_type": "code",
   "execution_count": 48,
   "metadata": {},
   "outputs": [
    {
     "name": "stdout",
     "output_type": "stream",
     "text": [
      "123  12300123\n",
      "300  20000100\n",
      "  123 123 00123\n",
      "123 123 123\n"
     ]
    }
   ],
   "source": [
    "print('{0:d}{1:5d}{2:05d}'.format(a,a,a))\n",
    "print('{2:d}{1:5d}{0:05d}'.format(100,200,300))\n",
    "print('{:5d} {:d} {:05d}'.format(a,a,a))\n",
    "print('{} {} {}'.format(a,a,a))"
   ]
  },
  {
   "cell_type": "code",
   "execution_count": 52,
   "metadata": {},
   "outputs": [
    {
     "name": "stdout",
     "output_type": "stream",
     "text": [
      "123'456'789\n",
      "123\"456\"789\n",
      "123'456'789\n"
     ]
    }
   ],
   "source": [
    "print(\"123'456'789\")\n",
    "print('123\"456\"789')\n",
    "print('123\\'456\\'789') #역슬래쉬를 통해 escape sequence!"
   ]
  },
  {
   "cell_type": "code",
   "execution_count": 60,
   "metadata": {},
   "outputs": [
    {
     "ename": "SyntaxError",
     "evalue": "EOL while scanning string literal (<ipython-input-60-dfb10cbdfaea>, line 2)",
     "output_type": "error",
     "traceback": [
      "\u001b[0;36m  File \u001b[0;32m\"<ipython-input-60-dfb10cbdfaea>\"\u001b[0;36m, line \u001b[0;32m2\u001b[0m\n\u001b[0;31m    print('\\n\\t\\')\u001b[0m\n\u001b[0m                  ^\u001b[0m\n\u001b[0;31mSyntaxError\u001b[0m\u001b[0;31m:\u001b[0m EOL while scanning string literal\n"
     ]
    }
   ],
   "source": [
    "print('\\n\\t\\\\')\n",
    "print(r'\\n\\t\\\\') #특수문자를 그대로 출력"
   ]
  },
  {
   "cell_type": "code",
   "execution_count": 61,
   "metadata": {},
   "outputs": [
    {
     "name": "stdout",
     "output_type": "stream",
     "text": [
      "        ★\n",
      "       ★★\n",
      "     ★★★★\n",
      "   ★★★★★★\n",
      " ★★★★★★★★\n",
      "★★★★★★★★★\n",
      " ★★★★★★★★\n",
      "   ★★★★★★\n",
      "     ★★★★\n",
      "        ★★\n",
      "         ★\n"
     ]
    }
   ],
   "source": [
    "print('        ★')\n",
    "print('       ★★')\n",
    "print('     ★★★★')\n",
    "print('   ★★★★★★')\n",
    "print(' ★★★★★★★★')\n",
    "print('★★★★★★★★★')\n",
    "print(' ★★★★★★★★')\n",
    "print('   ★★★★★★')\n",
    "print('     ★★★★')\n",
    "print('        ★★')\n",
    "print('         ★')"
   ]
  },
  {
   "cell_type": "code",
   "execution_count": 62,
   "metadata": {},
   "outputs": [
    {
     "name": "stdout",
     "output_type": "stream",
     "text": [
      "★★★★★★★★★\n",
      " ★★★★★★★★\n",
      "   ★★★★★★\n",
      "     ★★★★\n",
      "      ★★★\n",
      "        ★\n",
      "      ★★★\n",
      "     ★★★★\n",
      "   ★★★★★★\n",
      " ★★★★★★★★\n",
      "★★★★★★★★★\n"
     ]
    }
   ],
   "source": [
    "print('★★★★★★★★★')\n",
    "print(' ★★★★★★★★')\n",
    "print('   ★★★★★★')\n",
    "print('     ★★★★')\n",
    "print('      ★★★')\n",
    "print('        ★')\n",
    "print('      ★★★')\n",
    "print('     ★★★★')\n",
    "print('   ★★★★★★')\n",
    "print(' ★★★★★★★★')\n",
    "print('★★★★★★★★★')"
   ]
  },
  {
   "cell_type": "code",
   "execution_count": null,
   "metadata": {},
   "outputs": [],
   "source": []
  }
 ],
 "metadata": {
  "kernelspec": {
   "display_name": "Python 3",
   "language": "python",
   "name": "python3"
  },
  "language_info": {
   "codemirror_mode": {
    "name": "ipython",
    "version": 3
   },
   "file_extension": ".py",
   "mimetype": "text/x-python",
   "name": "python",
   "nbconvert_exporter": "python",
   "pygments_lexer": "ipython3",
   "version": "3.6.8"
  }
 },
 "nbformat": 4,
 "nbformat_minor": 2
}
