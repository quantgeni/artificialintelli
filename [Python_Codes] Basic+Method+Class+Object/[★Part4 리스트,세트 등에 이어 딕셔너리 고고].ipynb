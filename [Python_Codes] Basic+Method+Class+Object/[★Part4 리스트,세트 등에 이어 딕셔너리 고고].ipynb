{
 "cells": [
  {
   "cell_type": "code",
   "execution_count": 7,
   "metadata": {},
   "outputs": [
    {
     "name": "stdout",
     "output_type": "stream",
     "text": [
      "(7, 0, 0, 7, 0, 7, 1, 0, 7, 7, 7, 7, 7)\n",
      "[7, 0, 0, 7, 0, 7]\n",
      "(7, 0, 0, 7, 0, 7, 9, 0, 7, 7, 7, 7, 7)\n"
     ]
    }
   ],
   "source": [
    "#set에 요소 삽입 원할 시 -> 리스트로 바꿔서 삽입 후 다시 튜플로 ㅋㅋ\n",
    "jumin=(7,0,0,7,0,7,1,0,7,7,7,7,7)\n",
    "print(jumin)\n",
    "jumin=list(jumin)\n",
    "print(jumin[0:6])\n",
    "jumin[6]=9\n",
    "jumin=tuple(jumin)\n",
    "print(jumin)"
   ]
  },
  {
   "cell_type": "code",
   "execution_count": 18,
   "metadata": {},
   "outputs": [
    {
     "name": "stdout",
     "output_type": "stream",
     "text": [
      "{',', 'r', 'd', 'W', 'e', 'l', '!', 'o', 'H', ' '}\n",
      "['H', 'e', 'l', 'l', 'o', ',', ' ', 'W', 'o', 'r', 'l', 'd', '!', '!']\n",
      "{',', 'r', 'd', 'W', 'e', 'l', '!', 'o', 'H', ' '}\n"
     ]
    }
   ],
   "source": [
    "set2=set('Hello, World!!') #set화. 단, 중복된거 빼고 들어가는 문제 있음. 더불어 순서 없음. <= index로 뭔가 뽑아내는거 힘듬.\n",
    "print(set2)\n",
    "\n",
    "list2=list('Hello, World!!')\n",
    "print(list2)\n",
    "set2=set(list2)\n",
    "print(set2)"
   ]
  },
  {
   "cell_type": "markdown",
   "metadata": {},
   "source": [
    "# 딕셔너리 dict\n",
    "#### 이름key과 값value으로 구성된 연관배열의 일종\n",
    "#### 자료생성은 {}를 이용하고, 이름값은  으로 구분해서 정의\n",
    "#### 리스트/튜플처럼 순차적으로 자료 찾지 않고 키를 통해 찾기 때문에 검색 속도 빠름"
   ]
  },
  {
   "cell_type": "code",
   "execution_count": 6,
   "metadata": {},
   "outputs": [
    {
     "name": "stdout",
     "output_type": "stream",
     "text": [
      "{'학번': '20150230', '이름': '홍길동', '생년월일': '1995-04-03', '주소': '서울시 동대문구'}\n"
     ]
    }
   ],
   "source": [
    "stud1={'학번':'20150230',\n",
    "      '이름':'홍길동',\n",
    "      '생년월일':'1995-04-03',\n",
    "      '주소':'서울시 동대문구'}\n",
    "\n",
    "print(stud1)"
   ]
  },
  {
   "cell_type": "code",
   "execution_count": 8,
   "metadata": {},
   "outputs": [
    {
     "name": "stdout",
     "output_type": "stream",
     "text": [
      "{'학번': '20150230'}\n"
     ]
    }
   ],
   "source": [
    "#빈 딕셔너리에 새로운 키,값 추가\n",
    "#변수명[새로운키]=값\n",
    "\n",
    "stud2={}\n",
    "stud2['학번']='20150230'\n",
    "\n",
    "print(stud2)"
   ]
  },
  {
   "cell_type": "code",
   "execution_count": 9,
   "metadata": {
    "scrolled": false
   },
   "outputs": [
    {
     "ename": "SyntaxError",
     "evalue": "invalid syntax (<ipython-input-9-48ddce997178>, line 2)",
     "output_type": "error",
     "traceback": [
      "\u001b[0;36m  File \u001b[0;32m\"<ipython-input-9-48ddce997178>\"\u001b[0;36m, line \u001b[0;32m2\u001b[0m\n\u001b[0;31m    stud2{'학번'}='20150230'\u001b[0m\n\u001b[0m         ^\u001b[0m\n\u001b[0;31mSyntaxError\u001b[0m\u001b[0;31m:\u001b[0m invalid syntax\n"
     ]
    }
   ],
   "source": [
    "stud2={}\n",
    "stud2{'학번'}='20150230'\n",
    "\n",
    "print(stud2)"
   ]
  },
  {
   "cell_type": "code",
   "execution_count": 12,
   "metadata": {},
   "outputs": [
    {
     "name": "stdout",
     "output_type": "stream",
     "text": [
      "{'이름': '홍길동', '생년월일': '1995-04-03', '주소': '서울시 동대문구'}\n",
      "{'이름': '홍길동', '생년월일': '1998-08-08', '주소': '서울시 동대문구', '학번': '20150230'}\n",
      "홍길동\n",
      "홍길동\n"
     ]
    }
   ],
   "source": [
    "#빈 딕셔너리에 새로운 키,값 추가\n",
    "#변수명[새로운키]=값\n",
    "stud2={'이름':'홍길동',\n",
    "      '생년월일':'1995-04-03',\n",
    "      '주소':'서울시 동대문구'}\n",
    "print(stud2)\n",
    "\n",
    "stud2['학번']='20150230'\n",
    "stud2['생년월일']='1998-08-08'\n",
    "\n",
    "print(stud2)\n",
    "\n",
    "#딕셔너리 키 이용해서 조회\n",
    "#변수명[키] 또는 변수명.get(키)\n",
    "print(stud2['이름'])\n",
    "print(stud2.get('이름'))"
   ]
  },
  {
   "cell_type": "code",
   "execution_count": 15,
   "metadata": {},
   "outputs": [
    {
     "ename": "KeyError",
     "evalue": "'학과명'",
     "output_type": "error",
     "traceback": [
      "\u001b[0;31m---------------------------------------------------------------------------\u001b[0m",
      "\u001b[0;31mKeyError\u001b[0m                                  Traceback (most recent call last)",
      "\u001b[0;32m<ipython-input-15-7bcecbd985de>\u001b[0m in \u001b[0;36m<module>\u001b[0;34m\u001b[0m\n\u001b[1;32m      3\u001b[0m       \u001b[0;34m'생년월일'\u001b[0m\u001b[0;34m:\u001b[0m\u001b[0;34m'1995-04-03'\u001b[0m\u001b[0;34m,\u001b[0m\u001b[0;34m\u001b[0m\u001b[0;34m\u001b[0m\u001b[0m\n\u001b[1;32m      4\u001b[0m       '주소':'서울시 동대문구'}\n\u001b[0;32m----> 5\u001b[0;31m \u001b[0mprint\u001b[0m\u001b[0;34m(\u001b[0m\u001b[0mstud2\u001b[0m\u001b[0;34m[\u001b[0m\u001b[0;34m'학과명'\u001b[0m\u001b[0;34m]\u001b[0m\u001b[0;34m)\u001b[0m\u001b[0;34m\u001b[0m\u001b[0;34m\u001b[0m\u001b[0m\n\u001b[0m",
      "\u001b[0;31mKeyError\u001b[0m: '학과명'"
     ]
    }
   ],
   "source": [
    "#존재하지 않는 키 사용하는 경우1\n",
    "stud2={'이름':'홍길동',\n",
    "      '생년월일':'1995-04-03',\n",
    "      '주소':'서울시 동대문구'}\n",
    "print(stud2['학과명'])"
   ]
  },
  {
   "cell_type": "code",
   "execution_count": 19,
   "metadata": {
    "scrolled": true
   },
   "outputs": [
    {
     "name": "stdout",
     "output_type": "stream",
     "text": [
      "None\n"
     ]
    }
   ],
   "source": [
    "#존재하지 않는 키 사용하는 경우2\n",
    "stud2={'이름':'홍길동',\n",
    "      '생년월일':'1995-04-03',\n",
    "      '주소':'서울시 동대문구'}\n",
    "print(stud2.get('학과명'))"
   ]
  },
  {
   "cell_type": "code",
   "execution_count": 21,
   "metadata": {},
   "outputs": [
    {
     "name": "stdout",
     "output_type": "stream",
     "text": [
      "[1, 2, 3, 4, 5]\n"
     ]
    }
   ],
   "source": [
    "# list 중복 제거 방법\n",
    "# : set화 시킨 뒤 다시 list로\n",
    "    \n",
    "list1=[1,1,1,2,2,3,3,4,4,5]\n",
    "list1=set(list1)\n",
    "list1=list(list1)\n",
    "print(list1)"
   ]
  },
  {
   "cell_type": "code",
   "execution_count": 23,
   "metadata": {},
   "outputs": [
    {
     "name": "stdout",
     "output_type": "stream",
     "text": [
      "dict_keys(['이름', '생년월일', '주소'])\n",
      "dict_values(['홍길동', '1995-04-03', '서울시 동대문구'])\n",
      "['홍길동', '1995-04-03', '서울시 동대문구']\n",
      "['이름', '생년월일', '주소']\n"
     ]
    }
   ],
   "source": [
    "#딕셔너리 모든 키/값 출력하기\n",
    "stud2={'이름':'홍길동',\n",
    "      '생년월일':'1995-04-03',\n",
    "      '주소':'서울시 동대문구'}\n",
    "\n",
    "print(stud2.keys())\n",
    "print(stud2.values())\n",
    "print(list(stud2.values()))\n",
    "print(list(stud2.keys()))"
   ]
  },
  {
   "cell_type": "code",
   "execution_count": 24,
   "metadata": {},
   "outputs": [
    {
     "ename": "AttributeError",
     "evalue": "'list' object has no attribute 'values'",
     "output_type": "error",
     "traceback": [
      "\u001b[0;31m---------------------------------------------------------------------------\u001b[0m",
      "\u001b[0;31mAttributeError\u001b[0m                            Traceback (most recent call last)",
      "\u001b[0;32m<ipython-input-24-f114457f0031>\u001b[0m in \u001b[0;36m<module>\u001b[0;34m\u001b[0m\n\u001b[1;32m      1\u001b[0m \u001b[0mlist1\u001b[0m\u001b[0;34m=\u001b[0m\u001b[0;34m[\u001b[0m\u001b[0;36m1\u001b[0m\u001b[0;34m,\u001b[0m\u001b[0;36m1\u001b[0m\u001b[0;34m,\u001b[0m\u001b[0;36m1\u001b[0m\u001b[0;34m,\u001b[0m\u001b[0;36m2\u001b[0m\u001b[0;34m,\u001b[0m\u001b[0;36m2\u001b[0m\u001b[0;34m,\u001b[0m\u001b[0;36m3\u001b[0m\u001b[0;34m,\u001b[0m\u001b[0;36m3\u001b[0m\u001b[0;34m,\u001b[0m\u001b[0;36m4\u001b[0m\u001b[0;34m,\u001b[0m\u001b[0;36m4\u001b[0m\u001b[0;34m,\u001b[0m\u001b[0;36m5\u001b[0m\u001b[0;34m]\u001b[0m\u001b[0;34m\u001b[0m\u001b[0;34m\u001b[0m\u001b[0m\n\u001b[0;32m----> 2\u001b[0;31m \u001b[0mprint\u001b[0m\u001b[0;34m(\u001b[0m\u001b[0mlist1\u001b[0m\u001b[0;34m.\u001b[0m\u001b[0mvalues\u001b[0m\u001b[0;34m(\u001b[0m\u001b[0;34m)\u001b[0m\u001b[0;34m)\u001b[0m\u001b[0;34m\u001b[0m\u001b[0;34m\u001b[0m\u001b[0m\n\u001b[0m",
      "\u001b[0;31mAttributeError\u001b[0m: 'list' object has no attribute 'values'"
     ]
    }
   ],
   "source": [
    "list1=[1,1,1,2,2,3,3,4,4,5]\n",
    "print(list1.values()) ####이건 안됨 ㅋㅋ"
   ]
  },
  {
   "cell_type": "code",
   "execution_count": 33,
   "metadata": {},
   "outputs": [
    {
     "name": "stdout",
     "output_type": "stream",
     "text": [
      "EMPLOYEE_ID/FIRST_NAME/LAST_NAME/EMAIL/PHONE_NUMBER/HIRE_DATE/JOB_ID/SALARY/COMMISSION_PCT/MANAGER_ID/DEPARTMENT_ID\n",
      "/100/Steven/King/SKING/515.123.4567/2003-06-17/AD_PRES/24000///90\n",
      "/101/Neena/Kochhar/NKOCHHAR/515.123.4568/2005-09-21/AD_VP/17000//100/90\n",
      "/102/Lex/De Haan/LDEHAAN/515.123.4569/2001-01-13/AD_VP/17000//100/90\n",
      "/103/Alexander/Hunold/AHUNOLD/590.423.4567/2006-01-03/IT_PROG/9000//102/60\n",
      "/104/Bruce/Ernst/BERNST/590.423.4568/2007-05-21/IT_PROG/6000//103/60\n",
      "/105/David/Austin/DAUSTIN/590.423.4569/2005-06-25/IT_PROG/4800//103/60\n",
      "/106/Valli/Pataballa/VPATABAL/590.423.4560/2006-02-05/IT_PROG/4800//103/60\n",
      "/107/Diana/Lorentz/DLORENTZ/590.423.5567/2007-02-07/IT_PROG/4200//103/60\n",
      "/108/Nancy/Greenberg/NGREENBE/515.124.4569/2002-08-17/FI_MGR/12008//101/100\n",
      "/109/Daniel/Faviet/DFAVIET/515.124.4169/2002-08-16/FI_ACCOUNT/9000//108/100\n",
      "/110/John/Chen/JCHEN/515.124.4269/2005-09-28/FI_ACCOUNT/8200//108/100\n",
      "/111/Ismael/Sciarra/ISCIARRA/515.124.4369/2005-09-30/FI_ACCOUNT/7700//108/100\n",
      "/112/Jose Manuel/Urman/JMURMAN/515.124.4469/2006-03-07/FI_ACCOUNT/7800//108/100\n",
      "/113/Luis/Popp/LPOPP/515.124.4567/2007-12-07/FI_ACCOUNT/6900//108/100\n",
      "/114/Den/Raphaely/DRAPHEAL/515.127.4561/2002-12-07/PU_MAN/11000//100/30\n",
      "/115/Alexander/Khoo/AKHOO/515.127.4562/2003-05-18/PU_CLERK/3100//114/30\n",
      "/116/Shelli/Baida/SBAIDA/515.127.4563/2005-12-24/PU_CLERK/2900//114/30\n",
      "/117/Sigal/Tobias/STOBIAS/515.127.4564/2005-07-24/PU_CLERK/2800//114/30\n",
      "/118/Guy/Himuro/GHIMURO/515.127.4565/2006-11-15/PU_CLERK/2600//114/30\n",
      "/119/Karen/Colmenares/KCOLMENA/515.127.4566/2007-08-10/PU_CLERK/2500//114/30\n",
      "/120/Matthew/Weiss/MWEISS/650.123.1234/2004-07-18/ST_MAN/8000//100/50\n",
      "/121/Adam/Fripp/AFRIPP/650.123.2234/2005-04-10/ST_MAN/8200//100/50\n",
      "/122/Payam/Kaufling/PKAUFLIN/650.123.3234/2003-05-01/ST_MAN/7900//100/50\n",
      "/123/Shanta/Vollman/SVOLLMAN/650.123.4234/2005-10-10/ST_MAN/6500//100/50\n",
      "/124/Kevin/Mourgos/KMOURGOS/650.123.5234/2007-11-16/ST_MAN/5800//100/50\n",
      "/125/Julia/Nayer/JNAYER/650.124.1214/2005-07-16/ST_CLERK/3200//120/50\n",
      "/126/Irene/Mikkilineni/IMIKKILI/650.124.1224/2006-09-28/ST_CLERK/2700//120/50\n",
      "/127/James/Landry/JLANDRY/650.124.1334/2007-01-14/ST_CLERK/2400//120/50\n",
      "/128/Steven/Markle/SMARKLE/650.124.1434/2008-03-08/ST_CLERK/2200//120/50\n",
      "/129/Laura/Bissot/LBISSOT/650.124.5234/2005-08-20/ST_CLERK/3300//121/50\n",
      "/130/Mozhe/Atkinson/MATKINSO/650.124.6234/2005-10-30/ST_CLERK/2800//121/50\n",
      "/131/James/Marlow/JAMRLOW/650.124.7234/2005-02-16/ST_CLERK/2500//121/50\n",
      "/132/TJ/Olson/TJOLSON/650.124.8234/2007-04-10/ST_CLERK/2100//121/50\n",
      "/133/Jason/Mallin/JMALLIN/650.127.1934/2004-06-14/ST_CLERK/3300//122/50\n",
      "/134/Michael/Rogers/MROGERS/650.127.1834/2006-08-26/ST_CLERK/2900//122/50\n",
      "/135/Ki/Gee/KGEE/650.127.1734/2007-12-12/ST_CLERK/2400//122/50\n",
      "/136/Hazel/Philtanker/HPHILTAN/650.127.1634/2008-02-06/ST_CLERK/2200//122/50\n",
      "/137/Renske/Ladwig/RLADWIG/650.121.1234/2003-07-14/ST_CLERK/3600//123/50\n",
      "/138/Stephen/Stiles/SSTILES/650.121.2034/2005-10-26/ST_CLERK/3200//123/50\n",
      "/139/John/Seo/JSEO/650.121.2019/2006-02-12/ST_CLERK/2700//123/50\n",
      "/140/Joshua/Patel/JPATEL/650.121.1834/2006-04-06/ST_CLERK/2500//123/50\n",
      "/141/Trenna/Rajs/TRAJS/650.121.8009/2003-10-17/ST_CLERK/3500//124/50\n",
      "/142/Curtis/Davies/CDAVIES/650.121.2994/2005-01-29/ST_CLERK/3100//124/50\n",
      "/143/Randall/Matos/RMATOS/650.121.2874/2006-03-15/ST_CLERK/2600//124/50\n",
      "/144/Peter/Vargas/PVARGAS/650.121.2004/2006-07-09/ST_CLERK/2500//124/50\n",
      "/145/John/Russell/JRUSSEL/011.44.1344.429268/2004-10-01/SA_MAN/14000/0.4/100/80\n",
      "/146/Karen/Partners/KPARTNER/011.44.1344.467268/2005-01-05/SA_MAN/13500/0.3/100/80\n",
      "/147/Alberto/Errazuriz/AERRAZUR/011.44.1344.429278/2005-03-10/SA_MAN/12000/0.3/100/80\n",
      "/148/Gerald/Cambrault/GCAMBRAU/011.44.1344.619268/2007-10-15/SA_MAN/11000/0.3/100/80\n",
      "/149/Eleni/Zlotkey/EZLOTKEY/011.44.1344.429018/2008-01-29/SA_MAN/10500/0.2/100/80\n",
      "/150/Peter/Tucker/PTUCKER/011.44.1344.129268/2005-01-30/SA_REP/10000/0.3/145/80\n",
      "/151/David/Bernstein/DBERNSTE/011.44.1344.345268/2005-03-24/SA_REP/9500/0.25/145/80\n",
      "/152/Peter/Hall/PHALL/011.44.1344.478968/2005-08-20/SA_REP/9000/0.25/145/80\n",
      "/153/Christopher/Olsen/COLSEN/011.44.1344.498718/2006-03-30/SA_REP/8000/0.2/145/80\n",
      "/154/Nanette/Cambrault/NCAMBRAU/011.44.1344.987668/2006-12-09/SA_REP/7500/0.2/145/80\n",
      "/155/Oliver/Tuvault/OTUVAULT/011.44.1344.486508/2007-11-23/SA_REP/7000/0.15/145/80\n",
      "/156/Janette/King/JKING/011.44.1345.429268/2004-01-30/SA_REP/10000/0.35/146/80\n",
      "/157/Patrick/Sully/PSULLY/011.44.1345.929268/2004-03-04/SA_REP/9500/0.35/146/80\n",
      "/158/Allan/McEwen/AMCEWEN/011.44.1345.829268/2004-08-01/SA_REP/9000/0.35/146/80\n",
      "/159/Lindsey/Smith/LSMITH/011.44.1345.729268/2005-03-10/SA_REP/8000/0.3/146/80\n",
      "/160/Louise/Doran/LDORAN/011.44.1345.629268/2005-12-15/SA_REP/7500/0.3/146/80\n",
      "/161/Sarath/Sewall/SSEWALL/011.44.1345.529268/2006-11-03/SA_REP/7000/0.25/146/80\n",
      "/162/Clara/Vishney/CVISHNEY/011.44.1346.129268/2005-11-11/SA_REP/10500/0.25/147/80\n",
      "/163/Danielle/Greene/DGREENE/011.44.1346.229268/2007-03-19/SA_REP/9500/0.15/147/80\n",
      "/164/Mattea/Marvins/MMARVINS/011.44.1346.329268/2008-01-24/SA_REP/7200/0.1/147/80\n",
      "/165/David/Lee/DLEE/011.44.1346.529268/2008-02-23/SA_REP/6800/0.1/147/80\n",
      "/166/Sundar/Ande/SANDE/011.44.1346.629268/2008-03-24/SA_REP/6400/0.1/147/80\n",
      "/167/Amit/Banda/ABANDA/011.44.1346.729268/2008-04-21/SA_REP/6200/0.1/147/80\n",
      "/168/Lisa/Ozer/LOZER/011.44.1343.929268/2005-03-11/SA_REP/11500/0.25/148/80\n",
      "/169/Harrison/Bloom/HBLOOM/011.44.1343.829268/2006-03-23/SA_REP/10000/0.2/148/80\n",
      "/170/Tayler/Fox/TFOX/011.44.1343.729268/2006-01-24/SA_REP/9600/0.2/148/80\n",
      "/171/William/Smith/WSMITH/011.44.1343.629268/2007-02-23/SA_REP/7400/0.15/148/80\n",
      "/172/Elizabeth/Bates/EBATES/011.44.1343.529268/2007-03-24/SA_REP/7300/0.15/148/80\n",
      "/173/Sundita/Kumar/SKUMAR/011.44.1343.329268/2008-04-21/SA_REP/6100/0.1/148/80\n",
      "/174/Ellen/Abel/EABEL/011.44.1644.429267/2004-05-11/SA_REP/11000/0.3/149/80\n",
      "/175/Alyssa/Hutton/AHUTTON/011.44.1644.429266/2005-03-19/SA_REP/8800/0.25/149/80\n",
      "/176/Jonathon/Taylor/JTAYLOR/011.44.1644.429265/2006-03-24/SA_REP/8600/0.2/149/80\n",
      "/177/Jack/Livingston/JLIVINGS/011.44.1644.429264/2006-04-23/SA_REP/8400/0.2/149/80\n",
      "/178/Kimberely/Grant/KGRANT/011.44.1644.429263/2007-05-24/SA_REP/7000/0.15/149/\n",
      "/179/Charles/Johnson/CJOHNSON/011.44.1644.429262/2008-01-04/SA_REP/6200/0.1/149/80\n",
      "/180/Winston/Taylor/WTAYLOR/650.507.9876/2006-01-24/SH_CLERK/3200//120/50\n",
      "/181/Jean/Fleaur/JFLEAUR/650.507.9877/2006-02-23/SH_CLERK/3100//120/50\n",
      "/182/Martha/Sullivan/MSULLIVA/650.507.9878/2007-06-21/SH_CLERK/2500//120/50\n",
      "/183/Girard/Geoni/GGEONI/650.507.9879/2008-02-03/SH_CLERK/2800//120/50\n",
      "/184/Nandita/Sarchand/NSARCHAN/650.509.1876/2004-01-27/SH_CLERK/4200//121/50\n",
      "/185/Alexis/Bull/ABULL/650.509.2876/2005-02-20/SH_CLERK/4100//121/50\n",
      "/186/Julia/Dellinger/JDELLING/650.509.3876/2006-06-24/SH_CLERK/3400//121/50\n",
      "/187/Anthony/Cabrio/ACABRIO/650.509.4876/2007-02-07/SH_CLERK/3000//121/50\n",
      "/188/Kelly/Chung/KCHUNG/650.505.1876/2005-06-14/SH_CLERK/3800//122/50\n",
      "/189/Jennifer/Dilly/JDILLY/650.505.2876/2005-08-13/SH_CLERK/3600//122/50\n",
      "/190/Timothy/Gates/TGATES/650.505.3876/2006-07-11/SH_CLERK/2900//122/50\n",
      "/191/Randall/Perkins/RPERKINS/650.505.4876/2007-12-19/SH_CLERK/2500//122/50\n",
      "/192/Sarah/Bell/SBELL/650.501.1876/2004-02-04/SH_CLERK/4000//123/50\n",
      "/193/Britney/Everett/BEVERETT/650.501.2876/2005-03-03/SH_CLERK/3900//123/50\n",
      "/194/Samuel/McCain/SMCCAIN/650.501.3876/2006-07-01/SH_CLERK/3200//123/50\n",
      "/195/Vance/Jones/VJONES/650.501.4876/2007-03-17/SH_CLERK/2800//123/50\n",
      "/196/Alana/Walsh/AWALSH/650.507.9811/2006-04-24/SH_CLERK/3100//124/50\n",
      "/197/Kevin/Feeney/KFEENEY/650.507.9822/2006-05-23/SH_CLERK/3000//124/50\n",
      "/198/Donald/OConnell/DOCONNEL/650.507.9833/2007-06-21/SH_CLERK/2600//124/50\n",
      "/199/Douglas/Grant/DGRANT/650.507.9844/2008-01-13/SH_CLERK/2600//124/50\n",
      "/200/Jennifer/Whalen/JWHALEN/515.123.4444/2003-09-17/AD_ASST/4400//101/10\n",
      "/201/Michael/Hartstein/MHARTSTE/515.123.5555/2004-02-17/MK_MAN/13000//100/20\n",
      "/202/Pat/Fay/PFAY/603.123.6666/2005-08-17/MK_REP/6000//201/20\n",
      "/203/Susan/Mavris/SMAVRIS/515.123.7777/2002-06-07/HR_REP/6500//101/40\n",
      "/204/Hermann/Baer/HBAER/515.123.8888/2002-06-07/PR_REP/10000//101/70\n",
      "/205/Shelley/Higgins/SHIGGINS/515.123.8080/2002-06-07/AC_MGR/12008//101/110\n",
      "/206/William/Gietz/WGIETZ/515.123.8181/2002-06-07/AC_ACCOUNT/8300//205/110\n",
      "/\n"
     ]
    }
   ],
   "source": [
    "###Employees.csv의 모든 데이터를 딕셔너리형으로 정의\n",
    "with open('EMPLOYEES.csv') as f: #EMPLOYEES.csv 파일을 읽기전용으로 오픈한 후\n",
    "    for lines in f: #한줄씩 읽은 다음\n",
    "        item=lines.split(',') #, 단위로 각 항목을 분리한 뒤.. 근데 이건 리스트화 시키는 작업임에 유의!! (리스트1개가 아닌 line개수만큼\n",
    "                                                                                 #                       여러개 list가 생김)\n",
    "        for data in item:\n",
    "            print(data,end='/') #분리된 항목을 각각 출력함   \n",
    "    print()"
   ]
  },
  {
   "cell_type": "code",
   "execution_count": 34,
   "metadata": {},
   "outputs": [
    {
     "name": "stdout",
     "output_type": "stream",
     "text": [
      "EMPLOYEE_ID,FIRST_NAME,LAST_NAME,EMAIL,PHONE_NUMBER,HIRE_DATE,JOB_ID,SALARY,COMMISSION_PCT,MANAGER_ID,DEPARTMENT_ID\n",
      "\n",
      "100,Steven,King,SKING,515.123.4567,2003-06-17,AD_PRES,24000,,,90\n",
      "\n",
      "101,Neena,Kochhar,NKOCHHAR,515.123.4568,2005-09-21,AD_VP,17000,,100,90\n",
      "\n",
      "102,Lex,De Haan,LDEHAAN,515.123.4569,2001-01-13,AD_VP,17000,,100,90\n",
      "\n",
      "103,Alexander,Hunold,AHUNOLD,590.423.4567,2006-01-03,IT_PROG,9000,,102,60\n",
      "\n",
      "104,Bruce,Ernst,BERNST,590.423.4568,2007-05-21,IT_PROG,6000,,103,60\n",
      "\n",
      "105,David,Austin,DAUSTIN,590.423.4569,2005-06-25,IT_PROG,4800,,103,60\n",
      "\n",
      "106,Valli,Pataballa,VPATABAL,590.423.4560,2006-02-05,IT_PROG,4800,,103,60\n",
      "\n",
      "107,Diana,Lorentz,DLORENTZ,590.423.5567,2007-02-07,IT_PROG,4200,,103,60\n",
      "\n",
      "108,Nancy,Greenberg,NGREENBE,515.124.4569,2002-08-17,FI_MGR,12008,,101,100\n",
      "\n",
      "109,Daniel,Faviet,DFAVIET,515.124.4169,2002-08-16,FI_ACCOUNT,9000,,108,100\n",
      "\n",
      "110,John,Chen,JCHEN,515.124.4269,2005-09-28,FI_ACCOUNT,8200,,108,100\n",
      "\n",
      "111,Ismael,Sciarra,ISCIARRA,515.124.4369,2005-09-30,FI_ACCOUNT,7700,,108,100\n",
      "\n",
      "112,Jose Manuel,Urman,JMURMAN,515.124.4469,2006-03-07,FI_ACCOUNT,7800,,108,100\n",
      "\n",
      "113,Luis,Popp,LPOPP,515.124.4567,2007-12-07,FI_ACCOUNT,6900,,108,100\n",
      "\n",
      "114,Den,Raphaely,DRAPHEAL,515.127.4561,2002-12-07,PU_MAN,11000,,100,30\n",
      "\n",
      "115,Alexander,Khoo,AKHOO,515.127.4562,2003-05-18,PU_CLERK,3100,,114,30\n",
      "\n",
      "116,Shelli,Baida,SBAIDA,515.127.4563,2005-12-24,PU_CLERK,2900,,114,30\n",
      "\n",
      "117,Sigal,Tobias,STOBIAS,515.127.4564,2005-07-24,PU_CLERK,2800,,114,30\n",
      "\n",
      "118,Guy,Himuro,GHIMURO,515.127.4565,2006-11-15,PU_CLERK,2600,,114,30\n",
      "\n",
      "119,Karen,Colmenares,KCOLMENA,515.127.4566,2007-08-10,PU_CLERK,2500,,114,30\n",
      "\n",
      "120,Matthew,Weiss,MWEISS,650.123.1234,2004-07-18,ST_MAN,8000,,100,50\n",
      "\n",
      "121,Adam,Fripp,AFRIPP,650.123.2234,2005-04-10,ST_MAN,8200,,100,50\n",
      "\n",
      "122,Payam,Kaufling,PKAUFLIN,650.123.3234,2003-05-01,ST_MAN,7900,,100,50\n",
      "\n",
      "123,Shanta,Vollman,SVOLLMAN,650.123.4234,2005-10-10,ST_MAN,6500,,100,50\n",
      "\n",
      "124,Kevin,Mourgos,KMOURGOS,650.123.5234,2007-11-16,ST_MAN,5800,,100,50\n",
      "\n",
      "125,Julia,Nayer,JNAYER,650.124.1214,2005-07-16,ST_CLERK,3200,,120,50\n",
      "\n",
      "126,Irene,Mikkilineni,IMIKKILI,650.124.1224,2006-09-28,ST_CLERK,2700,,120,50\n",
      "\n",
      "127,James,Landry,JLANDRY,650.124.1334,2007-01-14,ST_CLERK,2400,,120,50\n",
      "\n",
      "128,Steven,Markle,SMARKLE,650.124.1434,2008-03-08,ST_CLERK,2200,,120,50\n",
      "\n",
      "129,Laura,Bissot,LBISSOT,650.124.5234,2005-08-20,ST_CLERK,3300,,121,50\n",
      "\n",
      "130,Mozhe,Atkinson,MATKINSO,650.124.6234,2005-10-30,ST_CLERK,2800,,121,50\n",
      "\n",
      "131,James,Marlow,JAMRLOW,650.124.7234,2005-02-16,ST_CLERK,2500,,121,50\n",
      "\n",
      "132,TJ,Olson,TJOLSON,650.124.8234,2007-04-10,ST_CLERK,2100,,121,50\n",
      "\n",
      "133,Jason,Mallin,JMALLIN,650.127.1934,2004-06-14,ST_CLERK,3300,,122,50\n",
      "\n",
      "134,Michael,Rogers,MROGERS,650.127.1834,2006-08-26,ST_CLERK,2900,,122,50\n",
      "\n",
      "135,Ki,Gee,KGEE,650.127.1734,2007-12-12,ST_CLERK,2400,,122,50\n",
      "\n",
      "136,Hazel,Philtanker,HPHILTAN,650.127.1634,2008-02-06,ST_CLERK,2200,,122,50\n",
      "\n",
      "137,Renske,Ladwig,RLADWIG,650.121.1234,2003-07-14,ST_CLERK,3600,,123,50\n",
      "\n",
      "138,Stephen,Stiles,SSTILES,650.121.2034,2005-10-26,ST_CLERK,3200,,123,50\n",
      "\n",
      "139,John,Seo,JSEO,650.121.2019,2006-02-12,ST_CLERK,2700,,123,50\n",
      "\n",
      "140,Joshua,Patel,JPATEL,650.121.1834,2006-04-06,ST_CLERK,2500,,123,50\n",
      "\n",
      "141,Trenna,Rajs,TRAJS,650.121.8009,2003-10-17,ST_CLERK,3500,,124,50\n",
      "\n",
      "142,Curtis,Davies,CDAVIES,650.121.2994,2005-01-29,ST_CLERK,3100,,124,50\n",
      "\n",
      "143,Randall,Matos,RMATOS,650.121.2874,2006-03-15,ST_CLERK,2600,,124,50\n",
      "\n",
      "144,Peter,Vargas,PVARGAS,650.121.2004,2006-07-09,ST_CLERK,2500,,124,50\n",
      "\n",
      "145,John,Russell,JRUSSEL,011.44.1344.429268,2004-10-01,SA_MAN,14000,0.4,100,80\n",
      "\n",
      "146,Karen,Partners,KPARTNER,011.44.1344.467268,2005-01-05,SA_MAN,13500,0.3,100,80\n",
      "\n",
      "147,Alberto,Errazuriz,AERRAZUR,011.44.1344.429278,2005-03-10,SA_MAN,12000,0.3,100,80\n",
      "\n",
      "148,Gerald,Cambrault,GCAMBRAU,011.44.1344.619268,2007-10-15,SA_MAN,11000,0.3,100,80\n",
      "\n",
      "149,Eleni,Zlotkey,EZLOTKEY,011.44.1344.429018,2008-01-29,SA_MAN,10500,0.2,100,80\n",
      "\n",
      "150,Peter,Tucker,PTUCKER,011.44.1344.129268,2005-01-30,SA_REP,10000,0.3,145,80\n",
      "\n",
      "151,David,Bernstein,DBERNSTE,011.44.1344.345268,2005-03-24,SA_REP,9500,0.25,145,80\n",
      "\n",
      "152,Peter,Hall,PHALL,011.44.1344.478968,2005-08-20,SA_REP,9000,0.25,145,80\n",
      "\n",
      "153,Christopher,Olsen,COLSEN,011.44.1344.498718,2006-03-30,SA_REP,8000,0.2,145,80\n",
      "\n",
      "154,Nanette,Cambrault,NCAMBRAU,011.44.1344.987668,2006-12-09,SA_REP,7500,0.2,145,80\n",
      "\n",
      "155,Oliver,Tuvault,OTUVAULT,011.44.1344.486508,2007-11-23,SA_REP,7000,0.15,145,80\n",
      "\n",
      "156,Janette,King,JKING,011.44.1345.429268,2004-01-30,SA_REP,10000,0.35,146,80\n",
      "\n",
      "157,Patrick,Sully,PSULLY,011.44.1345.929268,2004-03-04,SA_REP,9500,0.35,146,80\n",
      "\n",
      "158,Allan,McEwen,AMCEWEN,011.44.1345.829268,2004-08-01,SA_REP,9000,0.35,146,80\n",
      "\n",
      "159,Lindsey,Smith,LSMITH,011.44.1345.729268,2005-03-10,SA_REP,8000,0.3,146,80\n",
      "\n",
      "160,Louise,Doran,LDORAN,011.44.1345.629268,2005-12-15,SA_REP,7500,0.3,146,80\n",
      "\n",
      "161,Sarath,Sewall,SSEWALL,011.44.1345.529268,2006-11-03,SA_REP,7000,0.25,146,80\n",
      "\n",
      "162,Clara,Vishney,CVISHNEY,011.44.1346.129268,2005-11-11,SA_REP,10500,0.25,147,80\n",
      "\n",
      "163,Danielle,Greene,DGREENE,011.44.1346.229268,2007-03-19,SA_REP,9500,0.15,147,80\n",
      "\n",
      "164,Mattea,Marvins,MMARVINS,011.44.1346.329268,2008-01-24,SA_REP,7200,0.1,147,80\n",
      "\n",
      "165,David,Lee,DLEE,011.44.1346.529268,2008-02-23,SA_REP,6800,0.1,147,80\n",
      "\n",
      "166,Sundar,Ande,SANDE,011.44.1346.629268,2008-03-24,SA_REP,6400,0.1,147,80\n",
      "\n",
      "167,Amit,Banda,ABANDA,011.44.1346.729268,2008-04-21,SA_REP,6200,0.1,147,80\n",
      "\n",
      "168,Lisa,Ozer,LOZER,011.44.1343.929268,2005-03-11,SA_REP,11500,0.25,148,80\n",
      "\n",
      "169,Harrison,Bloom,HBLOOM,011.44.1343.829268,2006-03-23,SA_REP,10000,0.2,148,80\n",
      "\n",
      "170,Tayler,Fox,TFOX,011.44.1343.729268,2006-01-24,SA_REP,9600,0.2,148,80\n",
      "\n",
      "171,William,Smith,WSMITH,011.44.1343.629268,2007-02-23,SA_REP,7400,0.15,148,80\n",
      "\n",
      "172,Elizabeth,Bates,EBATES,011.44.1343.529268,2007-03-24,SA_REP,7300,0.15,148,80\n",
      "\n",
      "173,Sundita,Kumar,SKUMAR,011.44.1343.329268,2008-04-21,SA_REP,6100,0.1,148,80\n",
      "\n",
      "174,Ellen,Abel,EABEL,011.44.1644.429267,2004-05-11,SA_REP,11000,0.3,149,80\n",
      "\n",
      "175,Alyssa,Hutton,AHUTTON,011.44.1644.429266,2005-03-19,SA_REP,8800,0.25,149,80\n",
      "\n",
      "176,Jonathon,Taylor,JTAYLOR,011.44.1644.429265,2006-03-24,SA_REP,8600,0.2,149,80\n",
      "\n",
      "177,Jack,Livingston,JLIVINGS,011.44.1644.429264,2006-04-23,SA_REP,8400,0.2,149,80\n",
      "\n",
      "178,Kimberely,Grant,KGRANT,011.44.1644.429263,2007-05-24,SA_REP,7000,0.15,149,\n",
      "\n",
      "179,Charles,Johnson,CJOHNSON,011.44.1644.429262,2008-01-04,SA_REP,6200,0.1,149,80\n",
      "\n",
      "180,Winston,Taylor,WTAYLOR,650.507.9876,2006-01-24,SH_CLERK,3200,,120,50\n",
      "\n",
      "181,Jean,Fleaur,JFLEAUR,650.507.9877,2006-02-23,SH_CLERK,3100,,120,50\n",
      "\n",
      "182,Martha,Sullivan,MSULLIVA,650.507.9878,2007-06-21,SH_CLERK,2500,,120,50\n",
      "\n",
      "183,Girard,Geoni,GGEONI,650.507.9879,2008-02-03,SH_CLERK,2800,,120,50\n",
      "\n",
      "184,Nandita,Sarchand,NSARCHAN,650.509.1876,2004-01-27,SH_CLERK,4200,,121,50\n",
      "\n",
      "185,Alexis,Bull,ABULL,650.509.2876,2005-02-20,SH_CLERK,4100,,121,50\n",
      "\n",
      "186,Julia,Dellinger,JDELLING,650.509.3876,2006-06-24,SH_CLERK,3400,,121,50\n",
      "\n",
      "187,Anthony,Cabrio,ACABRIO,650.509.4876,2007-02-07,SH_CLERK,3000,,121,50\n",
      "\n",
      "188,Kelly,Chung,KCHUNG,650.505.1876,2005-06-14,SH_CLERK,3800,,122,50\n",
      "\n",
      "189,Jennifer,Dilly,JDILLY,650.505.2876,2005-08-13,SH_CLERK,3600,,122,50\n",
      "\n",
      "190,Timothy,Gates,TGATES,650.505.3876,2006-07-11,SH_CLERK,2900,,122,50\n",
      "\n",
      "191,Randall,Perkins,RPERKINS,650.505.4876,2007-12-19,SH_CLERK,2500,,122,50\n",
      "\n",
      "192,Sarah,Bell,SBELL,650.501.1876,2004-02-04,SH_CLERK,4000,,123,50\n",
      "\n",
      "193,Britney,Everett,BEVERETT,650.501.2876,2005-03-03,SH_CLERK,3900,,123,50\n",
      "\n",
      "194,Samuel,McCain,SMCCAIN,650.501.3876,2006-07-01,SH_CLERK,3200,,123,50\n",
      "\n",
      "195,Vance,Jones,VJONES,650.501.4876,2007-03-17,SH_CLERK,2800,,123,50\n",
      "\n",
      "196,Alana,Walsh,AWALSH,650.507.9811,2006-04-24,SH_CLERK,3100,,124,50\n",
      "\n",
      "197,Kevin,Feeney,KFEENEY,650.507.9822,2006-05-23,SH_CLERK,3000,,124,50\n",
      "\n",
      "198,Donald,OConnell,DOCONNEL,650.507.9833,2007-06-21,SH_CLERK,2600,,124,50\n",
      "\n",
      "199,Douglas,Grant,DGRANT,650.507.9844,2008-01-13,SH_CLERK,2600,,124,50\n",
      "\n",
      "200,Jennifer,Whalen,JWHALEN,515.123.4444,2003-09-17,AD_ASST,4400,,101,10\n",
      "\n",
      "201,Michael,Hartstein,MHARTSTE,515.123.5555,2004-02-17,MK_MAN,13000,,100,20\n",
      "\n",
      "202,Pat,Fay,PFAY,603.123.6666,2005-08-17,MK_REP,6000,,201,20\n",
      "\n",
      "203,Susan,Mavris,SMAVRIS,515.123.7777,2002-06-07,HR_REP,6500,,101,40\n",
      "\n",
      "204,Hermann,Baer,HBAER,515.123.8888,2002-06-07,PR_REP,10000,,101,70\n",
      "\n",
      "205,Shelley,Higgins,SHIGGINS,515.123.8080,2002-06-07,AC_MGR,12008,,101,110\n",
      "\n",
      "206,William,Gietz,WGIETZ,515.123.8181,2002-06-07,AC_ACCOUNT,8300,,205,110\n",
      "\n",
      "\n"
     ]
    }
   ],
   "source": [
    "###Employees.csv의 모든 데이터를 딕셔너리형으로 정의\n",
    "with open('EMPLOYEES.csv') as f: #EMPLOYEES.csv 파일을 읽기전용으로 오픈한 후\n",
    "    for lines in f: #한줄씩 읽은 다음\n",
    "        print(lines) #분리된 항목을 각각 출력함   \n",
    "    print()"
   ]
  },
  {
   "cell_type": "code",
   "execution_count": 48,
   "metadata": {},
   "outputs": [
    {
     "name": "stdout",
     "output_type": "stream",
     "text": [
      "['EMPLOYEE_ID,FIRST_NAME,LAST_NAME,EMAIL,PHONE_NUMBER,HIRE_DATE,JOB_ID,SALARY,COMMISSION_PCT,MANAGER_ID,DEPARTMENT_ID\\n']\n",
      "['100,Steven,King,SKING,515.123.4567,2003', '06', '17,AD_PRES,24000,,,90\\n']\n",
      "['101,Neena,Kochhar,NKOCHHAR,515.123.4568,2005', '09', '21,AD_VP,17000,,100,90\\n']\n",
      "['102,Lex,De Haan,LDEHAAN,515.123.4569,2001', '01', '13,AD_VP,17000,,100,90\\n']\n",
      "['103,Alexander,Hunold,AHUNOLD,590.423.4567,2006', '01', '03,IT_PROG,9000,,102,60\\n']\n",
      "['104,Bruce,Ernst,BERNST,590.423.4568,2007', '05', '21,IT_PROG,6000,,103,60\\n']\n",
      "['105,David,Austin,DAUSTIN,590.423.4569,2005', '06', '25,IT_PROG,4800,,103,60\\n']\n",
      "['106,Valli,Pataballa,VPATABAL,590.423.4560,2006', '02', '05,IT_PROG,4800,,103,60\\n']\n",
      "['107,Diana,Lorentz,DLORENTZ,590.423.5567,2007', '02', '07,IT_PROG,4200,,103,60\\n']\n",
      "['108,Nancy,Greenberg,NGREENBE,515.124.4569,2002', '08', '17,FI_MGR,12008,,101,100\\n']\n",
      "['109,Daniel,Faviet,DFAVIET,515.124.4169,2002', '08', '16,FI_ACCOUNT,9000,,108,100\\n']\n",
      "['110,John,Chen,JCHEN,515.124.4269,2005', '09', '28,FI_ACCOUNT,8200,,108,100\\n']\n",
      "['111,Ismael,Sciarra,ISCIARRA,515.124.4369,2005', '09', '30,FI_ACCOUNT,7700,,108,100\\n']\n",
      "['112,Jose Manuel,Urman,JMURMAN,515.124.4469,2006', '03', '07,FI_ACCOUNT,7800,,108,100\\n']\n",
      "['113,Luis,Popp,LPOPP,515.124.4567,2007', '12', '07,FI_ACCOUNT,6900,,108,100\\n']\n",
      "['114,Den,Raphaely,DRAPHEAL,515.127.4561,2002', '12', '07,PU_MAN,11000,,100,30\\n']\n",
      "['115,Alexander,Khoo,AKHOO,515.127.4562,2003', '05', '18,PU_CLERK,3100,,114,30\\n']\n",
      "['116,Shelli,Baida,SBAIDA,515.127.4563,2005', '12', '24,PU_CLERK,2900,,114,30\\n']\n",
      "['117,Sigal,Tobias,STOBIAS,515.127.4564,2005', '07', '24,PU_CLERK,2800,,114,30\\n']\n",
      "['118,Guy,Himuro,GHIMURO,515.127.4565,2006', '11', '15,PU_CLERK,2600,,114,30\\n']\n",
      "['119,Karen,Colmenares,KCOLMENA,515.127.4566,2007', '08', '10,PU_CLERK,2500,,114,30\\n']\n",
      "['120,Matthew,Weiss,MWEISS,650.123.1234,2004', '07', '18,ST_MAN,8000,,100,50\\n']\n",
      "['121,Adam,Fripp,AFRIPP,650.123.2234,2005', '04', '10,ST_MAN,8200,,100,50\\n']\n",
      "['122,Payam,Kaufling,PKAUFLIN,650.123.3234,2003', '05', '01,ST_MAN,7900,,100,50\\n']\n",
      "['123,Shanta,Vollman,SVOLLMAN,650.123.4234,2005', '10', '10,ST_MAN,6500,,100,50\\n']\n",
      "['124,Kevin,Mourgos,KMOURGOS,650.123.5234,2007', '11', '16,ST_MAN,5800,,100,50\\n']\n",
      "['125,Julia,Nayer,JNAYER,650.124.1214,2005', '07', '16,ST_CLERK,3200,,120,50\\n']\n",
      "['126,Irene,Mikkilineni,IMIKKILI,650.124.1224,2006', '09', '28,ST_CLERK,2700,,120,50\\n']\n",
      "['127,James,Landry,JLANDRY,650.124.1334,2007', '01', '14,ST_CLERK,2400,,120,50\\n']\n",
      "['128,Steven,Markle,SMARKLE,650.124.1434,2008', '03', '08,ST_CLERK,2200,,120,50\\n']\n",
      "['129,Laura,Bissot,LBISSOT,650.124.5234,2005', '08', '20,ST_CLERK,3300,,121,50\\n']\n",
      "['130,Mozhe,Atkinson,MATKINSO,650.124.6234,2005', '10', '30,ST_CLERK,2800,,121,50\\n']\n",
      "['131,James,Marlow,JAMRLOW,650.124.7234,2005', '02', '16,ST_CLERK,2500,,121,50\\n']\n",
      "['132,TJ,Olson,TJOLSON,650.124.8234,2007', '04', '10,ST_CLERK,2100,,121,50\\n']\n",
      "['133,Jason,Mallin,JMALLIN,650.127.1934,2004', '06', '14,ST_CLERK,3300,,122,50\\n']\n",
      "['134,Michael,Rogers,MROGERS,650.127.1834,2006', '08', '26,ST_CLERK,2900,,122,50\\n']\n",
      "['135,Ki,Gee,KGEE,650.127.1734,2007', '12', '12,ST_CLERK,2400,,122,50\\n']\n",
      "['136,Hazel,Philtanker,HPHILTAN,650.127.1634,2008', '02', '06,ST_CLERK,2200,,122,50\\n']\n",
      "['137,Renske,Ladwig,RLADWIG,650.121.1234,2003', '07', '14,ST_CLERK,3600,,123,50\\n']\n",
      "['138,Stephen,Stiles,SSTILES,650.121.2034,2005', '10', '26,ST_CLERK,3200,,123,50\\n']\n",
      "['139,John,Seo,JSEO,650.121.2019,2006', '02', '12,ST_CLERK,2700,,123,50\\n']\n",
      "['140,Joshua,Patel,JPATEL,650.121.1834,2006', '04', '06,ST_CLERK,2500,,123,50\\n']\n",
      "['141,Trenna,Rajs,TRAJS,650.121.8009,2003', '10', '17,ST_CLERK,3500,,124,50\\n']\n",
      "['142,Curtis,Davies,CDAVIES,650.121.2994,2005', '01', '29,ST_CLERK,3100,,124,50\\n']\n",
      "['143,Randall,Matos,RMATOS,650.121.2874,2006', '03', '15,ST_CLERK,2600,,124,50\\n']\n",
      "['144,Peter,Vargas,PVARGAS,650.121.2004,2006', '07', '09,ST_CLERK,2500,,124,50\\n']\n",
      "['145,John,Russell,JRUSSEL,011.44.1344.429268,2004', '10', '01,SA_MAN,14000,0.4,100,80\\n']\n",
      "['146,Karen,Partners,KPARTNER,011.44.1344.467268,2005', '01', '05,SA_MAN,13500,0.3,100,80\\n']\n",
      "['147,Alberto,Errazuriz,AERRAZUR,011.44.1344.429278,2005', '03', '10,SA_MAN,12000,0.3,100,80\\n']\n",
      "['148,Gerald,Cambrault,GCAMBRAU,011.44.1344.619268,2007', '10', '15,SA_MAN,11000,0.3,100,80\\n']\n",
      "['149,Eleni,Zlotkey,EZLOTKEY,011.44.1344.429018,2008', '01', '29,SA_MAN,10500,0.2,100,80\\n']\n",
      "['150,Peter,Tucker,PTUCKER,011.44.1344.129268,2005', '01', '30,SA_REP,10000,0.3,145,80\\n']\n",
      "['151,David,Bernstein,DBERNSTE,011.44.1344.345268,2005', '03', '24,SA_REP,9500,0.25,145,80\\n']\n",
      "['152,Peter,Hall,PHALL,011.44.1344.478968,2005', '08', '20,SA_REP,9000,0.25,145,80\\n']\n",
      "['153,Christopher,Olsen,COLSEN,011.44.1344.498718,2006', '03', '30,SA_REP,8000,0.2,145,80\\n']\n",
      "['154,Nanette,Cambrault,NCAMBRAU,011.44.1344.987668,2006', '12', '09,SA_REP,7500,0.2,145,80\\n']\n",
      "['155,Oliver,Tuvault,OTUVAULT,011.44.1344.486508,2007', '11', '23,SA_REP,7000,0.15,145,80\\n']\n",
      "['156,Janette,King,JKING,011.44.1345.429268,2004', '01', '30,SA_REP,10000,0.35,146,80\\n']\n",
      "['157,Patrick,Sully,PSULLY,011.44.1345.929268,2004', '03', '04,SA_REP,9500,0.35,146,80\\n']\n",
      "['158,Allan,McEwen,AMCEWEN,011.44.1345.829268,2004', '08', '01,SA_REP,9000,0.35,146,80\\n']\n",
      "['159,Lindsey,Smith,LSMITH,011.44.1345.729268,2005', '03', '10,SA_REP,8000,0.3,146,80\\n']\n",
      "['160,Louise,Doran,LDORAN,011.44.1345.629268,2005', '12', '15,SA_REP,7500,0.3,146,80\\n']\n",
      "['161,Sarath,Sewall,SSEWALL,011.44.1345.529268,2006', '11', '03,SA_REP,7000,0.25,146,80\\n']\n",
      "['162,Clara,Vishney,CVISHNEY,011.44.1346.129268,2005', '11', '11,SA_REP,10500,0.25,147,80\\n']\n",
      "['163,Danielle,Greene,DGREENE,011.44.1346.229268,2007', '03', '19,SA_REP,9500,0.15,147,80\\n']\n",
      "['164,Mattea,Marvins,MMARVINS,011.44.1346.329268,2008', '01', '24,SA_REP,7200,0.1,147,80\\n']\n",
      "['165,David,Lee,DLEE,011.44.1346.529268,2008', '02', '23,SA_REP,6800,0.1,147,80\\n']\n",
      "['166,Sundar,Ande,SANDE,011.44.1346.629268,2008', '03', '24,SA_REP,6400,0.1,147,80\\n']\n",
      "['167,Amit,Banda,ABANDA,011.44.1346.729268,2008', '04', '21,SA_REP,6200,0.1,147,80\\n']\n",
      "['168,Lisa,Ozer,LOZER,011.44.1343.929268,2005', '03', '11,SA_REP,11500,0.25,148,80\\n']\n",
      "['169,Harrison,Bloom,HBLOOM,011.44.1343.829268,2006', '03', '23,SA_REP,10000,0.2,148,80\\n']\n",
      "['170,Tayler,Fox,TFOX,011.44.1343.729268,2006', '01', '24,SA_REP,9600,0.2,148,80\\n']\n",
      "['171,William,Smith,WSMITH,011.44.1343.629268,2007', '02', '23,SA_REP,7400,0.15,148,80\\n']\n",
      "['172,Elizabeth,Bates,EBATES,011.44.1343.529268,2007', '03', '24,SA_REP,7300,0.15,148,80\\n']\n",
      "['173,Sundita,Kumar,SKUMAR,011.44.1343.329268,2008', '04', '21,SA_REP,6100,0.1,148,80\\n']\n",
      "['174,Ellen,Abel,EABEL,011.44.1644.429267,2004', '05', '11,SA_REP,11000,0.3,149,80\\n']\n",
      "['175,Alyssa,Hutton,AHUTTON,011.44.1644.429266,2005', '03', '19,SA_REP,8800,0.25,149,80\\n']\n",
      "['176,Jonathon,Taylor,JTAYLOR,011.44.1644.429265,2006', '03', '24,SA_REP,8600,0.2,149,80\\n']\n",
      "['177,Jack,Livingston,JLIVINGS,011.44.1644.429264,2006', '04', '23,SA_REP,8400,0.2,149,80\\n']\n",
      "['178,Kimberely,Grant,KGRANT,011.44.1644.429263,2007', '05', '24,SA_REP,7000,0.15,149,\\n']\n",
      "['179,Charles,Johnson,CJOHNSON,011.44.1644.429262,2008', '01', '04,SA_REP,6200,0.1,149,80\\n']\n",
      "['180,Winston,Taylor,WTAYLOR,650.507.9876,2006', '01', '24,SH_CLERK,3200,,120,50\\n']\n",
      "['181,Jean,Fleaur,JFLEAUR,650.507.9877,2006', '02', '23,SH_CLERK,3100,,120,50\\n']\n",
      "['182,Martha,Sullivan,MSULLIVA,650.507.9878,2007', '06', '21,SH_CLERK,2500,,120,50\\n']\n",
      "['183,Girard,Geoni,GGEONI,650.507.9879,2008', '02', '03,SH_CLERK,2800,,120,50\\n']\n",
      "['184,Nandita,Sarchand,NSARCHAN,650.509.1876,2004', '01', '27,SH_CLERK,4200,,121,50\\n']\n",
      "['185,Alexis,Bull,ABULL,650.509.2876,2005', '02', '20,SH_CLERK,4100,,121,50\\n']\n",
      "['186,Julia,Dellinger,JDELLING,650.509.3876,2006', '06', '24,SH_CLERK,3400,,121,50\\n']\n",
      "['187,Anthony,Cabrio,ACABRIO,650.509.4876,2007', '02', '07,SH_CLERK,3000,,121,50\\n']\n",
      "['188,Kelly,Chung,KCHUNG,650.505.1876,2005', '06', '14,SH_CLERK,3800,,122,50\\n']\n",
      "['189,Jennifer,Dilly,JDILLY,650.505.2876,2005', '08', '13,SH_CLERK,3600,,122,50\\n']\n",
      "['190,Timothy,Gates,TGATES,650.505.3876,2006', '07', '11,SH_CLERK,2900,,122,50\\n']\n",
      "['191,Randall,Perkins,RPERKINS,650.505.4876,2007', '12', '19,SH_CLERK,2500,,122,50\\n']\n",
      "['192,Sarah,Bell,SBELL,650.501.1876,2004', '02', '04,SH_CLERK,4000,,123,50\\n']\n",
      "['193,Britney,Everett,BEVERETT,650.501.2876,2005', '03', '03,SH_CLERK,3900,,123,50\\n']\n",
      "['194,Samuel,McCain,SMCCAIN,650.501.3876,2006', '07', '01,SH_CLERK,3200,,123,50\\n']\n",
      "['195,Vance,Jones,VJONES,650.501.4876,2007', '03', '17,SH_CLERK,2800,,123,50\\n']\n",
      "['196,Alana,Walsh,AWALSH,650.507.9811,2006', '04', '24,SH_CLERK,3100,,124,50\\n']\n",
      "['197,Kevin,Feeney,KFEENEY,650.507.9822,2006', '05', '23,SH_CLERK,3000,,124,50\\n']\n",
      "['198,Donald,OConnell,DOCONNEL,650.507.9833,2007', '06', '21,SH_CLERK,2600,,124,50\\n']\n",
      "['199,Douglas,Grant,DGRANT,650.507.9844,2008', '01', '13,SH_CLERK,2600,,124,50\\n']\n",
      "['200,Jennifer,Whalen,JWHALEN,515.123.4444,2003', '09', '17,AD_ASST,4400,,101,10\\n']\n",
      "['201,Michael,Hartstein,MHARTSTE,515.123.5555,2004', '02', '17,MK_MAN,13000,,100,20\\n']\n",
      "['202,Pat,Fay,PFAY,603.123.6666,2005', '08', '17,MK_REP,6000,,201,20\\n']\n",
      "['203,Susan,Mavris,SMAVRIS,515.123.7777,2002', '06', '07,HR_REP,6500,,101,40\\n']\n",
      "['204,Hermann,Baer,HBAER,515.123.8888,2002', '06', '07,PR_REP,10000,,101,70\\n']\n",
      "['205,Shelley,Higgins,SHIGGINS,515.123.8080,2002', '06', '07,AC_MGR,12008,,101,110\\n']\n",
      "['206,William,Gietz,WGIETZ,515.123.8181,2002', '06', '07,AC_ACCOUNT,8300,,205,110\\n']\n",
      "\n"
     ]
    }
   ],
   "source": [
    "###Employees.csv의 모든 데이터를 딕셔너리형으로 정의\n",
    "with open('EMPLOYEES.csv') as f: #EMPLOYEES.csv 파일을 읽기전용으로 오픈한 후\n",
    "    for lines in f: #한줄씩 읽은 다음\n",
    "        item=lines.split('-') #이 경우 원 데이터에 '-'가 없기 때문에 통째로 묶어 나옴\n",
    "        print(item) #분리된 항목을 각각 출력함   \n",
    "    print()"
   ]
  },
  {
   "cell_type": "code",
   "execution_count": 71,
   "metadata": {},
   "outputs": [
    {
     "name": "stdout",
     "output_type": "stream",
     "text": [
      "{'학번': '20180233', '이름': '홍준표', '생년월일': '1935-04-20', '주소': '서울시 도봉구'}\n",
      "[{'학번': '20180233', '이름': '홍준표', '생년월일': '1935-04-20', '주소': '서울시 도봉구'}, {'학번': '20180233', '이름': '홍준표', '생년월일': '1935-04-20', '주소': '서울시 도봉구'}]\n"
     ]
    }
   ],
   "source": [
    "###학생 데이터 모두를 딕셔너리형으로 정의\n",
    "studlist=[]\n",
    "stud={}\n",
    "\n",
    "stud['학번']='20150233'\n",
    "stud['이름']='김영철'\n",
    "stud['생년월일']='1995-04-20'\n",
    "stud['주소']='성남시 분당구'\n",
    "studlist.append(stud)\n",
    "\n",
    "\n",
    "print(stud)\n",
    "print(studlist)\n",
    "\n"
   ]
  },
  {
   "cell_type": "code",
   "execution_count": null,
   "metadata": {},
   "outputs": [],
   "source": [
    "###Employees.csv의 모든 데이터를 딕셔너리형으로 정의\n",
    "with open('EMPLOYEES.csv') as f: #EMPLOYEES.csv 파일을 읽기전용으로 오픈한 후\n",
    "    for lines in f: #한줄씩 읽은 다음\n",
    "        print(lines) #분리된 항목을 각각 출력함   \n",
    "    print()"
   ]
  },
  {
   "cell_type": "code",
   "execution_count": 49,
   "metadata": {},
   "outputs": [
    {
     "name": "stdout",
     "output_type": "stream",
     "text": [
      "['EMPLOYEE_ID', 'FIRST_NAME', 'LAST_NAME', 'EMAIL', 'PHONE_NUMBER', 'HIRE_DATE', 'JOB_ID', 'SALARY', 'COMMISSION_PCT', 'MANAGER_ID', 'DEPARTMENT_ID\\n']\n",
      "['100', 'Steven', 'King', 'SKING', '515.123.4567', '2003-06-17', 'AD_PRES', '24000', '', '', '90\\n']\n",
      "['101', 'Neena', 'Kochhar', 'NKOCHHAR', '515.123.4568', '2005-09-21', 'AD_VP', '17000', '', '100', '90\\n']\n",
      "['102', 'Lex', 'De Haan', 'LDEHAAN', '515.123.4569', '2001-01-13', 'AD_VP', '17000', '', '100', '90\\n']\n",
      "['103', 'Alexander', 'Hunold', 'AHUNOLD', '590.423.4567', '2006-01-03', 'IT_PROG', '9000', '', '102', '60\\n']\n",
      "['104', 'Bruce', 'Ernst', 'BERNST', '590.423.4568', '2007-05-21', 'IT_PROG', '6000', '', '103', '60\\n']\n",
      "['105', 'David', 'Austin', 'DAUSTIN', '590.423.4569', '2005-06-25', 'IT_PROG', '4800', '', '103', '60\\n']\n",
      "['106', 'Valli', 'Pataballa', 'VPATABAL', '590.423.4560', '2006-02-05', 'IT_PROG', '4800', '', '103', '60\\n']\n",
      "['107', 'Diana', 'Lorentz', 'DLORENTZ', '590.423.5567', '2007-02-07', 'IT_PROG', '4200', '', '103', '60\\n']\n",
      "['108', 'Nancy', 'Greenberg', 'NGREENBE', '515.124.4569', '2002-08-17', 'FI_MGR', '12008', '', '101', '100\\n']\n",
      "['109', 'Daniel', 'Faviet', 'DFAVIET', '515.124.4169', '2002-08-16', 'FI_ACCOUNT', '9000', '', '108', '100\\n']\n",
      "['110', 'John', 'Chen', 'JCHEN', '515.124.4269', '2005-09-28', 'FI_ACCOUNT', '8200', '', '108', '100\\n']\n",
      "['111', 'Ismael', 'Sciarra', 'ISCIARRA', '515.124.4369', '2005-09-30', 'FI_ACCOUNT', '7700', '', '108', '100\\n']\n",
      "['112', 'Jose Manuel', 'Urman', 'JMURMAN', '515.124.4469', '2006-03-07', 'FI_ACCOUNT', '7800', '', '108', '100\\n']\n",
      "['113', 'Luis', 'Popp', 'LPOPP', '515.124.4567', '2007-12-07', 'FI_ACCOUNT', '6900', '', '108', '100\\n']\n",
      "['114', 'Den', 'Raphaely', 'DRAPHEAL', '515.127.4561', '2002-12-07', 'PU_MAN', '11000', '', '100', '30\\n']\n",
      "['115', 'Alexander', 'Khoo', 'AKHOO', '515.127.4562', '2003-05-18', 'PU_CLERK', '3100', '', '114', '30\\n']\n",
      "['116', 'Shelli', 'Baida', 'SBAIDA', '515.127.4563', '2005-12-24', 'PU_CLERK', '2900', '', '114', '30\\n']\n",
      "['117', 'Sigal', 'Tobias', 'STOBIAS', '515.127.4564', '2005-07-24', 'PU_CLERK', '2800', '', '114', '30\\n']\n",
      "['118', 'Guy', 'Himuro', 'GHIMURO', '515.127.4565', '2006-11-15', 'PU_CLERK', '2600', '', '114', '30\\n']\n",
      "['119', 'Karen', 'Colmenares', 'KCOLMENA', '515.127.4566', '2007-08-10', 'PU_CLERK', '2500', '', '114', '30\\n']\n",
      "['120', 'Matthew', 'Weiss', 'MWEISS', '650.123.1234', '2004-07-18', 'ST_MAN', '8000', '', '100', '50\\n']\n",
      "['121', 'Adam', 'Fripp', 'AFRIPP', '650.123.2234', '2005-04-10', 'ST_MAN', '8200', '', '100', '50\\n']\n",
      "['122', 'Payam', 'Kaufling', 'PKAUFLIN', '650.123.3234', '2003-05-01', 'ST_MAN', '7900', '', '100', '50\\n']\n",
      "['123', 'Shanta', 'Vollman', 'SVOLLMAN', '650.123.4234', '2005-10-10', 'ST_MAN', '6500', '', '100', '50\\n']\n",
      "['124', 'Kevin', 'Mourgos', 'KMOURGOS', '650.123.5234', '2007-11-16', 'ST_MAN', '5800', '', '100', '50\\n']\n",
      "['125', 'Julia', 'Nayer', 'JNAYER', '650.124.1214', '2005-07-16', 'ST_CLERK', '3200', '', '120', '50\\n']\n",
      "['126', 'Irene', 'Mikkilineni', 'IMIKKILI', '650.124.1224', '2006-09-28', 'ST_CLERK', '2700', '', '120', '50\\n']\n",
      "['127', 'James', 'Landry', 'JLANDRY', '650.124.1334', '2007-01-14', 'ST_CLERK', '2400', '', '120', '50\\n']\n",
      "['128', 'Steven', 'Markle', 'SMARKLE', '650.124.1434', '2008-03-08', 'ST_CLERK', '2200', '', '120', '50\\n']\n",
      "['129', 'Laura', 'Bissot', 'LBISSOT', '650.124.5234', '2005-08-20', 'ST_CLERK', '3300', '', '121', '50\\n']\n",
      "['130', 'Mozhe', 'Atkinson', 'MATKINSO', '650.124.6234', '2005-10-30', 'ST_CLERK', '2800', '', '121', '50\\n']\n",
      "['131', 'James', 'Marlow', 'JAMRLOW', '650.124.7234', '2005-02-16', 'ST_CLERK', '2500', '', '121', '50\\n']\n",
      "['132', 'TJ', 'Olson', 'TJOLSON', '650.124.8234', '2007-04-10', 'ST_CLERK', '2100', '', '121', '50\\n']\n",
      "['133', 'Jason', 'Mallin', 'JMALLIN', '650.127.1934', '2004-06-14', 'ST_CLERK', '3300', '', '122', '50\\n']\n",
      "['134', 'Michael', 'Rogers', 'MROGERS', '650.127.1834', '2006-08-26', 'ST_CLERK', '2900', '', '122', '50\\n']\n",
      "['135', 'Ki', 'Gee', 'KGEE', '650.127.1734', '2007-12-12', 'ST_CLERK', '2400', '', '122', '50\\n']\n",
      "['136', 'Hazel', 'Philtanker', 'HPHILTAN', '650.127.1634', '2008-02-06', 'ST_CLERK', '2200', '', '122', '50\\n']\n",
      "['137', 'Renske', 'Ladwig', 'RLADWIG', '650.121.1234', '2003-07-14', 'ST_CLERK', '3600', '', '123', '50\\n']\n",
      "['138', 'Stephen', 'Stiles', 'SSTILES', '650.121.2034', '2005-10-26', 'ST_CLERK', '3200', '', '123', '50\\n']\n",
      "['139', 'John', 'Seo', 'JSEO', '650.121.2019', '2006-02-12', 'ST_CLERK', '2700', '', '123', '50\\n']\n",
      "['140', 'Joshua', 'Patel', 'JPATEL', '650.121.1834', '2006-04-06', 'ST_CLERK', '2500', '', '123', '50\\n']\n",
      "['141', 'Trenna', 'Rajs', 'TRAJS', '650.121.8009', '2003-10-17', 'ST_CLERK', '3500', '', '124', '50\\n']\n",
      "['142', 'Curtis', 'Davies', 'CDAVIES', '650.121.2994', '2005-01-29', 'ST_CLERK', '3100', '', '124', '50\\n']\n",
      "['143', 'Randall', 'Matos', 'RMATOS', '650.121.2874', '2006-03-15', 'ST_CLERK', '2600', '', '124', '50\\n']\n",
      "['144', 'Peter', 'Vargas', 'PVARGAS', '650.121.2004', '2006-07-09', 'ST_CLERK', '2500', '', '124', '50\\n']\n",
      "['145', 'John', 'Russell', 'JRUSSEL', '011.44.1344.429268', '2004-10-01', 'SA_MAN', '14000', '0.4', '100', '80\\n']\n",
      "['146', 'Karen', 'Partners', 'KPARTNER', '011.44.1344.467268', '2005-01-05', 'SA_MAN', '13500', '0.3', '100', '80\\n']\n",
      "['147', 'Alberto', 'Errazuriz', 'AERRAZUR', '011.44.1344.429278', '2005-03-10', 'SA_MAN', '12000', '0.3', '100', '80\\n']\n",
      "['148', 'Gerald', 'Cambrault', 'GCAMBRAU', '011.44.1344.619268', '2007-10-15', 'SA_MAN', '11000', '0.3', '100', '80\\n']\n",
      "['149', 'Eleni', 'Zlotkey', 'EZLOTKEY', '011.44.1344.429018', '2008-01-29', 'SA_MAN', '10500', '0.2', '100', '80\\n']\n",
      "['150', 'Peter', 'Tucker', 'PTUCKER', '011.44.1344.129268', '2005-01-30', 'SA_REP', '10000', '0.3', '145', '80\\n']\n",
      "['151', 'David', 'Bernstein', 'DBERNSTE', '011.44.1344.345268', '2005-03-24', 'SA_REP', '9500', '0.25', '145', '80\\n']\n",
      "['152', 'Peter', 'Hall', 'PHALL', '011.44.1344.478968', '2005-08-20', 'SA_REP', '9000', '0.25', '145', '80\\n']\n",
      "['153', 'Christopher', 'Olsen', 'COLSEN', '011.44.1344.498718', '2006-03-30', 'SA_REP', '8000', '0.2', '145', '80\\n']\n",
      "['154', 'Nanette', 'Cambrault', 'NCAMBRAU', '011.44.1344.987668', '2006-12-09', 'SA_REP', '7500', '0.2', '145', '80\\n']\n",
      "['155', 'Oliver', 'Tuvault', 'OTUVAULT', '011.44.1344.486508', '2007-11-23', 'SA_REP', '7000', '0.15', '145', '80\\n']\n",
      "['156', 'Janette', 'King', 'JKING', '011.44.1345.429268', '2004-01-30', 'SA_REP', '10000', '0.35', '146', '80\\n']\n",
      "['157', 'Patrick', 'Sully', 'PSULLY', '011.44.1345.929268', '2004-03-04', 'SA_REP', '9500', '0.35', '146', '80\\n']\n",
      "['158', 'Allan', 'McEwen', 'AMCEWEN', '011.44.1345.829268', '2004-08-01', 'SA_REP', '9000', '0.35', '146', '80\\n']\n",
      "['159', 'Lindsey', 'Smith', 'LSMITH', '011.44.1345.729268', '2005-03-10', 'SA_REP', '8000', '0.3', '146', '80\\n']\n",
      "['160', 'Louise', 'Doran', 'LDORAN', '011.44.1345.629268', '2005-12-15', 'SA_REP', '7500', '0.3', '146', '80\\n']\n",
      "['161', 'Sarath', 'Sewall', 'SSEWALL', '011.44.1345.529268', '2006-11-03', 'SA_REP', '7000', '0.25', '146', '80\\n']\n",
      "['162', 'Clara', 'Vishney', 'CVISHNEY', '011.44.1346.129268', '2005-11-11', 'SA_REP', '10500', '0.25', '147', '80\\n']\n",
      "['163', 'Danielle', 'Greene', 'DGREENE', '011.44.1346.229268', '2007-03-19', 'SA_REP', '9500', '0.15', '147', '80\\n']\n",
      "['164', 'Mattea', 'Marvins', 'MMARVINS', '011.44.1346.329268', '2008-01-24', 'SA_REP', '7200', '0.1', '147', '80\\n']\n",
      "['165', 'David', 'Lee', 'DLEE', '011.44.1346.529268', '2008-02-23', 'SA_REP', '6800', '0.1', '147', '80\\n']\n",
      "['166', 'Sundar', 'Ande', 'SANDE', '011.44.1346.629268', '2008-03-24', 'SA_REP', '6400', '0.1', '147', '80\\n']\n",
      "['167', 'Amit', 'Banda', 'ABANDA', '011.44.1346.729268', '2008-04-21', 'SA_REP', '6200', '0.1', '147', '80\\n']\n",
      "['168', 'Lisa', 'Ozer', 'LOZER', '011.44.1343.929268', '2005-03-11', 'SA_REP', '11500', '0.25', '148', '80\\n']\n",
      "['169', 'Harrison', 'Bloom', 'HBLOOM', '011.44.1343.829268', '2006-03-23', 'SA_REP', '10000', '0.2', '148', '80\\n']\n",
      "['170', 'Tayler', 'Fox', 'TFOX', '011.44.1343.729268', '2006-01-24', 'SA_REP', '9600', '0.2', '148', '80\\n']\n",
      "['171', 'William', 'Smith', 'WSMITH', '011.44.1343.629268', '2007-02-23', 'SA_REP', '7400', '0.15', '148', '80\\n']\n",
      "['172', 'Elizabeth', 'Bates', 'EBATES', '011.44.1343.529268', '2007-03-24', 'SA_REP', '7300', '0.15', '148', '80\\n']\n",
      "['173', 'Sundita', 'Kumar', 'SKUMAR', '011.44.1343.329268', '2008-04-21', 'SA_REP', '6100', '0.1', '148', '80\\n']\n",
      "['174', 'Ellen', 'Abel', 'EABEL', '011.44.1644.429267', '2004-05-11', 'SA_REP', '11000', '0.3', '149', '80\\n']\n",
      "['175', 'Alyssa', 'Hutton', 'AHUTTON', '011.44.1644.429266', '2005-03-19', 'SA_REP', '8800', '0.25', '149', '80\\n']\n",
      "['176', 'Jonathon', 'Taylor', 'JTAYLOR', '011.44.1644.429265', '2006-03-24', 'SA_REP', '8600', '0.2', '149', '80\\n']\n",
      "['177', 'Jack', 'Livingston', 'JLIVINGS', '011.44.1644.429264', '2006-04-23', 'SA_REP', '8400', '0.2', '149', '80\\n']\n",
      "['178', 'Kimberely', 'Grant', 'KGRANT', '011.44.1644.429263', '2007-05-24', 'SA_REP', '7000', '0.15', '149', '\\n']\n",
      "['179', 'Charles', 'Johnson', 'CJOHNSON', '011.44.1644.429262', '2008-01-04', 'SA_REP', '6200', '0.1', '149', '80\\n']\n",
      "['180', 'Winston', 'Taylor', 'WTAYLOR', '650.507.9876', '2006-01-24', 'SH_CLERK', '3200', '', '120', '50\\n']\n",
      "['181', 'Jean', 'Fleaur', 'JFLEAUR', '650.507.9877', '2006-02-23', 'SH_CLERK', '3100', '', '120', '50\\n']\n",
      "['182', 'Martha', 'Sullivan', 'MSULLIVA', '650.507.9878', '2007-06-21', 'SH_CLERK', '2500', '', '120', '50\\n']\n",
      "['183', 'Girard', 'Geoni', 'GGEONI', '650.507.9879', '2008-02-03', 'SH_CLERK', '2800', '', '120', '50\\n']\n",
      "['184', 'Nandita', 'Sarchand', 'NSARCHAN', '650.509.1876', '2004-01-27', 'SH_CLERK', '4200', '', '121', '50\\n']\n",
      "['185', 'Alexis', 'Bull', 'ABULL', '650.509.2876', '2005-02-20', 'SH_CLERK', '4100', '', '121', '50\\n']\n",
      "['186', 'Julia', 'Dellinger', 'JDELLING', '650.509.3876', '2006-06-24', 'SH_CLERK', '3400', '', '121', '50\\n']\n",
      "['187', 'Anthony', 'Cabrio', 'ACABRIO', '650.509.4876', '2007-02-07', 'SH_CLERK', '3000', '', '121', '50\\n']\n",
      "['188', 'Kelly', 'Chung', 'KCHUNG', '650.505.1876', '2005-06-14', 'SH_CLERK', '3800', '', '122', '50\\n']\n",
      "['189', 'Jennifer', 'Dilly', 'JDILLY', '650.505.2876', '2005-08-13', 'SH_CLERK', '3600', '', '122', '50\\n']\n",
      "['190', 'Timothy', 'Gates', 'TGATES', '650.505.3876', '2006-07-11', 'SH_CLERK', '2900', '', '122', '50\\n']\n",
      "['191', 'Randall', 'Perkins', 'RPERKINS', '650.505.4876', '2007-12-19', 'SH_CLERK', '2500', '', '122', '50\\n']\n",
      "['192', 'Sarah', 'Bell', 'SBELL', '650.501.1876', '2004-02-04', 'SH_CLERK', '4000', '', '123', '50\\n']\n",
      "['193', 'Britney', 'Everett', 'BEVERETT', '650.501.2876', '2005-03-03', 'SH_CLERK', '3900', '', '123', '50\\n']\n",
      "['194', 'Samuel', 'McCain', 'SMCCAIN', '650.501.3876', '2006-07-01', 'SH_CLERK', '3200', '', '123', '50\\n']\n",
      "['195', 'Vance', 'Jones', 'VJONES', '650.501.4876', '2007-03-17', 'SH_CLERK', '2800', '', '123', '50\\n']\n",
      "['196', 'Alana', 'Walsh', 'AWALSH', '650.507.9811', '2006-04-24', 'SH_CLERK', '3100', '', '124', '50\\n']\n",
      "['197', 'Kevin', 'Feeney', 'KFEENEY', '650.507.9822', '2006-05-23', 'SH_CLERK', '3000', '', '124', '50\\n']\n",
      "['198', 'Donald', 'OConnell', 'DOCONNEL', '650.507.9833', '2007-06-21', 'SH_CLERK', '2600', '', '124', '50\\n']\n",
      "['199', 'Douglas', 'Grant', 'DGRANT', '650.507.9844', '2008-01-13', 'SH_CLERK', '2600', '', '124', '50\\n']\n",
      "['200', 'Jennifer', 'Whalen', 'JWHALEN', '515.123.4444', '2003-09-17', 'AD_ASST', '4400', '', '101', '10\\n']\n",
      "['201', 'Michael', 'Hartstein', 'MHARTSTE', '515.123.5555', '2004-02-17', 'MK_MAN', '13000', '', '100', '20\\n']\n",
      "['202', 'Pat', 'Fay', 'PFAY', '603.123.6666', '2005-08-17', 'MK_REP', '6000', '', '201', '20\\n']\n",
      "['203', 'Susan', 'Mavris', 'SMAVRIS', '515.123.7777', '2002-06-07', 'HR_REP', '6500', '', '101', '40\\n']\n",
      "['204', 'Hermann', 'Baer', 'HBAER', '515.123.8888', '2002-06-07', 'PR_REP', '10000', '', '101', '70\\n']\n",
      "['205', 'Shelley', 'Higgins', 'SHIGGINS', '515.123.8080', '2002-06-07', 'AC_MGR', '12008', '', '101', '110\\n']\n",
      "['206', 'William', 'Gietz', 'WGIETZ', '515.123.8181', '2002-06-07', 'AC_ACCOUNT', '8300', '', '205', '110\\n']\n",
      "\n"
     ]
    }
   ],
   "source": [
    "###Employees.csv의 모든 데이터를 딕셔너리형으로 정의\n",
    "with open('EMPLOYEES.csv') as f: #EMPLOYEES.csv 파일을 읽기전용으로 오픈한 후\n",
    "    for lines in f: #한줄씩 읽은 다음\n",
    "        item=lines.split(',') #, 단위로 분리 <- 즉 원 데이터에 , <- 이거 컴마 있으면 무조건 나눈다 이거임\n",
    "        print(item) #분리된 항목을 각각 출력함   \n",
    "    print()\n",
    "#하기 출력 결과물에 보이는 컴마와 위 split 옆 컴마와는 아무 관계 없음"
   ]
  },
  {
   "cell_type": "code",
   "execution_count": 77,
   "metadata": {},
   "outputs": [
    {
     "name": "stdout",
     "output_type": "stream",
     "text": [
      "\n",
      "[{'emp_d': 'EMPLOYEE_ID', 'fname': 'FIRST_NAME', 'lname': 'LAST_NAME'}, {'emp_d': '100', 'fname': 'Steven', 'lname': 'King'}, {'emp_d': '101', 'fname': 'Neena', 'lname': 'Kochhar'}, {'emp_d': '102', 'fname': 'Lex', 'lname': 'De Haan'}, {'emp_d': '103', 'fname': 'Alexander', 'lname': 'Hunold'}, {'emp_d': '104', 'fname': 'Bruce', 'lname': 'Ernst'}, {'emp_d': '105', 'fname': 'David', 'lname': 'Austin'}, {'emp_d': '106', 'fname': 'Valli', 'lname': 'Pataballa'}, {'emp_d': '107', 'fname': 'Diana', 'lname': 'Lorentz'}, {'emp_d': '108', 'fname': 'Nancy', 'lname': 'Greenberg'}, {'emp_d': '109', 'fname': 'Daniel', 'lname': 'Faviet'}, {'emp_d': '110', 'fname': 'John', 'lname': 'Chen'}, {'emp_d': '111', 'fname': 'Ismael', 'lname': 'Sciarra'}, {'emp_d': '112', 'fname': 'Jose Manuel', 'lname': 'Urman'}, {'emp_d': '113', 'fname': 'Luis', 'lname': 'Popp'}, {'emp_d': '114', 'fname': 'Den', 'lname': 'Raphaely'}, {'emp_d': '115', 'fname': 'Alexander', 'lname': 'Khoo'}, {'emp_d': '116', 'fname': 'Shelli', 'lname': 'Baida'}, {'emp_d': '117', 'fname': 'Sigal', 'lname': 'Tobias'}, {'emp_d': '118', 'fname': 'Guy', 'lname': 'Himuro'}, {'emp_d': '119', 'fname': 'Karen', 'lname': 'Colmenares'}, {'emp_d': '120', 'fname': 'Matthew', 'lname': 'Weiss'}, {'emp_d': '121', 'fname': 'Adam', 'lname': 'Fripp'}, {'emp_d': '122', 'fname': 'Payam', 'lname': 'Kaufling'}, {'emp_d': '123', 'fname': 'Shanta', 'lname': 'Vollman'}, {'emp_d': '124', 'fname': 'Kevin', 'lname': 'Mourgos'}, {'emp_d': '125', 'fname': 'Julia', 'lname': 'Nayer'}, {'emp_d': '126', 'fname': 'Irene', 'lname': 'Mikkilineni'}, {'emp_d': '127', 'fname': 'James', 'lname': 'Landry'}, {'emp_d': '128', 'fname': 'Steven', 'lname': 'Markle'}, {'emp_d': '129', 'fname': 'Laura', 'lname': 'Bissot'}, {'emp_d': '130', 'fname': 'Mozhe', 'lname': 'Atkinson'}, {'emp_d': '131', 'fname': 'James', 'lname': 'Marlow'}, {'emp_d': '132', 'fname': 'TJ', 'lname': 'Olson'}, {'emp_d': '133', 'fname': 'Jason', 'lname': 'Mallin'}, {'emp_d': '134', 'fname': 'Michael', 'lname': 'Rogers'}, {'emp_d': '135', 'fname': 'Ki', 'lname': 'Gee'}, {'emp_d': '136', 'fname': 'Hazel', 'lname': 'Philtanker'}, {'emp_d': '137', 'fname': 'Renske', 'lname': 'Ladwig'}, {'emp_d': '138', 'fname': 'Stephen', 'lname': 'Stiles'}, {'emp_d': '139', 'fname': 'John', 'lname': 'Seo'}, {'emp_d': '140', 'fname': 'Joshua', 'lname': 'Patel'}, {'emp_d': '141', 'fname': 'Trenna', 'lname': 'Rajs'}, {'emp_d': '142', 'fname': 'Curtis', 'lname': 'Davies'}, {'emp_d': '143', 'fname': 'Randall', 'lname': 'Matos'}, {'emp_d': '144', 'fname': 'Peter', 'lname': 'Vargas'}, {'emp_d': '145', 'fname': 'John', 'lname': 'Russell'}, {'emp_d': '146', 'fname': 'Karen', 'lname': 'Partners'}, {'emp_d': '147', 'fname': 'Alberto', 'lname': 'Errazuriz'}, {'emp_d': '148', 'fname': 'Gerald', 'lname': 'Cambrault'}, {'emp_d': '149', 'fname': 'Eleni', 'lname': 'Zlotkey'}, {'emp_d': '150', 'fname': 'Peter', 'lname': 'Tucker'}, {'emp_d': '151', 'fname': 'David', 'lname': 'Bernstein'}, {'emp_d': '152', 'fname': 'Peter', 'lname': 'Hall'}, {'emp_d': '153', 'fname': 'Christopher', 'lname': 'Olsen'}, {'emp_d': '154', 'fname': 'Nanette', 'lname': 'Cambrault'}, {'emp_d': '155', 'fname': 'Oliver', 'lname': 'Tuvault'}, {'emp_d': '156', 'fname': 'Janette', 'lname': 'King'}, {'emp_d': '157', 'fname': 'Patrick', 'lname': 'Sully'}, {'emp_d': '158', 'fname': 'Allan', 'lname': 'McEwen'}, {'emp_d': '159', 'fname': 'Lindsey', 'lname': 'Smith'}, {'emp_d': '160', 'fname': 'Louise', 'lname': 'Doran'}, {'emp_d': '161', 'fname': 'Sarath', 'lname': 'Sewall'}, {'emp_d': '162', 'fname': 'Clara', 'lname': 'Vishney'}, {'emp_d': '163', 'fname': 'Danielle', 'lname': 'Greene'}, {'emp_d': '164', 'fname': 'Mattea', 'lname': 'Marvins'}, {'emp_d': '165', 'fname': 'David', 'lname': 'Lee'}, {'emp_d': '166', 'fname': 'Sundar', 'lname': 'Ande'}, {'emp_d': '167', 'fname': 'Amit', 'lname': 'Banda'}, {'emp_d': '168', 'fname': 'Lisa', 'lname': 'Ozer'}, {'emp_d': '169', 'fname': 'Harrison', 'lname': 'Bloom'}, {'emp_d': '170', 'fname': 'Tayler', 'lname': 'Fox'}, {'emp_d': '171', 'fname': 'William', 'lname': 'Smith'}, {'emp_d': '172', 'fname': 'Elizabeth', 'lname': 'Bates'}, {'emp_d': '173', 'fname': 'Sundita', 'lname': 'Kumar'}, {'emp_d': '174', 'fname': 'Ellen', 'lname': 'Abel'}, {'emp_d': '175', 'fname': 'Alyssa', 'lname': 'Hutton'}, {'emp_d': '176', 'fname': 'Jonathon', 'lname': 'Taylor'}, {'emp_d': '177', 'fname': 'Jack', 'lname': 'Livingston'}, {'emp_d': '178', 'fname': 'Kimberely', 'lname': 'Grant'}, {'emp_d': '179', 'fname': 'Charles', 'lname': 'Johnson'}, {'emp_d': '180', 'fname': 'Winston', 'lname': 'Taylor'}, {'emp_d': '181', 'fname': 'Jean', 'lname': 'Fleaur'}, {'emp_d': '182', 'fname': 'Martha', 'lname': 'Sullivan'}, {'emp_d': '183', 'fname': 'Girard', 'lname': 'Geoni'}, {'emp_d': '184', 'fname': 'Nandita', 'lname': 'Sarchand'}, {'emp_d': '185', 'fname': 'Alexis', 'lname': 'Bull'}, {'emp_d': '186', 'fname': 'Julia', 'lname': 'Dellinger'}, {'emp_d': '187', 'fname': 'Anthony', 'lname': 'Cabrio'}, {'emp_d': '188', 'fname': 'Kelly', 'lname': 'Chung'}, {'emp_d': '189', 'fname': 'Jennifer', 'lname': 'Dilly'}, {'emp_d': '190', 'fname': 'Timothy', 'lname': 'Gates'}, {'emp_d': '191', 'fname': 'Randall', 'lname': 'Perkins'}, {'emp_d': '192', 'fname': 'Sarah', 'lname': 'Bell'}, {'emp_d': '193', 'fname': 'Britney', 'lname': 'Everett'}, {'emp_d': '194', 'fname': 'Samuel', 'lname': 'McCain'}, {'emp_d': '195', 'fname': 'Vance', 'lname': 'Jones'}, {'emp_d': '196', 'fname': 'Alana', 'lname': 'Walsh'}, {'emp_d': '197', 'fname': 'Kevin', 'lname': 'Feeney'}, {'emp_d': '198', 'fname': 'Donald', 'lname': 'OConnell'}, {'emp_d': '199', 'fname': 'Douglas', 'lname': 'Grant'}, {'emp_d': '200', 'fname': 'Jennifer', 'lname': 'Whalen'}, {'emp_d': '201', 'fname': 'Michael', 'lname': 'Hartstein'}, {'emp_d': '202', 'fname': 'Pat', 'lname': 'Fay'}, {'emp_d': '203', 'fname': 'Susan', 'lname': 'Mavris'}, {'emp_d': '204', 'fname': 'Hermann', 'lname': 'Baer'}, {'emp_d': '205', 'fname': 'Shelley', 'lname': 'Higgins'}, {'emp_d': '206', 'fname': 'William', 'lname': 'Gietz'}]\n"
     ]
    }
   ],
   "source": [
    "###Employees.csv의 모든 데이터를 딕셔너리형으로 정의\n",
    "emplist=[]\n",
    "\n",
    "with open('EMPLOYEES.csv') as f: #EMPLOYEES.csv 파일을 읽기전용으로 오픈한 후\n",
    "    for lines in f: #한줄씩 읽은 다음\n",
    "        item=lines.split(',')\n",
    "        emp={} #이렇게 안에다 써서 지역변수화 시켜야 함 (위 emplist=[] 밑에 쓰면 안됨!!)\n",
    "        emp['emp_d']=item[0]\n",
    "        emp['fname']=item[1]\n",
    "        emp['lname']=item[2]\n",
    "        emplist.append(emp)\n",
    "    print()\n",
    "print(emplist)"
   ]
  },
  {
   "cell_type": "code",
   "execution_count": 113,
   "metadata": {},
   "outputs": [
    {
     "name": "stdout",
     "output_type": "stream",
     "text": [
      "{'BOOKID': '1', 'BOOKNAME': '축구의 역사', 'PUBLISHER': '굿스포츠', 'PRICE': '7000'}\n",
      "139712001101400 139712001103816\n",
      "[{'BOOKID': '1', 'BOOKNAME': '축구의 역사', 'PUBLISHER': '굿스포츠', 'PRICE': '7000'}]\n",
      "\n",
      "{'BOOKID': '2', 'BOOKNAME': '축구아는 여자', 'PUBLISHER': '나무수', 'PRICE': '13000'}\n",
      "139712001101544 139712001103752\n",
      "[{'BOOKID': '2', 'BOOKNAME': '축구아는 여자', 'PUBLISHER': '나무수', 'PRICE': '13000'}]\n",
      "\n",
      "{'BOOKID': '3', 'BOOKNAME': '축구의 이해', 'PUBLISHER': '대한미디어', 'PRICE': '22000'}\n",
      "139712001549224 139712001103688\n",
      "[{'BOOKID': '3', 'BOOKNAME': '축구의 이해', 'PUBLISHER': '대한미디어', 'PRICE': '22000'}]\n"
     ]
    }
   ],
   "source": [
    "###Books테이블의 모든 데이터를 딕셔너리형으로 정의\n",
    "Books=[]\n",
    "Book={}\n",
    "Book['BOOKID']='1'\n",
    "Book['BOOKNAME']='축구의 역사'\n",
    "Book['PUBLISHER']='굿스포츠'\n",
    "Book['PRICE']='7000'\n",
    "print(Book)\n",
    "print(id(Book),id(Books))\n",
    "Books.append(Book)\n",
    "print(Books)\n",
    "print()\n",
    "Books=[]\n",
    "Book={}\n",
    "Book['BOOKID']='2'\n",
    "Book['BOOKNAME']='축구아는 여자'\n",
    "Book['PUBLISHER']='나무수'\n",
    "Book['PRICE']='13000'\n",
    "print(Book)\n",
    "print(id(Book),id(Books))\n",
    "Books.append(Book)\n",
    "print(Books)\n",
    "print()\n",
    "Books=[]\n",
    "Book={}\n",
    "Book['BOOKID']='3'\n",
    "Book['BOOKNAME']='축구의 이해'\n",
    "Book['PUBLISHER']='대한미디어'\n",
    "Book['PRICE']='22000'\n",
    "print(Book)\n",
    "print(id(Book),id(Books))\n",
    "Books.append(Book)\n",
    "print(Books)"
   ]
  },
  {
   "cell_type": "code",
   "execution_count": 157,
   "metadata": {},
   "outputs": [
    {
     "name": "stdout",
     "output_type": "stream",
     "text": [
      "[{'empid': 'EMPLOYEE_ID', 'fname': 'FIRST_NAME', 'lname': 'LAST_NAME', 'email': 'EMAIL', 'phone': 'PHONE_NUMBER', 'hdate': 'HIRE_DATE', 'jobid': 'JOB_ID', 'sal': 'SALARY', 'comm': 'COMMISSION_PCT', 'mgrid': 'MANAGER_ID', 'deptid': 'DEPARTMENT_ID\\n'}, {'empid': '100', 'fname': 'Steven', 'lname': 'King', 'email': 'SKING', 'phone': '515.123.4567', 'hdate': '2003-06-17', 'jobid': 'AD_PRES', 'sal': '24000', 'comm': '', 'mgrid': '', 'deptid': '90\\n'}, {'empid': '101', 'fname': 'Neena', 'lname': 'Kochhar', 'email': 'NKOCHHAR', 'phone': '515.123.4568', 'hdate': '2005-09-21', 'jobid': 'AD_VP', 'sal': '17000', 'comm': '', 'mgrid': '100', 'deptid': '90\\n'}, {'empid': '102', 'fname': 'Lex', 'lname': 'De Haan', 'email': 'LDEHAAN', 'phone': '515.123.4569', 'hdate': '2001-01-13', 'jobid': 'AD_VP', 'sal': '17000', 'comm': '', 'mgrid': '100', 'deptid': '90\\n'}, {'empid': '103', 'fname': 'Alexander', 'lname': 'Hunold', 'email': 'AHUNOLD', 'phone': '590.423.4567', 'hdate': '2006-01-03', 'jobid': 'IT_PROG', 'sal': '9000', 'comm': '', 'mgrid': '102', 'deptid': '60\\n'}, {'empid': '104', 'fname': 'Bruce', 'lname': 'Ernst', 'email': 'BERNST', 'phone': '590.423.4568', 'hdate': '2007-05-21', 'jobid': 'IT_PROG', 'sal': '6000', 'comm': '', 'mgrid': '103', 'deptid': '60\\n'}, {'empid': '105', 'fname': 'David', 'lname': 'Austin', 'email': 'DAUSTIN', 'phone': '590.423.4569', 'hdate': '2005-06-25', 'jobid': 'IT_PROG', 'sal': '4800', 'comm': '', 'mgrid': '103', 'deptid': '60\\n'}, {'empid': '106', 'fname': 'Valli', 'lname': 'Pataballa', 'email': 'VPATABAL', 'phone': '590.423.4560', 'hdate': '2006-02-05', 'jobid': 'IT_PROG', 'sal': '4800', 'comm': '', 'mgrid': '103', 'deptid': '60\\n'}, {'empid': '107', 'fname': 'Diana', 'lname': 'Lorentz', 'email': 'DLORENTZ', 'phone': '590.423.5567', 'hdate': '2007-02-07', 'jobid': 'IT_PROG', 'sal': '4200', 'comm': '', 'mgrid': '103', 'deptid': '60\\n'}, {'empid': '108', 'fname': 'Nancy', 'lname': 'Greenberg', 'email': 'NGREENBE', 'phone': '515.124.4569', 'hdate': '2002-08-17', 'jobid': 'FI_MGR', 'sal': '12008', 'comm': '', 'mgrid': '101', 'deptid': '100\\n'}, {'empid': '109', 'fname': 'Daniel', 'lname': 'Faviet', 'email': 'DFAVIET', 'phone': '515.124.4169', 'hdate': '2002-08-16', 'jobid': 'FI_ACCOUNT', 'sal': '9000', 'comm': '', 'mgrid': '108', 'deptid': '100\\n'}, {'empid': '110', 'fname': 'John', 'lname': 'Chen', 'email': 'JCHEN', 'phone': '515.124.4269', 'hdate': '2005-09-28', 'jobid': 'FI_ACCOUNT', 'sal': '8200', 'comm': '', 'mgrid': '108', 'deptid': '100\\n'}, {'empid': '111', 'fname': 'Ismael', 'lname': 'Sciarra', 'email': 'ISCIARRA', 'phone': '515.124.4369', 'hdate': '2005-09-30', 'jobid': 'FI_ACCOUNT', 'sal': '7700', 'comm': '', 'mgrid': '108', 'deptid': '100\\n'}, {'empid': '112', 'fname': 'Jose Manuel', 'lname': 'Urman', 'email': 'JMURMAN', 'phone': '515.124.4469', 'hdate': '2006-03-07', 'jobid': 'FI_ACCOUNT', 'sal': '7800', 'comm': '', 'mgrid': '108', 'deptid': '100\\n'}, {'empid': '113', 'fname': 'Luis', 'lname': 'Popp', 'email': 'LPOPP', 'phone': '515.124.4567', 'hdate': '2007-12-07', 'jobid': 'FI_ACCOUNT', 'sal': '6900', 'comm': '', 'mgrid': '108', 'deptid': '100\\n'}, {'empid': '114', 'fname': 'Den', 'lname': 'Raphaely', 'email': 'DRAPHEAL', 'phone': '515.127.4561', 'hdate': '2002-12-07', 'jobid': 'PU_MAN', 'sal': '11000', 'comm': '', 'mgrid': '100', 'deptid': '30\\n'}, {'empid': '115', 'fname': 'Alexander', 'lname': 'Khoo', 'email': 'AKHOO', 'phone': '515.127.4562', 'hdate': '2003-05-18', 'jobid': 'PU_CLERK', 'sal': '3100', 'comm': '', 'mgrid': '114', 'deptid': '30\\n'}, {'empid': '116', 'fname': 'Shelli', 'lname': 'Baida', 'email': 'SBAIDA', 'phone': '515.127.4563', 'hdate': '2005-12-24', 'jobid': 'PU_CLERK', 'sal': '2900', 'comm': '', 'mgrid': '114', 'deptid': '30\\n'}, {'empid': '117', 'fname': 'Sigal', 'lname': 'Tobias', 'email': 'STOBIAS', 'phone': '515.127.4564', 'hdate': '2005-07-24', 'jobid': 'PU_CLERK', 'sal': '2800', 'comm': '', 'mgrid': '114', 'deptid': '30\\n'}, {'empid': '118', 'fname': 'Guy', 'lname': 'Himuro', 'email': 'GHIMURO', 'phone': '515.127.4565', 'hdate': '2006-11-15', 'jobid': 'PU_CLERK', 'sal': '2600', 'comm': '', 'mgrid': '114', 'deptid': '30\\n'}, {'empid': '119', 'fname': 'Karen', 'lname': 'Colmenares', 'email': 'KCOLMENA', 'phone': '515.127.4566', 'hdate': '2007-08-10', 'jobid': 'PU_CLERK', 'sal': '2500', 'comm': '', 'mgrid': '114', 'deptid': '30\\n'}, {'empid': '120', 'fname': 'Matthew', 'lname': 'Weiss', 'email': 'MWEISS', 'phone': '650.123.1234', 'hdate': '2004-07-18', 'jobid': 'ST_MAN', 'sal': '8000', 'comm': '', 'mgrid': '100', 'deptid': '50\\n'}, {'empid': '121', 'fname': 'Adam', 'lname': 'Fripp', 'email': 'AFRIPP', 'phone': '650.123.2234', 'hdate': '2005-04-10', 'jobid': 'ST_MAN', 'sal': '8200', 'comm': '', 'mgrid': '100', 'deptid': '50\\n'}, {'empid': '122', 'fname': 'Payam', 'lname': 'Kaufling', 'email': 'PKAUFLIN', 'phone': '650.123.3234', 'hdate': '2003-05-01', 'jobid': 'ST_MAN', 'sal': '7900', 'comm': '', 'mgrid': '100', 'deptid': '50\\n'}, {'empid': '123', 'fname': 'Shanta', 'lname': 'Vollman', 'email': 'SVOLLMAN', 'phone': '650.123.4234', 'hdate': '2005-10-10', 'jobid': 'ST_MAN', 'sal': '6500', 'comm': '', 'mgrid': '100', 'deptid': '50\\n'}, {'empid': '124', 'fname': 'Kevin', 'lname': 'Mourgos', 'email': 'KMOURGOS', 'phone': '650.123.5234', 'hdate': '2007-11-16', 'jobid': 'ST_MAN', 'sal': '5800', 'comm': '', 'mgrid': '100', 'deptid': '50\\n'}, {'empid': '125', 'fname': 'Julia', 'lname': 'Nayer', 'email': 'JNAYER', 'phone': '650.124.1214', 'hdate': '2005-07-16', 'jobid': 'ST_CLERK', 'sal': '3200', 'comm': '', 'mgrid': '120', 'deptid': '50\\n'}, {'empid': '126', 'fname': 'Irene', 'lname': 'Mikkilineni', 'email': 'IMIKKILI', 'phone': '650.124.1224', 'hdate': '2006-09-28', 'jobid': 'ST_CLERK', 'sal': '2700', 'comm': '', 'mgrid': '120', 'deptid': '50\\n'}, {'empid': '127', 'fname': 'James', 'lname': 'Landry', 'email': 'JLANDRY', 'phone': '650.124.1334', 'hdate': '2007-01-14', 'jobid': 'ST_CLERK', 'sal': '2400', 'comm': '', 'mgrid': '120', 'deptid': '50\\n'}, {'empid': '128', 'fname': 'Steven', 'lname': 'Markle', 'email': 'SMARKLE', 'phone': '650.124.1434', 'hdate': '2008-03-08', 'jobid': 'ST_CLERK', 'sal': '2200', 'comm': '', 'mgrid': '120', 'deptid': '50\\n'}, {'empid': '129', 'fname': 'Laura', 'lname': 'Bissot', 'email': 'LBISSOT', 'phone': '650.124.5234', 'hdate': '2005-08-20', 'jobid': 'ST_CLERK', 'sal': '3300', 'comm': '', 'mgrid': '121', 'deptid': '50\\n'}, {'empid': '130', 'fname': 'Mozhe', 'lname': 'Atkinson', 'email': 'MATKINSO', 'phone': '650.124.6234', 'hdate': '2005-10-30', 'jobid': 'ST_CLERK', 'sal': '2800', 'comm': '', 'mgrid': '121', 'deptid': '50\\n'}, {'empid': '131', 'fname': 'James', 'lname': 'Marlow', 'email': 'JAMRLOW', 'phone': '650.124.7234', 'hdate': '2005-02-16', 'jobid': 'ST_CLERK', 'sal': '2500', 'comm': '', 'mgrid': '121', 'deptid': '50\\n'}, {'empid': '132', 'fname': 'TJ', 'lname': 'Olson', 'email': 'TJOLSON', 'phone': '650.124.8234', 'hdate': '2007-04-10', 'jobid': 'ST_CLERK', 'sal': '2100', 'comm': '', 'mgrid': '121', 'deptid': '50\\n'}, {'empid': '133', 'fname': 'Jason', 'lname': 'Mallin', 'email': 'JMALLIN', 'phone': '650.127.1934', 'hdate': '2004-06-14', 'jobid': 'ST_CLERK', 'sal': '3300', 'comm': '', 'mgrid': '122', 'deptid': '50\\n'}, {'empid': '134', 'fname': 'Michael', 'lname': 'Rogers', 'email': 'MROGERS', 'phone': '650.127.1834', 'hdate': '2006-08-26', 'jobid': 'ST_CLERK', 'sal': '2900', 'comm': '', 'mgrid': '122', 'deptid': '50\\n'}, {'empid': '135', 'fname': 'Ki', 'lname': 'Gee', 'email': 'KGEE', 'phone': '650.127.1734', 'hdate': '2007-12-12', 'jobid': 'ST_CLERK', 'sal': '2400', 'comm': '', 'mgrid': '122', 'deptid': '50\\n'}, {'empid': '136', 'fname': 'Hazel', 'lname': 'Philtanker', 'email': 'HPHILTAN', 'phone': '650.127.1634', 'hdate': '2008-02-06', 'jobid': 'ST_CLERK', 'sal': '2200', 'comm': '', 'mgrid': '122', 'deptid': '50\\n'}, {'empid': '137', 'fname': 'Renske', 'lname': 'Ladwig', 'email': 'RLADWIG', 'phone': '650.121.1234', 'hdate': '2003-07-14', 'jobid': 'ST_CLERK', 'sal': '3600', 'comm': '', 'mgrid': '123', 'deptid': '50\\n'}, {'empid': '138', 'fname': 'Stephen', 'lname': 'Stiles', 'email': 'SSTILES', 'phone': '650.121.2034', 'hdate': '2005-10-26', 'jobid': 'ST_CLERK', 'sal': '3200', 'comm': '', 'mgrid': '123', 'deptid': '50\\n'}, {'empid': '139', 'fname': 'John', 'lname': 'Seo', 'email': 'JSEO', 'phone': '650.121.2019', 'hdate': '2006-02-12', 'jobid': 'ST_CLERK', 'sal': '2700', 'comm': '', 'mgrid': '123', 'deptid': '50\\n'}, {'empid': '140', 'fname': 'Joshua', 'lname': 'Patel', 'email': 'JPATEL', 'phone': '650.121.1834', 'hdate': '2006-04-06', 'jobid': 'ST_CLERK', 'sal': '2500', 'comm': '', 'mgrid': '123', 'deptid': '50\\n'}, {'empid': '141', 'fname': 'Trenna', 'lname': 'Rajs', 'email': 'TRAJS', 'phone': '650.121.8009', 'hdate': '2003-10-17', 'jobid': 'ST_CLERK', 'sal': '3500', 'comm': '', 'mgrid': '124', 'deptid': '50\\n'}, {'empid': '142', 'fname': 'Curtis', 'lname': 'Davies', 'email': 'CDAVIES', 'phone': '650.121.2994', 'hdate': '2005-01-29', 'jobid': 'ST_CLERK', 'sal': '3100', 'comm': '', 'mgrid': '124', 'deptid': '50\\n'}, {'empid': '143', 'fname': 'Randall', 'lname': 'Matos', 'email': 'RMATOS', 'phone': '650.121.2874', 'hdate': '2006-03-15', 'jobid': 'ST_CLERK', 'sal': '2600', 'comm': '', 'mgrid': '124', 'deptid': '50\\n'}, {'empid': '144', 'fname': 'Peter', 'lname': 'Vargas', 'email': 'PVARGAS', 'phone': '650.121.2004', 'hdate': '2006-07-09', 'jobid': 'ST_CLERK', 'sal': '2500', 'comm': '', 'mgrid': '124', 'deptid': '50\\n'}, {'empid': '145', 'fname': 'John', 'lname': 'Russell', 'email': 'JRUSSEL', 'phone': '011.44.1344.429268', 'hdate': '2004-10-01', 'jobid': 'SA_MAN', 'sal': '14000', 'comm': '0.4', 'mgrid': '100', 'deptid': '80\\n'}, {'empid': '146', 'fname': 'Karen', 'lname': 'Partners', 'email': 'KPARTNER', 'phone': '011.44.1344.467268', 'hdate': '2005-01-05', 'jobid': 'SA_MAN', 'sal': '13500', 'comm': '0.3', 'mgrid': '100', 'deptid': '80\\n'}, {'empid': '147', 'fname': 'Alberto', 'lname': 'Errazuriz', 'email': 'AERRAZUR', 'phone': '011.44.1344.429278', 'hdate': '2005-03-10', 'jobid': 'SA_MAN', 'sal': '12000', 'comm': '0.3', 'mgrid': '100', 'deptid': '80\\n'}, {'empid': '148', 'fname': 'Gerald', 'lname': 'Cambrault', 'email': 'GCAMBRAU', 'phone': '011.44.1344.619268', 'hdate': '2007-10-15', 'jobid': 'SA_MAN', 'sal': '11000', 'comm': '0.3', 'mgrid': '100', 'deptid': '80\\n'}, {'empid': '149', 'fname': 'Eleni', 'lname': 'Zlotkey', 'email': 'EZLOTKEY', 'phone': '011.44.1344.429018', 'hdate': '2008-01-29', 'jobid': 'SA_MAN', 'sal': '10500', 'comm': '0.2', 'mgrid': '100', 'deptid': '80\\n'}, {'empid': '150', 'fname': 'Peter', 'lname': 'Tucker', 'email': 'PTUCKER', 'phone': '011.44.1344.129268', 'hdate': '2005-01-30', 'jobid': 'SA_REP', 'sal': '10000', 'comm': '0.3', 'mgrid': '145', 'deptid': '80\\n'}, {'empid': '151', 'fname': 'David', 'lname': 'Bernstein', 'email': 'DBERNSTE', 'phone': '011.44.1344.345268', 'hdate': '2005-03-24', 'jobid': 'SA_REP', 'sal': '9500', 'comm': '0.25', 'mgrid': '145', 'deptid': '80\\n'}, {'empid': '152', 'fname': 'Peter', 'lname': 'Hall', 'email': 'PHALL', 'phone': '011.44.1344.478968', 'hdate': '2005-08-20', 'jobid': 'SA_REP', 'sal': '9000', 'comm': '0.25', 'mgrid': '145', 'deptid': '80\\n'}, {'empid': '153', 'fname': 'Christopher', 'lname': 'Olsen', 'email': 'COLSEN', 'phone': '011.44.1344.498718', 'hdate': '2006-03-30', 'jobid': 'SA_REP', 'sal': '8000', 'comm': '0.2', 'mgrid': '145', 'deptid': '80\\n'}, {'empid': '154', 'fname': 'Nanette', 'lname': 'Cambrault', 'email': 'NCAMBRAU', 'phone': '011.44.1344.987668', 'hdate': '2006-12-09', 'jobid': 'SA_REP', 'sal': '7500', 'comm': '0.2', 'mgrid': '145', 'deptid': '80\\n'}, {'empid': '155', 'fname': 'Oliver', 'lname': 'Tuvault', 'email': 'OTUVAULT', 'phone': '011.44.1344.486508', 'hdate': '2007-11-23', 'jobid': 'SA_REP', 'sal': '7000', 'comm': '0.15', 'mgrid': '145', 'deptid': '80\\n'}, {'empid': '156', 'fname': 'Janette', 'lname': 'King', 'email': 'JKING', 'phone': '011.44.1345.429268', 'hdate': '2004-01-30', 'jobid': 'SA_REP', 'sal': '10000', 'comm': '0.35', 'mgrid': '146', 'deptid': '80\\n'}, {'empid': '157', 'fname': 'Patrick', 'lname': 'Sully', 'email': 'PSULLY', 'phone': '011.44.1345.929268', 'hdate': '2004-03-04', 'jobid': 'SA_REP', 'sal': '9500', 'comm': '0.35', 'mgrid': '146', 'deptid': '80\\n'}, {'empid': '158', 'fname': 'Allan', 'lname': 'McEwen', 'email': 'AMCEWEN', 'phone': '011.44.1345.829268', 'hdate': '2004-08-01', 'jobid': 'SA_REP', 'sal': '9000', 'comm': '0.35', 'mgrid': '146', 'deptid': '80\\n'}, {'empid': '159', 'fname': 'Lindsey', 'lname': 'Smith', 'email': 'LSMITH', 'phone': '011.44.1345.729268', 'hdate': '2005-03-10', 'jobid': 'SA_REP', 'sal': '8000', 'comm': '0.3', 'mgrid': '146', 'deptid': '80\\n'}, {'empid': '160', 'fname': 'Louise', 'lname': 'Doran', 'email': 'LDORAN', 'phone': '011.44.1345.629268', 'hdate': '2005-12-15', 'jobid': 'SA_REP', 'sal': '7500', 'comm': '0.3', 'mgrid': '146', 'deptid': '80\\n'}, {'empid': '161', 'fname': 'Sarath', 'lname': 'Sewall', 'email': 'SSEWALL', 'phone': '011.44.1345.529268', 'hdate': '2006-11-03', 'jobid': 'SA_REP', 'sal': '7000', 'comm': '0.25', 'mgrid': '146', 'deptid': '80\\n'}, {'empid': '162', 'fname': 'Clara', 'lname': 'Vishney', 'email': 'CVISHNEY', 'phone': '011.44.1346.129268', 'hdate': '2005-11-11', 'jobid': 'SA_REP', 'sal': '10500', 'comm': '0.25', 'mgrid': '147', 'deptid': '80\\n'}, {'empid': '163', 'fname': 'Danielle', 'lname': 'Greene', 'email': 'DGREENE', 'phone': '011.44.1346.229268', 'hdate': '2007-03-19', 'jobid': 'SA_REP', 'sal': '9500', 'comm': '0.15', 'mgrid': '147', 'deptid': '80\\n'}, {'empid': '164', 'fname': 'Mattea', 'lname': 'Marvins', 'email': 'MMARVINS', 'phone': '011.44.1346.329268', 'hdate': '2008-01-24', 'jobid': 'SA_REP', 'sal': '7200', 'comm': '0.1', 'mgrid': '147', 'deptid': '80\\n'}, {'empid': '165', 'fname': 'David', 'lname': 'Lee', 'email': 'DLEE', 'phone': '011.44.1346.529268', 'hdate': '2008-02-23', 'jobid': 'SA_REP', 'sal': '6800', 'comm': '0.1', 'mgrid': '147', 'deptid': '80\\n'}, {'empid': '166', 'fname': 'Sundar', 'lname': 'Ande', 'email': 'SANDE', 'phone': '011.44.1346.629268', 'hdate': '2008-03-24', 'jobid': 'SA_REP', 'sal': '6400', 'comm': '0.1', 'mgrid': '147', 'deptid': '80\\n'}, {'empid': '167', 'fname': 'Amit', 'lname': 'Banda', 'email': 'ABANDA', 'phone': '011.44.1346.729268', 'hdate': '2008-04-21', 'jobid': 'SA_REP', 'sal': '6200', 'comm': '0.1', 'mgrid': '147', 'deptid': '80\\n'}, {'empid': '168', 'fname': 'Lisa', 'lname': 'Ozer', 'email': 'LOZER', 'phone': '011.44.1343.929268', 'hdate': '2005-03-11', 'jobid': 'SA_REP', 'sal': '11500', 'comm': '0.25', 'mgrid': '148', 'deptid': '80\\n'}, {'empid': '169', 'fname': 'Harrison', 'lname': 'Bloom', 'email': 'HBLOOM', 'phone': '011.44.1343.829268', 'hdate': '2006-03-23', 'jobid': 'SA_REP', 'sal': '10000', 'comm': '0.2', 'mgrid': '148', 'deptid': '80\\n'}, {'empid': '170', 'fname': 'Tayler', 'lname': 'Fox', 'email': 'TFOX', 'phone': '011.44.1343.729268', 'hdate': '2006-01-24', 'jobid': 'SA_REP', 'sal': '9600', 'comm': '0.2', 'mgrid': '148', 'deptid': '80\\n'}, {'empid': '171', 'fname': 'William', 'lname': 'Smith', 'email': 'WSMITH', 'phone': '011.44.1343.629268', 'hdate': '2007-02-23', 'jobid': 'SA_REP', 'sal': '7400', 'comm': '0.15', 'mgrid': '148', 'deptid': '80\\n'}, {'empid': '172', 'fname': 'Elizabeth', 'lname': 'Bates', 'email': 'EBATES', 'phone': '011.44.1343.529268', 'hdate': '2007-03-24', 'jobid': 'SA_REP', 'sal': '7300', 'comm': '0.15', 'mgrid': '148', 'deptid': '80\\n'}, {'empid': '173', 'fname': 'Sundita', 'lname': 'Kumar', 'email': 'SKUMAR', 'phone': '011.44.1343.329268', 'hdate': '2008-04-21', 'jobid': 'SA_REP', 'sal': '6100', 'comm': '0.1', 'mgrid': '148', 'deptid': '80\\n'}, {'empid': '174', 'fname': 'Ellen', 'lname': 'Abel', 'email': 'EABEL', 'phone': '011.44.1644.429267', 'hdate': '2004-05-11', 'jobid': 'SA_REP', 'sal': '11000', 'comm': '0.3', 'mgrid': '149', 'deptid': '80\\n'}, {'empid': '175', 'fname': 'Alyssa', 'lname': 'Hutton', 'email': 'AHUTTON', 'phone': '011.44.1644.429266', 'hdate': '2005-03-19', 'jobid': 'SA_REP', 'sal': '8800', 'comm': '0.25', 'mgrid': '149', 'deptid': '80\\n'}, {'empid': '176', 'fname': 'Jonathon', 'lname': 'Taylor', 'email': 'JTAYLOR', 'phone': '011.44.1644.429265', 'hdate': '2006-03-24', 'jobid': 'SA_REP', 'sal': '8600', 'comm': '0.2', 'mgrid': '149', 'deptid': '80\\n'}, {'empid': '177', 'fname': 'Jack', 'lname': 'Livingston', 'email': 'JLIVINGS', 'phone': '011.44.1644.429264', 'hdate': '2006-04-23', 'jobid': 'SA_REP', 'sal': '8400', 'comm': '0.2', 'mgrid': '149', 'deptid': '80\\n'}, {'empid': '178', 'fname': 'Kimberely', 'lname': 'Grant', 'email': 'KGRANT', 'phone': '011.44.1644.429263', 'hdate': '2007-05-24', 'jobid': 'SA_REP', 'sal': '7000', 'comm': '0.15', 'mgrid': '149', 'deptid': '\\n'}, {'empid': '179', 'fname': 'Charles', 'lname': 'Johnson', 'email': 'CJOHNSON', 'phone': '011.44.1644.429262', 'hdate': '2008-01-04', 'jobid': 'SA_REP', 'sal': '6200', 'comm': '0.1', 'mgrid': '149', 'deptid': '80\\n'}, {'empid': '180', 'fname': 'Winston', 'lname': 'Taylor', 'email': 'WTAYLOR', 'phone': '650.507.9876', 'hdate': '2006-01-24', 'jobid': 'SH_CLERK', 'sal': '3200', 'comm': '', 'mgrid': '120', 'deptid': '50\\n'}, {'empid': '181', 'fname': 'Jean', 'lname': 'Fleaur', 'email': 'JFLEAUR', 'phone': '650.507.9877', 'hdate': '2006-02-23', 'jobid': 'SH_CLERK', 'sal': '3100', 'comm': '', 'mgrid': '120', 'deptid': '50\\n'}, {'empid': '182', 'fname': 'Martha', 'lname': 'Sullivan', 'email': 'MSULLIVA', 'phone': '650.507.9878', 'hdate': '2007-06-21', 'jobid': 'SH_CLERK', 'sal': '2500', 'comm': '', 'mgrid': '120', 'deptid': '50\\n'}, {'empid': '183', 'fname': 'Girard', 'lname': 'Geoni', 'email': 'GGEONI', 'phone': '650.507.9879', 'hdate': '2008-02-03', 'jobid': 'SH_CLERK', 'sal': '2800', 'comm': '', 'mgrid': '120', 'deptid': '50\\n'}, {'empid': '184', 'fname': 'Nandita', 'lname': 'Sarchand', 'email': 'NSARCHAN', 'phone': '650.509.1876', 'hdate': '2004-01-27', 'jobid': 'SH_CLERK', 'sal': '4200', 'comm': '', 'mgrid': '121', 'deptid': '50\\n'}, {'empid': '185', 'fname': 'Alexis', 'lname': 'Bull', 'email': 'ABULL', 'phone': '650.509.2876', 'hdate': '2005-02-20', 'jobid': 'SH_CLERK', 'sal': '4100', 'comm': '', 'mgrid': '121', 'deptid': '50\\n'}, {'empid': '186', 'fname': 'Julia', 'lname': 'Dellinger', 'email': 'JDELLING', 'phone': '650.509.3876', 'hdate': '2006-06-24', 'jobid': 'SH_CLERK', 'sal': '3400', 'comm': '', 'mgrid': '121', 'deptid': '50\\n'}, {'empid': '187', 'fname': 'Anthony', 'lname': 'Cabrio', 'email': 'ACABRIO', 'phone': '650.509.4876', 'hdate': '2007-02-07', 'jobid': 'SH_CLERK', 'sal': '3000', 'comm': '', 'mgrid': '121', 'deptid': '50\\n'}, {'empid': '188', 'fname': 'Kelly', 'lname': 'Chung', 'email': 'KCHUNG', 'phone': '650.505.1876', 'hdate': '2005-06-14', 'jobid': 'SH_CLERK', 'sal': '3800', 'comm': '', 'mgrid': '122', 'deptid': '50\\n'}, {'empid': '189', 'fname': 'Jennifer', 'lname': 'Dilly', 'email': 'JDILLY', 'phone': '650.505.2876', 'hdate': '2005-08-13', 'jobid': 'SH_CLERK', 'sal': '3600', 'comm': '', 'mgrid': '122', 'deptid': '50\\n'}, {'empid': '190', 'fname': 'Timothy', 'lname': 'Gates', 'email': 'TGATES', 'phone': '650.505.3876', 'hdate': '2006-07-11', 'jobid': 'SH_CLERK', 'sal': '2900', 'comm': '', 'mgrid': '122', 'deptid': '50\\n'}, {'empid': '191', 'fname': 'Randall', 'lname': 'Perkins', 'email': 'RPERKINS', 'phone': '650.505.4876', 'hdate': '2007-12-19', 'jobid': 'SH_CLERK', 'sal': '2500', 'comm': '', 'mgrid': '122', 'deptid': '50\\n'}, {'empid': '192', 'fname': 'Sarah', 'lname': 'Bell', 'email': 'SBELL', 'phone': '650.501.1876', 'hdate': '2004-02-04', 'jobid': 'SH_CLERK', 'sal': '4000', 'comm': '', 'mgrid': '123', 'deptid': '50\\n'}, {'empid': '193', 'fname': 'Britney', 'lname': 'Everett', 'email': 'BEVERETT', 'phone': '650.501.2876', 'hdate': '2005-03-03', 'jobid': 'SH_CLERK', 'sal': '3900', 'comm': '', 'mgrid': '123', 'deptid': '50\\n'}, {'empid': '194', 'fname': 'Samuel', 'lname': 'McCain', 'email': 'SMCCAIN', 'phone': '650.501.3876', 'hdate': '2006-07-01', 'jobid': 'SH_CLERK', 'sal': '3200', 'comm': '', 'mgrid': '123', 'deptid': '50\\n'}, {'empid': '195', 'fname': 'Vance', 'lname': 'Jones', 'email': 'VJONES', 'phone': '650.501.4876', 'hdate': '2007-03-17', 'jobid': 'SH_CLERK', 'sal': '2800', 'comm': '', 'mgrid': '123', 'deptid': '50\\n'}, {'empid': '196', 'fname': 'Alana', 'lname': 'Walsh', 'email': 'AWALSH', 'phone': '650.507.9811', 'hdate': '2006-04-24', 'jobid': 'SH_CLERK', 'sal': '3100', 'comm': '', 'mgrid': '124', 'deptid': '50\\n'}, {'empid': '197', 'fname': 'Kevin', 'lname': 'Feeney', 'email': 'KFEENEY', 'phone': '650.507.9822', 'hdate': '2006-05-23', 'jobid': 'SH_CLERK', 'sal': '3000', 'comm': '', 'mgrid': '124', 'deptid': '50\\n'}, {'empid': '198', 'fname': 'Donald', 'lname': 'OConnell', 'email': 'DOCONNEL', 'phone': '650.507.9833', 'hdate': '2007-06-21', 'jobid': 'SH_CLERK', 'sal': '2600', 'comm': '', 'mgrid': '124', 'deptid': '50\\n'}, {'empid': '199', 'fname': 'Douglas', 'lname': 'Grant', 'email': 'DGRANT', 'phone': '650.507.9844', 'hdate': '2008-01-13', 'jobid': 'SH_CLERK', 'sal': '2600', 'comm': '', 'mgrid': '124', 'deptid': '50\\n'}, {'empid': '200', 'fname': 'Jennifer', 'lname': 'Whalen', 'email': 'JWHALEN', 'phone': '515.123.4444', 'hdate': '2003-09-17', 'jobid': 'AD_ASST', 'sal': '4400', 'comm': '', 'mgrid': '101', 'deptid': '10\\n'}, {'empid': '201', 'fname': 'Michael', 'lname': 'Hartstein', 'email': 'MHARTSTE', 'phone': '515.123.5555', 'hdate': '2004-02-17', 'jobid': 'MK_MAN', 'sal': '13000', 'comm': '', 'mgrid': '100', 'deptid': '20\\n'}, {'empid': '202', 'fname': 'Pat', 'lname': 'Fay', 'email': 'PFAY', 'phone': '603.123.6666', 'hdate': '2005-08-17', 'jobid': 'MK_REP', 'sal': '6000', 'comm': '', 'mgrid': '201', 'deptid': '20\\n'}, {'empid': '203', 'fname': 'Susan', 'lname': 'Mavris', 'email': 'SMAVRIS', 'phone': '515.123.7777', 'hdate': '2002-06-07', 'jobid': 'HR_REP', 'sal': '6500', 'comm': '', 'mgrid': '101', 'deptid': '40\\n'}, {'empid': '204', 'fname': 'Hermann', 'lname': 'Baer', 'email': 'HBAER', 'phone': '515.123.8888', 'hdate': '2002-06-07', 'jobid': 'PR_REP', 'sal': '10000', 'comm': '', 'mgrid': '101', 'deptid': '70\\n'}, {'empid': '205', 'fname': 'Shelley', 'lname': 'Higgins', 'email': 'SHIGGINS', 'phone': '515.123.8080', 'hdate': '2002-06-07', 'jobid': 'AC_MGR', 'sal': '12008', 'comm': '', 'mgrid': '101', 'deptid': '110\\n'}, {'empid': '206', 'fname': 'William', 'lname': 'Gietz', 'email': 'WGIETZ', 'phone': '515.123.8181', 'hdate': '2002-06-07', 'jobid': 'AC_ACCOUNT', 'sal': '8300', 'comm': '', 'mgrid': '205', 'deptid': '110\\n'}]\n"
     ]
    }
   ],
   "source": [
    "###Employees.csv의 모든 데이터를 딕셔너리형으로 정의\n",
    "###딕셔너리는 각 항목에 대해 여러 데이터를 쌓는 기능이 없음!! <- 대전제!!\n",
    "### ===> 따라서, 특정 딕셔너리를 광역변수로 선언하게 되면 추가 데이터 삽입 시 엎어쳐짐\n",
    "\n",
    "emplist=[]\n",
    "empkey=['empid','fname','lname','email','phone','hdate','jobid','sal','comm','mgrid','deptid']\n",
    "\n",
    "with open('EMPLOYEES.csv') as f: #EMPLOYEES.csv 파일을 읽기전용으로 오픈한 후\n",
    "    for lines in f: #한줄씩 읽은 다음\n",
    "        item=lines.split(',') #item 리스트에 넣고\n",
    "        emp={} #이렇게 안에다 써서 지역변수화 시켜야 함 (위 emplist=[] 밑에 쓰면 안됨!!)\n",
    "        for i in  range(len(empkey)):\n",
    "            emp[empkey[i]]=item[i]\n",
    "        emplist.append(emp)\n",
    "print(emplist)"
   ]
  },
  {
   "cell_type": "code",
   "execution_count": 93,
   "metadata": {},
   "outputs": [
    {
     "name": "stdout",
     "output_type": "stream",
     "text": [
      "LAST_NAME\n",
      "King\n",
      "Kochhar\n",
      "De Haan\n",
      "Hunold\n",
      "Ernst\n",
      "Austin\n",
      "Pataballa\n",
      "Lorentz\n",
      "Greenberg\n",
      "Faviet\n",
      "Chen\n",
      "Sciarra\n",
      "Urman\n",
      "Popp\n",
      "Raphaely\n",
      "Khoo\n",
      "Baida\n",
      "Tobias\n",
      "Himuro\n",
      "Colmenares\n",
      "Weiss\n",
      "Fripp\n",
      "Kaufling\n",
      "Vollman\n",
      "Mourgos\n",
      "Nayer\n",
      "Mikkilineni\n",
      "Landry\n",
      "Markle\n",
      "Bissot\n",
      "Atkinson\n",
      "Marlow\n",
      "Olson\n",
      "Mallin\n",
      "Rogers\n",
      "Gee\n",
      "Philtanker\n",
      "Ladwig\n",
      "Stiles\n",
      "Seo\n",
      "Patel\n",
      "Rajs\n",
      "Davies\n",
      "Matos\n",
      "Vargas\n",
      "Russell\n",
      "Partners\n",
      "Errazuriz\n",
      "Cambrault\n",
      "Zlotkey\n",
      "Tucker\n",
      "Bernstein\n",
      "Hall\n",
      "Olsen\n",
      "Cambrault\n",
      "Tuvault\n",
      "King\n",
      "Sully\n",
      "McEwen\n",
      "Smith\n",
      "Doran\n",
      "Sewall\n",
      "Vishney\n",
      "Greene\n",
      "Marvins\n",
      "Lee\n",
      "Ande\n",
      "Banda\n",
      "Ozer\n",
      "Bloom\n",
      "Fox\n",
      "Smith\n",
      "Bates\n",
      "Kumar\n",
      "Abel\n",
      "Hutton\n",
      "Taylor\n",
      "Livingston\n",
      "Grant\n",
      "Johnson\n",
      "Taylor\n",
      "Fleaur\n",
      "Sullivan\n",
      "Geoni\n",
      "Sarchand\n",
      "Bull\n",
      "Dellinger\n",
      "Cabrio\n",
      "Chung\n",
      "Dilly\n",
      "Gates\n",
      "Perkins\n",
      "Bell\n",
      "Everett\n",
      "McCain\n",
      "Jones\n",
      "Walsh\n",
      "Feeney\n",
      "OConnell\n",
      "Grant\n",
      "Whalen\n",
      "Hartstein\n",
      "Fay\n",
      "Mavris\n",
      "Baer\n",
      "Higgins\n",
      "Gietz\n"
     ]
    }
   ],
   "source": [
    "###Employees.csv의 모든 데이터를 딕셔너리형으로 정의\n",
    "emplist=[]\n",
    "empkey=['empid','fname','lname','email','phone','hdate','jobid','sal','comm','mgrid','deptid']\n",
    "\n",
    "with open('EMPLOYEES.csv') as f: #EMPLOYEES.csv 파일을 읽기전용으로 오픈한 후\n",
    "    for lines in f: #한줄씩 읽은 다음\n",
    "        item=lines.split(',')\n",
    "        emp={} #이렇게 안에다 써서 지역변수화 시켜야 함 (위 emplist=[] 밑에 쓰면 안됨!!)\n",
    "        for i in  range(len(empkey)):\n",
    "            emp[empkey[i]]=item[i]\n",
    "        emplist.append(emp)\n",
    "        print(item[2])"
   ]
  },
  {
   "cell_type": "code",
   "execution_count": 115,
   "metadata": {},
   "outputs": [
    {
     "name": "stdout",
     "output_type": "stream",
     "text": [
      "{'BOOKID': '1', 'BOOKNAME': '축구의 역사', 'PUBLISHER': '굿스포츠', 'PRICE': '7000'}\n",
      "139712001059360 139712001103752\n",
      "[{'BOOKID': '1', 'BOOKNAME': '축구의 역사', 'PUBLISHER': '굿스포츠', 'PRICE': '7000'}]\n",
      "\n",
      "{'BOOKID': '2', 'BOOKNAME': '축구아는 여자', 'PUBLISHER': '나무수', 'PRICE': '13000'}\n",
      "139712001101040 139712001103752\n",
      "[{'BOOKID': '1', 'BOOKNAME': '축구의 역사', 'PUBLISHER': '굿스포츠', 'PRICE': '7000'}, {'BOOKID': '2', 'BOOKNAME': '축구아는 여자', 'PUBLISHER': '나무수', 'PRICE': '13000'}]\n",
      "\n",
      "{'BOOKID': '3', 'BOOKNAME': '축구의 이해', 'PUBLISHER': '대한미디어', 'PRICE': '22000'}\n",
      "139712001549224 139712001103752\n",
      "[{'BOOKID': '1', 'BOOKNAME': '축구의 역사', 'PUBLISHER': '굿스포츠', 'PRICE': '7000'}, {'BOOKID': '2', 'BOOKNAME': '축구아는 여자', 'PUBLISHER': '나무수', 'PRICE': '13000'}, {'BOOKID': '3', 'BOOKNAME': '축구의 이해', 'PUBLISHER': '대한미디어', 'PRICE': '22000'}]\n"
     ]
    }
   ],
   "source": [
    "###Books테이블의 모든 데이터를 딕셔너리형으로 정의\n",
    "Books=[]\n",
    "Book={}\n",
    "Book['BOOKID']='1'\n",
    "Book['BOOKNAME']='축구의 역사'\n",
    "Book['PUBLISHER']='굿스포츠'\n",
    "Book['PRICE']='7000'\n",
    "print(Book)\n",
    "print(id(Book),id(Books))\n",
    "Books.append(Book)\n",
    "print(Books)\n",
    "print()\n",
    "\n",
    "Book={}\n",
    "Book['BOOKID']='2'\n",
    "Book['BOOKNAME']='축구아는 여자'\n",
    "Book['PUBLISHER']='나무수'\n",
    "Book['PRICE']='13000'\n",
    "print(Book)\n",
    "print(id(Book),id(Books))\n",
    "Books.append(Book)\n",
    "print(Books)\n",
    "print()\n",
    "\n",
    "Book={}\n",
    "Book['BOOKID']='3'\n",
    "Book['BOOKNAME']='축구의 이해'\n",
    "Book['PUBLISHER']='대한미디어'\n",
    "Book['PRICE']='22000'\n",
    "print(Book)\n",
    "print(id(Book),id(Books))\n",
    "Books.append(Book)\n",
    "print(Books)"
   ]
  },
  {
   "cell_type": "code",
   "execution_count": 117,
   "metadata": {},
   "outputs": [
    {
     "name": "stdout",
     "output_type": "stream",
     "text": [
      "{'BOOKID': '1', 'BOOKNAME': '축구의 역사', 'PUBLISHER': '굿스포츠', 'PRICE': '7000'}\n",
      "139712001045992 139712001370504\n",
      "[{'BOOKID': '1', 'BOOKNAME': '축구의 역사', 'PUBLISHER': '굿스포츠', 'PRICE': '7000'}]\n",
      "\n",
      "{'BOOKID': '2', 'BOOKNAME': '축구아는 여자', 'PUBLISHER': '나무수', 'PRICE': '13000'}\n",
      "139712001045992 139712001370504\n",
      "[{'BOOKID': '2', 'BOOKNAME': '축구아는 여자', 'PUBLISHER': '나무수', 'PRICE': '13000'}, {'BOOKID': '2', 'BOOKNAME': '축구아는 여자', 'PUBLISHER': '나무수', 'PRICE': '13000'}]\n",
      "\n",
      "{'BOOKID': '3', 'BOOKNAME': '축구의 이해', 'PUBLISHER': '대한미디어', 'PRICE': '22000'}\n",
      "139712001045992 139712001370504\n",
      "[{'BOOKID': '3', 'BOOKNAME': '축구의 이해', 'PUBLISHER': '대한미디어', 'PRICE': '22000'}, {'BOOKID': '3', 'BOOKNAME': '축구의 이해', 'PUBLISHER': '대한미디어', 'PRICE': '22000'}, {'BOOKID': '3', 'BOOKNAME': '축구의 이해', 'PUBLISHER': '대한미디어', 'PRICE': '22000'}]\n"
     ]
    }
   ],
   "source": [
    "###Books테이블의 모든 데이터를 딕셔너리형으로 정의\n",
    "Books=[]\n",
    "Book={}\n",
    "Book['BOOKID']='1'\n",
    "Book['BOOKNAME']='축구의 역사'\n",
    "Book['PUBLISHER']='굿스포츠'\n",
    "Book['PRICE']='7000'\n",
    "print(Book)\n",
    "print(id(Book),id(Books))\n",
    "Books.append(Book)\n",
    "print(Books)\n",
    "print()\n",
    "\n",
    "Book['BOOKID']='2'\n",
    "Book['BOOKNAME']='축구아는 여자'\n",
    "Book['PUBLISHER']='나무수'\n",
    "Book['PRICE']='13000'\n",
    "print(Book)\n",
    "print(id(Book),id(Books))\n",
    "Books.append(Book)\n",
    "print(Books)\n",
    "print()\n",
    "\n",
    "Book['BOOKID']='3'\n",
    "Book['BOOKNAME']='축구의 이해'\n",
    "Book['PUBLISHER']='대한미디어'\n",
    "Book['PRICE']='22000'\n",
    "print(Book)\n",
    "print(id(Book),id(Books))\n",
    "Books.append(Book)\n",
    "print(Books)"
   ]
  },
  {
   "cell_type": "code",
   "execution_count": 118,
   "metadata": {},
   "outputs": [
    {
     "name": "stdout",
     "output_type": "stream",
     "text": [
      "[{'empid': '206', 'fname': 'William', 'lname': 'Gietz', 'email': 'WGIETZ', 'phone': '515.123.8181', 'hdate': '2002-06-07', 'jobid': 'AC_ACCOUNT', 'sal': '8300', 'comm': '', 'mgrid': '205', 'deptid': '110\\n'}, {'empid': '206', 'fname': 'William', 'lname': 'Gietz', 'email': 'WGIETZ', 'phone': '515.123.8181', 'hdate': '2002-06-07', 'jobid': 'AC_ACCOUNT', 'sal': '8300', 'comm': '', 'mgrid': '205', 'deptid': '110\\n'}, {'empid': '206', 'fname': 'William', 'lname': 'Gietz', 'email': 'WGIETZ', 'phone': '515.123.8181', 'hdate': '2002-06-07', 'jobid': 'AC_ACCOUNT', 'sal': '8300', 'comm': '', 'mgrid': '205', 'deptid': '110\\n'}, {'empid': '206', 'fname': 'William', 'lname': 'Gietz', 'email': 'WGIETZ', 'phone': '515.123.8181', 'hdate': '2002-06-07', 'jobid': 'AC_ACCOUNT', 'sal': '8300', 'comm': '', 'mgrid': '205', 'deptid': '110\\n'}, {'empid': '206', 'fname': 'William', 'lname': 'Gietz', 'email': 'WGIETZ', 'phone': '515.123.8181', 'hdate': '2002-06-07', 'jobid': 'AC_ACCOUNT', 'sal': '8300', 'comm': '', 'mgrid': '205', 'deptid': '110\\n'}, {'empid': '206', 'fname': 'William', 'lname': 'Gietz', 'email': 'WGIETZ', 'phone': '515.123.8181', 'hdate': '2002-06-07', 'jobid': 'AC_ACCOUNT', 'sal': '8300', 'comm': '', 'mgrid': '205', 'deptid': '110\\n'}, {'empid': '206', 'fname': 'William', 'lname': 'Gietz', 'email': 'WGIETZ', 'phone': '515.123.8181', 'hdate': '2002-06-07', 'jobid': 'AC_ACCOUNT', 'sal': '8300', 'comm': '', 'mgrid': '205', 'deptid': '110\\n'}, {'empid': '206', 'fname': 'William', 'lname': 'Gietz', 'email': 'WGIETZ', 'phone': '515.123.8181', 'hdate': '2002-06-07', 'jobid': 'AC_ACCOUNT', 'sal': '8300', 'comm': '', 'mgrid': '205', 'deptid': '110\\n'}, {'empid': '206', 'fname': 'William', 'lname': 'Gietz', 'email': 'WGIETZ', 'phone': '515.123.8181', 'hdate': '2002-06-07', 'jobid': 'AC_ACCOUNT', 'sal': '8300', 'comm': '', 'mgrid': '205', 'deptid': '110\\n'}, {'empid': '206', 'fname': 'William', 'lname': 'Gietz', 'email': 'WGIETZ', 'phone': '515.123.8181', 'hdate': '2002-06-07', 'jobid': 'AC_ACCOUNT', 'sal': '8300', 'comm': '', 'mgrid': '205', 'deptid': '110\\n'}, {'empid': '206', 'fname': 'William', 'lname': 'Gietz', 'email': 'WGIETZ', 'phone': '515.123.8181', 'hdate': '2002-06-07', 'jobid': 'AC_ACCOUNT', 'sal': '8300', 'comm': '', 'mgrid': '205', 'deptid': '110\\n'}, {'empid': '206', 'fname': 'William', 'lname': 'Gietz', 'email': 'WGIETZ', 'phone': '515.123.8181', 'hdate': '2002-06-07', 'jobid': 'AC_ACCOUNT', 'sal': '8300', 'comm': '', 'mgrid': '205', 'deptid': '110\\n'}, {'empid': '206', 'fname': 'William', 'lname': 'Gietz', 'email': 'WGIETZ', 'phone': '515.123.8181', 'hdate': '2002-06-07', 'jobid': 'AC_ACCOUNT', 'sal': '8300', 'comm': '', 'mgrid': '205', 'deptid': '110\\n'}, {'empid': '206', 'fname': 'William', 'lname': 'Gietz', 'email': 'WGIETZ', 'phone': '515.123.8181', 'hdate': '2002-06-07', 'jobid': 'AC_ACCOUNT', 'sal': '8300', 'comm': '', 'mgrid': '205', 'deptid': '110\\n'}, {'empid': '206', 'fname': 'William', 'lname': 'Gietz', 'email': 'WGIETZ', 'phone': '515.123.8181', 'hdate': '2002-06-07', 'jobid': 'AC_ACCOUNT', 'sal': '8300', 'comm': '', 'mgrid': '205', 'deptid': '110\\n'}, {'empid': '206', 'fname': 'William', 'lname': 'Gietz', 'email': 'WGIETZ', 'phone': '515.123.8181', 'hdate': '2002-06-07', 'jobid': 'AC_ACCOUNT', 'sal': '8300', 'comm': '', 'mgrid': '205', 'deptid': '110\\n'}, {'empid': '206', 'fname': 'William', 'lname': 'Gietz', 'email': 'WGIETZ', 'phone': '515.123.8181', 'hdate': '2002-06-07', 'jobid': 'AC_ACCOUNT', 'sal': '8300', 'comm': '', 'mgrid': '205', 'deptid': '110\\n'}, {'empid': '206', 'fname': 'William', 'lname': 'Gietz', 'email': 'WGIETZ', 'phone': '515.123.8181', 'hdate': '2002-06-07', 'jobid': 'AC_ACCOUNT', 'sal': '8300', 'comm': '', 'mgrid': '205', 'deptid': '110\\n'}, {'empid': '206', 'fname': 'William', 'lname': 'Gietz', 'email': 'WGIETZ', 'phone': '515.123.8181', 'hdate': '2002-06-07', 'jobid': 'AC_ACCOUNT', 'sal': '8300', 'comm': '', 'mgrid': '205', 'deptid': '110\\n'}, {'empid': '206', 'fname': 'William', 'lname': 'Gietz', 'email': 'WGIETZ', 'phone': '515.123.8181', 'hdate': '2002-06-07', 'jobid': 'AC_ACCOUNT', 'sal': '8300', 'comm': '', 'mgrid': '205', 'deptid': '110\\n'}, {'empid': '206', 'fname': 'William', 'lname': 'Gietz', 'email': 'WGIETZ', 'phone': '515.123.8181', 'hdate': '2002-06-07', 'jobid': 'AC_ACCOUNT', 'sal': '8300', 'comm': '', 'mgrid': '205', 'deptid': '110\\n'}, {'empid': '206', 'fname': 'William', 'lname': 'Gietz', 'email': 'WGIETZ', 'phone': '515.123.8181', 'hdate': '2002-06-07', 'jobid': 'AC_ACCOUNT', 'sal': '8300', 'comm': '', 'mgrid': '205', 'deptid': '110\\n'}, {'empid': '206', 'fname': 'William', 'lname': 'Gietz', 'email': 'WGIETZ', 'phone': '515.123.8181', 'hdate': '2002-06-07', 'jobid': 'AC_ACCOUNT', 'sal': '8300', 'comm': '', 'mgrid': '205', 'deptid': '110\\n'}, {'empid': '206', 'fname': 'William', 'lname': 'Gietz', 'email': 'WGIETZ', 'phone': '515.123.8181', 'hdate': '2002-06-07', 'jobid': 'AC_ACCOUNT', 'sal': '8300', 'comm': '', 'mgrid': '205', 'deptid': '110\\n'}, {'empid': '206', 'fname': 'William', 'lname': 'Gietz', 'email': 'WGIETZ', 'phone': '515.123.8181', 'hdate': '2002-06-07', 'jobid': 'AC_ACCOUNT', 'sal': '8300', 'comm': '', 'mgrid': '205', 'deptid': '110\\n'}, {'empid': '206', 'fname': 'William', 'lname': 'Gietz', 'email': 'WGIETZ', 'phone': '515.123.8181', 'hdate': '2002-06-07', 'jobid': 'AC_ACCOUNT', 'sal': '8300', 'comm': '', 'mgrid': '205', 'deptid': '110\\n'}, {'empid': '206', 'fname': 'William', 'lname': 'Gietz', 'email': 'WGIETZ', 'phone': '515.123.8181', 'hdate': '2002-06-07', 'jobid': 'AC_ACCOUNT', 'sal': '8300', 'comm': '', 'mgrid': '205', 'deptid': '110\\n'}, {'empid': '206', 'fname': 'William', 'lname': 'Gietz', 'email': 'WGIETZ', 'phone': '515.123.8181', 'hdate': '2002-06-07', 'jobid': 'AC_ACCOUNT', 'sal': '8300', 'comm': '', 'mgrid': '205', 'deptid': '110\\n'}, {'empid': '206', 'fname': 'William', 'lname': 'Gietz', 'email': 'WGIETZ', 'phone': '515.123.8181', 'hdate': '2002-06-07', 'jobid': 'AC_ACCOUNT', 'sal': '8300', 'comm': '', 'mgrid': '205', 'deptid': '110\\n'}, {'empid': '206', 'fname': 'William', 'lname': 'Gietz', 'email': 'WGIETZ', 'phone': '515.123.8181', 'hdate': '2002-06-07', 'jobid': 'AC_ACCOUNT', 'sal': '8300', 'comm': '', 'mgrid': '205', 'deptid': '110\\n'}, {'empid': '206', 'fname': 'William', 'lname': 'Gietz', 'email': 'WGIETZ', 'phone': '515.123.8181', 'hdate': '2002-06-07', 'jobid': 'AC_ACCOUNT', 'sal': '8300', 'comm': '', 'mgrid': '205', 'deptid': '110\\n'}, {'empid': '206', 'fname': 'William', 'lname': 'Gietz', 'email': 'WGIETZ', 'phone': '515.123.8181', 'hdate': '2002-06-07', 'jobid': 'AC_ACCOUNT', 'sal': '8300', 'comm': '', 'mgrid': '205', 'deptid': '110\\n'}, {'empid': '206', 'fname': 'William', 'lname': 'Gietz', 'email': 'WGIETZ', 'phone': '515.123.8181', 'hdate': '2002-06-07', 'jobid': 'AC_ACCOUNT', 'sal': '8300', 'comm': '', 'mgrid': '205', 'deptid': '110\\n'}, {'empid': '206', 'fname': 'William', 'lname': 'Gietz', 'email': 'WGIETZ', 'phone': '515.123.8181', 'hdate': '2002-06-07', 'jobid': 'AC_ACCOUNT', 'sal': '8300', 'comm': '', 'mgrid': '205', 'deptid': '110\\n'}, {'empid': '206', 'fname': 'William', 'lname': 'Gietz', 'email': 'WGIETZ', 'phone': '515.123.8181', 'hdate': '2002-06-07', 'jobid': 'AC_ACCOUNT', 'sal': '8300', 'comm': '', 'mgrid': '205', 'deptid': '110\\n'}, {'empid': '206', 'fname': 'William', 'lname': 'Gietz', 'email': 'WGIETZ', 'phone': '515.123.8181', 'hdate': '2002-06-07', 'jobid': 'AC_ACCOUNT', 'sal': '8300', 'comm': '', 'mgrid': '205', 'deptid': '110\\n'}, {'empid': '206', 'fname': 'William', 'lname': 'Gietz', 'email': 'WGIETZ', 'phone': '515.123.8181', 'hdate': '2002-06-07', 'jobid': 'AC_ACCOUNT', 'sal': '8300', 'comm': '', 'mgrid': '205', 'deptid': '110\\n'}, {'empid': '206', 'fname': 'William', 'lname': 'Gietz', 'email': 'WGIETZ', 'phone': '515.123.8181', 'hdate': '2002-06-07', 'jobid': 'AC_ACCOUNT', 'sal': '8300', 'comm': '', 'mgrid': '205', 'deptid': '110\\n'}, {'empid': '206', 'fname': 'William', 'lname': 'Gietz', 'email': 'WGIETZ', 'phone': '515.123.8181', 'hdate': '2002-06-07', 'jobid': 'AC_ACCOUNT', 'sal': '8300', 'comm': '', 'mgrid': '205', 'deptid': '110\\n'}, {'empid': '206', 'fname': 'William', 'lname': 'Gietz', 'email': 'WGIETZ', 'phone': '515.123.8181', 'hdate': '2002-06-07', 'jobid': 'AC_ACCOUNT', 'sal': '8300', 'comm': '', 'mgrid': '205', 'deptid': '110\\n'}, {'empid': '206', 'fname': 'William', 'lname': 'Gietz', 'email': 'WGIETZ', 'phone': '515.123.8181', 'hdate': '2002-06-07', 'jobid': 'AC_ACCOUNT', 'sal': '8300', 'comm': '', 'mgrid': '205', 'deptid': '110\\n'}, {'empid': '206', 'fname': 'William', 'lname': 'Gietz', 'email': 'WGIETZ', 'phone': '515.123.8181', 'hdate': '2002-06-07', 'jobid': 'AC_ACCOUNT', 'sal': '8300', 'comm': '', 'mgrid': '205', 'deptid': '110\\n'}, {'empid': '206', 'fname': 'William', 'lname': 'Gietz', 'email': 'WGIETZ', 'phone': '515.123.8181', 'hdate': '2002-06-07', 'jobid': 'AC_ACCOUNT', 'sal': '8300', 'comm': '', 'mgrid': '205', 'deptid': '110\\n'}, {'empid': '206', 'fname': 'William', 'lname': 'Gietz', 'email': 'WGIETZ', 'phone': '515.123.8181', 'hdate': '2002-06-07', 'jobid': 'AC_ACCOUNT', 'sal': '8300', 'comm': '', 'mgrid': '205', 'deptid': '110\\n'}, {'empid': '206', 'fname': 'William', 'lname': 'Gietz', 'email': 'WGIETZ', 'phone': '515.123.8181', 'hdate': '2002-06-07', 'jobid': 'AC_ACCOUNT', 'sal': '8300', 'comm': '', 'mgrid': '205', 'deptid': '110\\n'}, {'empid': '206', 'fname': 'William', 'lname': 'Gietz', 'email': 'WGIETZ', 'phone': '515.123.8181', 'hdate': '2002-06-07', 'jobid': 'AC_ACCOUNT', 'sal': '8300', 'comm': '', 'mgrid': '205', 'deptid': '110\\n'}, {'empid': '206', 'fname': 'William', 'lname': 'Gietz', 'email': 'WGIETZ', 'phone': '515.123.8181', 'hdate': '2002-06-07', 'jobid': 'AC_ACCOUNT', 'sal': '8300', 'comm': '', 'mgrid': '205', 'deptid': '110\\n'}, {'empid': '206', 'fname': 'William', 'lname': 'Gietz', 'email': 'WGIETZ', 'phone': '515.123.8181', 'hdate': '2002-06-07', 'jobid': 'AC_ACCOUNT', 'sal': '8300', 'comm': '', 'mgrid': '205', 'deptid': '110\\n'}, {'empid': '206', 'fname': 'William', 'lname': 'Gietz', 'email': 'WGIETZ', 'phone': '515.123.8181', 'hdate': '2002-06-07', 'jobid': 'AC_ACCOUNT', 'sal': '8300', 'comm': '', 'mgrid': '205', 'deptid': '110\\n'}, {'empid': '206', 'fname': 'William', 'lname': 'Gietz', 'email': 'WGIETZ', 'phone': '515.123.8181', 'hdate': '2002-06-07', 'jobid': 'AC_ACCOUNT', 'sal': '8300', 'comm': '', 'mgrid': '205', 'deptid': '110\\n'}, {'empid': '206', 'fname': 'William', 'lname': 'Gietz', 'email': 'WGIETZ', 'phone': '515.123.8181', 'hdate': '2002-06-07', 'jobid': 'AC_ACCOUNT', 'sal': '8300', 'comm': '', 'mgrid': '205', 'deptid': '110\\n'}, {'empid': '206', 'fname': 'William', 'lname': 'Gietz', 'email': 'WGIETZ', 'phone': '515.123.8181', 'hdate': '2002-06-07', 'jobid': 'AC_ACCOUNT', 'sal': '8300', 'comm': '', 'mgrid': '205', 'deptid': '110\\n'}, {'empid': '206', 'fname': 'William', 'lname': 'Gietz', 'email': 'WGIETZ', 'phone': '515.123.8181', 'hdate': '2002-06-07', 'jobid': 'AC_ACCOUNT', 'sal': '8300', 'comm': '', 'mgrid': '205', 'deptid': '110\\n'}, {'empid': '206', 'fname': 'William', 'lname': 'Gietz', 'email': 'WGIETZ', 'phone': '515.123.8181', 'hdate': '2002-06-07', 'jobid': 'AC_ACCOUNT', 'sal': '8300', 'comm': '', 'mgrid': '205', 'deptid': '110\\n'}, {'empid': '206', 'fname': 'William', 'lname': 'Gietz', 'email': 'WGIETZ', 'phone': '515.123.8181', 'hdate': '2002-06-07', 'jobid': 'AC_ACCOUNT', 'sal': '8300', 'comm': '', 'mgrid': '205', 'deptid': '110\\n'}, {'empid': '206', 'fname': 'William', 'lname': 'Gietz', 'email': 'WGIETZ', 'phone': '515.123.8181', 'hdate': '2002-06-07', 'jobid': 'AC_ACCOUNT', 'sal': '8300', 'comm': '', 'mgrid': '205', 'deptid': '110\\n'}, {'empid': '206', 'fname': 'William', 'lname': 'Gietz', 'email': 'WGIETZ', 'phone': '515.123.8181', 'hdate': '2002-06-07', 'jobid': 'AC_ACCOUNT', 'sal': '8300', 'comm': '', 'mgrid': '205', 'deptid': '110\\n'}, {'empid': '206', 'fname': 'William', 'lname': 'Gietz', 'email': 'WGIETZ', 'phone': '515.123.8181', 'hdate': '2002-06-07', 'jobid': 'AC_ACCOUNT', 'sal': '8300', 'comm': '', 'mgrid': '205', 'deptid': '110\\n'}, {'empid': '206', 'fname': 'William', 'lname': 'Gietz', 'email': 'WGIETZ', 'phone': '515.123.8181', 'hdate': '2002-06-07', 'jobid': 'AC_ACCOUNT', 'sal': '8300', 'comm': '', 'mgrid': '205', 'deptid': '110\\n'}, {'empid': '206', 'fname': 'William', 'lname': 'Gietz', 'email': 'WGIETZ', 'phone': '515.123.8181', 'hdate': '2002-06-07', 'jobid': 'AC_ACCOUNT', 'sal': '8300', 'comm': '', 'mgrid': '205', 'deptid': '110\\n'}, {'empid': '206', 'fname': 'William', 'lname': 'Gietz', 'email': 'WGIETZ', 'phone': '515.123.8181', 'hdate': '2002-06-07', 'jobid': 'AC_ACCOUNT', 'sal': '8300', 'comm': '', 'mgrid': '205', 'deptid': '110\\n'}, {'empid': '206', 'fname': 'William', 'lname': 'Gietz', 'email': 'WGIETZ', 'phone': '515.123.8181', 'hdate': '2002-06-07', 'jobid': 'AC_ACCOUNT', 'sal': '8300', 'comm': '', 'mgrid': '205', 'deptid': '110\\n'}, {'empid': '206', 'fname': 'William', 'lname': 'Gietz', 'email': 'WGIETZ', 'phone': '515.123.8181', 'hdate': '2002-06-07', 'jobid': 'AC_ACCOUNT', 'sal': '8300', 'comm': '', 'mgrid': '205', 'deptid': '110\\n'}, {'empid': '206', 'fname': 'William', 'lname': 'Gietz', 'email': 'WGIETZ', 'phone': '515.123.8181', 'hdate': '2002-06-07', 'jobid': 'AC_ACCOUNT', 'sal': '8300', 'comm': '', 'mgrid': '205', 'deptid': '110\\n'}, {'empid': '206', 'fname': 'William', 'lname': 'Gietz', 'email': 'WGIETZ', 'phone': '515.123.8181', 'hdate': '2002-06-07', 'jobid': 'AC_ACCOUNT', 'sal': '8300', 'comm': '', 'mgrid': '205', 'deptid': '110\\n'}, {'empid': '206', 'fname': 'William', 'lname': 'Gietz', 'email': 'WGIETZ', 'phone': '515.123.8181', 'hdate': '2002-06-07', 'jobid': 'AC_ACCOUNT', 'sal': '8300', 'comm': '', 'mgrid': '205', 'deptid': '110\\n'}, {'empid': '206', 'fname': 'William', 'lname': 'Gietz', 'email': 'WGIETZ', 'phone': '515.123.8181', 'hdate': '2002-06-07', 'jobid': 'AC_ACCOUNT', 'sal': '8300', 'comm': '', 'mgrid': '205', 'deptid': '110\\n'}, {'empid': '206', 'fname': 'William', 'lname': 'Gietz', 'email': 'WGIETZ', 'phone': '515.123.8181', 'hdate': '2002-06-07', 'jobid': 'AC_ACCOUNT', 'sal': '8300', 'comm': '', 'mgrid': '205', 'deptid': '110\\n'}, {'empid': '206', 'fname': 'William', 'lname': 'Gietz', 'email': 'WGIETZ', 'phone': '515.123.8181', 'hdate': '2002-06-07', 'jobid': 'AC_ACCOUNT', 'sal': '8300', 'comm': '', 'mgrid': '205', 'deptid': '110\\n'}, {'empid': '206', 'fname': 'William', 'lname': 'Gietz', 'email': 'WGIETZ', 'phone': '515.123.8181', 'hdate': '2002-06-07', 'jobid': 'AC_ACCOUNT', 'sal': '8300', 'comm': '', 'mgrid': '205', 'deptid': '110\\n'}, {'empid': '206', 'fname': 'William', 'lname': 'Gietz', 'email': 'WGIETZ', 'phone': '515.123.8181', 'hdate': '2002-06-07', 'jobid': 'AC_ACCOUNT', 'sal': '8300', 'comm': '', 'mgrid': '205', 'deptid': '110\\n'}, {'empid': '206', 'fname': 'William', 'lname': 'Gietz', 'email': 'WGIETZ', 'phone': '515.123.8181', 'hdate': '2002-06-07', 'jobid': 'AC_ACCOUNT', 'sal': '8300', 'comm': '', 'mgrid': '205', 'deptid': '110\\n'}, {'empid': '206', 'fname': 'William', 'lname': 'Gietz', 'email': 'WGIETZ', 'phone': '515.123.8181', 'hdate': '2002-06-07', 'jobid': 'AC_ACCOUNT', 'sal': '8300', 'comm': '', 'mgrid': '205', 'deptid': '110\\n'}, {'empid': '206', 'fname': 'William', 'lname': 'Gietz', 'email': 'WGIETZ', 'phone': '515.123.8181', 'hdate': '2002-06-07', 'jobid': 'AC_ACCOUNT', 'sal': '8300', 'comm': '', 'mgrid': '205', 'deptid': '110\\n'}, {'empid': '206', 'fname': 'William', 'lname': 'Gietz', 'email': 'WGIETZ', 'phone': '515.123.8181', 'hdate': '2002-06-07', 'jobid': 'AC_ACCOUNT', 'sal': '8300', 'comm': '', 'mgrid': '205', 'deptid': '110\\n'}, {'empid': '206', 'fname': 'William', 'lname': 'Gietz', 'email': 'WGIETZ', 'phone': '515.123.8181', 'hdate': '2002-06-07', 'jobid': 'AC_ACCOUNT', 'sal': '8300', 'comm': '', 'mgrid': '205', 'deptid': '110\\n'}, {'empid': '206', 'fname': 'William', 'lname': 'Gietz', 'email': 'WGIETZ', 'phone': '515.123.8181', 'hdate': '2002-06-07', 'jobid': 'AC_ACCOUNT', 'sal': '8300', 'comm': '', 'mgrid': '205', 'deptid': '110\\n'}, {'empid': '206', 'fname': 'William', 'lname': 'Gietz', 'email': 'WGIETZ', 'phone': '515.123.8181', 'hdate': '2002-06-07', 'jobid': 'AC_ACCOUNT', 'sal': '8300', 'comm': '', 'mgrid': '205', 'deptid': '110\\n'}, {'empid': '206', 'fname': 'William', 'lname': 'Gietz', 'email': 'WGIETZ', 'phone': '515.123.8181', 'hdate': '2002-06-07', 'jobid': 'AC_ACCOUNT', 'sal': '8300', 'comm': '', 'mgrid': '205', 'deptid': '110\\n'}, {'empid': '206', 'fname': 'William', 'lname': 'Gietz', 'email': 'WGIETZ', 'phone': '515.123.8181', 'hdate': '2002-06-07', 'jobid': 'AC_ACCOUNT', 'sal': '8300', 'comm': '', 'mgrid': '205', 'deptid': '110\\n'}, {'empid': '206', 'fname': 'William', 'lname': 'Gietz', 'email': 'WGIETZ', 'phone': '515.123.8181', 'hdate': '2002-06-07', 'jobid': 'AC_ACCOUNT', 'sal': '8300', 'comm': '', 'mgrid': '205', 'deptid': '110\\n'}, {'empid': '206', 'fname': 'William', 'lname': 'Gietz', 'email': 'WGIETZ', 'phone': '515.123.8181', 'hdate': '2002-06-07', 'jobid': 'AC_ACCOUNT', 'sal': '8300', 'comm': '', 'mgrid': '205', 'deptid': '110\\n'}, {'empid': '206', 'fname': 'William', 'lname': 'Gietz', 'email': 'WGIETZ', 'phone': '515.123.8181', 'hdate': '2002-06-07', 'jobid': 'AC_ACCOUNT', 'sal': '8300', 'comm': '', 'mgrid': '205', 'deptid': '110\\n'}, {'empid': '206', 'fname': 'William', 'lname': 'Gietz', 'email': 'WGIETZ', 'phone': '515.123.8181', 'hdate': '2002-06-07', 'jobid': 'AC_ACCOUNT', 'sal': '8300', 'comm': '', 'mgrid': '205', 'deptid': '110\\n'}, {'empid': '206', 'fname': 'William', 'lname': 'Gietz', 'email': 'WGIETZ', 'phone': '515.123.8181', 'hdate': '2002-06-07', 'jobid': 'AC_ACCOUNT', 'sal': '8300', 'comm': '', 'mgrid': '205', 'deptid': '110\\n'}, {'empid': '206', 'fname': 'William', 'lname': 'Gietz', 'email': 'WGIETZ', 'phone': '515.123.8181', 'hdate': '2002-06-07', 'jobid': 'AC_ACCOUNT', 'sal': '8300', 'comm': '', 'mgrid': '205', 'deptid': '110\\n'}, {'empid': '206', 'fname': 'William', 'lname': 'Gietz', 'email': 'WGIETZ', 'phone': '515.123.8181', 'hdate': '2002-06-07', 'jobid': 'AC_ACCOUNT', 'sal': '8300', 'comm': '', 'mgrid': '205', 'deptid': '110\\n'}, {'empid': '206', 'fname': 'William', 'lname': 'Gietz', 'email': 'WGIETZ', 'phone': '515.123.8181', 'hdate': '2002-06-07', 'jobid': 'AC_ACCOUNT', 'sal': '8300', 'comm': '', 'mgrid': '205', 'deptid': '110\\n'}, {'empid': '206', 'fname': 'William', 'lname': 'Gietz', 'email': 'WGIETZ', 'phone': '515.123.8181', 'hdate': '2002-06-07', 'jobid': 'AC_ACCOUNT', 'sal': '8300', 'comm': '', 'mgrid': '205', 'deptid': '110\\n'}, {'empid': '206', 'fname': 'William', 'lname': 'Gietz', 'email': 'WGIETZ', 'phone': '515.123.8181', 'hdate': '2002-06-07', 'jobid': 'AC_ACCOUNT', 'sal': '8300', 'comm': '', 'mgrid': '205', 'deptid': '110\\n'}, {'empid': '206', 'fname': 'William', 'lname': 'Gietz', 'email': 'WGIETZ', 'phone': '515.123.8181', 'hdate': '2002-06-07', 'jobid': 'AC_ACCOUNT', 'sal': '8300', 'comm': '', 'mgrid': '205', 'deptid': '110\\n'}, {'empid': '206', 'fname': 'William', 'lname': 'Gietz', 'email': 'WGIETZ', 'phone': '515.123.8181', 'hdate': '2002-06-07', 'jobid': 'AC_ACCOUNT', 'sal': '8300', 'comm': '', 'mgrid': '205', 'deptid': '110\\n'}, {'empid': '206', 'fname': 'William', 'lname': 'Gietz', 'email': 'WGIETZ', 'phone': '515.123.8181', 'hdate': '2002-06-07', 'jobid': 'AC_ACCOUNT', 'sal': '8300', 'comm': '', 'mgrid': '205', 'deptid': '110\\n'}, {'empid': '206', 'fname': 'William', 'lname': 'Gietz', 'email': 'WGIETZ', 'phone': '515.123.8181', 'hdate': '2002-06-07', 'jobid': 'AC_ACCOUNT', 'sal': '8300', 'comm': '', 'mgrid': '205', 'deptid': '110\\n'}, {'empid': '206', 'fname': 'William', 'lname': 'Gietz', 'email': 'WGIETZ', 'phone': '515.123.8181', 'hdate': '2002-06-07', 'jobid': 'AC_ACCOUNT', 'sal': '8300', 'comm': '', 'mgrid': '205', 'deptid': '110\\n'}, {'empid': '206', 'fname': 'William', 'lname': 'Gietz', 'email': 'WGIETZ', 'phone': '515.123.8181', 'hdate': '2002-06-07', 'jobid': 'AC_ACCOUNT', 'sal': '8300', 'comm': '', 'mgrid': '205', 'deptid': '110\\n'}, {'empid': '206', 'fname': 'William', 'lname': 'Gietz', 'email': 'WGIETZ', 'phone': '515.123.8181', 'hdate': '2002-06-07', 'jobid': 'AC_ACCOUNT', 'sal': '8300', 'comm': '', 'mgrid': '205', 'deptid': '110\\n'}, {'empid': '206', 'fname': 'William', 'lname': 'Gietz', 'email': 'WGIETZ', 'phone': '515.123.8181', 'hdate': '2002-06-07', 'jobid': 'AC_ACCOUNT', 'sal': '8300', 'comm': '', 'mgrid': '205', 'deptid': '110\\n'}, {'empid': '206', 'fname': 'William', 'lname': 'Gietz', 'email': 'WGIETZ', 'phone': '515.123.8181', 'hdate': '2002-06-07', 'jobid': 'AC_ACCOUNT', 'sal': '8300', 'comm': '', 'mgrid': '205', 'deptid': '110\\n'}, {'empid': '206', 'fname': 'William', 'lname': 'Gietz', 'email': 'WGIETZ', 'phone': '515.123.8181', 'hdate': '2002-06-07', 'jobid': 'AC_ACCOUNT', 'sal': '8300', 'comm': '', 'mgrid': '205', 'deptid': '110\\n'}, {'empid': '206', 'fname': 'William', 'lname': 'Gietz', 'email': 'WGIETZ', 'phone': '515.123.8181', 'hdate': '2002-06-07', 'jobid': 'AC_ACCOUNT', 'sal': '8300', 'comm': '', 'mgrid': '205', 'deptid': '110\\n'}, {'empid': '206', 'fname': 'William', 'lname': 'Gietz', 'email': 'WGIETZ', 'phone': '515.123.8181', 'hdate': '2002-06-07', 'jobid': 'AC_ACCOUNT', 'sal': '8300', 'comm': '', 'mgrid': '205', 'deptid': '110\\n'}, {'empid': '206', 'fname': 'William', 'lname': 'Gietz', 'email': 'WGIETZ', 'phone': '515.123.8181', 'hdate': '2002-06-07', 'jobid': 'AC_ACCOUNT', 'sal': '8300', 'comm': '', 'mgrid': '205', 'deptid': '110\\n'}, {'empid': '206', 'fname': 'William', 'lname': 'Gietz', 'email': 'WGIETZ', 'phone': '515.123.8181', 'hdate': '2002-06-07', 'jobid': 'AC_ACCOUNT', 'sal': '8300', 'comm': '', 'mgrid': '205', 'deptid': '110\\n'}, {'empid': '206', 'fname': 'William', 'lname': 'Gietz', 'email': 'WGIETZ', 'phone': '515.123.8181', 'hdate': '2002-06-07', 'jobid': 'AC_ACCOUNT', 'sal': '8300', 'comm': '', 'mgrid': '205', 'deptid': '110\\n'}, {'empid': '206', 'fname': 'William', 'lname': 'Gietz', 'email': 'WGIETZ', 'phone': '515.123.8181', 'hdate': '2002-06-07', 'jobid': 'AC_ACCOUNT', 'sal': '8300', 'comm': '', 'mgrid': '205', 'deptid': '110\\n'}, {'empid': '206', 'fname': 'William', 'lname': 'Gietz', 'email': 'WGIETZ', 'phone': '515.123.8181', 'hdate': '2002-06-07', 'jobid': 'AC_ACCOUNT', 'sal': '8300', 'comm': '', 'mgrid': '205', 'deptid': '110\\n'}, {'empid': '206', 'fname': 'William', 'lname': 'Gietz', 'email': 'WGIETZ', 'phone': '515.123.8181', 'hdate': '2002-06-07', 'jobid': 'AC_ACCOUNT', 'sal': '8300', 'comm': '', 'mgrid': '205', 'deptid': '110\\n'}]\n"
     ]
    }
   ],
   "source": [
    "###Employees.csv의 모든 데이터를 딕셔너리형으로 정의\n",
    "###딕셔너리는 각 항목에 대해 여러 데이터를 쌓는 기능이 없음!! <- 대전제!!\n",
    "### ===> 따라서, 특정 딕셔너리를 광역변수로 선언하게 되면 추가 데이터 삽입 시 엎어쳐짐\n",
    "\n",
    "emplist=[]\n",
    "emp={}\n",
    "empkey=['empid','fname','lname','email','phone','hdate','jobid','sal','comm','mgrid','deptid']\n",
    "\n",
    "with open('EMPLOYEES.csv') as f: #EMPLOYEES.csv 파일을 읽기전용으로 오픈한 후\n",
    "    for lines in f: #한줄씩 읽은 다음\n",
    "        item=lines.split(',') #item 리스트에 넣고\n",
    "\n",
    "        for i in  range(len(empkey)):\n",
    "            emp[empkey[i]]=item[i]\n",
    "        emplist.append(emp)\n",
    "print(emplist)"
   ]
  },
  {
   "cell_type": "code",
   "execution_count": 1,
   "metadata": {},
   "outputs": [
    {
     "name": "stdout",
     "output_type": "stream",
     "text": [
      "[{'empid': 'EMPLOYEE_ID', 'fname': 'FIRST_NAME', 'lname': 'LAST_NAME', 'email': 'EMAIL', 'phone': 'PHONE_NUMBER', 'hdate': 'HIRE_DATE', 'jobid': 'JOB_ID', 'sal': 'SALARY', 'comm': 'COMMISSION_PCT', 'mgrid': 'MANAGER_ID', 'deptid': 'DEPARTMENT_ID\\n'}, {'empid': '100', 'fname': 'Steven', 'lname': 'King', 'email': 'SKING', 'phone': '515.123.4567', 'hdate': '2003-06-17', 'jobid': 'AD_PRES', 'sal': '24000', 'comm': '', 'mgrid': '', 'deptid': '90\\n'}, {'empid': '101', 'fname': 'Neena', 'lname': 'Kochhar', 'email': 'NKOCHHAR', 'phone': '515.123.4568', 'hdate': '2005-09-21', 'jobid': 'AD_VP', 'sal': '17000', 'comm': '', 'mgrid': '100', 'deptid': '90\\n'}, {'empid': '102', 'fname': 'Lex', 'lname': 'De Haan', 'email': 'LDEHAAN', 'phone': '515.123.4569', 'hdate': '2001-01-13', 'jobid': 'AD_VP', 'sal': '17000', 'comm': '', 'mgrid': '100', 'deptid': '90\\n'}, {'empid': '103', 'fname': 'Alexander', 'lname': 'Hunold', 'email': 'AHUNOLD', 'phone': '590.423.4567', 'hdate': '2006-01-03', 'jobid': 'IT_PROG', 'sal': '9000', 'comm': '', 'mgrid': '102', 'deptid': '60\\n'}, {'empid': '104', 'fname': 'Bruce', 'lname': 'Ernst', 'email': 'BERNST', 'phone': '590.423.4568', 'hdate': '2007-05-21', 'jobid': 'IT_PROG', 'sal': '6000', 'comm': '', 'mgrid': '103', 'deptid': '60\\n'}, {'empid': '105', 'fname': 'David', 'lname': 'Austin', 'email': 'DAUSTIN', 'phone': '590.423.4569', 'hdate': '2005-06-25', 'jobid': 'IT_PROG', 'sal': '4800', 'comm': '', 'mgrid': '103', 'deptid': '60\\n'}, {'empid': '106', 'fname': 'Valli', 'lname': 'Pataballa', 'email': 'VPATABAL', 'phone': '590.423.4560', 'hdate': '2006-02-05', 'jobid': 'IT_PROG', 'sal': '4800', 'comm': '', 'mgrid': '103', 'deptid': '60\\n'}, {'empid': '107', 'fname': 'Diana', 'lname': 'Lorentz', 'email': 'DLORENTZ', 'phone': '590.423.5567', 'hdate': '2007-02-07', 'jobid': 'IT_PROG', 'sal': '4200', 'comm': '', 'mgrid': '103', 'deptid': '60\\n'}, {'empid': '108', 'fname': 'Nancy', 'lname': 'Greenberg', 'email': 'NGREENBE', 'phone': '515.124.4569', 'hdate': '2002-08-17', 'jobid': 'FI_MGR', 'sal': '12008', 'comm': '', 'mgrid': '101', 'deptid': '100\\n'}, {'empid': '109', 'fname': 'Daniel', 'lname': 'Faviet', 'email': 'DFAVIET', 'phone': '515.124.4169', 'hdate': '2002-08-16', 'jobid': 'FI_ACCOUNT', 'sal': '9000', 'comm': '', 'mgrid': '108', 'deptid': '100\\n'}, {'empid': '110', 'fname': 'John', 'lname': 'Chen', 'email': 'JCHEN', 'phone': '515.124.4269', 'hdate': '2005-09-28', 'jobid': 'FI_ACCOUNT', 'sal': '8200', 'comm': '', 'mgrid': '108', 'deptid': '100\\n'}, {'empid': '111', 'fname': 'Ismael', 'lname': 'Sciarra', 'email': 'ISCIARRA', 'phone': '515.124.4369', 'hdate': '2005-09-30', 'jobid': 'FI_ACCOUNT', 'sal': '7700', 'comm': '', 'mgrid': '108', 'deptid': '100\\n'}, {'empid': '112', 'fname': 'Jose Manuel', 'lname': 'Urman', 'email': 'JMURMAN', 'phone': '515.124.4469', 'hdate': '2006-03-07', 'jobid': 'FI_ACCOUNT', 'sal': '7800', 'comm': '', 'mgrid': '108', 'deptid': '100\\n'}, {'empid': '113', 'fname': 'Luis', 'lname': 'Popp', 'email': 'LPOPP', 'phone': '515.124.4567', 'hdate': '2007-12-07', 'jobid': 'FI_ACCOUNT', 'sal': '6900', 'comm': '', 'mgrid': '108', 'deptid': '100\\n'}, {'empid': '114', 'fname': 'Den', 'lname': 'Raphaely', 'email': 'DRAPHEAL', 'phone': '515.127.4561', 'hdate': '2002-12-07', 'jobid': 'PU_MAN', 'sal': '11000', 'comm': '', 'mgrid': '100', 'deptid': '30\\n'}, {'empid': '115', 'fname': 'Alexander', 'lname': 'Khoo', 'email': 'AKHOO', 'phone': '515.127.4562', 'hdate': '2003-05-18', 'jobid': 'PU_CLERK', 'sal': '3100', 'comm': '', 'mgrid': '114', 'deptid': '30\\n'}, {'empid': '116', 'fname': 'Shelli', 'lname': 'Baida', 'email': 'SBAIDA', 'phone': '515.127.4563', 'hdate': '2005-12-24', 'jobid': 'PU_CLERK', 'sal': '2900', 'comm': '', 'mgrid': '114', 'deptid': '30\\n'}, {'empid': '117', 'fname': 'Sigal', 'lname': 'Tobias', 'email': 'STOBIAS', 'phone': '515.127.4564', 'hdate': '2005-07-24', 'jobid': 'PU_CLERK', 'sal': '2800', 'comm': '', 'mgrid': '114', 'deptid': '30\\n'}, {'empid': '118', 'fname': 'Guy', 'lname': 'Himuro', 'email': 'GHIMURO', 'phone': '515.127.4565', 'hdate': '2006-11-15', 'jobid': 'PU_CLERK', 'sal': '2600', 'comm': '', 'mgrid': '114', 'deptid': '30\\n'}, {'empid': '119', 'fname': 'Karen', 'lname': 'Colmenares', 'email': 'KCOLMENA', 'phone': '515.127.4566', 'hdate': '2007-08-10', 'jobid': 'PU_CLERK', 'sal': '2500', 'comm': '', 'mgrid': '114', 'deptid': '30\\n'}, {'empid': '120', 'fname': 'Matthew', 'lname': 'Weiss', 'email': 'MWEISS', 'phone': '650.123.1234', 'hdate': '2004-07-18', 'jobid': 'ST_MAN', 'sal': '8000', 'comm': '', 'mgrid': '100', 'deptid': '50\\n'}, {'empid': '121', 'fname': 'Adam', 'lname': 'Fripp', 'email': 'AFRIPP', 'phone': '650.123.2234', 'hdate': '2005-04-10', 'jobid': 'ST_MAN', 'sal': '8200', 'comm': '', 'mgrid': '100', 'deptid': '50\\n'}, {'empid': '122', 'fname': 'Payam', 'lname': 'Kaufling', 'email': 'PKAUFLIN', 'phone': '650.123.3234', 'hdate': '2003-05-01', 'jobid': 'ST_MAN', 'sal': '7900', 'comm': '', 'mgrid': '100', 'deptid': '50\\n'}, {'empid': '123', 'fname': 'Shanta', 'lname': 'Vollman', 'email': 'SVOLLMAN', 'phone': '650.123.4234', 'hdate': '2005-10-10', 'jobid': 'ST_MAN', 'sal': '6500', 'comm': '', 'mgrid': '100', 'deptid': '50\\n'}, {'empid': '124', 'fname': 'Kevin', 'lname': 'Mourgos', 'email': 'KMOURGOS', 'phone': '650.123.5234', 'hdate': '2007-11-16', 'jobid': 'ST_MAN', 'sal': '5800', 'comm': '', 'mgrid': '100', 'deptid': '50\\n'}, {'empid': '125', 'fname': 'Julia', 'lname': 'Nayer', 'email': 'JNAYER', 'phone': '650.124.1214', 'hdate': '2005-07-16', 'jobid': 'ST_CLERK', 'sal': '3200', 'comm': '', 'mgrid': '120', 'deptid': '50\\n'}, {'empid': '126', 'fname': 'Irene', 'lname': 'Mikkilineni', 'email': 'IMIKKILI', 'phone': '650.124.1224', 'hdate': '2006-09-28', 'jobid': 'ST_CLERK', 'sal': '2700', 'comm': '', 'mgrid': '120', 'deptid': '50\\n'}, {'empid': '127', 'fname': 'James', 'lname': 'Landry', 'email': 'JLANDRY', 'phone': '650.124.1334', 'hdate': '2007-01-14', 'jobid': 'ST_CLERK', 'sal': '2400', 'comm': '', 'mgrid': '120', 'deptid': '50\\n'}, {'empid': '128', 'fname': 'Steven', 'lname': 'Markle', 'email': 'SMARKLE', 'phone': '650.124.1434', 'hdate': '2008-03-08', 'jobid': 'ST_CLERK', 'sal': '2200', 'comm': '', 'mgrid': '120', 'deptid': '50\\n'}, {'empid': '129', 'fname': 'Laura', 'lname': 'Bissot', 'email': 'LBISSOT', 'phone': '650.124.5234', 'hdate': '2005-08-20', 'jobid': 'ST_CLERK', 'sal': '3300', 'comm': '', 'mgrid': '121', 'deptid': '50\\n'}, {'empid': '130', 'fname': 'Mozhe', 'lname': 'Atkinson', 'email': 'MATKINSO', 'phone': '650.124.6234', 'hdate': '2005-10-30', 'jobid': 'ST_CLERK', 'sal': '2800', 'comm': '', 'mgrid': '121', 'deptid': '50\\n'}, {'empid': '131', 'fname': 'James', 'lname': 'Marlow', 'email': 'JAMRLOW', 'phone': '650.124.7234', 'hdate': '2005-02-16', 'jobid': 'ST_CLERK', 'sal': '2500', 'comm': '', 'mgrid': '121', 'deptid': '50\\n'}, {'empid': '132', 'fname': 'TJ', 'lname': 'Olson', 'email': 'TJOLSON', 'phone': '650.124.8234', 'hdate': '2007-04-10', 'jobid': 'ST_CLERK', 'sal': '2100', 'comm': '', 'mgrid': '121', 'deptid': '50\\n'}, {'empid': '133', 'fname': 'Jason', 'lname': 'Mallin', 'email': 'JMALLIN', 'phone': '650.127.1934', 'hdate': '2004-06-14', 'jobid': 'ST_CLERK', 'sal': '3300', 'comm': '', 'mgrid': '122', 'deptid': '50\\n'}, {'empid': '134', 'fname': 'Michael', 'lname': 'Rogers', 'email': 'MROGERS', 'phone': '650.127.1834', 'hdate': '2006-08-26', 'jobid': 'ST_CLERK', 'sal': '2900', 'comm': '', 'mgrid': '122', 'deptid': '50\\n'}, {'empid': '135', 'fname': 'Ki', 'lname': 'Gee', 'email': 'KGEE', 'phone': '650.127.1734', 'hdate': '2007-12-12', 'jobid': 'ST_CLERK', 'sal': '2400', 'comm': '', 'mgrid': '122', 'deptid': '50\\n'}, {'empid': '136', 'fname': 'Hazel', 'lname': 'Philtanker', 'email': 'HPHILTAN', 'phone': '650.127.1634', 'hdate': '2008-02-06', 'jobid': 'ST_CLERK', 'sal': '2200', 'comm': '', 'mgrid': '122', 'deptid': '50\\n'}, {'empid': '137', 'fname': 'Renske', 'lname': 'Ladwig', 'email': 'RLADWIG', 'phone': '650.121.1234', 'hdate': '2003-07-14', 'jobid': 'ST_CLERK', 'sal': '3600', 'comm': '', 'mgrid': '123', 'deptid': '50\\n'}, {'empid': '138', 'fname': 'Stephen', 'lname': 'Stiles', 'email': 'SSTILES', 'phone': '650.121.2034', 'hdate': '2005-10-26', 'jobid': 'ST_CLERK', 'sal': '3200', 'comm': '', 'mgrid': '123', 'deptid': '50\\n'}, {'empid': '139', 'fname': 'John', 'lname': 'Seo', 'email': 'JSEO', 'phone': '650.121.2019', 'hdate': '2006-02-12', 'jobid': 'ST_CLERK', 'sal': '2700', 'comm': '', 'mgrid': '123', 'deptid': '50\\n'}, {'empid': '140', 'fname': 'Joshua', 'lname': 'Patel', 'email': 'JPATEL', 'phone': '650.121.1834', 'hdate': '2006-04-06', 'jobid': 'ST_CLERK', 'sal': '2500', 'comm': '', 'mgrid': '123', 'deptid': '50\\n'}, {'empid': '141', 'fname': 'Trenna', 'lname': 'Rajs', 'email': 'TRAJS', 'phone': '650.121.8009', 'hdate': '2003-10-17', 'jobid': 'ST_CLERK', 'sal': '3500', 'comm': '', 'mgrid': '124', 'deptid': '50\\n'}, {'empid': '142', 'fname': 'Curtis', 'lname': 'Davies', 'email': 'CDAVIES', 'phone': '650.121.2994', 'hdate': '2005-01-29', 'jobid': 'ST_CLERK', 'sal': '3100', 'comm': '', 'mgrid': '124', 'deptid': '50\\n'}, {'empid': '143', 'fname': 'Randall', 'lname': 'Matos', 'email': 'RMATOS', 'phone': '650.121.2874', 'hdate': '2006-03-15', 'jobid': 'ST_CLERK', 'sal': '2600', 'comm': '', 'mgrid': '124', 'deptid': '50\\n'}, {'empid': '144', 'fname': 'Peter', 'lname': 'Vargas', 'email': 'PVARGAS', 'phone': '650.121.2004', 'hdate': '2006-07-09', 'jobid': 'ST_CLERK', 'sal': '2500', 'comm': '', 'mgrid': '124', 'deptid': '50\\n'}, {'empid': '145', 'fname': 'John', 'lname': 'Russell', 'email': 'JRUSSEL', 'phone': '011.44.1344.429268', 'hdate': '2004-10-01', 'jobid': 'SA_MAN', 'sal': '14000', 'comm': '0.4', 'mgrid': '100', 'deptid': '80\\n'}, {'empid': '146', 'fname': 'Karen', 'lname': 'Partners', 'email': 'KPARTNER', 'phone': '011.44.1344.467268', 'hdate': '2005-01-05', 'jobid': 'SA_MAN', 'sal': '13500', 'comm': '0.3', 'mgrid': '100', 'deptid': '80\\n'}, {'empid': '147', 'fname': 'Alberto', 'lname': 'Errazuriz', 'email': 'AERRAZUR', 'phone': '011.44.1344.429278', 'hdate': '2005-03-10', 'jobid': 'SA_MAN', 'sal': '12000', 'comm': '0.3', 'mgrid': '100', 'deptid': '80\\n'}, {'empid': '148', 'fname': 'Gerald', 'lname': 'Cambrault', 'email': 'GCAMBRAU', 'phone': '011.44.1344.619268', 'hdate': '2007-10-15', 'jobid': 'SA_MAN', 'sal': '11000', 'comm': '0.3', 'mgrid': '100', 'deptid': '80\\n'}, {'empid': '149', 'fname': 'Eleni', 'lname': 'Zlotkey', 'email': 'EZLOTKEY', 'phone': '011.44.1344.429018', 'hdate': '2008-01-29', 'jobid': 'SA_MAN', 'sal': '10500', 'comm': '0.2', 'mgrid': '100', 'deptid': '80\\n'}, {'empid': '150', 'fname': 'Peter', 'lname': 'Tucker', 'email': 'PTUCKER', 'phone': '011.44.1344.129268', 'hdate': '2005-01-30', 'jobid': 'SA_REP', 'sal': '10000', 'comm': '0.3', 'mgrid': '145', 'deptid': '80\\n'}, {'empid': '151', 'fname': 'David', 'lname': 'Bernstein', 'email': 'DBERNSTE', 'phone': '011.44.1344.345268', 'hdate': '2005-03-24', 'jobid': 'SA_REP', 'sal': '9500', 'comm': '0.25', 'mgrid': '145', 'deptid': '80\\n'}, {'empid': '152', 'fname': 'Peter', 'lname': 'Hall', 'email': 'PHALL', 'phone': '011.44.1344.478968', 'hdate': '2005-08-20', 'jobid': 'SA_REP', 'sal': '9000', 'comm': '0.25', 'mgrid': '145', 'deptid': '80\\n'}, {'empid': '153', 'fname': 'Christopher', 'lname': 'Olsen', 'email': 'COLSEN', 'phone': '011.44.1344.498718', 'hdate': '2006-03-30', 'jobid': 'SA_REP', 'sal': '8000', 'comm': '0.2', 'mgrid': '145', 'deptid': '80\\n'}, {'empid': '154', 'fname': 'Nanette', 'lname': 'Cambrault', 'email': 'NCAMBRAU', 'phone': '011.44.1344.987668', 'hdate': '2006-12-09', 'jobid': 'SA_REP', 'sal': '7500', 'comm': '0.2', 'mgrid': '145', 'deptid': '80\\n'}, {'empid': '155', 'fname': 'Oliver', 'lname': 'Tuvault', 'email': 'OTUVAULT', 'phone': '011.44.1344.486508', 'hdate': '2007-11-23', 'jobid': 'SA_REP', 'sal': '7000', 'comm': '0.15', 'mgrid': '145', 'deptid': '80\\n'}, {'empid': '156', 'fname': 'Janette', 'lname': 'King', 'email': 'JKING', 'phone': '011.44.1345.429268', 'hdate': '2004-01-30', 'jobid': 'SA_REP', 'sal': '10000', 'comm': '0.35', 'mgrid': '146', 'deptid': '80\\n'}, {'empid': '157', 'fname': 'Patrick', 'lname': 'Sully', 'email': 'PSULLY', 'phone': '011.44.1345.929268', 'hdate': '2004-03-04', 'jobid': 'SA_REP', 'sal': '9500', 'comm': '0.35', 'mgrid': '146', 'deptid': '80\\n'}, {'empid': '158', 'fname': 'Allan', 'lname': 'McEwen', 'email': 'AMCEWEN', 'phone': '011.44.1345.829268', 'hdate': '2004-08-01', 'jobid': 'SA_REP', 'sal': '9000', 'comm': '0.35', 'mgrid': '146', 'deptid': '80\\n'}, {'empid': '159', 'fname': 'Lindsey', 'lname': 'Smith', 'email': 'LSMITH', 'phone': '011.44.1345.729268', 'hdate': '2005-03-10', 'jobid': 'SA_REP', 'sal': '8000', 'comm': '0.3', 'mgrid': '146', 'deptid': '80\\n'}, {'empid': '160', 'fname': 'Louise', 'lname': 'Doran', 'email': 'LDORAN', 'phone': '011.44.1345.629268', 'hdate': '2005-12-15', 'jobid': 'SA_REP', 'sal': '7500', 'comm': '0.3', 'mgrid': '146', 'deptid': '80\\n'}, {'empid': '161', 'fname': 'Sarath', 'lname': 'Sewall', 'email': 'SSEWALL', 'phone': '011.44.1345.529268', 'hdate': '2006-11-03', 'jobid': 'SA_REP', 'sal': '7000', 'comm': '0.25', 'mgrid': '146', 'deptid': '80\\n'}, {'empid': '162', 'fname': 'Clara', 'lname': 'Vishney', 'email': 'CVISHNEY', 'phone': '011.44.1346.129268', 'hdate': '2005-11-11', 'jobid': 'SA_REP', 'sal': '10500', 'comm': '0.25', 'mgrid': '147', 'deptid': '80\\n'}, {'empid': '163', 'fname': 'Danielle', 'lname': 'Greene', 'email': 'DGREENE', 'phone': '011.44.1346.229268', 'hdate': '2007-03-19', 'jobid': 'SA_REP', 'sal': '9500', 'comm': '0.15', 'mgrid': '147', 'deptid': '80\\n'}, {'empid': '164', 'fname': 'Mattea', 'lname': 'Marvins', 'email': 'MMARVINS', 'phone': '011.44.1346.329268', 'hdate': '2008-01-24', 'jobid': 'SA_REP', 'sal': '7200', 'comm': '0.1', 'mgrid': '147', 'deptid': '80\\n'}, {'empid': '165', 'fname': 'David', 'lname': 'Lee', 'email': 'DLEE', 'phone': '011.44.1346.529268', 'hdate': '2008-02-23', 'jobid': 'SA_REP', 'sal': '6800', 'comm': '0.1', 'mgrid': '147', 'deptid': '80\\n'}, {'empid': '166', 'fname': 'Sundar', 'lname': 'Ande', 'email': 'SANDE', 'phone': '011.44.1346.629268', 'hdate': '2008-03-24', 'jobid': 'SA_REP', 'sal': '6400', 'comm': '0.1', 'mgrid': '147', 'deptid': '80\\n'}, {'empid': '167', 'fname': 'Amit', 'lname': 'Banda', 'email': 'ABANDA', 'phone': '011.44.1346.729268', 'hdate': '2008-04-21', 'jobid': 'SA_REP', 'sal': '6200', 'comm': '0.1', 'mgrid': '147', 'deptid': '80\\n'}, {'empid': '168', 'fname': 'Lisa', 'lname': 'Ozer', 'email': 'LOZER', 'phone': '011.44.1343.929268', 'hdate': '2005-03-11', 'jobid': 'SA_REP', 'sal': '11500', 'comm': '0.25', 'mgrid': '148', 'deptid': '80\\n'}, {'empid': '169', 'fname': 'Harrison', 'lname': 'Bloom', 'email': 'HBLOOM', 'phone': '011.44.1343.829268', 'hdate': '2006-03-23', 'jobid': 'SA_REP', 'sal': '10000', 'comm': '0.2', 'mgrid': '148', 'deptid': '80\\n'}, {'empid': '170', 'fname': 'Tayler', 'lname': 'Fox', 'email': 'TFOX', 'phone': '011.44.1343.729268', 'hdate': '2006-01-24', 'jobid': 'SA_REP', 'sal': '9600', 'comm': '0.2', 'mgrid': '148', 'deptid': '80\\n'}, {'empid': '171', 'fname': 'William', 'lname': 'Smith', 'email': 'WSMITH', 'phone': '011.44.1343.629268', 'hdate': '2007-02-23', 'jobid': 'SA_REP', 'sal': '7400', 'comm': '0.15', 'mgrid': '148', 'deptid': '80\\n'}, {'empid': '172', 'fname': 'Elizabeth', 'lname': 'Bates', 'email': 'EBATES', 'phone': '011.44.1343.529268', 'hdate': '2007-03-24', 'jobid': 'SA_REP', 'sal': '7300', 'comm': '0.15', 'mgrid': '148', 'deptid': '80\\n'}, {'empid': '173', 'fname': 'Sundita', 'lname': 'Kumar', 'email': 'SKUMAR', 'phone': '011.44.1343.329268', 'hdate': '2008-04-21', 'jobid': 'SA_REP', 'sal': '6100', 'comm': '0.1', 'mgrid': '148', 'deptid': '80\\n'}, {'empid': '174', 'fname': 'Ellen', 'lname': 'Abel', 'email': 'EABEL', 'phone': '011.44.1644.429267', 'hdate': '2004-05-11', 'jobid': 'SA_REP', 'sal': '11000', 'comm': '0.3', 'mgrid': '149', 'deptid': '80\\n'}, {'empid': '175', 'fname': 'Alyssa', 'lname': 'Hutton', 'email': 'AHUTTON', 'phone': '011.44.1644.429266', 'hdate': '2005-03-19', 'jobid': 'SA_REP', 'sal': '8800', 'comm': '0.25', 'mgrid': '149', 'deptid': '80\\n'}, {'empid': '176', 'fname': 'Jonathon', 'lname': 'Taylor', 'email': 'JTAYLOR', 'phone': '011.44.1644.429265', 'hdate': '2006-03-24', 'jobid': 'SA_REP', 'sal': '8600', 'comm': '0.2', 'mgrid': '149', 'deptid': '80\\n'}, {'empid': '177', 'fname': 'Jack', 'lname': 'Livingston', 'email': 'JLIVINGS', 'phone': '011.44.1644.429264', 'hdate': '2006-04-23', 'jobid': 'SA_REP', 'sal': '8400', 'comm': '0.2', 'mgrid': '149', 'deptid': '80\\n'}, {'empid': '178', 'fname': 'Kimberely', 'lname': 'Grant', 'email': 'KGRANT', 'phone': '011.44.1644.429263', 'hdate': '2007-05-24', 'jobid': 'SA_REP', 'sal': '7000', 'comm': '0.15', 'mgrid': '149', 'deptid': '\\n'}, {'empid': '179', 'fname': 'Charles', 'lname': 'Johnson', 'email': 'CJOHNSON', 'phone': '011.44.1644.429262', 'hdate': '2008-01-04', 'jobid': 'SA_REP', 'sal': '6200', 'comm': '0.1', 'mgrid': '149', 'deptid': '80\\n'}, {'empid': '180', 'fname': 'Winston', 'lname': 'Taylor', 'email': 'WTAYLOR', 'phone': '650.507.9876', 'hdate': '2006-01-24', 'jobid': 'SH_CLERK', 'sal': '3200', 'comm': '', 'mgrid': '120', 'deptid': '50\\n'}, {'empid': '181', 'fname': 'Jean', 'lname': 'Fleaur', 'email': 'JFLEAUR', 'phone': '650.507.9877', 'hdate': '2006-02-23', 'jobid': 'SH_CLERK', 'sal': '3100', 'comm': '', 'mgrid': '120', 'deptid': '50\\n'}, {'empid': '182', 'fname': 'Martha', 'lname': 'Sullivan', 'email': 'MSULLIVA', 'phone': '650.507.9878', 'hdate': '2007-06-21', 'jobid': 'SH_CLERK', 'sal': '2500', 'comm': '', 'mgrid': '120', 'deptid': '50\\n'}, {'empid': '183', 'fname': 'Girard', 'lname': 'Geoni', 'email': 'GGEONI', 'phone': '650.507.9879', 'hdate': '2008-02-03', 'jobid': 'SH_CLERK', 'sal': '2800', 'comm': '', 'mgrid': '120', 'deptid': '50\\n'}, {'empid': '184', 'fname': 'Nandita', 'lname': 'Sarchand', 'email': 'NSARCHAN', 'phone': '650.509.1876', 'hdate': '2004-01-27', 'jobid': 'SH_CLERK', 'sal': '4200', 'comm': '', 'mgrid': '121', 'deptid': '50\\n'}, {'empid': '185', 'fname': 'Alexis', 'lname': 'Bull', 'email': 'ABULL', 'phone': '650.509.2876', 'hdate': '2005-02-20', 'jobid': 'SH_CLERK', 'sal': '4100', 'comm': '', 'mgrid': '121', 'deptid': '50\\n'}, {'empid': '186', 'fname': 'Julia', 'lname': 'Dellinger', 'email': 'JDELLING', 'phone': '650.509.3876', 'hdate': '2006-06-24', 'jobid': 'SH_CLERK', 'sal': '3400', 'comm': '', 'mgrid': '121', 'deptid': '50\\n'}, {'empid': '187', 'fname': 'Anthony', 'lname': 'Cabrio', 'email': 'ACABRIO', 'phone': '650.509.4876', 'hdate': '2007-02-07', 'jobid': 'SH_CLERK', 'sal': '3000', 'comm': '', 'mgrid': '121', 'deptid': '50\\n'}, {'empid': '188', 'fname': 'Kelly', 'lname': 'Chung', 'email': 'KCHUNG', 'phone': '650.505.1876', 'hdate': '2005-06-14', 'jobid': 'SH_CLERK', 'sal': '3800', 'comm': '', 'mgrid': '122', 'deptid': '50\\n'}, {'empid': '189', 'fname': 'Jennifer', 'lname': 'Dilly', 'email': 'JDILLY', 'phone': '650.505.2876', 'hdate': '2005-08-13', 'jobid': 'SH_CLERK', 'sal': '3600', 'comm': '', 'mgrid': '122', 'deptid': '50\\n'}, {'empid': '190', 'fname': 'Timothy', 'lname': 'Gates', 'email': 'TGATES', 'phone': '650.505.3876', 'hdate': '2006-07-11', 'jobid': 'SH_CLERK', 'sal': '2900', 'comm': '', 'mgrid': '122', 'deptid': '50\\n'}, {'empid': '191', 'fname': 'Randall', 'lname': 'Perkins', 'email': 'RPERKINS', 'phone': '650.505.4876', 'hdate': '2007-12-19', 'jobid': 'SH_CLERK', 'sal': '2500', 'comm': '', 'mgrid': '122', 'deptid': '50\\n'}, {'empid': '192', 'fname': 'Sarah', 'lname': 'Bell', 'email': 'SBELL', 'phone': '650.501.1876', 'hdate': '2004-02-04', 'jobid': 'SH_CLERK', 'sal': '4000', 'comm': '', 'mgrid': '123', 'deptid': '50\\n'}, {'empid': '193', 'fname': 'Britney', 'lname': 'Everett', 'email': 'BEVERETT', 'phone': '650.501.2876', 'hdate': '2005-03-03', 'jobid': 'SH_CLERK', 'sal': '3900', 'comm': '', 'mgrid': '123', 'deptid': '50\\n'}, {'empid': '194', 'fname': 'Samuel', 'lname': 'McCain', 'email': 'SMCCAIN', 'phone': '650.501.3876', 'hdate': '2006-07-01', 'jobid': 'SH_CLERK', 'sal': '3200', 'comm': '', 'mgrid': '123', 'deptid': '50\\n'}, {'empid': '195', 'fname': 'Vance', 'lname': 'Jones', 'email': 'VJONES', 'phone': '650.501.4876', 'hdate': '2007-03-17', 'jobid': 'SH_CLERK', 'sal': '2800', 'comm': '', 'mgrid': '123', 'deptid': '50\\n'}, {'empid': '196', 'fname': 'Alana', 'lname': 'Walsh', 'email': 'AWALSH', 'phone': '650.507.9811', 'hdate': '2006-04-24', 'jobid': 'SH_CLERK', 'sal': '3100', 'comm': '', 'mgrid': '124', 'deptid': '50\\n'}, {'empid': '197', 'fname': 'Kevin', 'lname': 'Feeney', 'email': 'KFEENEY', 'phone': '650.507.9822', 'hdate': '2006-05-23', 'jobid': 'SH_CLERK', 'sal': '3000', 'comm': '', 'mgrid': '124', 'deptid': '50\\n'}, {'empid': '198', 'fname': 'Donald', 'lname': 'OConnell', 'email': 'DOCONNEL', 'phone': '650.507.9833', 'hdate': '2007-06-21', 'jobid': 'SH_CLERK', 'sal': '2600', 'comm': '', 'mgrid': '124', 'deptid': '50\\n'}, {'empid': '199', 'fname': 'Douglas', 'lname': 'Grant', 'email': 'DGRANT', 'phone': '650.507.9844', 'hdate': '2008-01-13', 'jobid': 'SH_CLERK', 'sal': '2600', 'comm': '', 'mgrid': '124', 'deptid': '50\\n'}, {'empid': '200', 'fname': 'Jennifer', 'lname': 'Whalen', 'email': 'JWHALEN', 'phone': '515.123.4444', 'hdate': '2003-09-17', 'jobid': 'AD_ASST', 'sal': '4400', 'comm': '', 'mgrid': '101', 'deptid': '10\\n'}, {'empid': '201', 'fname': 'Michael', 'lname': 'Hartstein', 'email': 'MHARTSTE', 'phone': '515.123.5555', 'hdate': '2004-02-17', 'jobid': 'MK_MAN', 'sal': '13000', 'comm': '', 'mgrid': '100', 'deptid': '20\\n'}, {'empid': '202', 'fname': 'Pat', 'lname': 'Fay', 'email': 'PFAY', 'phone': '603.123.6666', 'hdate': '2005-08-17', 'jobid': 'MK_REP', 'sal': '6000', 'comm': '', 'mgrid': '201', 'deptid': '20\\n'}, {'empid': '203', 'fname': 'Susan', 'lname': 'Mavris', 'email': 'SMAVRIS', 'phone': '515.123.7777', 'hdate': '2002-06-07', 'jobid': 'HR_REP', 'sal': '6500', 'comm': '', 'mgrid': '101', 'deptid': '40\\n'}, {'empid': '204', 'fname': 'Hermann', 'lname': 'Baer', 'email': 'HBAER', 'phone': '515.123.8888', 'hdate': '2002-06-07', 'jobid': 'PR_REP', 'sal': '10000', 'comm': '', 'mgrid': '101', 'deptid': '70\\n'}, {'empid': '205', 'fname': 'Shelley', 'lname': 'Higgins', 'email': 'SHIGGINS', 'phone': '515.123.8080', 'hdate': '2002-06-07', 'jobid': 'AC_MGR', 'sal': '12008', 'comm': '', 'mgrid': '101', 'deptid': '110\\n'}, {'empid': '206', 'fname': 'William', 'lname': 'Gietz', 'email': 'WGIETZ', 'phone': '515.123.8181', 'hdate': '2002-06-07', 'jobid': 'AC_ACCOUNT', 'sal': '8300', 'comm': '', 'mgrid': '205', 'deptid': '110\\n'}]\n"
     ]
    }
   ],
   "source": [
    "###Employees.csv의 모든 데이터를 딕셔너리형으로 정의 <--------------------------------------------------최종(답안!)\n",
    "###딕셔너리는 각 항목에 대해 여러 데이터를 쌓는 기능이 없음!! <- 대전제!!\n",
    "### ===> 따라서, 특정 딕셔너리를 광역변수로 선언하게 되면 추가 데이터 삽입 시 엎어쳐짐\n",
    "\n",
    "emplist=[]\n",
    "empkey=['empid','fname','lname','email','phone','hdate','jobid','sal','comm','mgrid','deptid']\n",
    "\n",
    "with open('EMPLOYEES.csv') as f: #EMPLOYEES.csv 파일을 읽기전용으로 오픈한 후\n",
    "    for lines in f: #한줄씩 읽은 다음\n",
    "        item=lines.split(',') #item 리스트에 넣고\n",
    "        emp={} #이렇게 안에다 써서 지역변수화 시켜야 함 (위 emplist=[] 밑에 쓰면 안됨!!)\n",
    "        for i in  range(len(empkey)):\n",
    "            emp[empkey[i]]=item[i]\n",
    "        emplist.append(emp)\n",
    "print(emplist)"
   ]
  },
  {
   "cell_type": "code",
   "execution_count": 3,
   "metadata": {},
   "outputs": [
    {
     "name": "stdout",
     "output_type": "stream",
     "text": [
      "EMPLOYEE_ID/FIRST_NAME/LAST_NAME/EMAIL/PHONE_NUMBER/HIRE_DATE/JOB_ID/SALARY/COMMISSION_PCT/MANAGER_ID/DEPARTMENT_ID\n",
      "/100/Steven/King/SKING/515.123.4567/2003-06-17/AD_PRES/24000///90\n",
      "/101/Neena/Kochhar/NKOCHHAR/515.123.4568/2005-09-21/AD_VP/17000//100/90\n",
      "/102/Lex/De Haan/LDEHAAN/515.123.4569/2001-01-13/AD_VP/17000//100/90\n",
      "/103/Alexander/Hunold/AHUNOLD/590.423.4567/2006-01-03/IT_PROG/9000//102/60\n",
      "/104/Bruce/Ernst/BERNST/590.423.4568/2007-05-21/IT_PROG/6000//103/60\n",
      "/105/David/Austin/DAUSTIN/590.423.4569/2005-06-25/IT_PROG/4800//103/60\n",
      "/106/Valli/Pataballa/VPATABAL/590.423.4560/2006-02-05/IT_PROG/4800//103/60\n",
      "/107/Diana/Lorentz/DLORENTZ/590.423.5567/2007-02-07/IT_PROG/4200//103/60\n",
      "/108/Nancy/Greenberg/NGREENBE/515.124.4569/2002-08-17/FI_MGR/12008//101/100\n",
      "/109/Daniel/Faviet/DFAVIET/515.124.4169/2002-08-16/FI_ACCOUNT/9000//108/100\n",
      "/110/John/Chen/JCHEN/515.124.4269/2005-09-28/FI_ACCOUNT/8200//108/100\n",
      "/111/Ismael/Sciarra/ISCIARRA/515.124.4369/2005-09-30/FI_ACCOUNT/7700//108/100\n",
      "/112/Jose Manuel/Urman/JMURMAN/515.124.4469/2006-03-07/FI_ACCOUNT/7800//108/100\n",
      "/113/Luis/Popp/LPOPP/515.124.4567/2007-12-07/FI_ACCOUNT/6900//108/100\n",
      "/114/Den/Raphaely/DRAPHEAL/515.127.4561/2002-12-07/PU_MAN/11000//100/30\n",
      "/115/Alexander/Khoo/AKHOO/515.127.4562/2003-05-18/PU_CLERK/3100//114/30\n",
      "/116/Shelli/Baida/SBAIDA/515.127.4563/2005-12-24/PU_CLERK/2900//114/30\n",
      "/117/Sigal/Tobias/STOBIAS/515.127.4564/2005-07-24/PU_CLERK/2800//114/30\n",
      "/118/Guy/Himuro/GHIMURO/515.127.4565/2006-11-15/PU_CLERK/2600//114/30\n",
      "/119/Karen/Colmenares/KCOLMENA/515.127.4566/2007-08-10/PU_CLERK/2500//114/30\n",
      "/120/Matthew/Weiss/MWEISS/650.123.1234/2004-07-18/ST_MAN/8000//100/50\n",
      "/121/Adam/Fripp/AFRIPP/650.123.2234/2005-04-10/ST_MAN/8200//100/50\n",
      "/122/Payam/Kaufling/PKAUFLIN/650.123.3234/2003-05-01/ST_MAN/7900//100/50\n",
      "/123/Shanta/Vollman/SVOLLMAN/650.123.4234/2005-10-10/ST_MAN/6500//100/50\n",
      "/124/Kevin/Mourgos/KMOURGOS/650.123.5234/2007-11-16/ST_MAN/5800//100/50\n",
      "/125/Julia/Nayer/JNAYER/650.124.1214/2005-07-16/ST_CLERK/3200//120/50\n",
      "/126/Irene/Mikkilineni/IMIKKILI/650.124.1224/2006-09-28/ST_CLERK/2700//120/50\n",
      "/127/James/Landry/JLANDRY/650.124.1334/2007-01-14/ST_CLERK/2400//120/50\n",
      "/128/Steven/Markle/SMARKLE/650.124.1434/2008-03-08/ST_CLERK/2200//120/50\n",
      "/129/Laura/Bissot/LBISSOT/650.124.5234/2005-08-20/ST_CLERK/3300//121/50\n",
      "/130/Mozhe/Atkinson/MATKINSO/650.124.6234/2005-10-30/ST_CLERK/2800//121/50\n",
      "/131/James/Marlow/JAMRLOW/650.124.7234/2005-02-16/ST_CLERK/2500//121/50\n",
      "/132/TJ/Olson/TJOLSON/650.124.8234/2007-04-10/ST_CLERK/2100//121/50\n",
      "/133/Jason/Mallin/JMALLIN/650.127.1934/2004-06-14/ST_CLERK/3300//122/50\n",
      "/134/Michael/Rogers/MROGERS/650.127.1834/2006-08-26/ST_CLERK/2900//122/50\n",
      "/135/Ki/Gee/KGEE/650.127.1734/2007-12-12/ST_CLERK/2400//122/50\n",
      "/136/Hazel/Philtanker/HPHILTAN/650.127.1634/2008-02-06/ST_CLERK/2200//122/50\n",
      "/137/Renske/Ladwig/RLADWIG/650.121.1234/2003-07-14/ST_CLERK/3600//123/50\n",
      "/138/Stephen/Stiles/SSTILES/650.121.2034/2005-10-26/ST_CLERK/3200//123/50\n",
      "/139/John/Seo/JSEO/650.121.2019/2006-02-12/ST_CLERK/2700//123/50\n",
      "/140/Joshua/Patel/JPATEL/650.121.1834/2006-04-06/ST_CLERK/2500//123/50\n",
      "/141/Trenna/Rajs/TRAJS/650.121.8009/2003-10-17/ST_CLERK/3500//124/50\n",
      "/142/Curtis/Davies/CDAVIES/650.121.2994/2005-01-29/ST_CLERK/3100//124/50\n",
      "/143/Randall/Matos/RMATOS/650.121.2874/2006-03-15/ST_CLERK/2600//124/50\n",
      "/144/Peter/Vargas/PVARGAS/650.121.2004/2006-07-09/ST_CLERK/2500//124/50\n",
      "/145/John/Russell/JRUSSEL/011.44.1344.429268/2004-10-01/SA_MAN/14000/0.4/100/80\n",
      "/146/Karen/Partners/KPARTNER/011.44.1344.467268/2005-01-05/SA_MAN/13500/0.3/100/80\n",
      "/147/Alberto/Errazuriz/AERRAZUR/011.44.1344.429278/2005-03-10/SA_MAN/12000/0.3/100/80\n",
      "/148/Gerald/Cambrault/GCAMBRAU/011.44.1344.619268/2007-10-15/SA_MAN/11000/0.3/100/80\n",
      "/149/Eleni/Zlotkey/EZLOTKEY/011.44.1344.429018/2008-01-29/SA_MAN/10500/0.2/100/80\n",
      "/150/Peter/Tucker/PTUCKER/011.44.1344.129268/2005-01-30/SA_REP/10000/0.3/145/80\n",
      "/151/David/Bernstein/DBERNSTE/011.44.1344.345268/2005-03-24/SA_REP/9500/0.25/145/80\n",
      "/152/Peter/Hall/PHALL/011.44.1344.478968/2005-08-20/SA_REP/9000/0.25/145/80\n",
      "/153/Christopher/Olsen/COLSEN/011.44.1344.498718/2006-03-30/SA_REP/8000/0.2/145/80\n",
      "/154/Nanette/Cambrault/NCAMBRAU/011.44.1344.987668/2006-12-09/SA_REP/7500/0.2/145/80\n",
      "/155/Oliver/Tuvault/OTUVAULT/011.44.1344.486508/2007-11-23/SA_REP/7000/0.15/145/80\n",
      "/156/Janette/King/JKING/011.44.1345.429268/2004-01-30/SA_REP/10000/0.35/146/80\n",
      "/157/Patrick/Sully/PSULLY/011.44.1345.929268/2004-03-04/SA_REP/9500/0.35/146/80\n",
      "/158/Allan/McEwen/AMCEWEN/011.44.1345.829268/2004-08-01/SA_REP/9000/0.35/146/80\n",
      "/159/Lindsey/Smith/LSMITH/011.44.1345.729268/2005-03-10/SA_REP/8000/0.3/146/80\n",
      "/160/Louise/Doran/LDORAN/011.44.1345.629268/2005-12-15/SA_REP/7500/0.3/146/80\n",
      "/161/Sarath/Sewall/SSEWALL/011.44.1345.529268/2006-11-03/SA_REP/7000/0.25/146/80\n",
      "/162/Clara/Vishney/CVISHNEY/011.44.1346.129268/2005-11-11/SA_REP/10500/0.25/147/80\n",
      "/163/Danielle/Greene/DGREENE/011.44.1346.229268/2007-03-19/SA_REP/9500/0.15/147/80\n",
      "/164/Mattea/Marvins/MMARVINS/011.44.1346.329268/2008-01-24/SA_REP/7200/0.1/147/80\n",
      "/165/David/Lee/DLEE/011.44.1346.529268/2008-02-23/SA_REP/6800/0.1/147/80\n",
      "/166/Sundar/Ande/SANDE/011.44.1346.629268/2008-03-24/SA_REP/6400/0.1/147/80\n",
      "/167/Amit/Banda/ABANDA/011.44.1346.729268/2008-04-21/SA_REP/6200/0.1/147/80\n",
      "/168/Lisa/Ozer/LOZER/011.44.1343.929268/2005-03-11/SA_REP/11500/0.25/148/80\n",
      "/169/Harrison/Bloom/HBLOOM/011.44.1343.829268/2006-03-23/SA_REP/10000/0.2/148/80\n",
      "/170/Tayler/Fox/TFOX/011.44.1343.729268/2006-01-24/SA_REP/9600/0.2/148/80\n",
      "/171/William/Smith/WSMITH/011.44.1343.629268/2007-02-23/SA_REP/7400/0.15/148/80\n",
      "/172/Elizabeth/Bates/EBATES/011.44.1343.529268/2007-03-24/SA_REP/7300/0.15/148/80\n",
      "/173/Sundita/Kumar/SKUMAR/011.44.1343.329268/2008-04-21/SA_REP/6100/0.1/148/80\n",
      "/174/Ellen/Abel/EABEL/011.44.1644.429267/2004-05-11/SA_REP/11000/0.3/149/80\n",
      "/175/Alyssa/Hutton/AHUTTON/011.44.1644.429266/2005-03-19/SA_REP/8800/0.25/149/80\n",
      "/176/Jonathon/Taylor/JTAYLOR/011.44.1644.429265/2006-03-24/SA_REP/8600/0.2/149/80\n",
      "/177/Jack/Livingston/JLIVINGS/011.44.1644.429264/2006-04-23/SA_REP/8400/0.2/149/80\n",
      "/178/Kimberely/Grant/KGRANT/011.44.1644.429263/2007-05-24/SA_REP/7000/0.15/149/\n",
      "/179/Charles/Johnson/CJOHNSON/011.44.1644.429262/2008-01-04/SA_REP/6200/0.1/149/80\n",
      "/180/Winston/Taylor/WTAYLOR/650.507.9876/2006-01-24/SH_CLERK/3200//120/50\n",
      "/181/Jean/Fleaur/JFLEAUR/650.507.9877/2006-02-23/SH_CLERK/3100//120/50\n",
      "/182/Martha/Sullivan/MSULLIVA/650.507.9878/2007-06-21/SH_CLERK/2500//120/50\n",
      "/183/Girard/Geoni/GGEONI/650.507.9879/2008-02-03/SH_CLERK/2800//120/50\n",
      "/184/Nandita/Sarchand/NSARCHAN/650.509.1876/2004-01-27/SH_CLERK/4200//121/50\n",
      "/185/Alexis/Bull/ABULL/650.509.2876/2005-02-20/SH_CLERK/4100//121/50\n",
      "/186/Julia/Dellinger/JDELLING/650.509.3876/2006-06-24/SH_CLERK/3400//121/50\n",
      "/187/Anthony/Cabrio/ACABRIO/650.509.4876/2007-02-07/SH_CLERK/3000//121/50\n",
      "/188/Kelly/Chung/KCHUNG/650.505.1876/2005-06-14/SH_CLERK/3800//122/50\n",
      "/189/Jennifer/Dilly/JDILLY/650.505.2876/2005-08-13/SH_CLERK/3600//122/50\n",
      "/190/Timothy/Gates/TGATES/650.505.3876/2006-07-11/SH_CLERK/2900//122/50\n",
      "/191/Randall/Perkins/RPERKINS/650.505.4876/2007-12-19/SH_CLERK/2500//122/50\n",
      "/192/Sarah/Bell/SBELL/650.501.1876/2004-02-04/SH_CLERK/4000//123/50\n",
      "/193/Britney/Everett/BEVERETT/650.501.2876/2005-03-03/SH_CLERK/3900//123/50\n",
      "/194/Samuel/McCain/SMCCAIN/650.501.3876/2006-07-01/SH_CLERK/3200//123/50\n",
      "/195/Vance/Jones/VJONES/650.501.4876/2007-03-17/SH_CLERK/2800//123/50\n",
      "/196/Alana/Walsh/AWALSH/650.507.9811/2006-04-24/SH_CLERK/3100//124/50\n",
      "/197/Kevin/Feeney/KFEENEY/650.507.9822/2006-05-23/SH_CLERK/3000//124/50\n",
      "/198/Donald/OConnell/DOCONNEL/650.507.9833/2007-06-21/SH_CLERK/2600//124/50\n",
      "/199/Douglas/Grant/DGRANT/650.507.9844/2008-01-13/SH_CLERK/2600//124/50\n",
      "/200/Jennifer/Whalen/JWHALEN/515.123.4444/2003-09-17/AD_ASST/4400//101/10\n",
      "/201/Michael/Hartstein/MHARTSTE/515.123.5555/2004-02-17/MK_MAN/13000//100/20\n",
      "/202/Pat/Fay/PFAY/603.123.6666/2005-08-17/MK_REP/6000//201/20\n",
      "/203/Susan/Mavris/SMAVRIS/515.123.7777/2002-06-07/HR_REP/6500//101/40\n",
      "/204/Hermann/Baer/HBAER/515.123.8888/2002-06-07/PR_REP/10000//101/70\n",
      "/205/Shelley/Higgins/SHIGGINS/515.123.8080/2002-06-07/AC_MGR/12008//101/110\n",
      "/206/William/Gietz/WGIETZ/515.123.8181/2002-06-07/AC_ACCOUNT/8300//205/110\n",
      "/\n"
     ]
    }
   ],
   "source": [
    "with open('EMPLOYEES.csv') as f: #EMPLOYEES.csv 파일을 읽기전용으로 오픈한 후\n",
    "    for hi in f: #한줄씩 읽은 다음\n",
    "        item=hi.split(',') #, 단위로 각 항목을 분리한 뒤.. 근데 이건 리스트화 시키는 작업임에 유의!! (리스트1개가 아닌 line개수만큼\n",
    "                                                                                 #                       여러개 list가 생김)\n",
    "        for ho in item:\n",
    "            print(ho,end='/') #분리된 항목을 각각 출력함   \n",
    "    print()"
   ]
  },
  {
   "cell_type": "markdown",
   "metadata": {},
   "source": [
    "# 컴프리헨션comprehension - 반복문 축약\n",
    "\n",
    "### 파이썬에는 4가지 종류 축약법 지원\n",
    "### list(py2), set(py3), dict(py3), generator(py3)\n",
    "\n",
    "### 다양한 데이터 객체에 사용되는 복잡한 구문을 단순하게 작성할 수 있도록 지원하는 기능 "
   ]
  },
  {
   "cell_type": "code",
   "execution_count": 11,
   "metadata": {},
   "outputs": [
    {
     "name": "stdout",
     "output_type": "stream",
     "text": [
      "[1, 2, 3, 4, 5, 6, 7, 8, 9, 10]\n"
     ]
    }
   ],
   "source": [
    "#리스트 적용 축약법\n",
    "#1~10까지 정수를 list에 저장할 경우\n",
    "\n",
    "\n",
    "for i in range(9):\n",
    "    numlist[i]=i+1\n",
    "print(numlist)\n"
   ]
  },
  {
   "cell_type": "code",
   "execution_count": 8,
   "metadata": {},
   "outputs": [
    {
     "name": "stdout",
     "output_type": "stream",
     "text": [
      "140139072996928\n",
      "140139072996992\n",
      "140139072996896\n"
     ]
    }
   ],
   "source": [
    "#a에 값 자체를 저장하는 것이 아닌 값이 저장된 주소값을 저장\n",
    "a=3\n",
    "print(id(a))\n",
    "a=5\n",
    "print(id(a))\n",
    "a=2\n",
    "print(id(a))"
   ]
  },
  {
   "cell_type": "code",
   "execution_count": 12,
   "metadata": {},
   "outputs": [
    {
     "name": "stdout",
     "output_type": "stream",
     "text": [
      "[1, 2, 3, 4, 5, 6, 7, 8, 9, 10]\n"
     ]
    }
   ],
   "source": [
    "for i in range(9):\n",
    "    numlist[i]=i+1\n",
    "print(numlist)"
   ]
  },
  {
   "cell_type": "code",
   "execution_count": 13,
   "metadata": {},
   "outputs": [
    {
     "name": "stdout",
     "output_type": "stream",
     "text": [
      "[1, 2, 3, 4, 5, 6, 7, 8, 9, 10]\n"
     ]
    }
   ],
   "source": [
    "numlist=[]\n",
    "for i in range(1,10+1):\n",
    "    numlist.append(i)\n",
    "print(numlist)"
   ]
  },
  {
   "cell_type": "code",
   "execution_count": 15,
   "metadata": {},
   "outputs": [
    {
     "name": "stdout",
     "output_type": "stream",
     "text": [
      "[1, 2, 3, 4, 5, 6, 7, 8, 9, 10]\n"
     ]
    }
   ],
   "source": [
    "#for 축약문\n",
    "#[표현식 for 항목 in 반복가능객체] <- ㅋㅋ 대박임\n",
    "\n",
    "numlist=[i+1 for i in range(10)]\n",
    "print(numlist)"
   ]
  },
  {
   "cell_type": "code",
   "execution_count": 26,
   "metadata": {},
   "outputs": [
    {
     "name": "stdout",
     "output_type": "stream",
     "text": [
      "[0, 2, 4, 6, 8, 10, 12, 14, 16, 18, 20, 22, 24, 26, 28, 30, 32, 34, 36, 38, 40, 42, 44, 46, 48, 50]\n",
      "\n",
      "[0, 2, 4, 6, 8, 10, 12, 14, 16, 18, 20, 22, 24, 26, 28, 30, 32, 34, 36, 38, 40, 42, 44, 46, 48, 50]\n",
      "\n",
      "[1, 4, 9, 16, 25, 36, 49, 64, 81, 100]\n",
      "\n",
      "[1, 4, 9, 16, 25, 36, 49, 64, 81, 100]\n"
     ]
    }
   ],
   "source": [
    "#0~50 사이 짝수를 리스트에 저장\n",
    "evenlist=[i for i in range(0,50+1,2)]\n",
    "evenlist2=[i*2 for i in range(0,25+1)]\n",
    "#1~10까지 제곱값을 리스트로 생성\n",
    "squarelist=[i*i for i in range(1,10+1)]\n",
    "squarelist2=[i**2 for i in range(1,10+1)]\n",
    "\n",
    "print(evenlist)\n",
    "print()\n",
    "print(evenlist2)\n",
    "print()\n",
    "print(squarelist)\n",
    "print()\n",
    "print(squarelist2)"
   ]
  },
  {
   "cell_type": "code",
   "execution_count": 27,
   "metadata": {},
   "outputs": [
    {
     "ename": "TypeError",
     "evalue": "unsupported operand type(s) for ** or pow(): 'str' and 'int'",
     "output_type": "error",
     "traceback": [
      "\u001b[0;31m---------------------------------------------------------------------------\u001b[0m",
      "\u001b[0;31mTypeError\u001b[0m                                 Traceback (most recent call last)",
      "\u001b[0;32m<ipython-input-27-4c62336773bf>\u001b[0m in \u001b[0;36m<module>\u001b[0;34m\u001b[0m\n\u001b[1;32m      1\u001b[0m \u001b[0;31m#다음 리스트를 이용해서 제곱값 구하고 리스트 생성\u001b[0m\u001b[0;34m\u001b[0m\u001b[0;34m\u001b[0m\u001b[0;34m\u001b[0m\u001b[0m\n\u001b[1;32m      2\u001b[0m \u001b[0mval\u001b[0m\u001b[0;34m=\u001b[0m\u001b[0;34m[\u001b[0m\u001b[0;36m1\u001b[0m\u001b[0;34m,\u001b[0m\u001b[0;36m2\u001b[0m\u001b[0;34m,\u001b[0m\u001b[0;34m'a'\u001b[0m\u001b[0;34m,\u001b[0m\u001b[0;32mFalse\u001b[0m\u001b[0;34m,\u001b[0m\u001b[0;36m9\u001b[0m\u001b[0;34m,\u001b[0m\u001b[0;36m100\u001b[0m\u001b[0;34m]\u001b[0m\u001b[0;34m\u001b[0m\u001b[0;34m\u001b[0m\u001b[0m\n\u001b[0;32m----> 3\u001b[0;31m \u001b[0mvallist\u001b[0m\u001b[0;34m=\u001b[0m\u001b[0;34m[\u001b[0m\u001b[0mv\u001b[0m\u001b[0;34m**\u001b[0m\u001b[0;36m2\u001b[0m \u001b[0;32mfor\u001b[0m \u001b[0mv\u001b[0m \u001b[0;32min\u001b[0m \u001b[0mval\u001b[0m\u001b[0;34m]\u001b[0m \u001b[0;31m#val에서 \"하나씩\" 찍어내서 제일 앞 v 변수에 담아서 제곱해서 그대로 가져온다는거 ㅇㅇ\u001b[0m\u001b[0;34m\u001b[0m\u001b[0;34m\u001b[0m\u001b[0m\n\u001b[0m\u001b[1;32m      4\u001b[0m \u001b[0mprint\u001b[0m\u001b[0;34m(\u001b[0m\u001b[0mvallist\u001b[0m\u001b[0;34m)\u001b[0m\u001b[0;34m\u001b[0m\u001b[0;34m\u001b[0m\u001b[0m\n",
      "\u001b[0;32m<ipython-input-27-4c62336773bf>\u001b[0m in \u001b[0;36m<listcomp>\u001b[0;34m(.0)\u001b[0m\n\u001b[1;32m      1\u001b[0m \u001b[0;31m#다음 리스트를 이용해서 제곱값 구하고 리스트 생성\u001b[0m\u001b[0;34m\u001b[0m\u001b[0;34m\u001b[0m\u001b[0;34m\u001b[0m\u001b[0m\n\u001b[1;32m      2\u001b[0m \u001b[0mval\u001b[0m\u001b[0;34m=\u001b[0m\u001b[0;34m[\u001b[0m\u001b[0;36m1\u001b[0m\u001b[0;34m,\u001b[0m\u001b[0;36m2\u001b[0m\u001b[0;34m,\u001b[0m\u001b[0;34m'a'\u001b[0m\u001b[0;34m,\u001b[0m\u001b[0;32mFalse\u001b[0m\u001b[0;34m,\u001b[0m\u001b[0;36m9\u001b[0m\u001b[0;34m,\u001b[0m\u001b[0;36m100\u001b[0m\u001b[0;34m]\u001b[0m\u001b[0;34m\u001b[0m\u001b[0;34m\u001b[0m\u001b[0m\n\u001b[0;32m----> 3\u001b[0;31m \u001b[0mvallist\u001b[0m\u001b[0;34m=\u001b[0m\u001b[0;34m[\u001b[0m\u001b[0mv\u001b[0m\u001b[0;34m**\u001b[0m\u001b[0;36m2\u001b[0m \u001b[0;32mfor\u001b[0m \u001b[0mv\u001b[0m \u001b[0;32min\u001b[0m \u001b[0mval\u001b[0m\u001b[0;34m]\u001b[0m \u001b[0;31m#val에서 \"하나씩\" 찍어내서 제일 앞 v 변수에 담아서 제곱해서 그대로 가져온다는거 ㅇㅇ\u001b[0m\u001b[0;34m\u001b[0m\u001b[0;34m\u001b[0m\u001b[0m\n\u001b[0m\u001b[1;32m      4\u001b[0m \u001b[0mprint\u001b[0m\u001b[0;34m(\u001b[0m\u001b[0mvallist\u001b[0m\u001b[0;34m)\u001b[0m\u001b[0;34m\u001b[0m\u001b[0;34m\u001b[0m\u001b[0m\n",
      "\u001b[0;31mTypeError\u001b[0m: unsupported operand type(s) for ** or pow(): 'str' and 'int'"
     ]
    }
   ],
   "source": [
    "#다음 리스트를 이용해서 제곱값 구하고 리스트 생성\n",
    "val=[1,2,'a',False,9,100]\n",
    "vallist=[v**2 for v in val] #val에서 \"하나씩\" 찍어내서 제일 앞 v 변수에 담아서 제곱해서 그대로 가져온다는거 ㅇㅇ\n",
    "print(vallist)\n",
    "\n",
    "#위에서 에러뜨는 이유는 'a'와 False 때문 ㅎㅎ 계산이 안되는거 (즉 문자나 bool형 값은 산술연산 불가능)"
   ]
  },
  {
   "cell_type": "code",
   "execution_count": 29,
   "metadata": {
    "scrolled": true
   },
   "outputs": [
    {
     "name": "stdout",
     "output_type": "stream",
     "text": [
      "<class 'int'>\n",
      "<class 'int'>\n",
      "<class 'str'>\n",
      "<class 'bool'>\n",
      "<class 'int'>\n",
      "<class 'int'>\n"
     ]
    }
   ],
   "source": [
    "val=[1,2,'a',False,9,100]\n",
    "\n",
    "for v in val:\n",
    "    print(type(v))"
   ]
  },
  {
   "cell_type": "code",
   "execution_count": 30,
   "metadata": {},
   "outputs": [
    {
     "ename": "NameError",
     "evalue": "name 'vallist' is not defined",
     "output_type": "error",
     "traceback": [
      "\u001b[0;31m---------------------------------------------------------------------------\u001b[0m",
      "\u001b[0;31mNameError\u001b[0m                                 Traceback (most recent call last)",
      "\u001b[0;32m<ipython-input-30-273eb684d88a>\u001b[0m in \u001b[0;36m<module>\u001b[0;34m\u001b[0m\n\u001b[1;32m      3\u001b[0m \u001b[0;32mfor\u001b[0m \u001b[0mv\u001b[0m \u001b[0;32min\u001b[0m \u001b[0mval\u001b[0m\u001b[0;34m:\u001b[0m\u001b[0;34m\u001b[0m\u001b[0;34m\u001b[0m\u001b[0m\n\u001b[1;32m      4\u001b[0m     \u001b[0;32mif\u001b[0m \u001b[0mtype\u001b[0m\u001b[0;34m(\u001b[0m\u001b[0mv\u001b[0m\u001b[0;34m)\u001b[0m\u001b[0;34m==\u001b[0m\u001b[0mint\u001b[0m\u001b[0;34m:\u001b[0m \u001b[0;31m#int는 따옴표 빼고 씀\u001b[0m\u001b[0;34m\u001b[0m\u001b[0;34m\u001b[0m\u001b[0m\n\u001b[0;32m----> 5\u001b[0;31m         \u001b[0mvallist\u001b[0m\u001b[0;34m.\u001b[0m\u001b[0mappend\u001b[0m\u001b[0;34m(\u001b[0m\u001b[0mv\u001b[0m\u001b[0;34m**\u001b[0m\u001b[0;36m2\u001b[0m\u001b[0;34m)\u001b[0m\u001b[0;34m\u001b[0m\u001b[0;34m\u001b[0m\u001b[0m\n\u001b[0m\u001b[1;32m      6\u001b[0m \u001b[0mprint\u001b[0m\u001b[0;34m(\u001b[0m\u001b[0mvallist\u001b[0m\u001b[0;34m)\u001b[0m\u001b[0;34m\u001b[0m\u001b[0;34m\u001b[0m\u001b[0m\n",
      "\u001b[0;31mNameError\u001b[0m: name 'vallist' is not defined"
     ]
    }
   ],
   "source": [
    "val=[1,2,'a',False,9,100]\n",
    "\n",
    "for v in val:\n",
    "    if type(v)==int: #int는 따옴표 빼고 씀\n",
    "        vallist.append(v**2)\n",
    "print(vallist)"
   ]
  },
  {
   "cell_type": "code",
   "execution_count": 31,
   "metadata": {},
   "outputs": [
    {
     "name": "stdout",
     "output_type": "stream",
     "text": [
      "[1, 4, 81, 10000]\n"
     ]
    }
   ],
   "source": [
    "val=[1,2,'a',False,9,100]\n",
    "vallist=[]\n",
    "\n",
    "for v in val:\n",
    "    if type(v)==int: #int는 따옴표 빼고 씀\n",
    "        vallist.append(v**2)\n",
    "print(vallist)"
   ]
  },
  {
   "cell_type": "code",
   "execution_count": 32,
   "metadata": {},
   "outputs": [
    {
     "ename": "SyntaxError",
     "evalue": "invalid syntax (<ipython-input-32-1a0d56504aa9>, line 4)",
     "output_type": "error",
     "traceback": [
      "\u001b[0;36m  File \u001b[0;32m\"<ipython-input-32-1a0d56504aa9>\"\u001b[0;36m, line \u001b[0;32m4\u001b[0m\n\u001b[0;31m    vallist=[v**2 for v in val: if type(v)==int]\u001b[0m\n\u001b[0m                              ^\u001b[0m\n\u001b[0;31mSyntaxError\u001b[0m\u001b[0;31m:\u001b[0m invalid syntax\n"
     ]
    }
   ],
   "source": [
    "val=[1,2,'a',False,9,100]\n",
    "vallist=[]\n",
    "\n",
    "vallist=[v**2 for v in val: if type(v)==int]\n",
    "print(vallist)"
   ]
  },
  {
   "cell_type": "code",
   "execution_count": 34,
   "metadata": {},
   "outputs": [
    {
     "name": "stdout",
     "output_type": "stream",
     "text": [
      "[1, 4, 81, 10000]\n"
     ]
    }
   ],
   "source": [
    "val=[1,2,'a',False,9,100]\n",
    "vallist=[]\n",
    "\n",
    "vallist=[v**2 for v in val if type(v)==int]\n",
    "print(vallist)"
   ]
  },
  {
   "cell_type": "code",
   "execution_count": 35,
   "metadata": {},
   "outputs": [
    {
     "name": "stdout",
     "output_type": "stream",
     "text": [
      "[1, 3, 5, 7, 9, 11, 13, 15, 17, 19, 21, 23, 25, 27, 29, 31, 33, 35, 37, 39, 41, 43, 45, 47, 49]\n"
     ]
    }
   ],
   "source": [
    "#1~50 사이 홀수만 골라서 리스트로 생성\n",
    "\n",
    "oddlist=[o for o in range(1,50+1) if o%2!=0]\n",
    "print(oddlist)\n",
    "\n"
   ]
  },
  {
   "cell_type": "code",
   "execution_count": 53,
   "metadata": {},
   "outputs": [
    {
     "name": "stdout",
     "output_type": "stream",
     "text": [
      "['odd', 'even', 'odd', 'even', 'odd', 'even', 'odd', 'even', 'odd', 'even', 'odd', 'even', 'odd', 'even', 'odd', 'even', 'odd', 'even', 'odd', 'even', 'odd', 'even', 'odd', 'even', 'odd', 'even', 'odd', 'even', 'odd', 'even', 'odd', 'even', 'odd', 'even', 'odd', 'even', 'odd', 'even', 'odd', 'even', 'odd', 'even', 'odd', 'even', 'odd', 'even', 'odd', 'even', 'odd', 'even', 'odd', 'even', 'odd', 'even', 'odd', 'even', 'odd', 'even', 'odd', 'even', 'odd', 'even', 'odd', 'even', 'odd', 'even', 'odd', 'even', 'odd', 'even', 'odd', 'even', 'odd', 'even', 'odd', 'even', 'odd', 'even', 'odd', 'even', 'odd', 'even', 'odd', 'even', 'odd', 'even', 'odd', 'even', 'odd', 'even', 'odd', 'even', 'odd', 'even', 'odd', 'even', 'odd', 'even', 'odd', 'even']\n"
     ]
    },
    {
     "data": {
      "text/plain": [
       "50"
      ]
     },
     "execution_count": 53,
     "metadata": {},
     "output_type": "execute_result"
    }
   ],
   "source": [
    "#1~100 사이 임의 숫자가 짝수면 even, 홀수면 odd로 구분해서 리스트 작성\n",
    "gubunlist=['even' if i%2==0 else 'odd' for i in range(1,100+1)]\n",
    "print(gubunlist)\n",
    "gubunlist.count('even')\n",
    "gubunlist.count('odd')"
   ]
  },
  {
   "cell_type": "code",
   "execution_count": 50,
   "metadata": {},
   "outputs": [
    {
     "name": "stdout",
     "output_type": "stream",
     "text": [
      "['odd', 'even', 'odd', 'even', 'odd', 'even', 'odd', 'even', 'odd', 'even', 'odd', 'even', 'odd', 'even', 'odd', 'even', 'odd', 'even', 'odd', 'even', 'odd', 'even', 'odd', 'even', 'odd', 'even', 'odd', 'even', 'odd', 'even', 'odd', 'even', 'odd', 'even', 'odd', 'even', 'odd', 'even', 'odd', 'even', 'odd', 'even', 'odd', 'even', 'odd', 'even', 'odd', 'even', 'odd', 'even', 'odd', 'even', 'odd', 'even', 'odd', 'even', 'odd', 'even', 'odd', 'even', 'odd', 'even', 'odd', 'even', 'odd', 'even', 'odd', 'even', 'odd', 'even', 'odd', 'even', 'odd', 'even', 'odd', 'even', 'odd', 'even', 'odd', 'even', 'odd', 'even', 'odd', 'even', 'odd', 'even', 'odd', 'even', 'odd', 'even', 'odd', 'even', 'odd', 'even', 'odd', 'even', 'odd', 'even', 'odd', 'even']\n"
     ]
    },
    {
     "data": {
      "text/plain": [
       "50"
      ]
     },
     "execution_count": 50,
     "metadata": {},
     "output_type": "execute_result"
    }
   ],
   "source": [
    "gubunlist=['even' if i%2==0 else 'odd' for i in range(1,100+1)]\n",
    "print(gubunlist)\n",
    "gubunlist.count('even')"
   ]
  },
  {
   "cell_type": "code",
   "execution_count": 46,
   "metadata": {},
   "outputs": [
    {
     "name": "stdout",
     "output_type": "stream",
     "text": [
      "['odd', 'even', 'odd', 'even', 'odd', 'even', 'odd', 'even', 'odd', 'even', 'odd', 'even', 'odd', 'even', 'odd', 'even', 'odd', 'even', 'odd', 'even', 'odd', 'even', 'odd', 'even', 'odd', 'even', 'odd', 'even', 'odd', 'even', 'odd', 'even', 'odd', 'even', 'odd', 'even', 'odd', 'even', 'odd', 'even', 'odd', 'even', 'odd', 'even', 'odd', 'even', 'odd', 'even', 'odd', 'even', 'odd', 'even', 'odd', 'even', 'odd', 'even', 'odd', 'even', 'odd', 'even', 'odd', 'even', 'odd', 'even', 'odd', 'even', 'odd', 'even', 'odd', 'even', 'odd', 'even', 'odd', 'even', 'odd', 'even', 'odd', 'even', 'odd', 'even', 'odd', 'even', 'odd', 'even', 'odd', 'even', 'odd', 'even', 'odd', 'even', 'odd', 'even', 'odd', 'even', 'odd', 'even', 'odd', 'even', 'odd', 'even']\n"
     ]
    },
    {
     "data": {
      "text/plain": [
       "50"
      ]
     },
     "execution_count": 46,
     "metadata": {},
     "output_type": "execute_result"
    }
   ],
   "source": [
    "gubunlist=['even' if i%2==0 else 'odd' for i in range(1,100+1)]\n",
    "print(gubunlist)\n",
    "gubunlist.count('odd')"
   ]
  },
  {
   "cell_type": "code",
   "execution_count": 54,
   "metadata": {},
   "outputs": [
    {
     "name": "stdout",
     "output_type": "stream",
     "text": [
      "['odd', 'even', 'odd', 'even', 'odd', 'even', 'odd', 'even', 'odd', 'even', 'odd', 'even', 'odd', 'even', 'odd', 'even', 'odd', 'even', 'odd', 'even', 'odd', 'even', 'odd', 'even', 'odd', 'even', 'odd', 'even', 'odd', 'even', 'odd', 'even', 'odd', 'even', 'odd', 'even', 'odd', 'even', 'odd', 'even', 'odd', 'even', 'odd', 'even', 'odd', 'even', 'odd', 'even', 'odd', 'even', 'odd', 'even', 'odd', 'even', 'odd', 'even', 'odd', 'even', 'odd', 'even', 'odd', 'even', 'odd', 'even', 'odd', 'even', 'odd', 'even', 'odd', 'even', 'odd', 'even', 'odd', 'even', 'odd', 'even', 'odd', 'even', 'odd', 'even', 'odd', 'even', 'odd', 'even', 'odd', 'even', 'odd', 'even', 'odd', 'even', 'odd', 'even', 'odd', 'even', 'odd', 'even', 'odd', 'even', 'odd', 'even']\n"
     ]
    },
    {
     "data": {
      "text/plain": [
       "50"
      ]
     },
     "execution_count": 54,
     "metadata": {},
     "output_type": "execute_result"
    }
   ],
   "source": [
    "#1~100 사이 임의 숫자가 짝수면 even, 홀수면 odd로 구분해서 리스트 작성\n",
    "gubunlist=['even' if i%2==0 else 'odd' for i in range(1,100+1)]\n",
    "print(gubunlist)\n",
    "gubunlist.count('even')\n",
    "gubunlist.count('odd')"
   ]
  },
  {
   "cell_type": "code",
   "execution_count": 60,
   "metadata": {},
   "outputs": [
    {
     "name": "stdout",
     "output_type": "stream",
     "text": [
      "[7, 14, 21, 28, 35, 42, 49, 56, 63, 8, 16, 24, 32, 40, 48, 56, 64, 72]\n"
     ]
    }
   ],
   "source": [
    "#중첩 for문을 사용하는 축약문\n",
    "#[표현식 for 항목1 in 반복가능객체1\n",
    "#       for 항목2 in 반복가능객체2]\n",
    "#구구단 중 7단, 8단의 결과값만 저장하는 리스트 생성\n",
    "\n",
    "gugu78=[i*j for i in range(7,8+1) for j in range (1,9+1)] #for 2개가 단순 병렬(나열)이 아닌 앞에 for 산하로 뒤에 for가 들어가는 형태\n",
    "print(gugu78)"
   ]
  },
  {
   "cell_type": "code",
   "execution_count": 56,
   "metadata": {},
   "outputs": [
    {
     "name": "stdout",
     "output_type": "stream",
     "text": [
      "[7, 14, 21, 28, 35, 42, 49, 56, 63, 8, 16, 24, 32, 40, 48, 56, 64, 72]\n"
     ]
    }
   ],
   "source": [
    "gugu78=[]\n",
    "for i in range(7,8+1):\n",
    "    for j in range(1,9+1):\n",
    "        gugu78.append(i*j)\n",
    "print(gugu78)"
   ]
  },
  {
   "cell_type": "code",
   "execution_count": 61,
   "metadata": {},
   "outputs": [
    {
     "name": "stdout",
     "output_type": "stream",
     "text": [
      "[2, 4, 6, 8, 10, 12, 14, 16, 18, 20, 22, 24, 26, 28, 30, 32, 34, 36, 3, 6, 9, 12, 15, 18, 21, 24, 27, 30, 33, 36, 39, 42, 45, 48, 51, 54, 4, 8, 12, 16, 20, 24, 28, 32, 36, 40, 44, 48, 52, 56, 60, 64, 68, 72, 5, 10, 15, 20, 25, 30, 35, 40, 45, 50, 55, 60, 65, 70, 75, 80, 85, 90, 6, 12, 18, 24, 30, 36, 42, 48, 54, 60, 66, 72, 78, 84, 90, 96, 102, 108, 7, 14, 21, 28, 35, 42, 49, 56, 63, 70, 77, 84, 91, 98, 105, 112, 119, 126, 8, 16, 24, 32, 40, 48, 56, 64, 72, 80, 88, 96, 104, 112, 120, 128, 136, 144, 9, 18, 27, 36, 45, 54, 63, 72, 81, 90, 99, 108, 117, 126, 135, 144, 153, 162, 10, 20, 30, 40, 50, 60, 70, 80, 90, 100, 110, 120, 130, 140, 150, 160, 170, 180, 11, 22, 33, 44, 55, 66, 77, 88, 99, 110, 121, 132, 143, 154, 165, 176, 187, 198, 12, 24, 36, 48, 60, 72, 84, 96, 108, 120, 132, 144, 156, 168, 180, 192, 204, 216, 13, 26, 39, 52, 65, 78, 91, 104, 117, 130, 143, 156, 169, 182, 195, 208, 221, 234, 14, 28, 42, 56, 70, 84, 98, 112, 126, 140, 154, 168, 182, 196, 210, 224, 238, 252, 15, 30, 45, 60, 75, 90, 105, 120, 135, 150, 165, 180, 195, 210, 225, 240, 255, 270, 16, 32, 48, 64, 80, 96, 112, 128, 144, 160, 176, 192, 208, 224, 240, 256, 272, 288, 17, 34, 51, 68, 85, 102, 119, 136, 153, 170, 187, 204, 221, 238, 255, 272, 289, 306, 18, 36, 54, 72, 90, 108, 126, 144, 162, 180, 198, 216, 234, 252, 270, 288, 306, 324, 19, 38, 57, 76, 95, 114, 133, 152, 171, 190, 209, 228, 247, 266, 285, 304, 323, 342]\n"
     ]
    }
   ],
   "source": [
    "#구구단 2-19단을 리스트로 작성\n",
    "\n",
    "gugudan=[i*j for i in range(2,19+1) for j in range (1,9+10)]\n",
    "print(gugudan)"
   ]
  },
  {
   "cell_type": "code",
   "execution_count": 62,
   "metadata": {},
   "outputs": [
    {
     "name": "stdout",
     "output_type": "stream",
     "text": [
      "[[2, 4, 6, 8, 10, 12, 14, 16, 18, 20, 22, 24, 26, 28, 30, 32, 34, 36, 3, 6, 9, 12, 15, 18, 21, 24, 27, 30, 33, 36, 39, 42, 45, 48, 51, 54, 4, 8, 12, 16, 20, 24, 28, 32, 36, 40, 44, 48, 52, 56, 60, 64, 68, 72, 5, 10, 15, 20, 25, 30, 35, 40, 45, 50, 55, 60, 65, 70, 75, 80, 85, 90, 6, 12, 18, 24, 30, 36, 42, 48, 54, 60, 66, 72, 78, 84, 90, 96, 102, 108, 7, 14, 21, 28, 35, 42, 49, 56, 63, 70, 77, 84, 91, 98, 105, 112, 119, 126, 8, 16, 24, 32, 40, 48, 56, 64, 72, 80, 88, 96, 104, 112, 120, 128, 136, 144, 9, 18, 27, 36, 45, 54, 63, 72, 81, 90, 99, 108, 117, 126, 135, 144, 153, 162, 10, 20, 30, 40, 50, 60, 70, 80, 90, 100, 110, 120, 130, 140, 150, 160, 170, 180, 11, 22, 33, 44, 55, 66, 77, 88, 99, 110, 121, 132, 143, 154, 165, 176, 187, 198, 12, 24, 36, 48, 60, 72, 84, 96, 108, 120, 132, 144, 156, 168, 180, 192, 204, 216, 13, 26, 39, 52, 65, 78, 91, 104, 117, 130, 143, 156, 169, 182, 195, 208, 221, 234, 14, 28, 42, 56, 70, 84, 98, 112, 126, 140, 154, 168, 182, 196, 210, 224, 238, 252, 15, 30, 45, 60, 75, 90, 105, 120, 135, 150, 165, 180, 195, 210, 225, 240, 255, 270, 16, 32, 48, 64, 80, 96, 112, 128, 144, 160, 176, 192, 208, 224, 240, 256, 272, 288, 17, 34, 51, 68, 85, 102, 119, 136, 153, 170, 187, 204, 221, 238, 255, 272, 289, 306, 18, 36, 54, 72, 90, 108, 126, 144, 162, 180, 198, 216, 234, 252, 270, 288, 306, 324, 19, 38, 57, 76, 95, 114, 133, 152, 171, 190, 209, 228, 247, 266, 285, 304, 323, 342]]\n"
     ]
    }
   ],
   "source": [
    "#구구단 2-19단을 리스트로 작성\n",
    "\n",
    "gugudan=[[i*j for i in range(2,19+1) for j in range (1,9+10)]]\n",
    "print(gugudan)"
   ]
  },
  {
   "cell_type": "code",
   "execution_count": null,
   "metadata": {},
   "outputs": [],
   "source": [
    "#구구단 2-19단을 리스트로 작성\n",
    "\n",
    "gugudan=[[i*j for i in range(2,19+1) for j in range (1,9+10)]]\n",
    "print(gugudan)"
   ]
  },
  {
   "cell_type": "code",
   "execution_count": null,
   "metadata": {},
   "outputs": [],
   "source": [
    "gugudan=[[i*j for i in range(2,19+1) for j in range (1,9+10)]]\n",
    "print(gugudan)"
   ]
  },
  {
   "cell_type": "code",
   "execution_count": 64,
   "metadata": {},
   "outputs": [
    {
     "name": "stdout",
     "output_type": "stream",
     "text": [
      "[[2], [4], [6], [8], [10], [12], [14], [16], [18], [20], [22], [24], [26], [28], [30], [32], [34], [36], [3], [6], [9], [12], [15], [18], [21], [24], [27], [30], [33], [36], [39], [42], [45], [48], [51], [54], [4], [8], [12], [16], [20], [24], [28], [32], [36], [40], [44], [48], [52], [56], [60], [64], [68], [72], [5], [10], [15], [20], [25], [30], [35], [40], [45], [50], [55], [60], [65], [70], [75], [80], [85], [90], [6], [12], [18], [24], [30], [36], [42], [48], [54], [60], [66], [72], [78], [84], [90], [96], [102], [108], [7], [14], [21], [28], [35], [42], [49], [56], [63], [70], [77], [84], [91], [98], [105], [112], [119], [126], [8], [16], [24], [32], [40], [48], [56], [64], [72], [80], [88], [96], [104], [112], [120], [128], [136], [144], [9], [18], [27], [36], [45], [54], [63], [72], [81], [90], [99], [108], [117], [126], [135], [144], [153], [162], [10], [20], [30], [40], [50], [60], [70], [80], [90], [100], [110], [120], [130], [140], [150], [160], [170], [180], [11], [22], [33], [44], [55], [66], [77], [88], [99], [110], [121], [132], [143], [154], [165], [176], [187], [198], [12], [24], [36], [48], [60], [72], [84], [96], [108], [120], [132], [144], [156], [168], [180], [192], [204], [216], [13], [26], [39], [52], [65], [78], [91], [104], [117], [130], [143], [156], [169], [182], [195], [208], [221], [234], [14], [28], [42], [56], [70], [84], [98], [112], [126], [140], [154], [168], [182], [196], [210], [224], [238], [252], [15], [30], [45], [60], [75], [90], [105], [120], [135], [150], [165], [180], [195], [210], [225], [240], [255], [270], [16], [32], [48], [64], [80], [96], [112], [128], [144], [160], [176], [192], [208], [224], [240], [256], [272], [288], [17], [34], [51], [68], [85], [102], [119], [136], [153], [170], [187], [204], [221], [238], [255], [272], [289], [306], [18], [36], [54], [72], [90], [108], [126], [144], [162], [180], [198], [216], [234], [252], [270], [288], [306], [324], [19], [38], [57], [76], [95], [114], [133], [152], [171], [190], [209], [228], [247], [266], [285], [304], [323], [342]]\n"
     ]
    }
   ],
   "source": [
    "gugudan=[[i*j] for i in range(2,19+1) for j in range (1,9+10)]\n",
    "print(gugudan)"
   ]
  },
  {
   "cell_type": "code",
   "execution_count": 70,
   "metadata": {},
   "outputs": [
    {
     "name": "stdout",
     "output_type": "stream",
     "text": [
      "[[2, 4, 6, 8, 10, 12, 14, 16, 18], [3, 6, 9, 12, 15, 18, 21, 24, 27], [4, 8, 12, 16, 20, 24, 28, 32, 36], [5, 10, 15, 20, 25, 30, 35, 40, 45], [6, 12, 18, 24, 30, 36, 42, 48, 54], [7, 14, 21, 28, 35, 42, 49, 56, 63], [8, 16, 24, 32, 40, 48, 56, 64, 72], [9, 18, 27, 36, 45, 54, 63, 72, 81], [10, 20, 30, 40, 50, 60, 70, 80, 90], [11, 22, 33, 44, 55, 66, 77, 88, 99], [12, 24, 36, 48, 60, 72, 84, 96, 108], [13, 26, 39, 52, 65, 78, 91, 104, 117], [14, 28, 42, 56, 70, 84, 98, 112, 126], [15, 30, 45, 60, 75, 90, 105, 120, 135], [16, 32, 48, 64, 80, 96, 112, 128, 144], [17, 34, 51, 68, 85, 102, 119, 136, 153], [18, 36, 54, 72, 90, 108, 126, 144, 162], [19, 38, 57, 76, 95, 114, 133, 152, 171]]\n"
     ]
    }
   ],
   "source": [
    "gugudan=[[i*j for j in range(1,9+1)] for i in range (2,19+1)] #<- 눈 여겨 볼 것!!\n",
    "print(gugudan)"
   ]
  },
  {
   "cell_type": "code",
   "execution_count": 69,
   "metadata": {},
   "outputs": [
    {
     "name": "stdout",
     "output_type": "stream",
     "text": [
      "[[2, 4, 6, 8, 10, 12, 14, 16, 18], [3, 6, 9, 12, 15, 18, 21, 24, 27], [4, 8, 12, 16, 20, 24, 28, 32, 36], [5, 10, 15, 20, 25, 30, 35, 40, 45], [6, 12, 18, 24, 30, 36, 42, 48, 54], [7, 14, 21, 28, 35, 42, 49, 56, 63], [8, 16, 24, 32, 40, 48, 56, 64, 72], [9, 18, 27, 36, 45, 54, 63, 72, 81], [10, 20, 30, 40, 50, 60, 70, 80, 90], [11, 22, 33, 44, 55, 66, 77, 88, 99], [12, 24, 36, 48, 60, 72, 84, 96, 108], [13, 26, 39, 52, 65, 78, 91, 104, 117], [14, 28, 42, 56, 70, 84, 98, 112, 126], [15, 30, 45, 60, 75, 90, 105, 120, 135], [16, 32, 48, 64, 80, 96, 112, 128, 144], [17, 34, 51, 68, 85, 102, 119, 136, 153], [18, 36, 54, 72, 90, 108, 126, 144, 162], [19, 38, 57, 76, 95, 114, 133, 152, 171]]\n"
     ]
    }
   ],
   "source": [
    "gugu19=[]\n",
    "for i in range(2,19+1):\n",
    "    gugu=[]\n",
    "    for j in range(1,9+1):\n",
    "        gugu.append(i*j)\n",
    "    gugu19.append(gugu)\n",
    "print(gugu19)"
   ]
  },
  {
   "cell_type": "code",
   "execution_count": 87,
   "metadata": {},
   "outputs": [
    {
     "name": "stdout",
     "output_type": "stream",
     "text": [
      "{'수지': '수', '혜교': '미', '지현': '우'}\n",
      "{'수지': '수', '혜교': '미', '지현': '우'}\n",
      "{'수지': '수', '혜교': '미', '지현': '우'}\n",
      "<zip object at 0x7f748a772c48>\n",
      "[('수지', '수'), ('혜교', '미'), ('지현', '우')]\n"
     ]
    }
   ],
   "source": [
    "# 딕셔너리 for 축약문 { } 사용\n",
    "# {키/값 표현식 for 키, 값 in zip(반복가능객체1, 반복가능객체2)}\n",
    "\n",
    "name=['수지','혜교','지현']\n",
    "grd=['수','미','우']\n",
    "\n",
    "sj={}\n",
    "sj[name[0]]=grd[0]\n",
    "sj[name[1]]=grd[1]\n",
    "sj[name[2]]=grd[2]\n",
    "\n",
    "print(sj)\n",
    "\n",
    "for i in range(len(name)):\n",
    "    sj[name[i]]=grd[i]\n",
    "print(sj)\n",
    "\n",
    "#아래 축약형에 주목!!!!!!!!!!\n",
    "sj={i:j for i,j in zip(name,grd)} #굳이 zip된 애를 list화 시킬 필요 없음\n",
    "print(sj)\n",
    "\n",
    "print(zip(name,grd))\n",
    "print(list(zip(name,grd)))"
   ]
  },
  {
   "cell_type": "code",
   "execution_count": 78,
   "metadata": {},
   "outputs": [
    {
     "name": "stdout",
     "output_type": "stream",
     "text": [
      "[(1, 'o'), (4, 'e'), (10, 'e')]\n",
      "[(1, True), (4, False), (10, False)]\n",
      "[('o', True), ('e', False), ('e', False)]\n",
      "[(1, 'o', True), (4, 'e', False), (10, 'e', False)]\n",
      "[('a', 'x', '1'), ('b', 'y', '2'), ('c', 'z', '3')]\n",
      "[('a', 'x', '1'), ('b', 'y', '2'), ('c', 'z', '3')]\n"
     ]
    }
   ],
   "source": [
    "#zip함수 알아보기. 하나 이상 리스트를 slice해서 하나의 요소로 생성해주는 객체\n",
    "list1=[1,4,10]\n",
    "list2=['o','e','e']\n",
    "list3=[True,False,False]\n",
    "\n",
    "print(list(zip(list1,list2)))\n",
    "print(list(zip(list1,list3)))\n",
    "print(list(zip(list2,list3)))\n",
    "print(list(zip(list1,list2,list3)))\n",
    "print(list(zip('abc','xyz','123')))\n",
    "print(list(zip('abc','xyz','12355555')))"
   ]
  },
  {
   "cell_type": "code",
   "execution_count": 80,
   "metadata": {},
   "outputs": [
    {
     "name": "stdout",
     "output_type": "stream",
     "text": [
      "[(1, 'o'), (4, 'e'), (10, 'e')]\n",
      "[(1, True), (4, False), (10, False)]\n",
      "[('o', True), ('e', False), ('e', False), ('e', False), ('ee', False)]\n",
      "[(1, 'o', True), (4, 'e', False), (10, 'e', False)]\n",
      "[('a', 'x', '1'), ('b', 'y', '2'), ('c', 'z', '3')]\n",
      "[('a', 'x', '1'), ('b', 'y', '2'), ('c', 'z', '3')]\n"
     ]
    }
   ],
   "source": [
    "#zip함수 알아보기. 하나 이상 리스트를 slice해서 하나의 요소로 생성해주는 객체\n",
    "list1=[1,4,10]\n",
    "list2=['o','e','e','e','e''e']\n",
    "list3=[True,False,False,False,False,False,False,False]\n",
    "\n",
    "print(list(zip(list1,list2)))\n",
    "print(list(zip(list1,list3)))\n",
    "print(list(zip(list2,list3)))\n",
    "print(list(zip(list1,list2,list3)))\n",
    "print(list(zip('abc','xyz','123')))\n",
    "print(list(zip('abc','xyz','12355555')))\n",
    "#<---------------------------------------------------각각 슬라이스 하되 어느 하나가 개수가 많으면 무시. 묶어주는 넘들의 공통 개수만큼만"
   ]
  },
  {
   "cell_type": "code",
   "execution_count": 81,
   "metadata": {},
   "outputs": [
    {
     "name": "stdout",
     "output_type": "stream",
     "text": [
      "<zip object at 0x7f74981a0a48>\n",
      "<zip object at 0x7f74981a0a48>\n",
      "<zip object at 0x7f74981a0a48>\n",
      "<zip object at 0x7f74981a0a48>\n",
      "<zip object at 0x7f74981a0a48>\n",
      "<zip object at 0x7f74981a0a48>\n"
     ]
    }
   ],
   "source": [
    "#zip함수 알아보기. 하나 이상 리스트를 slice해서 하나의 요소로 생성해주는 객체\n",
    "list1=[1,4,10]\n",
    "list2=['o','e','e','e','e''e']\n",
    "list3=[True,False,False,False,False,False,False,False]\n",
    "\n",
    "print(zip(list1,list2))\n",
    "print(zip(list1,list3))\n",
    "print(zip(list2,list3))\n",
    "print(zip(list1,list2,list3))\n",
    "print(zip('abc','xyz','123'))\n",
    "print(zip('abc','xyz','12355555'))\n",
    "#<--------------------------------------------------------------------zip() 함수 사용 후에는 다시 list화 시켜야 됨"
   ]
  },
  {
   "cell_type": "code",
   "execution_count": 91,
   "metadata": {},
   "outputs": [
    {
     "name": "stdout",
     "output_type": "stream",
     "text": [
      "[{'DEPARTMENT_ID': 'DEPARTMENT_ID', 'DEPARTMENT_NAME': 'DEPARTMENT_NAME', 'MANAGER_ID': 'MANAGER_ID', 'LOCATION_ID': 'LOCATION_ID\\n'}, {'DEPARTMENT_ID': '10', 'DEPARTMENT_NAME': 'Administration', 'MANAGER_ID': '200', 'LOCATION_ID': '1700\\n'}, {'DEPARTMENT_ID': '20', 'DEPARTMENT_NAME': 'Marketing', 'MANAGER_ID': '201', 'LOCATION_ID': '1800\\n'}, {'DEPARTMENT_ID': '30', 'DEPARTMENT_NAME': 'Purchasing', 'MANAGER_ID': '114', 'LOCATION_ID': '1700\\n'}, {'DEPARTMENT_ID': '40', 'DEPARTMENT_NAME': 'Human Resources', 'MANAGER_ID': '203', 'LOCATION_ID': '2400\\n'}, {'DEPARTMENT_ID': '50', 'DEPARTMENT_NAME': 'Shipping', 'MANAGER_ID': '121', 'LOCATION_ID': '1500\\n'}, {'DEPARTMENT_ID': '60', 'DEPARTMENT_NAME': 'IT', 'MANAGER_ID': '103', 'LOCATION_ID': '1400\\n'}, {'DEPARTMENT_ID': '70', 'DEPARTMENT_NAME': 'Public Relations', 'MANAGER_ID': '204', 'LOCATION_ID': '2700\\n'}, {'DEPARTMENT_ID': '80', 'DEPARTMENT_NAME': 'Sales', 'MANAGER_ID': '145', 'LOCATION_ID': '2500\\n'}, {'DEPARTMENT_ID': '90', 'DEPARTMENT_NAME': 'Executive', 'MANAGER_ID': '100', 'LOCATION_ID': '1700\\n'}, {'DEPARTMENT_ID': '100', 'DEPARTMENT_NAME': 'Finance', 'MANAGER_ID': '108', 'LOCATION_ID': '1700\\n'}, {'DEPARTMENT_ID': '110', 'DEPARTMENT_NAME': 'Accounting', 'MANAGER_ID': '205', 'LOCATION_ID': '1700\\n'}, {'DEPARTMENT_ID': '120', 'DEPARTMENT_NAME': 'Treasury', 'MANAGER_ID': '', 'LOCATION_ID': '1700\\n'}, {'DEPARTMENT_ID': '130', 'DEPARTMENT_NAME': 'Corporate Tax', 'MANAGER_ID': '', 'LOCATION_ID': '1700\\n'}, {'DEPARTMENT_ID': '140', 'DEPARTMENT_NAME': 'Control And Credit', 'MANAGER_ID': '', 'LOCATION_ID': '1700\\n'}, {'DEPARTMENT_ID': '150', 'DEPARTMENT_NAME': 'Shareholder Services', 'MANAGER_ID': '', 'LOCATION_ID': '1700\\n'}, {'DEPARTMENT_ID': '160', 'DEPARTMENT_NAME': 'Benefits', 'MANAGER_ID': '', 'LOCATION_ID': '1700\\n'}, {'DEPARTMENT_ID': '170', 'DEPARTMENT_NAME': 'Manufacturing', 'MANAGER_ID': '', 'LOCATION_ID': '1700\\n'}, {'DEPARTMENT_ID': '180', 'DEPARTMENT_NAME': 'Construction', 'MANAGER_ID': '', 'LOCATION_ID': '1700\\n'}, {'DEPARTMENT_ID': '190', 'DEPARTMENT_NAME': 'Contracting', 'MANAGER_ID': '', 'LOCATION_ID': '1700\\n'}, {'DEPARTMENT_ID': '200', 'DEPARTMENT_NAME': 'Operations', 'MANAGER_ID': '', 'LOCATION_ID': '1700\\n'}, {'DEPARTMENT_ID': '210', 'DEPARTMENT_NAME': 'IT Support', 'MANAGER_ID': '', 'LOCATION_ID': '1700\\n'}, {'DEPARTMENT_ID': '220', 'DEPARTMENT_NAME': 'NOC', 'MANAGER_ID': '', 'LOCATION_ID': '1700\\n'}, {'DEPARTMENT_ID': '230', 'DEPARTMENT_NAME': 'IT Helpdesk', 'MANAGER_ID': '', 'LOCATION_ID': '1700\\n'}, {'DEPARTMENT_ID': '240', 'DEPARTMENT_NAME': 'Government Sales', 'MANAGER_ID': '', 'LOCATION_ID': '1700\\n'}, {'DEPARTMENT_ID': '250', 'DEPARTMENT_NAME': 'Retail Sales', 'MANAGER_ID': '', 'LOCATION_ID': '1700\\n'}, {'DEPARTMENT_ID': '260', 'DEPARTMENT_NAME': 'Recruiting', 'MANAGER_ID': '', 'LOCATION_ID': '1700\\n'}, {'DEPARTMENT_ID': '270', 'DEPARTMENT_NAME': 'Payroll', 'MANAGER_ID': '', 'LOCATION_ID': '1700\\n'}]\n"
     ]
    }
   ],
   "source": [
    "#Departments.csv의 모든 데이터를 딕셔너리형으로 정의하세요\n",
    "\n",
    "deptlist=[]\n",
    "deptkey=['DEPARTMENT_ID','DEPARTMENT_NAME','MANAGER_ID','LOCATION_ID']\n",
    "\n",
    "with open('DEPARTMENTS.csv') as f: #Departments.csv 파일을 읽기전용으로 오픈한 후\n",
    "    for lines in f: #한줄씩 읽은 다음\n",
    "        item=lines.split(',') #item 리스트에 넣고\n",
    "        dept={} #이렇게 안에다 써서 지역변수화 시켜야 함 (위 emplist=[] 밑에 쓰면 안됨!!)\n",
    "        for i in  range(len(deptkey)):\n",
    "            dept[deptkey[i]]=item[i]\n",
    "        deptlist.append(dept)\n",
    "print(deptlist)"
   ]
  },
  {
   "cell_type": "code",
   "execution_count": 106,
   "metadata": {},
   "outputs": [
    {
     "name": "stdout",
     "output_type": "stream",
     "text": [
      "140138744680712,140138788501256,140138744680712,140138788501256,140138744680712,140138788501256,140138744680712,140138788501256,140138744680712,140138788501256,140138744680712,140138788501256,140138744680712,140138788501256,140138744680712,140138788501256,140138744680712,140138788501256,140138744680712,140138788501256,140138744680712,140138788501256,140138744680712,140138788501256,140138744680712,140138788501256,140138744680712,140138788501256,\n",
      "\n",
      "['270', 'Payroll', '', '1700\\n']\n"
     ]
    }
   ],
   "source": [
    "deptlist=[]\n",
    "\n",
    "with open('DEPARTMENTS.csv') as f:\n",
    "    for lines in f:\n",
    "        dept=lines.split(',')\n",
    "        print(id(dept),end=',') #주소값 2개 가지고 반복\n",
    "print();print()\n",
    "with open('DEPARTMENTS.csv') as f:\n",
    "    for lines in f:\n",
    "        dept=lines.split(',')\n",
    "    print(dept) #계속 엎어치다가 결국 마지막꺼 보여줌 (주소값 2개 가지고 반복)"
   ]
  },
  {
   "cell_type": "code",
   "execution_count": 108,
   "metadata": {},
   "outputs": [
    {
     "name": "stdout",
     "output_type": "stream",
     "text": [
      "140139072996864\n",
      "1\n",
      "140139072996896\n",
      "2\n",
      "140139072996928\n",
      "3\n",
      "140139072996960\n",
      "4\n",
      "140139072996992\n",
      "5\n",
      "140139072997024\n",
      "6\n",
      "140139072997056\n",
      "7\n",
      "140139072997088\n",
      "8\n"
     ]
    }
   ],
   "source": [
    "a=1;print(id(a));print(a)\n",
    "a=2;print(id(a));print(a)\n",
    "a=3;print(id(a));print(a)\n",
    "a=4;print(id(a));print(a)\n",
    "a=5;print(id(a));print(a)\n",
    "a=6;print(id(a));print(a)\n",
    "a=7;print(id(a));print(a)\n",
    "a=8;print(id(a));print(a) \n",
    "#만약 주소가 같은게 하나라도 있다면 해당 주소에 연계된 저장소에 누적되는게 아니라 엎어침!"
   ]
  },
  {
   "cell_type": "code",
   "execution_count": 109,
   "metadata": {},
   "outputs": [
    {
     "name": "stdout",
     "output_type": "stream",
     "text": [
      "DEPARTMENT_ID\n",
      "DEPARTMENT_NAME\n",
      "MANAGER_ID\n",
      "LOCATION_ID\n",
      "\n",
      "10\n",
      "Administration\n",
      "200\n",
      "1700\n",
      "\n",
      "20\n",
      "Marketing\n",
      "201\n",
      "1800\n",
      "\n",
      "30\n",
      "Purchasing\n",
      "114\n",
      "1700\n",
      "\n",
      "40\n",
      "Human Resources\n",
      "203\n",
      "2400\n",
      "\n",
      "50\n",
      "Shipping\n",
      "121\n",
      "1500\n",
      "\n",
      "60\n",
      "IT\n",
      "103\n",
      "1400\n",
      "\n",
      "70\n",
      "Public Relations\n",
      "204\n",
      "2700\n",
      "\n",
      "80\n",
      "Sales\n",
      "145\n",
      "2500\n",
      "\n",
      "90\n",
      "Executive\n",
      "100\n",
      "1700\n",
      "\n",
      "100\n",
      "Finance\n",
      "108\n",
      "1700\n",
      "\n",
      "110\n",
      "Accounting\n",
      "205\n",
      "1700\n",
      "\n",
      "120\n",
      "Treasury\n",
      "\n",
      "1700\n",
      "\n",
      "130\n",
      "Corporate Tax\n",
      "\n",
      "1700\n",
      "\n",
      "140\n",
      "Control And Credit\n",
      "\n",
      "1700\n",
      "\n",
      "150\n",
      "Shareholder Services\n",
      "\n",
      "1700\n",
      "\n",
      "160\n",
      "Benefits\n",
      "\n",
      "1700\n",
      "\n",
      "170\n",
      "Manufacturing\n",
      "\n",
      "1700\n",
      "\n",
      "180\n",
      "Construction\n",
      "\n",
      "1700\n",
      "\n",
      "190\n",
      "Contracting\n",
      "\n",
      "1700\n",
      "\n",
      "200\n",
      "Operations\n",
      "\n",
      "1700\n",
      "\n",
      "210\n",
      "IT Support\n",
      "\n",
      "1700\n",
      "\n",
      "220\n",
      "NOC\n",
      "\n",
      "1700\n",
      "\n",
      "230\n",
      "IT Helpdesk\n",
      "\n",
      "1700\n",
      "\n",
      "240\n",
      "Government Sales\n",
      "\n",
      "1700\n",
      "\n",
      "250\n",
      "Retail Sales\n",
      "\n",
      "1700\n",
      "\n",
      "260\n",
      "Recruiting\n",
      "\n",
      "1700\n",
      "\n",
      "270\n",
      "Payroll\n",
      "\n",
      "1700\n",
      "\n"
     ]
    }
   ],
   "source": [
    "deptlist=[]\n",
    "\n",
    "with open('DEPARTMENTS.csv') as f:\n",
    "    for lines in f:\n",
    "        dept=lines.split(',')\n",
    "        for data in dept:\n",
    "            print(data)\n",
    "            "
   ]
  },
  {
   "cell_type": "code",
   "execution_count": 110,
   "metadata": {},
   "outputs": [
    {
     "name": "stdout",
     "output_type": "stream",
     "text": [
      "DEPARTMENT_ID\n",
      "DEPARTMENT_NAME\n",
      "MANAGER_ID\n",
      "LOCATION_ID\n",
      "\n",
      "10\n",
      "Administration\n",
      "200\n",
      "1700\n",
      "\n",
      "20\n",
      "Marketing\n",
      "201\n",
      "1800\n",
      "\n",
      "30\n",
      "Purchasing\n",
      "114\n",
      "1700\n",
      "\n",
      "40\n",
      "Human Resources\n",
      "203\n",
      "2400\n",
      "\n",
      "50\n",
      "Shipping\n",
      "121\n",
      "1500\n",
      "\n",
      "60\n",
      "IT\n",
      "103\n",
      "1400\n",
      "\n",
      "70\n",
      "Public Relations\n",
      "204\n",
      "2700\n",
      "\n",
      "80\n",
      "Sales\n",
      "145\n",
      "2500\n",
      "\n",
      "90\n",
      "Executive\n",
      "100\n",
      "1700\n",
      "\n",
      "100\n",
      "Finance\n",
      "108\n",
      "1700\n",
      "\n",
      "110\n",
      "Accounting\n",
      "205\n",
      "1700\n",
      "\n",
      "120\n",
      "Treasury\n",
      "\n",
      "1700\n",
      "\n",
      "130\n",
      "Corporate Tax\n",
      "\n",
      "1700\n",
      "\n",
      "140\n",
      "Control And Credit\n",
      "\n",
      "1700\n",
      "\n",
      "150\n",
      "Shareholder Services\n",
      "\n",
      "1700\n",
      "\n",
      "160\n",
      "Benefits\n",
      "\n",
      "1700\n",
      "\n",
      "170\n",
      "Manufacturing\n",
      "\n",
      "1700\n",
      "\n",
      "180\n",
      "Construction\n",
      "\n",
      "1700\n",
      "\n",
      "190\n",
      "Contracting\n",
      "\n",
      "1700\n",
      "\n",
      "200\n",
      "Operations\n",
      "\n",
      "1700\n",
      "\n",
      "210\n",
      "IT Support\n",
      "\n",
      "1700\n",
      "\n",
      "220\n",
      "NOC\n",
      "\n",
      "1700\n",
      "\n",
      "230\n",
      "IT Helpdesk\n",
      "\n",
      "1700\n",
      "\n",
      "240\n",
      "Government Sales\n",
      "\n",
      "1700\n",
      "\n",
      "250\n",
      "Retail Sales\n",
      "\n",
      "1700\n",
      "\n",
      "260\n",
      "Recruiting\n",
      "\n",
      "1700\n",
      "\n",
      "270\n",
      "Payroll\n",
      "\n",
      "1700\n",
      "\n"
     ]
    }
   ],
   "source": [
    "deptlist=[]\n",
    "\n",
    "with open('DEPARTMENTS.csv') as f:\n",
    "    for oh in f:\n",
    "        dept=oh.split(',')\n",
    "        for yes in dept:\n",
    "            print(yes)"
   ]
  },
  {
   "cell_type": "code",
   "execution_count": 112,
   "metadata": {},
   "outputs": [
    {
     "name": "stdout",
     "output_type": "stream",
     "text": [
      "1\n",
      "2\n",
      "3\n",
      "4\n",
      "5\n"
     ]
    }
   ],
   "source": [
    "haha=[1,2,3,4,5]\n",
    "for pizza in haha:\n",
    "    print(pizza)\n",
    "#pizza이건 뭐건 for x in [리스트명]에서 x는 각 요소인 것을 알 수 있음\n",
    "\n",
    "#중요!! for pizza in [엑셀파일명]이면 pizza는? 각 라인(행)"
   ]
  },
  {
   "cell_type": "code",
   "execution_count": 115,
   "metadata": {},
   "outputs": [
    {
     "ename": "TypeError",
     "evalue": "'list' object is not callable",
     "output_type": "error",
     "traceback": [
      "\u001b[0;31m---------------------------------------------------------------------------\u001b[0m",
      "\u001b[0;31mTypeError\u001b[0m                                 Traceback (most recent call last)",
      "\u001b[0;32m<ipython-input-115-51502d89e542>\u001b[0m in \u001b[0;36m<module>\u001b[0;34m\u001b[0m\n\u001b[1;32m      7\u001b[0m         \u001b[0mdept\u001b[0m\u001b[0;34m=\u001b[0m\u001b[0mlines\u001b[0m\u001b[0;34m.\u001b[0m\u001b[0msplit\u001b[0m\u001b[0;34m(\u001b[0m\u001b[0;34m','\u001b[0m\u001b[0;34m)\u001b[0m\u001b[0;34m\u001b[0m\u001b[0;34m\u001b[0m\u001b[0m\n\u001b[1;32m      8\u001b[0m         \u001b[0;32mfor\u001b[0m \u001b[0mpizza\u001b[0m \u001b[0;32min\u001b[0m \u001b[0mrange\u001b[0m\u001b[0;34m(\u001b[0m\u001b[0mlen\u001b[0m\u001b[0;34m(\u001b[0m\u001b[0mdeptcolumn\u001b[0m\u001b[0;34m)\u001b[0m\u001b[0;34m)\u001b[0m\u001b[0;34m:\u001b[0m\u001b[0;34m\u001b[0m\u001b[0;34m\u001b[0m\u001b[0m\n\u001b[0;32m----> 9\u001b[0;31m             \u001b[0mdeptdict\u001b[0m\u001b[0;34m[\u001b[0m\u001b[0mdeptcolumn\u001b[0m\u001b[0;34m(\u001b[0m\u001b[0mpizza\u001b[0m\u001b[0;34m)\u001b[0m\u001b[0;34m]\u001b[0m\u001b[0;34m=\u001b[0m\u001b[0mdept\u001b[0m\u001b[0;34m(\u001b[0m\u001b[0mpizza\u001b[0m\u001b[0;34m)\u001b[0m\u001b[0;34m\u001b[0m\u001b[0;34m\u001b[0m\u001b[0m\n\u001b[0m\u001b[1;32m     10\u001b[0m             \u001b[0mdeptlist\u001b[0m\u001b[0;34m.\u001b[0m\u001b[0mappend\u001b[0m\u001b[0;34m(\u001b[0m\u001b[0mdeptdict\u001b[0m\u001b[0;34m)\u001b[0m\u001b[0;34m\u001b[0m\u001b[0;34m\u001b[0m\u001b[0m\n\u001b[1;32m     11\u001b[0m     \u001b[0mprint\u001b[0m\u001b[0;34m(\u001b[0m\u001b[0mdeptlist\u001b[0m\u001b[0;34m)\u001b[0m\u001b[0;34m\u001b[0m\u001b[0;34m\u001b[0m\u001b[0m\n",
      "\u001b[0;31mTypeError\u001b[0m: 'list' object is not callable"
     ]
    }
   ],
   "source": [
    "deptlist=[]\n",
    "deptcolumn=['DEPARTMENT_ID','DEPARTMENT_NAME','MANAGER_ID','LOCATION_ID']\n",
    "\n",
    "with open('DEPARTMENTS.csv') as f:\n",
    "    for lines in f:\n",
    "        dept=lines.split(',')\n",
    "        for pizza in range(len(deptcolumn)):\n",
    "            deptdict[deptcolumn(pizza)]=dept(pizza) #pizza를 싸고 있는게 bracket이 아니라 에러난 것!!\n",
    "            deptlist.append(deptdict)\n",
    "    print(deptlist)"
   ]
  },
  {
   "cell_type": "code",
   "execution_count": 121,
   "metadata": {},
   "outputs": [
    {
     "name": "stdout",
     "output_type": "stream",
     "text": [
      "140138515570904\n",
      "140138515570904\n",
      "140138515570904\n",
      "140138515570904\n",
      "140138515570904\n",
      "140138515570904\n",
      "140138515570904\n",
      "140138515570904\n",
      "140138515570904\n",
      "140138515570904\n",
      "140138515570904\n",
      "140138515570904\n",
      "140138515570904\n",
      "140138515570904\n",
      "140138515570904\n",
      "140138515570904\n",
      "140138515570904\n",
      "140138515570904\n",
      "140138515570904\n",
      "140138515570904\n",
      "140138515570904\n",
      "140138515570904\n",
      "140138515570904\n",
      "140138515570904\n",
      "140138515570904\n",
      "140138515570904\n",
      "140138515570904\n",
      "140138515570904\n",
      "140138515570904\n",
      "140138515570904\n",
      "140138515570904\n",
      "140138515570904\n",
      "140138515570904\n",
      "140138515570904\n",
      "140138515570904\n",
      "140138515570904\n",
      "140138515570904\n",
      "140138515570904\n",
      "140138515570904\n",
      "140138515570904\n",
      "140138515570904\n",
      "140138515570904\n",
      "140138515570904\n",
      "140138515570904\n",
      "140138515570904\n",
      "140138515570904\n",
      "140138515570904\n",
      "140138515570904\n",
      "140138515570904\n",
      "140138515570904\n",
      "140138515570904\n",
      "140138515570904\n",
      "140138515570904\n",
      "140138515570904\n",
      "140138515570904\n",
      "140138515570904\n",
      "140138515570904\n",
      "140138515570904\n",
      "140138515570904\n",
      "140138515570904\n",
      "140138515570904\n",
      "140138515570904\n",
      "140138515570904\n",
      "140138515570904\n",
      "140138515570904\n",
      "140138515570904\n",
      "140138515570904\n",
      "140138515570904\n",
      "140138515570904\n",
      "140138515570904\n",
      "140138515570904\n",
      "140138515570904\n",
      "140138515570904\n",
      "140138515570904\n",
      "140138515570904\n",
      "140138515570904\n",
      "140138515570904\n",
      "140138515570904\n",
      "140138515570904\n",
      "140138515570904\n",
      "140138515570904\n",
      "140138515570904\n",
      "140138515570904\n",
      "140138515570904\n",
      "140138515570904\n",
      "140138515570904\n",
      "140138515570904\n",
      "140138515570904\n",
      "140138515570904\n",
      "140138515570904\n",
      "140138515570904\n",
      "140138515570904\n",
      "140138515570904\n",
      "140138515570904\n",
      "140138515570904\n",
      "140138515570904\n",
      "140138515570904\n",
      "140138515570904\n",
      "140138515570904\n",
      "140138515570904\n",
      "140138515570904\n",
      "140138515570904\n",
      "140138515570904\n",
      "140138515570904\n",
      "140138515570904\n",
      "140138515570904\n",
      "140138515570904\n",
      "140138515570904\n",
      "140138515570904\n",
      "140138515570904\n",
      "140138515570904\n",
      "140138515570904\n"
     ]
    }
   ],
   "source": [
    "deptlist=[]\n",
    "deptcolumn=['DEPARTMENT_ID','DEPARTMENT_NAME','MANAGER_ID','LOCATION_ID']\n",
    "\n",
    "with open('DEPARTMENTS.csv') as f:\n",
    "    for lines in f:\n",
    "        dept=lines.split(',')\n",
    "        for pizza in range(len(deptcolumn)):\n",
    "            deptdict[deptcolumn[pizza]]=dept[pizza] #pizza를 싸고 있는게 bracket이 아니라 에러난 것!!\n",
    "            print(id(deptdict))\n",
    "#여기에서 포인트는 deptdict라는 딕셔너리를 deptdict={}와 같이 별도 선언하지 않을 경우,\n",
    "#즉 위와 같이 파이썬이 문법 구문 상 자체 인식하여 생성하는 경우 처음 생성된 주소값을 그대로 유지해서 업데이트 시 엎어침!!"
   ]
  },
  {
   "cell_type": "code",
   "execution_count": 114,
   "metadata": {},
   "outputs": [
    {
     "name": "stdout",
     "output_type": "stream",
     "text": [
      "[{'DEPARTMENT_ID': 'DEPARTMENT_ID', 'DEPARTMENT_NAME': 'DEPARTMENT_NAME', 'MANAGER_ID': 'MANAGER_ID', 'LOCATION_ID': 'LOCATION_ID\\n'}, {'DEPARTMENT_ID': '10', 'DEPARTMENT_NAME': 'Administration', 'MANAGER_ID': '200', 'LOCATION_ID': '1700\\n'}, {'DEPARTMENT_ID': '20', 'DEPARTMENT_NAME': 'Marketing', 'MANAGER_ID': '201', 'LOCATION_ID': '1800\\n'}, {'DEPARTMENT_ID': '30', 'DEPARTMENT_NAME': 'Purchasing', 'MANAGER_ID': '114', 'LOCATION_ID': '1700\\n'}, {'DEPARTMENT_ID': '40', 'DEPARTMENT_NAME': 'Human Resources', 'MANAGER_ID': '203', 'LOCATION_ID': '2400\\n'}, {'DEPARTMENT_ID': '50', 'DEPARTMENT_NAME': 'Shipping', 'MANAGER_ID': '121', 'LOCATION_ID': '1500\\n'}, {'DEPARTMENT_ID': '60', 'DEPARTMENT_NAME': 'IT', 'MANAGER_ID': '103', 'LOCATION_ID': '1400\\n'}, {'DEPARTMENT_ID': '70', 'DEPARTMENT_NAME': 'Public Relations', 'MANAGER_ID': '204', 'LOCATION_ID': '2700\\n'}, {'DEPARTMENT_ID': '80', 'DEPARTMENT_NAME': 'Sales', 'MANAGER_ID': '145', 'LOCATION_ID': '2500\\n'}, {'DEPARTMENT_ID': '90', 'DEPARTMENT_NAME': 'Executive', 'MANAGER_ID': '100', 'LOCATION_ID': '1700\\n'}, {'DEPARTMENT_ID': '100', 'DEPARTMENT_NAME': 'Finance', 'MANAGER_ID': '108', 'LOCATION_ID': '1700\\n'}, {'DEPARTMENT_ID': '110', 'DEPARTMENT_NAME': 'Accounting', 'MANAGER_ID': '205', 'LOCATION_ID': '1700\\n'}, {'DEPARTMENT_ID': '120', 'DEPARTMENT_NAME': 'Treasury', 'MANAGER_ID': '', 'LOCATION_ID': '1700\\n'}, {'DEPARTMENT_ID': '130', 'DEPARTMENT_NAME': 'Corporate Tax', 'MANAGER_ID': '', 'LOCATION_ID': '1700\\n'}, {'DEPARTMENT_ID': '140', 'DEPARTMENT_NAME': 'Control And Credit', 'MANAGER_ID': '', 'LOCATION_ID': '1700\\n'}, {'DEPARTMENT_ID': '150', 'DEPARTMENT_NAME': 'Shareholder Services', 'MANAGER_ID': '', 'LOCATION_ID': '1700\\n'}, {'DEPARTMENT_ID': '160', 'DEPARTMENT_NAME': 'Benefits', 'MANAGER_ID': '', 'LOCATION_ID': '1700\\n'}, {'DEPARTMENT_ID': '170', 'DEPARTMENT_NAME': 'Manufacturing', 'MANAGER_ID': '', 'LOCATION_ID': '1700\\n'}, {'DEPARTMENT_ID': '180', 'DEPARTMENT_NAME': 'Construction', 'MANAGER_ID': '', 'LOCATION_ID': '1700\\n'}, {'DEPARTMENT_ID': '190', 'DEPARTMENT_NAME': 'Contracting', 'MANAGER_ID': '', 'LOCATION_ID': '1700\\n'}, {'DEPARTMENT_ID': '200', 'DEPARTMENT_NAME': 'Operations', 'MANAGER_ID': '', 'LOCATION_ID': '1700\\n'}, {'DEPARTMENT_ID': '210', 'DEPARTMENT_NAME': 'IT Support', 'MANAGER_ID': '', 'LOCATION_ID': '1700\\n'}, {'DEPARTMENT_ID': '220', 'DEPARTMENT_NAME': 'NOC', 'MANAGER_ID': '', 'LOCATION_ID': '1700\\n'}, {'DEPARTMENT_ID': '230', 'DEPARTMENT_NAME': 'IT Helpdesk', 'MANAGER_ID': '', 'LOCATION_ID': '1700\\n'}, {'DEPARTMENT_ID': '240', 'DEPARTMENT_NAME': 'Government Sales', 'MANAGER_ID': '', 'LOCATION_ID': '1700\\n'}, {'DEPARTMENT_ID': '250', 'DEPARTMENT_NAME': 'Retail Sales', 'MANAGER_ID': '', 'LOCATION_ID': '1700\\n'}, {'DEPARTMENT_ID': '260', 'DEPARTMENT_NAME': 'Recruiting', 'MANAGER_ID': '', 'LOCATION_ID': '1700\\n'}, {'DEPARTMENT_ID': '270', 'DEPARTMENT_NAME': 'Payroll', 'MANAGER_ID': '', 'LOCATION_ID': '1700\\n'}]\n"
     ]
    }
   ],
   "source": [
    "#Departments.csv의 모든 데이터를 딕셔너리형으로 정의하세요\n",
    "\n",
    "deptlist=[]\n",
    "deptkey=['DEPARTMENT_ID','DEPARTMENT_NAME','MANAGER_ID','LOCATION_ID']\n",
    "\n",
    "with open('DEPARTMENTS.csv') as f: #Departments.csv 파일을 읽기전용으로 오픈한 후\n",
    "    for lines in f: #한줄씩 읽은 다음\n",
    "        item=lines.split(',') #item 리스트에 넣고\n",
    "        dept={} #이렇게 안에다 써서 지역변수화 시켜야 함 (위 emplist=[] 밑에 쓰면 안됨!!)\n",
    "        for i in  range(len(deptkey)):\n",
    "            dept[deptkey[i]]=item[i]\n",
    "        deptlist.append(dept)\n",
    "print(deptlist)"
   ]
  },
  {
   "cell_type": "code",
   "execution_count": 128,
   "metadata": {},
   "outputs": [
    {
     "name": "stdout",
     "output_type": "stream",
     "text": [
      "[{'deptid': 'DEPARTMENT_ID', 'dname': 'DEPARTMENT_NAME', 'mgrid': 'MANAGER_ID', 'locid': 'LOCATION_ID\\n'}, {'deptid': '10', 'dname': 'Administration', 'mgrid': '200', 'locid': '1700\\n'}, {'deptid': '20', 'dname': 'Marketing', 'mgrid': '201', 'locid': '1800\\n'}, {'deptid': '30', 'dname': 'Purchasing', 'mgrid': '114', 'locid': '1700\\n'}, {'deptid': '40', 'dname': 'Human Resources', 'mgrid': '203', 'locid': '2400\\n'}, {'deptid': '50', 'dname': 'Shipping', 'mgrid': '121', 'locid': '1500\\n'}, {'deptid': '60', 'dname': 'IT', 'mgrid': '103', 'locid': '1400\\n'}, {'deptid': '70', 'dname': 'Public Relations', 'mgrid': '204', 'locid': '2700\\n'}, {'deptid': '80', 'dname': 'Sales', 'mgrid': '145', 'locid': '2500\\n'}, {'deptid': '90', 'dname': 'Executive', 'mgrid': '100', 'locid': '1700\\n'}, {'deptid': '100', 'dname': 'Finance', 'mgrid': '108', 'locid': '1700\\n'}, {'deptid': '110', 'dname': 'Accounting', 'mgrid': '205', 'locid': '1700\\n'}, {'deptid': '120', 'dname': 'Treasury', 'mgrid': '', 'locid': '1700\\n'}, {'deptid': '130', 'dname': 'Corporate Tax', 'mgrid': '', 'locid': '1700\\n'}, {'deptid': '140', 'dname': 'Control And Credit', 'mgrid': '', 'locid': '1700\\n'}, {'deptid': '150', 'dname': 'Shareholder Services', 'mgrid': '', 'locid': '1700\\n'}, {'deptid': '160', 'dname': 'Benefits', 'mgrid': '', 'locid': '1700\\n'}, {'deptid': '170', 'dname': 'Manufacturing', 'mgrid': '', 'locid': '1700\\n'}, {'deptid': '180', 'dname': 'Construction', 'mgrid': '', 'locid': '1700\\n'}, {'deptid': '190', 'dname': 'Contracting', 'mgrid': '', 'locid': '1700\\n'}, {'deptid': '200', 'dname': 'Operations', 'mgrid': '', 'locid': '1700\\n'}, {'deptid': '210', 'dname': 'IT Support', 'mgrid': '', 'locid': '1700\\n'}, {'deptid': '220', 'dname': 'NOC', 'mgrid': '', 'locid': '1700\\n'}, {'deptid': '230', 'dname': 'IT Helpdesk', 'mgrid': '', 'locid': '1700\\n'}, {'deptid': '240', 'dname': 'Government Sales', 'mgrid': '', 'locid': '1700\\n'}, {'deptid': '250', 'dname': 'Retail Sales', 'mgrid': '', 'locid': '1700\\n'}, {'deptid': '260', 'dname': 'Recruiting', 'mgrid': '', 'locid': '1700\\n'}, {'deptid': '270', 'dname': 'Payroll', 'mgrid': '', 'locid': '1700\\n'}]\n"
     ]
    }
   ],
   "source": [
    "#Departments.csv의 모든 데이터를 딕셔너리형으로 정의하세요\n",
    "\n",
    "depts=[]\n",
    "deptkey=['deptid','dname','mgrid','locid']\n",
    "\n",
    "with open('DEPARTMENTS.csv') as f: #Departments.csv 파일을 읽기전용으로 오픈한 후\n",
    "    for lines in f: #한줄씩 읽은 다음\n",
    "        deptval=lines.split(',')\n",
    "        dept={k:v for k,v in zip(deptkey,deptval)}\n",
    "        depts.append(dept)\n",
    "print(depts)"
   ]
  },
  {
   "cell_type": "code",
   "execution_count": 124,
   "metadata": {},
   "outputs": [
    {
     "name": "stdout",
     "output_type": "stream",
     "text": [
      "140138515549856\n",
      "140138515548056\n",
      "140138515549856\n",
      "140138515548056\n",
      "140138515549856\n",
      "140138515548056\n",
      "140138515549856\n",
      "140138515548056\n",
      "140138515549856\n",
      "140138515548056\n",
      "140138515549856\n",
      "140138515548056\n",
      "140138515549856\n",
      "140138515548056\n",
      "140138515549856\n",
      "140138515548056\n",
      "140138515549856\n",
      "140138515548056\n",
      "140138515549856\n",
      "140138515548056\n",
      "140138515549856\n",
      "140138515548056\n",
      "140138515549856\n",
      "140138515548056\n",
      "140138515549856\n",
      "140138515548056\n",
      "140138515549856\n",
      "140138515548056\n",
      "[]\n"
     ]
    }
   ],
   "source": [
    "#Departments.csv의 모든 데이터를 딕셔너리형으로 정의하세요\n",
    "\n",
    "depts=[]\n",
    "deptkey=['deptid','dname','mgrid','locid']\n",
    "\n",
    "with open('DEPARTMENTS.csv') as f: #Departments.csv 파일을 읽기전용으로 오픈한 후\n",
    "    for lines in f: #한줄씩 읽은 다음\n",
    "        deptval=lines.split(',')\n",
    "        dept={k:v for k,v in zip(deptkey,deptval)}\n",
    "        print(id(dept))\n",
    "print(depts)\n",
    "#이것만으로는 딕셔너리dept가 매번 다른 주소값 생성x. 2개씩 번갈아가면서 엎어침..."
   ]
  },
  {
   "cell_type": "code",
   "execution_count": 127,
   "metadata": {},
   "outputs": [
    {
     "name": "stdout",
     "output_type": "stream",
     "text": [
      "DEPARTMENT_ID,DEPARTMENT_NAME,MANAGER_ID,LOCATION_ID\n",
      "\n",
      "hi\n",
      "10,Administration,200,1700\n",
      "\n",
      "hi\n",
      "20,Marketing,201,1800\n",
      "\n",
      "hi\n",
      "30,Purchasing,114,1700\n",
      "\n",
      "hi\n",
      "40,Human Resources,203,2400\n",
      "\n",
      "hi\n",
      "50,Shipping,121,1500\n",
      "\n",
      "hi\n",
      "60,IT,103,1400\n",
      "\n",
      "hi\n",
      "70,Public Relations,204,2700\n",
      "\n",
      "hi\n",
      "80,Sales,145,2500\n",
      "\n",
      "hi\n",
      "90,Executive,100,1700\n",
      "\n",
      "hi\n",
      "100,Finance,108,1700\n",
      "\n",
      "hi\n",
      "110,Accounting,205,1700\n",
      "\n",
      "hi\n",
      "120,Treasury,,1700\n",
      "\n",
      "hi\n",
      "130,Corporate Tax,,1700\n",
      "\n",
      "hi\n",
      "140,Control And Credit,,1700\n",
      "\n",
      "hi\n",
      "150,Shareholder Services,,1700\n",
      "\n",
      "hi\n",
      "160,Benefits,,1700\n",
      "\n",
      "hi\n",
      "170,Manufacturing,,1700\n",
      "\n",
      "hi\n",
      "180,Construction,,1700\n",
      "\n",
      "hi\n",
      "190,Contracting,,1700\n",
      "\n",
      "hi\n",
      "200,Operations,,1700\n",
      "\n",
      "hi\n",
      "210,IT Support,,1700\n",
      "\n",
      "hi\n",
      "220,NOC,,1700\n",
      "\n",
      "hi\n",
      "230,IT Helpdesk,,1700\n",
      "\n",
      "hi\n",
      "240,Government Sales,,1700\n",
      "\n",
      "hi\n",
      "250,Retail Sales,,1700\n",
      "\n",
      "hi\n",
      "260,Recruiting,,1700\n",
      "\n",
      "hi\n",
      "270,Payroll,,1700\n",
      "\n",
      "hi\n"
     ]
    }
   ],
   "source": [
    "depts=[]\n",
    "deptkey=['deptid','dname','mgrid','locid']\n",
    "\n",
    "with open('DEPARTMENTS.csv') as f: #Departments.csv 파일을 읽기전용으로 오픈한 후\n",
    "    for hamburger in f: #한줄씩 읽은 다음\n",
    "        print(hamburger)\n",
    "        print('hi')\n",
    "#일단 한줄씩 읽어오는건 검증됨 ('hi'가 반복적으로 찍히는거 보면 알 수 있음)"
   ]
  },
  {
   "cell_type": "code",
   "execution_count": 139,
   "metadata": {},
   "outputs": [
    {
     "name": "stdout",
     "output_type": "stream",
     "text": [
      "140138744738184\n",
      "140138744738184\n",
      "140138744738184\n",
      "140138744738184\n",
      "140138744738184\n",
      "140138744738184\n",
      "140138744738184\n",
      "140138744738184\n",
      "140138744738184\n",
      "140138744738184\n",
      "140138744738184\n",
      "140138744738184\n",
      "140138744738184\n",
      "140138744738184\n",
      "140138744738184\n",
      "140138744738184\n",
      "140138744738184\n",
      "140138744738184\n",
      "140138744738184\n",
      "140138744738184\n",
      "140138744738184\n",
      "140138744738184\n",
      "140138744738184\n",
      "140138744738184\n",
      "140138744738184\n",
      "140138744738184\n",
      "140138744738184\n",
      "140138744738184\n",
      "[{'deptid': 'DEPARTMENT_ID', 'dname': 'DEPARTMENT_NAME', 'mgrid': 'MANAGER_ID', 'locid': 'LOCATION_ID\\n'}, {'deptid': '10', 'dname': 'Administration', 'mgrid': '200', 'locid': '1700\\n'}, {'deptid': '20', 'dname': 'Marketing', 'mgrid': '201', 'locid': '1800\\n'}, {'deptid': '30', 'dname': 'Purchasing', 'mgrid': '114', 'locid': '1700\\n'}, {'deptid': '40', 'dname': 'Human Resources', 'mgrid': '203', 'locid': '2400\\n'}, {'deptid': '50', 'dname': 'Shipping', 'mgrid': '121', 'locid': '1500\\n'}, {'deptid': '60', 'dname': 'IT', 'mgrid': '103', 'locid': '1400\\n'}, {'deptid': '70', 'dname': 'Public Relations', 'mgrid': '204', 'locid': '2700\\n'}, {'deptid': '80', 'dname': 'Sales', 'mgrid': '145', 'locid': '2500\\n'}, {'deptid': '90', 'dname': 'Executive', 'mgrid': '100', 'locid': '1700\\n'}, {'deptid': '100', 'dname': 'Finance', 'mgrid': '108', 'locid': '1700\\n'}, {'deptid': '110', 'dname': 'Accounting', 'mgrid': '205', 'locid': '1700\\n'}, {'deptid': '120', 'dname': 'Treasury', 'mgrid': '', 'locid': '1700\\n'}, {'deptid': '130', 'dname': 'Corporate Tax', 'mgrid': '', 'locid': '1700\\n'}, {'deptid': '140', 'dname': 'Control And Credit', 'mgrid': '', 'locid': '1700\\n'}, {'deptid': '150', 'dname': 'Shareholder Services', 'mgrid': '', 'locid': '1700\\n'}, {'deptid': '160', 'dname': 'Benefits', 'mgrid': '', 'locid': '1700\\n'}, {'deptid': '170', 'dname': 'Manufacturing', 'mgrid': '', 'locid': '1700\\n'}, {'deptid': '180', 'dname': 'Construction', 'mgrid': '', 'locid': '1700\\n'}, {'deptid': '190', 'dname': 'Contracting', 'mgrid': '', 'locid': '1700\\n'}, {'deptid': '200', 'dname': 'Operations', 'mgrid': '', 'locid': '1700\\n'}, {'deptid': '210', 'dname': 'IT Support', 'mgrid': '', 'locid': '1700\\n'}, {'deptid': '220', 'dname': 'NOC', 'mgrid': '', 'locid': '1700\\n'}, {'deptid': '230', 'dname': 'IT Helpdesk', 'mgrid': '', 'locid': '1700\\n'}, {'deptid': '240', 'dname': 'Government Sales', 'mgrid': '', 'locid': '1700\\n'}, {'deptid': '250', 'dname': 'Retail Sales', 'mgrid': '', 'locid': '1700\\n'}, {'deptid': '260', 'dname': 'Recruiting', 'mgrid': '', 'locid': '1700\\n'}, {'deptid': '270', 'dname': 'Payroll', 'mgrid': '', 'locid': '1700\\n'}]\n"
     ]
    }
   ],
   "source": [
    "#Departments.csv의 모든 데이터를 딕셔너리형으로 정의하세요\n",
    "\n",
    "depts=[]\n",
    "deptkey=['deptid','dname','mgrid','locid']\n",
    "\n",
    "with open('DEPARTMENTS.csv') as f: #Departments.csv 파일을 읽기전용으로 오픈한 후\n",
    "    for lines in f: #한줄씩 읽은 다음\n",
    "        deptval=lines.split(',')\n",
    "        dept={k:v for k,v in zip(deptkey,deptval)}\n",
    "        depts.append(dept)\n",
    "        print(id(depts))\n",
    "print(depts)"
   ]
  },
  {
   "cell_type": "code",
   "execution_count": 147,
   "metadata": {},
   "outputs": [
    {
     "name": "stdout",
     "output_type": "stream",
     "text": [
      "리스트: 140138744717960  /  딕셔너리: 140138515547552\n",
      "\n",
      "리스트: 140138744717960  /  딕셔너리: 140138515549784\n",
      "\n",
      "리스트: 140138744717960  /  딕셔너리: 140138515527504\n",
      "\n",
      "리스트: 140138744717960  /  딕셔너리: 140138743446840\n",
      "\n",
      "리스트: 140138744717960  /  딕셔너리: 140138515527216\n",
      "\n",
      "리스트: 140138744717960  /  딕셔너리: 140138515749048\n",
      "\n",
      "리스트: 140138744717960  /  딕셔너리: 140138515574648\n",
      "\n",
      "리스트: 140138744717960  /  딕셔너리: 140138515527792\n",
      "\n",
      "리스트: 140138744717960  /  딕셔너리: 140138515540944\n",
      "\n",
      "리스트: 140138744717960  /  딕셔너리: 140138515529304\n",
      "\n",
      "리스트: 140138744717960  /  딕셔너리: 140138743430384\n",
      "\n",
      "리스트: 140138744717960  /  딕셔너리: 140138515528800\n",
      "\n",
      "리스트: 140138744717960  /  딕셔너리: 140138743429952\n",
      "\n",
      "리스트: 140138744717960  /  딕셔너리: 140138515528296\n",
      "\n",
      "리스트: 140138744717960  /  딕셔너리: 140138743429664\n",
      "\n",
      "리스트: 140138744717960  /  딕셔너리: 140138745143728\n",
      "\n",
      "리스트: 140138744717960  /  딕셔너리: 140138743447488\n",
      "\n",
      "리스트: 140138744717960  /  딕셔너리: 140138745144592\n",
      "\n",
      "리스트: 140138744717960  /  딕셔너리: 140138515525704\n",
      "\n",
      "리스트: 140138744717960  /  딕셔너리: 140138515528728\n",
      "\n",
      "리스트: 140138744717960  /  딕셔너리: 140138515529592\n",
      "\n",
      "리스트: 140138744717960  /  딕셔너리: 140138515528080\n",
      "\n",
      "리스트: 140138744717960  /  딕셔너리: 140138515526640\n",
      "\n",
      "리스트: 140138744717960  /  딕셔너리: 140138515529232\n",
      "\n",
      "리스트: 140138744717960  /  딕셔너리: 140138515528152\n",
      "\n",
      "리스트: 140138744717960  /  딕셔너리: 140138515528008\n",
      "\n",
      "리스트: 140138744717960  /  딕셔너리: 140138515526496\n",
      "\n",
      "리스트: 140138744717960  /  딕셔너리: 140138515750560\n",
      "\n",
      "[{'deptid': 'DEPARTMENT_ID', 'dname': 'DEPARTMENT_NAME', 'mgrid': 'MANAGER_ID', 'locid': 'LOCATION_ID\\n'}, {'deptid': '10', 'dname': 'Administration', 'mgrid': '200', 'locid': '1700\\n'}, {'deptid': '20', 'dname': 'Marketing', 'mgrid': '201', 'locid': '1800\\n'}, {'deptid': '30', 'dname': 'Purchasing', 'mgrid': '114', 'locid': '1700\\n'}, {'deptid': '40', 'dname': 'Human Resources', 'mgrid': '203', 'locid': '2400\\n'}, {'deptid': '50', 'dname': 'Shipping', 'mgrid': '121', 'locid': '1500\\n'}, {'deptid': '60', 'dname': 'IT', 'mgrid': '103', 'locid': '1400\\n'}, {'deptid': '70', 'dname': 'Public Relations', 'mgrid': '204', 'locid': '2700\\n'}, {'deptid': '80', 'dname': 'Sales', 'mgrid': '145', 'locid': '2500\\n'}, {'deptid': '90', 'dname': 'Executive', 'mgrid': '100', 'locid': '1700\\n'}, {'deptid': '100', 'dname': 'Finance', 'mgrid': '108', 'locid': '1700\\n'}, {'deptid': '110', 'dname': 'Accounting', 'mgrid': '205', 'locid': '1700\\n'}, {'deptid': '120', 'dname': 'Treasury', 'mgrid': '', 'locid': '1700\\n'}, {'deptid': '130', 'dname': 'Corporate Tax', 'mgrid': '', 'locid': '1700\\n'}, {'deptid': '140', 'dname': 'Control And Credit', 'mgrid': '', 'locid': '1700\\n'}, {'deptid': '150', 'dname': 'Shareholder Services', 'mgrid': '', 'locid': '1700\\n'}, {'deptid': '160', 'dname': 'Benefits', 'mgrid': '', 'locid': '1700\\n'}, {'deptid': '170', 'dname': 'Manufacturing', 'mgrid': '', 'locid': '1700\\n'}, {'deptid': '180', 'dname': 'Construction', 'mgrid': '', 'locid': '1700\\n'}, {'deptid': '190', 'dname': 'Contracting', 'mgrid': '', 'locid': '1700\\n'}, {'deptid': '200', 'dname': 'Operations', 'mgrid': '', 'locid': '1700\\n'}, {'deptid': '210', 'dname': 'IT Support', 'mgrid': '', 'locid': '1700\\n'}, {'deptid': '220', 'dname': 'NOC', 'mgrid': '', 'locid': '1700\\n'}, {'deptid': '230', 'dname': 'IT Helpdesk', 'mgrid': '', 'locid': '1700\\n'}, {'deptid': '240', 'dname': 'Government Sales', 'mgrid': '', 'locid': '1700\\n'}, {'deptid': '250', 'dname': 'Retail Sales', 'mgrid': '', 'locid': '1700\\n'}, {'deptid': '260', 'dname': 'Recruiting', 'mgrid': '', 'locid': '1700\\n'}, {'deptid': '270', 'dname': 'Payroll', 'mgrid': '', 'locid': '1700\\n'}]\n"
     ]
    }
   ],
   "source": [
    "#Departments.csv의 모든 데이터를 딕셔너리형으로 정의하세요\n",
    "\n",
    "depts=[]\n",
    "deptkey=['deptid','dname','mgrid','locid']\n",
    "\n",
    "with open('DEPARTMENTS.csv') as f: #Departments.csv 파일을 읽기전용으로 오픈한 후\n",
    "    for lines in f: #한줄씩 읽은 다음\n",
    "        deptval=lines.split(',')\n",
    "        dept={}\n",
    "        dept={k:v for k,v in zip(deptkey,deptval)}\n",
    "        depts.append(dept)\n",
    "        print('리스트:',id(depts),end='  /  ')\n",
    "        print('딕셔너리:',id(dept))\n",
    "        print()\n",
    "print(depts)"
   ]
  },
  {
   "cell_type": "code",
   "execution_count": 150,
   "metadata": {
    "scrolled": true
   },
   "outputs": [
    {
     "name": "stdout",
     "output_type": "stream",
     "text": [
      "리스트: 140138504822216  /  딕셔너리: 140138515750560\n",
      "\n",
      "리스트: 140138504822216  /  딕셔너리: 140138515526496\n",
      "\n",
      "리스트: 140138504822216  /  딕셔너리: 140138516256736\n",
      "\n",
      "리스트: 140138504822216  /  딕셔너리: 140138515529448\n",
      "\n",
      "리스트: 140138504822216  /  딕셔너리: 140138515600152\n",
      "\n",
      "리스트: 140138504822216  /  딕셔너리: 140138515602744\n",
      "\n",
      "리스트: 140138504822216  /  딕셔너리: 140138515602312\n",
      "\n",
      "리스트: 140138504822216  /  딕셔너리: 140138515600368\n",
      "\n",
      "리스트: 140138504822216  /  딕셔너리: 140138515601376\n",
      "\n",
      "리스트: 140138504822216  /  딕셔너리: 140138515603392\n",
      "\n",
      "리스트: 140138504822216  /  딕셔너리: 140138515601664\n",
      "\n",
      "리스트: 140138504822216  /  딕셔너리: 140138515600944\n",
      "\n",
      "리스트: 140138504822216  /  딕셔너리: 140138515599792\n",
      "\n",
      "리스트: 140138504822216  /  딕셔너리: 140138515600440\n",
      "\n",
      "리스트: 140138504822216  /  딕셔너리: 140138745144664\n",
      "\n",
      "리스트: 140138504822216  /  딕셔너리: 140138745144880\n",
      "\n",
      "리스트: 140138504822216  /  딕셔너리: 140138515538136\n",
      "\n",
      "리스트: 140138504822216  /  딕셔너리: 140138515540296\n",
      "\n",
      "리스트: 140138504822216  /  딕셔너리: 140138516256592\n",
      "\n",
      "리스트: 140138504822216  /  딕셔너리: 140138515537992\n",
      "\n",
      "리스트: 140138504822216  /  딕셔너리: 140138516255800\n",
      "\n",
      "리스트: 140138504822216  /  딕셔너리: 140138516254792\n",
      "\n",
      "리스트: 140138504822216  /  딕셔너리: 140138515529088\n",
      "\n",
      "리스트: 140138504822216  /  딕셔너리: 140138515528656\n",
      "\n",
      "리스트: 140138504822216  /  딕셔너리: 140138515528872\n",
      "\n",
      "리스트: 140138504822216  /  딕셔너리: 140138515529664\n",
      "\n",
      "리스트: 140138504822216  /  딕셔너리: 140138515525920\n",
      "\n",
      "리스트: 140138504822216  /  딕셔너리: 140138515525992\n",
      "\n",
      "[{'deptid': 'DEPARTMENT_ID', 'dname': 'DEPARTMENT_NAME', 'mgrid': 'MANAGER_ID', 'locid': 'LOCATION_ID\\n'}, {'deptid': '10', 'dname': 'Administration', 'mgrid': '200', 'locid': '1700\\n'}, {'deptid': '20', 'dname': 'Marketing', 'mgrid': '201', 'locid': '1800\\n'}, {'deptid': '30', 'dname': 'Purchasing', 'mgrid': '114', 'locid': '1700\\n'}, {'deptid': '40', 'dname': 'Human Resources', 'mgrid': '203', 'locid': '2400\\n'}, {'deptid': '50', 'dname': 'Shipping', 'mgrid': '121', 'locid': '1500\\n'}, {'deptid': '60', 'dname': 'IT', 'mgrid': '103', 'locid': '1400\\n'}, {'deptid': '70', 'dname': 'Public Relations', 'mgrid': '204', 'locid': '2700\\n'}, {'deptid': '80', 'dname': 'Sales', 'mgrid': '145', 'locid': '2500\\n'}, {'deptid': '90', 'dname': 'Executive', 'mgrid': '100', 'locid': '1700\\n'}, {'deptid': '100', 'dname': 'Finance', 'mgrid': '108', 'locid': '1700\\n'}, {'deptid': '110', 'dname': 'Accounting', 'mgrid': '205', 'locid': '1700\\n'}, {'deptid': '120', 'dname': 'Treasury', 'mgrid': '', 'locid': '1700\\n'}, {'deptid': '130', 'dname': 'Corporate Tax', 'mgrid': '', 'locid': '1700\\n'}, {'deptid': '140', 'dname': 'Control And Credit', 'mgrid': '', 'locid': '1700\\n'}, {'deptid': '150', 'dname': 'Shareholder Services', 'mgrid': '', 'locid': '1700\\n'}, {'deptid': '160', 'dname': 'Benefits', 'mgrid': '', 'locid': '1700\\n'}, {'deptid': '170', 'dname': 'Manufacturing', 'mgrid': '', 'locid': '1700\\n'}, {'deptid': '180', 'dname': 'Construction', 'mgrid': '', 'locid': '1700\\n'}, {'deptid': '190', 'dname': 'Contracting', 'mgrid': '', 'locid': '1700\\n'}, {'deptid': '200', 'dname': 'Operations', 'mgrid': '', 'locid': '1700\\n'}, {'deptid': '210', 'dname': 'IT Support', 'mgrid': '', 'locid': '1700\\n'}, {'deptid': '220', 'dname': 'NOC', 'mgrid': '', 'locid': '1700\\n'}, {'deptid': '230', 'dname': 'IT Helpdesk', 'mgrid': '', 'locid': '1700\\n'}, {'deptid': '240', 'dname': 'Government Sales', 'mgrid': '', 'locid': '1700\\n'}, {'deptid': '250', 'dname': 'Retail Sales', 'mgrid': '', 'locid': '1700\\n'}, {'deptid': '260', 'dname': 'Recruiting', 'mgrid': '', 'locid': '1700\\n'}, {'deptid': '270', 'dname': 'Payroll', 'mgrid': '', 'locid': '1700\\n'}]\n"
     ]
    }
   ],
   "source": [
    "#Departments.csv의 모든 데이터를 딕셔너리형으로 정의하세요\n",
    "\n",
    "depts=[]\n",
    "deptkey=['deptid','dname','mgrid','locid']\n",
    "\n",
    "with open('DEPARTMENTS.csv') as f: #Departments.csv 파일을 읽기전용으로 오픈한 후\n",
    "    for lines in f: #한줄씩 읽은 다음\n",
    "        deptval=lines.split(',')\n",
    "        dept={k:v for k,v in zip(deptkey,deptval)}\n",
    "        depts.append(dept)\n",
    "        print('리스트:',id(depts),end='  /  ')\n",
    "        print('딕셔너리:',id(dept))\n",
    "        print()\n",
    "print(depts)"
   ]
  },
  {
   "cell_type": "code",
   "execution_count": 155,
   "metadata": {},
   "outputs": [
    {
     "name": "stdout",
     "output_type": "stream",
     "text": [
      "140138515525992\n",
      "140138515529592\n",
      "140138745121672\n",
      "140138515749120\n",
      "140138515526712\n",
      "140138515538712\n",
      "140138515750416\n",
      "140138745121312\n",
      "140138745120232\n",
      "140138745143728\n",
      "140138745120016\n",
      "140138504814736\n",
      "140138745144592\n",
      "140138743430024\n",
      "140138515528800\n",
      "140138515528368\n",
      "140138515527288\n",
      "140138515526208\n",
      "140138515526352\n",
      "140138515529232\n",
      "140138515526928\n",
      "140138515529016\n",
      "140138515527504\n",
      "140138515528296\n",
      "140138515527360\n",
      "140138515546760\n",
      "140138515546472\n",
      "140138515547336\n",
      "[{'deptid': 'DEPARTMENT_ID', 'dname': 'DEPARTMENT_NAME', 'mgrid': 'MANAGER_ID', 'locid': 'LOCATION_ID\\n'}, {'deptid': '10', 'dname': 'Administration', 'mgrid': '200', 'locid': '1700\\n'}, {'deptid': '20', 'dname': 'Marketing', 'mgrid': '201', 'locid': '1800\\n'}, {'deptid': '30', 'dname': 'Purchasing', 'mgrid': '114', 'locid': '1700\\n'}, {'deptid': '40', 'dname': 'Human Resources', 'mgrid': '203', 'locid': '2400\\n'}, {'deptid': '50', 'dname': 'Shipping', 'mgrid': '121', 'locid': '1500\\n'}, {'deptid': '60', 'dname': 'IT', 'mgrid': '103', 'locid': '1400\\n'}, {'deptid': '70', 'dname': 'Public Relations', 'mgrid': '204', 'locid': '2700\\n'}, {'deptid': '80', 'dname': 'Sales', 'mgrid': '145', 'locid': '2500\\n'}, {'deptid': '90', 'dname': 'Executive', 'mgrid': '100', 'locid': '1700\\n'}, {'deptid': '100', 'dname': 'Finance', 'mgrid': '108', 'locid': '1700\\n'}, {'deptid': '110', 'dname': 'Accounting', 'mgrid': '205', 'locid': '1700\\n'}, {'deptid': '120', 'dname': 'Treasury', 'mgrid': '', 'locid': '1700\\n'}, {'deptid': '130', 'dname': 'Corporate Tax', 'mgrid': '', 'locid': '1700\\n'}, {'deptid': '140', 'dname': 'Control And Credit', 'mgrid': '', 'locid': '1700\\n'}, {'deptid': '150', 'dname': 'Shareholder Services', 'mgrid': '', 'locid': '1700\\n'}, {'deptid': '160', 'dname': 'Benefits', 'mgrid': '', 'locid': '1700\\n'}, {'deptid': '170', 'dname': 'Manufacturing', 'mgrid': '', 'locid': '1700\\n'}, {'deptid': '180', 'dname': 'Construction', 'mgrid': '', 'locid': '1700\\n'}, {'deptid': '190', 'dname': 'Contracting', 'mgrid': '', 'locid': '1700\\n'}, {'deptid': '200', 'dname': 'Operations', 'mgrid': '', 'locid': '1700\\n'}, {'deptid': '210', 'dname': 'IT Support', 'mgrid': '', 'locid': '1700\\n'}, {'deptid': '220', 'dname': 'NOC', 'mgrid': '', 'locid': '1700\\n'}, {'deptid': '230', 'dname': 'IT Helpdesk', 'mgrid': '', 'locid': '1700\\n'}, {'deptid': '240', 'dname': 'Government Sales', 'mgrid': '', 'locid': '1700\\n'}, {'deptid': '250', 'dname': 'Retail Sales', 'mgrid': '', 'locid': '1700\\n'}, {'deptid': '260', 'dname': 'Recruiting', 'mgrid': '', 'locid': '1700\\n'}, {'deptid': '270', 'dname': 'Payroll', 'mgrid': '', 'locid': '1700\\n'}]\n"
     ]
    }
   ],
   "source": [
    "#Departments.csv의 모든 데이터를 딕셔너리형으로 정의하세요\n",
    "\n",
    "depts=[]\n",
    "deptkey=['deptid','dname','mgrid','locid']\n",
    "\n",
    "with open('DEPARTMENTS.csv') as f: #Departments.csv 파일을 읽기전용으로 오픈한 후\n",
    "    for lines in f: #한줄씩 읽은 다음\n",
    "        deptval=lines.split(',')\n",
    "        dept={}\n",
    "        dept={k:v for k,v in zip(deptkey,deptval)}\n",
    "        depts.append(dept)\n",
    "        print(id(dept))\n",
    "print(depts)"
   ]
  },
  {
   "cell_type": "code",
   "execution_count": 162,
   "metadata": {},
   "outputs": [
    {
     "name": "stdout",
     "output_type": "stream",
     "text": [
      "140138515539576\n",
      "140138515749120\n",
      "140138515951120\n",
      "140138515548056\n",
      "140138516254792\n",
      "140138743429520\n",
      "140138515266368\n",
      "140138515266296\n",
      "140138515266440\n",
      "140138515266584\n",
      "140138515266512\n",
      "140138515266656\n",
      "140138743447200\n",
      "140138515266800\n",
      "140138515602312\n",
      "140138515599720\n",
      "140138515600440\n",
      "140138516255656\n",
      "140138515602744\n",
      "140138515750848\n",
      "140138516255800\n",
      "140138515750560\n",
      "140138515749048\n",
      "140138515570976\n",
      "140138515540296\n",
      "140138515540944\n",
      "140138515528224\n",
      "140138515529088\n",
      "[{'deptid': 'DEPARTMENT_ID', 'dname': 'DEPARTMENT_NAME', 'mgrid': 'MANAGER_ID', 'locid': 'LOCATION_ID\\n'}, {'deptid': '10', 'dname': 'Administration', 'mgrid': '200', 'locid': '1700\\n'}, {'deptid': '20', 'dname': 'Marketing', 'mgrid': '201', 'locid': '1800\\n'}, {'deptid': '30', 'dname': 'Purchasing', 'mgrid': '114', 'locid': '1700\\n'}, {'deptid': '40', 'dname': 'Human Resources', 'mgrid': '203', 'locid': '2400\\n'}, {'deptid': '50', 'dname': 'Shipping', 'mgrid': '121', 'locid': '1500\\n'}, {'deptid': '60', 'dname': 'IT', 'mgrid': '103', 'locid': '1400\\n'}, {'deptid': '70', 'dname': 'Public Relations', 'mgrid': '204', 'locid': '2700\\n'}, {'deptid': '80', 'dname': 'Sales', 'mgrid': '145', 'locid': '2500\\n'}, {'deptid': '90', 'dname': 'Executive', 'mgrid': '100', 'locid': '1700\\n'}, {'deptid': '100', 'dname': 'Finance', 'mgrid': '108', 'locid': '1700\\n'}, {'deptid': '110', 'dname': 'Accounting', 'mgrid': '205', 'locid': '1700\\n'}, {'deptid': '120', 'dname': 'Treasury', 'mgrid': '', 'locid': '1700\\n'}, {'deptid': '130', 'dname': 'Corporate Tax', 'mgrid': '', 'locid': '1700\\n'}, {'deptid': '140', 'dname': 'Control And Credit', 'mgrid': '', 'locid': '1700\\n'}, {'deptid': '150', 'dname': 'Shareholder Services', 'mgrid': '', 'locid': '1700\\n'}, {'deptid': '160', 'dname': 'Benefits', 'mgrid': '', 'locid': '1700\\n'}, {'deptid': '170', 'dname': 'Manufacturing', 'mgrid': '', 'locid': '1700\\n'}, {'deptid': '180', 'dname': 'Construction', 'mgrid': '', 'locid': '1700\\n'}, {'deptid': '190', 'dname': 'Contracting', 'mgrid': '', 'locid': '1700\\n'}, {'deptid': '200', 'dname': 'Operations', 'mgrid': '', 'locid': '1700\\n'}, {'deptid': '210', 'dname': 'IT Support', 'mgrid': '', 'locid': '1700\\n'}, {'deptid': '220', 'dname': 'NOC', 'mgrid': '', 'locid': '1700\\n'}, {'deptid': '230', 'dname': 'IT Helpdesk', 'mgrid': '', 'locid': '1700\\n'}, {'deptid': '240', 'dname': 'Government Sales', 'mgrid': '', 'locid': '1700\\n'}, {'deptid': '250', 'dname': 'Retail Sales', 'mgrid': '', 'locid': '1700\\n'}, {'deptid': '260', 'dname': 'Recruiting', 'mgrid': '', 'locid': '1700\\n'}, {'deptid': '270', 'dname': 'Payroll', 'mgrid': '', 'locid': '1700\\n'}]\n"
     ]
    }
   ],
   "source": [
    "#Departments.csv의 모든 데이터를 딕셔너리형으로 정의하세요\n",
    "\n",
    "depts=[]\n",
    "deptkey=['deptid','dname','mgrid','locid']\n",
    "\n",
    "with open('DEPARTMENTS.csv') as f: #Departments.csv 파일을 읽기전용으로 오픈한 후\n",
    "    for lines in f: #한줄씩 읽은 다음\n",
    "        deptval=lines.split(',')\n",
    "        dept={}\n",
    "        dept={k:v for k,v in zip(deptkey,deptval)}\n",
    "        depts.append(dept)\n",
    "        print(id(dept))\n",
    "print(depts)\n",
    "#이것만으로는 딕셔너리dept가 매번 다른 주소값 생성x. 2개씩 번갈아가면서 엎어침..."
   ]
  },
  {
   "cell_type": "code",
   "execution_count": null,
   "metadata": {},
   "outputs": [],
   "source": []
  },
  {
   "cell_type": "code",
   "execution_count": null,
   "metadata": {},
   "outputs": [],
   "source": []
  },
  {
   "cell_type": "code",
   "execution_count": null,
   "metadata": {},
   "outputs": [],
   "source": []
  },
  {
   "cell_type": "code",
   "execution_count": null,
   "metadata": {},
   "outputs": [],
   "source": []
  },
  {
   "cell_type": "code",
   "execution_count": null,
   "metadata": {},
   "outputs": [],
   "source": []
  },
  {
   "cell_type": "code",
   "execution_count": 197,
   "metadata": {},
   "outputs": [
    {
     "name": "stdout",
     "output_type": "stream",
     "text": [
      "140138743444752  /  140138788482056\n",
      "140138515655632  /  140138788482056\n",
      "140138743444752  /  140138788482056\n",
      "140138515655632  /  140138788482056\n",
      "140138743444752  /  140138788482056\n",
      "140138515655632  /  140138788482056\n",
      "140138743444752  /  140138788482056\n",
      "140138515655632  /  140138788482056\n",
      "140138743444752  /  140138788482056\n",
      "140138515655632  /  140138788482056\n",
      "140138743444752  /  140138788482056\n",
      "140138515655632  /  140138788482056\n",
      "140138743444752  /  140138788482056\n",
      "140138515655632  /  140138788482056\n",
      "140138743444752  /  140138788482056\n",
      "140138515655632  /  140138788482056\n",
      "140138743444752  /  140138788482056\n",
      "140138515655632  /  140138788482056\n",
      "140138743444752  /  140138788482056\n",
      "140138515655632  /  140138788482056\n",
      "140138743444752  /  140138788482056\n",
      "140138515655632  /  140138788482056\n",
      "140138743444752  /  140138788482056\n",
      "140138515655632  /  140138788482056\n",
      "140138743444752  /  140138788482056\n",
      "140138515655632  /  140138788482056\n",
      "140138743444752  /  140138788482056\n",
      "140138515655632  /  140138788482056\n",
      "[]\n"
     ]
    }
   ],
   "source": [
    "#Departments.csv의 모든 데이터를 딕셔너리형으로 정의하세요\n",
    "\n",
    "depts=[]\n",
    "deptkey=['deptid','dname','mgrid','locid']\n",
    "\n",
    "with open('DEPARTMENTS.csv') as f: \n",
    "    for lines in f: \n",
    "        deptval=lines.split(',')\n",
    "        dept={k:v for k,v in zip(deptkey,deptval)} \n",
    "        #depts.append(dept)\n",
    "        print(id(dept),' / ', id(depts))\n",
    "print(depts)"
   ]
  },
  {
   "cell_type": "code",
   "execution_count": 195,
   "metadata": {},
   "outputs": [
    {
     "name": "stdout",
     "output_type": "stream",
     "text": [
      "140138743445328\n",
      "140138743445328\n",
      "140138743445328\n",
      "140138743445328\n",
      "140138743445328\n",
      "140138743445328\n",
      "140138743445328\n",
      "140138743445328\n",
      "140138743445328\n",
      "140138743445328\n",
      "140138743445328\n",
      "140138743445328\n",
      "140138743445328\n",
      "140138743445328\n",
      "140138743445328\n",
      "140138743445328\n",
      "140138743445328\n",
      "140138743445328\n",
      "140138743445328\n",
      "140138743445328\n",
      "140138743445328\n",
      "140138743445328\n",
      "140138743445328\n",
      "140138743445328\n",
      "140138743445328\n",
      "140138743445328\n",
      "140138743445328\n",
      "140138743445328\n",
      "140138743445328\n",
      "140138743445328\n",
      "140138743445328\n",
      "140138743445328\n",
      "140138743445328\n",
      "140138743445328\n",
      "140138743445328\n",
      "140138743445328\n",
      "140138743445328\n",
      "140138743445328\n",
      "140138743445328\n",
      "140138743445328\n",
      "140138743445328\n",
      "140138743445328\n",
      "140138743445328\n",
      "140138743445328\n",
      "140138743445328\n",
      "140138743445328\n",
      "140138743445328\n",
      "140138743445328\n",
      "140138743445328\n",
      "140138743445328\n",
      "140138743445328\n",
      "140138743445328\n",
      "140138743445328\n",
      "140138743445328\n",
      "140138743445328\n",
      "140138743445328\n",
      "140138743445328\n",
      "140138743445328\n",
      "140138743445328\n",
      "140138743445328\n",
      "140138743445328\n",
      "140138743445328\n",
      "140138743445328\n",
      "140138743445328\n",
      "140138743445328\n",
      "140138743445328\n",
      "140138743445328\n",
      "140138743445328\n",
      "140138743445328\n",
      "140138743445328\n",
      "140138743445328\n",
      "140138743445328\n",
      "140138743445328\n",
      "140138743445328\n",
      "140138743445328\n",
      "140138743445328\n",
      "140138743445328\n",
      "140138743445328\n",
      "140138743445328\n",
      "140138743445328\n",
      "140138743445328\n",
      "140138743445328\n",
      "140138743445328\n",
      "140138743445328\n",
      "140138743445328\n",
      "140138743445328\n",
      "140138743445328\n",
      "140138743445328\n",
      "140138743445328\n",
      "140138743445328\n",
      "140138743445328\n",
      "140138743445328\n",
      "140138743445328\n",
      "140138743445328\n",
      "140138743445328\n",
      "140138743445328\n",
      "140138743445328\n",
      "140138743445328\n",
      "140138743445328\n",
      "140138743445328\n",
      "140138743445328\n",
      "140138743445328\n",
      "140138743445328\n",
      "140138743445328\n",
      "140138743445328\n",
      "140138743445328\n",
      "140138743445328\n",
      "140138743445328\n",
      "[{'empid': '206', 'fname': 'William', 'lname': 'Gietz', 'email': 'WGIETZ', 'phone': '515.123.8181', 'hdate': '2002-06-07', 'jobid': 'AC_ACCOUNT', 'sal': '8300', 'comm': '', 'mgrid': '205', 'deptid': '110\\n'}, {'empid': '206', 'fname': 'William', 'lname': 'Gietz', 'email': 'WGIETZ', 'phone': '515.123.8181', 'hdate': '2002-06-07', 'jobid': 'AC_ACCOUNT', 'sal': '8300', 'comm': '', 'mgrid': '205', 'deptid': '110\\n'}, {'empid': '206', 'fname': 'William', 'lname': 'Gietz', 'email': 'WGIETZ', 'phone': '515.123.8181', 'hdate': '2002-06-07', 'jobid': 'AC_ACCOUNT', 'sal': '8300', 'comm': '', 'mgrid': '205', 'deptid': '110\\n'}, {'empid': '206', 'fname': 'William', 'lname': 'Gietz', 'email': 'WGIETZ', 'phone': '515.123.8181', 'hdate': '2002-06-07', 'jobid': 'AC_ACCOUNT', 'sal': '8300', 'comm': '', 'mgrid': '205', 'deptid': '110\\n'}, {'empid': '206', 'fname': 'William', 'lname': 'Gietz', 'email': 'WGIETZ', 'phone': '515.123.8181', 'hdate': '2002-06-07', 'jobid': 'AC_ACCOUNT', 'sal': '8300', 'comm': '', 'mgrid': '205', 'deptid': '110\\n'}, {'empid': '206', 'fname': 'William', 'lname': 'Gietz', 'email': 'WGIETZ', 'phone': '515.123.8181', 'hdate': '2002-06-07', 'jobid': 'AC_ACCOUNT', 'sal': '8300', 'comm': '', 'mgrid': '205', 'deptid': '110\\n'}, {'empid': '206', 'fname': 'William', 'lname': 'Gietz', 'email': 'WGIETZ', 'phone': '515.123.8181', 'hdate': '2002-06-07', 'jobid': 'AC_ACCOUNT', 'sal': '8300', 'comm': '', 'mgrid': '205', 'deptid': '110\\n'}, {'empid': '206', 'fname': 'William', 'lname': 'Gietz', 'email': 'WGIETZ', 'phone': '515.123.8181', 'hdate': '2002-06-07', 'jobid': 'AC_ACCOUNT', 'sal': '8300', 'comm': '', 'mgrid': '205', 'deptid': '110\\n'}, {'empid': '206', 'fname': 'William', 'lname': 'Gietz', 'email': 'WGIETZ', 'phone': '515.123.8181', 'hdate': '2002-06-07', 'jobid': 'AC_ACCOUNT', 'sal': '8300', 'comm': '', 'mgrid': '205', 'deptid': '110\\n'}, {'empid': '206', 'fname': 'William', 'lname': 'Gietz', 'email': 'WGIETZ', 'phone': '515.123.8181', 'hdate': '2002-06-07', 'jobid': 'AC_ACCOUNT', 'sal': '8300', 'comm': '', 'mgrid': '205', 'deptid': '110\\n'}, {'empid': '206', 'fname': 'William', 'lname': 'Gietz', 'email': 'WGIETZ', 'phone': '515.123.8181', 'hdate': '2002-06-07', 'jobid': 'AC_ACCOUNT', 'sal': '8300', 'comm': '', 'mgrid': '205', 'deptid': '110\\n'}, {'empid': '206', 'fname': 'William', 'lname': 'Gietz', 'email': 'WGIETZ', 'phone': '515.123.8181', 'hdate': '2002-06-07', 'jobid': 'AC_ACCOUNT', 'sal': '8300', 'comm': '', 'mgrid': '205', 'deptid': '110\\n'}, {'empid': '206', 'fname': 'William', 'lname': 'Gietz', 'email': 'WGIETZ', 'phone': '515.123.8181', 'hdate': '2002-06-07', 'jobid': 'AC_ACCOUNT', 'sal': '8300', 'comm': '', 'mgrid': '205', 'deptid': '110\\n'}, {'empid': '206', 'fname': 'William', 'lname': 'Gietz', 'email': 'WGIETZ', 'phone': '515.123.8181', 'hdate': '2002-06-07', 'jobid': 'AC_ACCOUNT', 'sal': '8300', 'comm': '', 'mgrid': '205', 'deptid': '110\\n'}, {'empid': '206', 'fname': 'William', 'lname': 'Gietz', 'email': 'WGIETZ', 'phone': '515.123.8181', 'hdate': '2002-06-07', 'jobid': 'AC_ACCOUNT', 'sal': '8300', 'comm': '', 'mgrid': '205', 'deptid': '110\\n'}, {'empid': '206', 'fname': 'William', 'lname': 'Gietz', 'email': 'WGIETZ', 'phone': '515.123.8181', 'hdate': '2002-06-07', 'jobid': 'AC_ACCOUNT', 'sal': '8300', 'comm': '', 'mgrid': '205', 'deptid': '110\\n'}, {'empid': '206', 'fname': 'William', 'lname': 'Gietz', 'email': 'WGIETZ', 'phone': '515.123.8181', 'hdate': '2002-06-07', 'jobid': 'AC_ACCOUNT', 'sal': '8300', 'comm': '', 'mgrid': '205', 'deptid': '110\\n'}, {'empid': '206', 'fname': 'William', 'lname': 'Gietz', 'email': 'WGIETZ', 'phone': '515.123.8181', 'hdate': '2002-06-07', 'jobid': 'AC_ACCOUNT', 'sal': '8300', 'comm': '', 'mgrid': '205', 'deptid': '110\\n'}, {'empid': '206', 'fname': 'William', 'lname': 'Gietz', 'email': 'WGIETZ', 'phone': '515.123.8181', 'hdate': '2002-06-07', 'jobid': 'AC_ACCOUNT', 'sal': '8300', 'comm': '', 'mgrid': '205', 'deptid': '110\\n'}, {'empid': '206', 'fname': 'William', 'lname': 'Gietz', 'email': 'WGIETZ', 'phone': '515.123.8181', 'hdate': '2002-06-07', 'jobid': 'AC_ACCOUNT', 'sal': '8300', 'comm': '', 'mgrid': '205', 'deptid': '110\\n'}, {'empid': '206', 'fname': 'William', 'lname': 'Gietz', 'email': 'WGIETZ', 'phone': '515.123.8181', 'hdate': '2002-06-07', 'jobid': 'AC_ACCOUNT', 'sal': '8300', 'comm': '', 'mgrid': '205', 'deptid': '110\\n'}, {'empid': '206', 'fname': 'William', 'lname': 'Gietz', 'email': 'WGIETZ', 'phone': '515.123.8181', 'hdate': '2002-06-07', 'jobid': 'AC_ACCOUNT', 'sal': '8300', 'comm': '', 'mgrid': '205', 'deptid': '110\\n'}, {'empid': '206', 'fname': 'William', 'lname': 'Gietz', 'email': 'WGIETZ', 'phone': '515.123.8181', 'hdate': '2002-06-07', 'jobid': 'AC_ACCOUNT', 'sal': '8300', 'comm': '', 'mgrid': '205', 'deptid': '110\\n'}, {'empid': '206', 'fname': 'William', 'lname': 'Gietz', 'email': 'WGIETZ', 'phone': '515.123.8181', 'hdate': '2002-06-07', 'jobid': 'AC_ACCOUNT', 'sal': '8300', 'comm': '', 'mgrid': '205', 'deptid': '110\\n'}, {'empid': '206', 'fname': 'William', 'lname': 'Gietz', 'email': 'WGIETZ', 'phone': '515.123.8181', 'hdate': '2002-06-07', 'jobid': 'AC_ACCOUNT', 'sal': '8300', 'comm': '', 'mgrid': '205', 'deptid': '110\\n'}, {'empid': '206', 'fname': 'William', 'lname': 'Gietz', 'email': 'WGIETZ', 'phone': '515.123.8181', 'hdate': '2002-06-07', 'jobid': 'AC_ACCOUNT', 'sal': '8300', 'comm': '', 'mgrid': '205', 'deptid': '110\\n'}, {'empid': '206', 'fname': 'William', 'lname': 'Gietz', 'email': 'WGIETZ', 'phone': '515.123.8181', 'hdate': '2002-06-07', 'jobid': 'AC_ACCOUNT', 'sal': '8300', 'comm': '', 'mgrid': '205', 'deptid': '110\\n'}, {'empid': '206', 'fname': 'William', 'lname': 'Gietz', 'email': 'WGIETZ', 'phone': '515.123.8181', 'hdate': '2002-06-07', 'jobid': 'AC_ACCOUNT', 'sal': '8300', 'comm': '', 'mgrid': '205', 'deptid': '110\\n'}, {'empid': '206', 'fname': 'William', 'lname': 'Gietz', 'email': 'WGIETZ', 'phone': '515.123.8181', 'hdate': '2002-06-07', 'jobid': 'AC_ACCOUNT', 'sal': '8300', 'comm': '', 'mgrid': '205', 'deptid': '110\\n'}, {'empid': '206', 'fname': 'William', 'lname': 'Gietz', 'email': 'WGIETZ', 'phone': '515.123.8181', 'hdate': '2002-06-07', 'jobid': 'AC_ACCOUNT', 'sal': '8300', 'comm': '', 'mgrid': '205', 'deptid': '110\\n'}, {'empid': '206', 'fname': 'William', 'lname': 'Gietz', 'email': 'WGIETZ', 'phone': '515.123.8181', 'hdate': '2002-06-07', 'jobid': 'AC_ACCOUNT', 'sal': '8300', 'comm': '', 'mgrid': '205', 'deptid': '110\\n'}, {'empid': '206', 'fname': 'William', 'lname': 'Gietz', 'email': 'WGIETZ', 'phone': '515.123.8181', 'hdate': '2002-06-07', 'jobid': 'AC_ACCOUNT', 'sal': '8300', 'comm': '', 'mgrid': '205', 'deptid': '110\\n'}, {'empid': '206', 'fname': 'William', 'lname': 'Gietz', 'email': 'WGIETZ', 'phone': '515.123.8181', 'hdate': '2002-06-07', 'jobid': 'AC_ACCOUNT', 'sal': '8300', 'comm': '', 'mgrid': '205', 'deptid': '110\\n'}, {'empid': '206', 'fname': 'William', 'lname': 'Gietz', 'email': 'WGIETZ', 'phone': '515.123.8181', 'hdate': '2002-06-07', 'jobid': 'AC_ACCOUNT', 'sal': '8300', 'comm': '', 'mgrid': '205', 'deptid': '110\\n'}, {'empid': '206', 'fname': 'William', 'lname': 'Gietz', 'email': 'WGIETZ', 'phone': '515.123.8181', 'hdate': '2002-06-07', 'jobid': 'AC_ACCOUNT', 'sal': '8300', 'comm': '', 'mgrid': '205', 'deptid': '110\\n'}, {'empid': '206', 'fname': 'William', 'lname': 'Gietz', 'email': 'WGIETZ', 'phone': '515.123.8181', 'hdate': '2002-06-07', 'jobid': 'AC_ACCOUNT', 'sal': '8300', 'comm': '', 'mgrid': '205', 'deptid': '110\\n'}, {'empid': '206', 'fname': 'William', 'lname': 'Gietz', 'email': 'WGIETZ', 'phone': '515.123.8181', 'hdate': '2002-06-07', 'jobid': 'AC_ACCOUNT', 'sal': '8300', 'comm': '', 'mgrid': '205', 'deptid': '110\\n'}, {'empid': '206', 'fname': 'William', 'lname': 'Gietz', 'email': 'WGIETZ', 'phone': '515.123.8181', 'hdate': '2002-06-07', 'jobid': 'AC_ACCOUNT', 'sal': '8300', 'comm': '', 'mgrid': '205', 'deptid': '110\\n'}, {'empid': '206', 'fname': 'William', 'lname': 'Gietz', 'email': 'WGIETZ', 'phone': '515.123.8181', 'hdate': '2002-06-07', 'jobid': 'AC_ACCOUNT', 'sal': '8300', 'comm': '', 'mgrid': '205', 'deptid': '110\\n'}, {'empid': '206', 'fname': 'William', 'lname': 'Gietz', 'email': 'WGIETZ', 'phone': '515.123.8181', 'hdate': '2002-06-07', 'jobid': 'AC_ACCOUNT', 'sal': '8300', 'comm': '', 'mgrid': '205', 'deptid': '110\\n'}, {'empid': '206', 'fname': 'William', 'lname': 'Gietz', 'email': 'WGIETZ', 'phone': '515.123.8181', 'hdate': '2002-06-07', 'jobid': 'AC_ACCOUNT', 'sal': '8300', 'comm': '', 'mgrid': '205', 'deptid': '110\\n'}, {'empid': '206', 'fname': 'William', 'lname': 'Gietz', 'email': 'WGIETZ', 'phone': '515.123.8181', 'hdate': '2002-06-07', 'jobid': 'AC_ACCOUNT', 'sal': '8300', 'comm': '', 'mgrid': '205', 'deptid': '110\\n'}, {'empid': '206', 'fname': 'William', 'lname': 'Gietz', 'email': 'WGIETZ', 'phone': '515.123.8181', 'hdate': '2002-06-07', 'jobid': 'AC_ACCOUNT', 'sal': '8300', 'comm': '', 'mgrid': '205', 'deptid': '110\\n'}, {'empid': '206', 'fname': 'William', 'lname': 'Gietz', 'email': 'WGIETZ', 'phone': '515.123.8181', 'hdate': '2002-06-07', 'jobid': 'AC_ACCOUNT', 'sal': '8300', 'comm': '', 'mgrid': '205', 'deptid': '110\\n'}, {'empid': '206', 'fname': 'William', 'lname': 'Gietz', 'email': 'WGIETZ', 'phone': '515.123.8181', 'hdate': '2002-06-07', 'jobid': 'AC_ACCOUNT', 'sal': '8300', 'comm': '', 'mgrid': '205', 'deptid': '110\\n'}, {'empid': '206', 'fname': 'William', 'lname': 'Gietz', 'email': 'WGIETZ', 'phone': '515.123.8181', 'hdate': '2002-06-07', 'jobid': 'AC_ACCOUNT', 'sal': '8300', 'comm': '', 'mgrid': '205', 'deptid': '110\\n'}, {'empid': '206', 'fname': 'William', 'lname': 'Gietz', 'email': 'WGIETZ', 'phone': '515.123.8181', 'hdate': '2002-06-07', 'jobid': 'AC_ACCOUNT', 'sal': '8300', 'comm': '', 'mgrid': '205', 'deptid': '110\\n'}, {'empid': '206', 'fname': 'William', 'lname': 'Gietz', 'email': 'WGIETZ', 'phone': '515.123.8181', 'hdate': '2002-06-07', 'jobid': 'AC_ACCOUNT', 'sal': '8300', 'comm': '', 'mgrid': '205', 'deptid': '110\\n'}, {'empid': '206', 'fname': 'William', 'lname': 'Gietz', 'email': 'WGIETZ', 'phone': '515.123.8181', 'hdate': '2002-06-07', 'jobid': 'AC_ACCOUNT', 'sal': '8300', 'comm': '', 'mgrid': '205', 'deptid': '110\\n'}, {'empid': '206', 'fname': 'William', 'lname': 'Gietz', 'email': 'WGIETZ', 'phone': '515.123.8181', 'hdate': '2002-06-07', 'jobid': 'AC_ACCOUNT', 'sal': '8300', 'comm': '', 'mgrid': '205', 'deptid': '110\\n'}, {'empid': '206', 'fname': 'William', 'lname': 'Gietz', 'email': 'WGIETZ', 'phone': '515.123.8181', 'hdate': '2002-06-07', 'jobid': 'AC_ACCOUNT', 'sal': '8300', 'comm': '', 'mgrid': '205', 'deptid': '110\\n'}, {'empid': '206', 'fname': 'William', 'lname': 'Gietz', 'email': 'WGIETZ', 'phone': '515.123.8181', 'hdate': '2002-06-07', 'jobid': 'AC_ACCOUNT', 'sal': '8300', 'comm': '', 'mgrid': '205', 'deptid': '110\\n'}, {'empid': '206', 'fname': 'William', 'lname': 'Gietz', 'email': 'WGIETZ', 'phone': '515.123.8181', 'hdate': '2002-06-07', 'jobid': 'AC_ACCOUNT', 'sal': '8300', 'comm': '', 'mgrid': '205', 'deptid': '110\\n'}, {'empid': '206', 'fname': 'William', 'lname': 'Gietz', 'email': 'WGIETZ', 'phone': '515.123.8181', 'hdate': '2002-06-07', 'jobid': 'AC_ACCOUNT', 'sal': '8300', 'comm': '', 'mgrid': '205', 'deptid': '110\\n'}, {'empid': '206', 'fname': 'William', 'lname': 'Gietz', 'email': 'WGIETZ', 'phone': '515.123.8181', 'hdate': '2002-06-07', 'jobid': 'AC_ACCOUNT', 'sal': '8300', 'comm': '', 'mgrid': '205', 'deptid': '110\\n'}, {'empid': '206', 'fname': 'William', 'lname': 'Gietz', 'email': 'WGIETZ', 'phone': '515.123.8181', 'hdate': '2002-06-07', 'jobid': 'AC_ACCOUNT', 'sal': '8300', 'comm': '', 'mgrid': '205', 'deptid': '110\\n'}, {'empid': '206', 'fname': 'William', 'lname': 'Gietz', 'email': 'WGIETZ', 'phone': '515.123.8181', 'hdate': '2002-06-07', 'jobid': 'AC_ACCOUNT', 'sal': '8300', 'comm': '', 'mgrid': '205', 'deptid': '110\\n'}, {'empid': '206', 'fname': 'William', 'lname': 'Gietz', 'email': 'WGIETZ', 'phone': '515.123.8181', 'hdate': '2002-06-07', 'jobid': 'AC_ACCOUNT', 'sal': '8300', 'comm': '', 'mgrid': '205', 'deptid': '110\\n'}, {'empid': '206', 'fname': 'William', 'lname': 'Gietz', 'email': 'WGIETZ', 'phone': '515.123.8181', 'hdate': '2002-06-07', 'jobid': 'AC_ACCOUNT', 'sal': '8300', 'comm': '', 'mgrid': '205', 'deptid': '110\\n'}, {'empid': '206', 'fname': 'William', 'lname': 'Gietz', 'email': 'WGIETZ', 'phone': '515.123.8181', 'hdate': '2002-06-07', 'jobid': 'AC_ACCOUNT', 'sal': '8300', 'comm': '', 'mgrid': '205', 'deptid': '110\\n'}, {'empid': '206', 'fname': 'William', 'lname': 'Gietz', 'email': 'WGIETZ', 'phone': '515.123.8181', 'hdate': '2002-06-07', 'jobid': 'AC_ACCOUNT', 'sal': '8300', 'comm': '', 'mgrid': '205', 'deptid': '110\\n'}, {'empid': '206', 'fname': 'William', 'lname': 'Gietz', 'email': 'WGIETZ', 'phone': '515.123.8181', 'hdate': '2002-06-07', 'jobid': 'AC_ACCOUNT', 'sal': '8300', 'comm': '', 'mgrid': '205', 'deptid': '110\\n'}, {'empid': '206', 'fname': 'William', 'lname': 'Gietz', 'email': 'WGIETZ', 'phone': '515.123.8181', 'hdate': '2002-06-07', 'jobid': 'AC_ACCOUNT', 'sal': '8300', 'comm': '', 'mgrid': '205', 'deptid': '110\\n'}, {'empid': '206', 'fname': 'William', 'lname': 'Gietz', 'email': 'WGIETZ', 'phone': '515.123.8181', 'hdate': '2002-06-07', 'jobid': 'AC_ACCOUNT', 'sal': '8300', 'comm': '', 'mgrid': '205', 'deptid': '110\\n'}, {'empid': '206', 'fname': 'William', 'lname': 'Gietz', 'email': 'WGIETZ', 'phone': '515.123.8181', 'hdate': '2002-06-07', 'jobid': 'AC_ACCOUNT', 'sal': '8300', 'comm': '', 'mgrid': '205', 'deptid': '110\\n'}, {'empid': '206', 'fname': 'William', 'lname': 'Gietz', 'email': 'WGIETZ', 'phone': '515.123.8181', 'hdate': '2002-06-07', 'jobid': 'AC_ACCOUNT', 'sal': '8300', 'comm': '', 'mgrid': '205', 'deptid': '110\\n'}, {'empid': '206', 'fname': 'William', 'lname': 'Gietz', 'email': 'WGIETZ', 'phone': '515.123.8181', 'hdate': '2002-06-07', 'jobid': 'AC_ACCOUNT', 'sal': '8300', 'comm': '', 'mgrid': '205', 'deptid': '110\\n'}, {'empid': '206', 'fname': 'William', 'lname': 'Gietz', 'email': 'WGIETZ', 'phone': '515.123.8181', 'hdate': '2002-06-07', 'jobid': 'AC_ACCOUNT', 'sal': '8300', 'comm': '', 'mgrid': '205', 'deptid': '110\\n'}, {'empid': '206', 'fname': 'William', 'lname': 'Gietz', 'email': 'WGIETZ', 'phone': '515.123.8181', 'hdate': '2002-06-07', 'jobid': 'AC_ACCOUNT', 'sal': '8300', 'comm': '', 'mgrid': '205', 'deptid': '110\\n'}, {'empid': '206', 'fname': 'William', 'lname': 'Gietz', 'email': 'WGIETZ', 'phone': '515.123.8181', 'hdate': '2002-06-07', 'jobid': 'AC_ACCOUNT', 'sal': '8300', 'comm': '', 'mgrid': '205', 'deptid': '110\\n'}, {'empid': '206', 'fname': 'William', 'lname': 'Gietz', 'email': 'WGIETZ', 'phone': '515.123.8181', 'hdate': '2002-06-07', 'jobid': 'AC_ACCOUNT', 'sal': '8300', 'comm': '', 'mgrid': '205', 'deptid': '110\\n'}, {'empid': '206', 'fname': 'William', 'lname': 'Gietz', 'email': 'WGIETZ', 'phone': '515.123.8181', 'hdate': '2002-06-07', 'jobid': 'AC_ACCOUNT', 'sal': '8300', 'comm': '', 'mgrid': '205', 'deptid': '110\\n'}, {'empid': '206', 'fname': 'William', 'lname': 'Gietz', 'email': 'WGIETZ', 'phone': '515.123.8181', 'hdate': '2002-06-07', 'jobid': 'AC_ACCOUNT', 'sal': '8300', 'comm': '', 'mgrid': '205', 'deptid': '110\\n'}, {'empid': '206', 'fname': 'William', 'lname': 'Gietz', 'email': 'WGIETZ', 'phone': '515.123.8181', 'hdate': '2002-06-07', 'jobid': 'AC_ACCOUNT', 'sal': '8300', 'comm': '', 'mgrid': '205', 'deptid': '110\\n'}, {'empid': '206', 'fname': 'William', 'lname': 'Gietz', 'email': 'WGIETZ', 'phone': '515.123.8181', 'hdate': '2002-06-07', 'jobid': 'AC_ACCOUNT', 'sal': '8300', 'comm': '', 'mgrid': '205', 'deptid': '110\\n'}, {'empid': '206', 'fname': 'William', 'lname': 'Gietz', 'email': 'WGIETZ', 'phone': '515.123.8181', 'hdate': '2002-06-07', 'jobid': 'AC_ACCOUNT', 'sal': '8300', 'comm': '', 'mgrid': '205', 'deptid': '110\\n'}, {'empid': '206', 'fname': 'William', 'lname': 'Gietz', 'email': 'WGIETZ', 'phone': '515.123.8181', 'hdate': '2002-06-07', 'jobid': 'AC_ACCOUNT', 'sal': '8300', 'comm': '', 'mgrid': '205', 'deptid': '110\\n'}, {'empid': '206', 'fname': 'William', 'lname': 'Gietz', 'email': 'WGIETZ', 'phone': '515.123.8181', 'hdate': '2002-06-07', 'jobid': 'AC_ACCOUNT', 'sal': '8300', 'comm': '', 'mgrid': '205', 'deptid': '110\\n'}, {'empid': '206', 'fname': 'William', 'lname': 'Gietz', 'email': 'WGIETZ', 'phone': '515.123.8181', 'hdate': '2002-06-07', 'jobid': 'AC_ACCOUNT', 'sal': '8300', 'comm': '', 'mgrid': '205', 'deptid': '110\\n'}, {'empid': '206', 'fname': 'William', 'lname': 'Gietz', 'email': 'WGIETZ', 'phone': '515.123.8181', 'hdate': '2002-06-07', 'jobid': 'AC_ACCOUNT', 'sal': '8300', 'comm': '', 'mgrid': '205', 'deptid': '110\\n'}, {'empid': '206', 'fname': 'William', 'lname': 'Gietz', 'email': 'WGIETZ', 'phone': '515.123.8181', 'hdate': '2002-06-07', 'jobid': 'AC_ACCOUNT', 'sal': '8300', 'comm': '', 'mgrid': '205', 'deptid': '110\\n'}, {'empid': '206', 'fname': 'William', 'lname': 'Gietz', 'email': 'WGIETZ', 'phone': '515.123.8181', 'hdate': '2002-06-07', 'jobid': 'AC_ACCOUNT', 'sal': '8300', 'comm': '', 'mgrid': '205', 'deptid': '110\\n'}, {'empid': '206', 'fname': 'William', 'lname': 'Gietz', 'email': 'WGIETZ', 'phone': '515.123.8181', 'hdate': '2002-06-07', 'jobid': 'AC_ACCOUNT', 'sal': '8300', 'comm': '', 'mgrid': '205', 'deptid': '110\\n'}, {'empid': '206', 'fname': 'William', 'lname': 'Gietz', 'email': 'WGIETZ', 'phone': '515.123.8181', 'hdate': '2002-06-07', 'jobid': 'AC_ACCOUNT', 'sal': '8300', 'comm': '', 'mgrid': '205', 'deptid': '110\\n'}, {'empid': '206', 'fname': 'William', 'lname': 'Gietz', 'email': 'WGIETZ', 'phone': '515.123.8181', 'hdate': '2002-06-07', 'jobid': 'AC_ACCOUNT', 'sal': '8300', 'comm': '', 'mgrid': '205', 'deptid': '110\\n'}, {'empid': '206', 'fname': 'William', 'lname': 'Gietz', 'email': 'WGIETZ', 'phone': '515.123.8181', 'hdate': '2002-06-07', 'jobid': 'AC_ACCOUNT', 'sal': '8300', 'comm': '', 'mgrid': '205', 'deptid': '110\\n'}, {'empid': '206', 'fname': 'William', 'lname': 'Gietz', 'email': 'WGIETZ', 'phone': '515.123.8181', 'hdate': '2002-06-07', 'jobid': 'AC_ACCOUNT', 'sal': '8300', 'comm': '', 'mgrid': '205', 'deptid': '110\\n'}, {'empid': '206', 'fname': 'William', 'lname': 'Gietz', 'email': 'WGIETZ', 'phone': '515.123.8181', 'hdate': '2002-06-07', 'jobid': 'AC_ACCOUNT', 'sal': '8300', 'comm': '', 'mgrid': '205', 'deptid': '110\\n'}, {'empid': '206', 'fname': 'William', 'lname': 'Gietz', 'email': 'WGIETZ', 'phone': '515.123.8181', 'hdate': '2002-06-07', 'jobid': 'AC_ACCOUNT', 'sal': '8300', 'comm': '', 'mgrid': '205', 'deptid': '110\\n'}, {'empid': '206', 'fname': 'William', 'lname': 'Gietz', 'email': 'WGIETZ', 'phone': '515.123.8181', 'hdate': '2002-06-07', 'jobid': 'AC_ACCOUNT', 'sal': '8300', 'comm': '', 'mgrid': '205', 'deptid': '110\\n'}, {'empid': '206', 'fname': 'William', 'lname': 'Gietz', 'email': 'WGIETZ', 'phone': '515.123.8181', 'hdate': '2002-06-07', 'jobid': 'AC_ACCOUNT', 'sal': '8300', 'comm': '', 'mgrid': '205', 'deptid': '110\\n'}, {'empid': '206', 'fname': 'William', 'lname': 'Gietz', 'email': 'WGIETZ', 'phone': '515.123.8181', 'hdate': '2002-06-07', 'jobid': 'AC_ACCOUNT', 'sal': '8300', 'comm': '', 'mgrid': '205', 'deptid': '110\\n'}, {'empid': '206', 'fname': 'William', 'lname': 'Gietz', 'email': 'WGIETZ', 'phone': '515.123.8181', 'hdate': '2002-06-07', 'jobid': 'AC_ACCOUNT', 'sal': '8300', 'comm': '', 'mgrid': '205', 'deptid': '110\\n'}, {'empid': '206', 'fname': 'William', 'lname': 'Gietz', 'email': 'WGIETZ', 'phone': '515.123.8181', 'hdate': '2002-06-07', 'jobid': 'AC_ACCOUNT', 'sal': '8300', 'comm': '', 'mgrid': '205', 'deptid': '110\\n'}, {'empid': '206', 'fname': 'William', 'lname': 'Gietz', 'email': 'WGIETZ', 'phone': '515.123.8181', 'hdate': '2002-06-07', 'jobid': 'AC_ACCOUNT', 'sal': '8300', 'comm': '', 'mgrid': '205', 'deptid': '110\\n'}, {'empid': '206', 'fname': 'William', 'lname': 'Gietz', 'email': 'WGIETZ', 'phone': '515.123.8181', 'hdate': '2002-06-07', 'jobid': 'AC_ACCOUNT', 'sal': '8300', 'comm': '', 'mgrid': '205', 'deptid': '110\\n'}, {'empid': '206', 'fname': 'William', 'lname': 'Gietz', 'email': 'WGIETZ', 'phone': '515.123.8181', 'hdate': '2002-06-07', 'jobid': 'AC_ACCOUNT', 'sal': '8300', 'comm': '', 'mgrid': '205', 'deptid': '110\\n'}, {'empid': '206', 'fname': 'William', 'lname': 'Gietz', 'email': 'WGIETZ', 'phone': '515.123.8181', 'hdate': '2002-06-07', 'jobid': 'AC_ACCOUNT', 'sal': '8300', 'comm': '', 'mgrid': '205', 'deptid': '110\\n'}, {'empid': '206', 'fname': 'William', 'lname': 'Gietz', 'email': 'WGIETZ', 'phone': '515.123.8181', 'hdate': '2002-06-07', 'jobid': 'AC_ACCOUNT', 'sal': '8300', 'comm': '', 'mgrid': '205', 'deptid': '110\\n'}, {'empid': '206', 'fname': 'William', 'lname': 'Gietz', 'email': 'WGIETZ', 'phone': '515.123.8181', 'hdate': '2002-06-07', 'jobid': 'AC_ACCOUNT', 'sal': '8300', 'comm': '', 'mgrid': '205', 'deptid': '110\\n'}, {'empid': '206', 'fname': 'William', 'lname': 'Gietz', 'email': 'WGIETZ', 'phone': '515.123.8181', 'hdate': '2002-06-07', 'jobid': 'AC_ACCOUNT', 'sal': '8300', 'comm': '', 'mgrid': '205', 'deptid': '110\\n'}, {'empid': '206', 'fname': 'William', 'lname': 'Gietz', 'email': 'WGIETZ', 'phone': '515.123.8181', 'hdate': '2002-06-07', 'jobid': 'AC_ACCOUNT', 'sal': '8300', 'comm': '', 'mgrid': '205', 'deptid': '110\\n'}, {'empid': '206', 'fname': 'William', 'lname': 'Gietz', 'email': 'WGIETZ', 'phone': '515.123.8181', 'hdate': '2002-06-07', 'jobid': 'AC_ACCOUNT', 'sal': '8300', 'comm': '', 'mgrid': '205', 'deptid': '110\\n'}, {'empid': '206', 'fname': 'William', 'lname': 'Gietz', 'email': 'WGIETZ', 'phone': '515.123.8181', 'hdate': '2002-06-07', 'jobid': 'AC_ACCOUNT', 'sal': '8300', 'comm': '', 'mgrid': '205', 'deptid': '110\\n'}, {'empid': '206', 'fname': 'William', 'lname': 'Gietz', 'email': 'WGIETZ', 'phone': '515.123.8181', 'hdate': '2002-06-07', 'jobid': 'AC_ACCOUNT', 'sal': '8300', 'comm': '', 'mgrid': '205', 'deptid': '110\\n'}, {'empid': '206', 'fname': 'William', 'lname': 'Gietz', 'email': 'WGIETZ', 'phone': '515.123.8181', 'hdate': '2002-06-07', 'jobid': 'AC_ACCOUNT', 'sal': '8300', 'comm': '', 'mgrid': '205', 'deptid': '110\\n'}, {'empid': '206', 'fname': 'William', 'lname': 'Gietz', 'email': 'WGIETZ', 'phone': '515.123.8181', 'hdate': '2002-06-07', 'jobid': 'AC_ACCOUNT', 'sal': '8300', 'comm': '', 'mgrid': '205', 'deptid': '110\\n'}, {'empid': '206', 'fname': 'William', 'lname': 'Gietz', 'email': 'WGIETZ', 'phone': '515.123.8181', 'hdate': '2002-06-07', 'jobid': 'AC_ACCOUNT', 'sal': '8300', 'comm': '', 'mgrid': '205', 'deptid': '110\\n'}]\n"
     ]
    }
   ],
   "source": [
    "###Employees.csv의 모든 데이터를 딕셔너리형으로 정의\n",
    "###딕셔너리는 각 항목에 대해 여러 데이터를 쌓는 기능이 없음!! <- 대전제!!\n",
    "### ===> 따라서, 특정 딕셔너리를 광역변수로 선언하게 되면 추가 데이터 삽입 시 엎어쳐짐\n",
    "\n",
    "emplist=[]\n",
    "empkey=['empid','fname','lname','email','phone','hdate','jobid','sal','comm','mgrid','deptid']\n",
    "\n",
    "with open('EMPLOYEES.csv') as f: #EMPLOYEES.csv 파일을 읽기전용으로 오픈한 후\n",
    "    for lines in f: #한줄씩 읽은 다음\n",
    "        item=lines.split(',') #item 리스트에 넣고\n",
    "        emp={}#이렇게 안에다 써서 지역변수화 시켜야 함 (위 emplist=[] 밑에 쓰면 안됨!!)\n",
    "        print(id(emp))\n",
    "        for i in  range(len(empkey)):\n",
    "            emp[empkey[i]]=item[i]\n",
    "        emplist.append(emp)\n",
    "print(emplist)"
   ]
  }
 ],
 "metadata": {
  "kernelspec": {
   "display_name": "Python 3",
   "language": "python",
   "name": "python3"
  },
  "language_info": {
   "codemirror_mode": {
    "name": "ipython",
    "version": 3
   },
   "file_extension": ".py",
   "mimetype": "text/x-python",
   "name": "python",
   "nbconvert_exporter": "python",
   "pygments_lexer": "ipython3",
   "version": "3.6.8"
  }
 },
 "nbformat": 4,
 "nbformat_minor": 2
}
