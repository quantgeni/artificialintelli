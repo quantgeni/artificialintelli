{
 "cells": [
  {
   "cell_type": "code",
   "execution_count": 2,
   "metadata": {
    "collapsed": true
   },
   "outputs": [
    {
     "name": "stdout",
     "output_type": "stream",
     "text": [
      "HelloWorld!!\n"
     ]
    }
   ],
   "source": [
    "print('HelloWorld!!')"
   ]
  },
  {
   "cell_type": "code",
   "execution_count": 3,
   "metadata": {},
   "outputs": [
    {
     "name": "stdout",
     "output_type": "stream",
     "text": [
      "HelloWorld!!\n"
     ]
    }
   ],
   "source": [
    "print('HelloWorld!!')"
   ]
  },
  {
   "cell_type": "code",
   "execution_count": 2,
   "metadata": {},
   "outputs": [],
   "source": [
    "a=100"
   ]
  },
  {
   "cell_type": "code",
   "execution_count": null,
   "metadata": {},
   "outputs": [],
   "source": [
    "\n",
    "\n"
   ]
  },
  {
   "cell_type": "code",
   "execution_count": null,
   "metadata": {},
   "outputs": [],
   "source": []
  },
  {
   "cell_type": "code",
   "execution_count": 38,
   "metadata": {},
   "outputs": [
    {
     "name": "stdout",
     "output_type": "stream",
     "text": [
      "01 :  , World!\n",
      "01 :  Hello, \n",
      "02 :  , World!\n",
      "03 :  Hello, World!\n",
      "04 :  Hello, World!\n",
      "05 :  Hello, World!\n",
      "06 :  Hello, World!\n",
      "07 :  , World!\n",
      "08 :          Hello, World!\n",
      "09 :          Hello, World!\n",
      "10 :          Hello, World!\n",
      "11 :  Hello, World!\n",
      "12 :  Hello, \n",
      "13 :          Hi, World!\n",
      "14 :           , World!\n",
      "15 :          , World!\n"
     ]
    }
   ],
   "source": [
    "str1='Hello, World!'\n",
    "str2='        Hello, World!'\n",
    "\n",
    "\n",
    "print('01 : ',str1.strip('Hello'))\n",
    "print('01 : ',str1.strip('World!'))\n",
    "print('02 : ',str1.strip('Hello'))\n",
    "print('03 : ',str1.strip('World'))\n",
    "print('04 : ',str1.strip('ell'))\n",
    "print('05 : ',str1.strip('rell'))\n",
    "print('06 : ',str1.rstrip('Hello'))\n",
    "print('07 : ',str1.lstrip('Hello'))\n",
    "print('08 : ',str2.strip(''))\n",
    "print('09 : ',str2.strip(''))\n",
    "print('10 : ', str2.lstrip(''))\n",
    "print('11 : ',str1.rstrip('Hello'))\n",
    "print('12 : ',str1.rstrip('World!'))\n",
    "print('13 : ', str2.replace('Hello','Hi')) #replace1\n",
    "print('14 : ', str2.replace('Hello',' ')) #replace2 => 공백 한 칸 주는걸로 변경\n",
    "print('15 : ', str2.replace('Hello','')) #replace3 "
   ]
  },
  {
   "cell_type": "code",
   "execution_count": null,
   "metadata": {},
   "outputs": [],
   "source": []
  },
  {
   "cell_type": "code",
   "execution_count": 45,
   "metadata": {},
   "outputs": [
    {
     "name": "stdout",
     "output_type": "stream",
     "text": [
      "isalnum:  True\n",
      "isalnum:  True\n",
      "isalnum:  True\n",
      "isdigit:  False\n",
      "isdigit:  False\n",
      "isdigit:  True\n",
      "isdecimal:  False\n",
      "isdecimal:  False\n",
      "isdecimal:  True\n",
      "isnumeric:  False\n",
      "isnumeric:  False\n",
      "isnumeric:  True\n"
     ]
    }
   ],
   "source": [
    "str1='year'\n",
    "str2='year2019'\n",
    "str3='12345'\n",
    "\n",
    "print('isalnum: ',str1.isalnum())\n",
    "print('isalnum: ',str2.isalnum())\n",
    "print('isalnum: ',str3.isalnum())\n",
    "print('isdigit: ',str1.isdigit())\n",
    "print('isdigit: ',str2.isdigit())\n",
    "print('isdigit: ',str3.isdigit())\n",
    "print('isdecimal: ',str1.isdecimal())\n",
    "print('isdecimal: ',str2.isdecimal())\n",
    "print('isdecimal: ',str3.isdecimal())\n",
    "print('isnumeric: ',str1.isnumeric())\n",
    "print('isnumeric: ',str2.isnumeric())\n",
    "print('isnumeric: ',str3.isnumeric())"
   ]
  },
  {
   "cell_type": "code",
   "execution_count": 50,
   "metadata": {},
   "outputs": [
    {
     "name": "stdout",
     "output_type": "stream",
     "text": [
      "False\n",
      "False\n",
      "True\n"
     ]
    }
   ],
   "source": [
    "str='H    i'\n",
    "str1=''\n",
    "str2=' '\n",
    "\n",
    "print(str.isspace())\n",
    "print(str1.isspace())\n",
    "print(str2.isspace())"
   ]
  },
  {
   "cell_type": "code",
   "execution_count": 51,
   "metadata": {},
   "outputs": [
    {
     "name": "stdout",
     "output_type": "stream",
     "text": [
      "False\n",
      "False\n",
      "False\n",
      "True\n"
     ]
    }
   ],
   "source": [
    "str='Hi yo'\n",
    "str1='hi yo'\n",
    "str2='hi Yo'\n",
    "str3='Hi Yo'\n",
    "\n",
    "print(str.istitle())\n",
    "print(str1.istitle())\n",
    "print(str2.istitle())\n",
    "print(str3.istitle())"
   ]
  },
  {
   "cell_type": "code",
   "execution_count": 52,
   "metadata": {},
   "outputs": [
    {
     "name": "stdout",
     "output_type": "stream",
     "text": [
      "Hi yo\n",
      "00000Hi yo\n",
      "0000000000Hi yo\n"
     ]
    }
   ],
   "source": [
    "str='Hi yo'\n",
    "print(str.zfill(5))\n",
    "print(str.zfill(10))\n",
    "print(str.zfill(15))"
   ]
  },
  {
   "cell_type": "code",
   "execution_count": 101,
   "metadata": {},
   "outputs": [
    {
     "name": "stdout",
     "output_type": "stream",
     "text": [
      "Hello, World!.\n",
      "         Hello, World!      .\n",
      "Hello, World!.\n",
      "Hello, World!.\n",
      "Hello, World!      .\n",
      "         Hello, World!      .\n",
      "Hello, World!      .\n",
      "         Hello, World!.\n",
      "         Hello, World!      .\n",
      "         Hello, World!.\n",
      "         Hello, World!      .\n",
      "         Hello, World!      .\n",
      "         Hello, World!      .\n",
      "         Hello, World!      .\n",
      "         Hello,.\n"
     ]
    }
   ],
   "source": [
    "str='         Hello, World!      '\n",
    "\n",
    "print(str.strip()+'.') #양쪽 공백 제거\n",
    "print(str.strip('')+'.') #괄호 안 ''는 원 스트링에서 그런걸 찾을 수 없으니 무력화시켜서 아무것도 안 일어남\n",
    "print(str.strip(' ')+'.') #양쪽 공백 제거 (한칸의 공백이 아닌 모든 공백 제거)\n",
    "print(str.strip('       ')+'.') #양쪽 공백 제거 \n",
    "print(str.lstrip()+'.')\n",
    "print(str.lstrip('')+'.')\n",
    "print(str.lstrip('       ')+'.')\n",
    "print(str.rstrip()+'.')\n",
    "print(str.rstrip('')+'.')\n",
    "print(str.rstrip('       ')+'.')\n",
    "print(str.strip('Wor')+'.')\n",
    "print(str.strip('World!')+'.')\n",
    "print(str.lstrip('World!')+'.')\n",
    "print(str.rstrip('World!')+'.') #이것과\n",
    "print(str.rstrip('World! ')+'.') #이것 2개 비교 유의!! (뒤에 공백 있느냐 없느냐. 원 str을 유심히 볼 것)"
   ]
  },
  {
   "cell_type": "code",
   "execution_count": 70,
   "metadata": {},
   "outputs": [
    {
     "name": "stdout",
     "output_type": "stream",
     "text": [
      "[2019, 4, 1]\n"
     ]
    }
   ],
   "source": [
    "#map 함수: 리스트 저장 각 요소 지정한 함수에 적용apply시켜 결과 출력\n",
    "#아래 예제의 경우 2019, 04, 01을 int함수에 적용 후 결과 출력\n",
    "\n",
    "before=['2019','04','01']\n",
    "after=map(int,before)\n",
    "after=list(map(int,before))\n",
    "print(after)"
   ]
  },
  {
   "cell_type": "code",
   "execution_count": 71,
   "metadata": {},
   "outputs": [
    {
     "name": "stdout",
     "output_type": "stream",
     "text": [
      "<map object at 0x0000026877DBF8D0>\n"
     ]
    }
   ],
   "source": [
    "#map 함수: 리스트 저장 각 요소 지정한 함수에 적용apply시켜 결과 출력\n",
    "\n",
    "before=['2019','04','01']\n",
    "after=map(int,before)\n",
    "print(after)"
   ]
  },
  {
   "cell_type": "code",
   "execution_count": 74,
   "metadata": {},
   "outputs": [
    {
     "name": "stdout",
     "output_type": "stream",
     "text": [
      "[2, 4, 6, 8, 10]\n"
     ]
    }
   ],
   "source": [
    "#더하기 함수\n",
    "\n",
    "def Add(a):\n",
    "    return a+a;\n",
    "val=[1,2,3,4,5]\n",
    "results=map(Add,val)\n",
    "print(list(results))"
   ]
  },
  {
   "cell_type": "code",
   "execution_count": 85,
   "metadata": {},
   "outputs": [
    {
     "name": "stdout",
     "output_type": "stream",
     "text": [
      "[2, 4, 6, 8, 10]\n"
     ]
    }
   ],
   "source": [
    "#더하기 함수\n",
    "\n",
    "def deohagui(a):\n",
    "    return a+a\n",
    "val=[1,2,3,4,5]\n",
    "results=map(deohagui,val)\n",
    "print(list(results))"
   ]
  },
  {
   "cell_type": "code",
   "execution_count": 88,
   "metadata": {},
   "outputs": [
    {
     "name": "stdout",
     "output_type": "stream",
     "text": [
      "['1', '5', '1', '1', '5', '1']\n"
     ]
    }
   ],
   "source": []
  },
  {
   "cell_type": "code",
   "execution_count": 80,
   "metadata": {},
   "outputs": [
    {
     "ename": "TypeError",
     "evalue": "'int' object is not iterable",
     "output_type": "error",
     "traceback": [
      "\u001b[0;31m---------------------------------------------------------------------------\u001b[0m",
      "\u001b[0;31mTypeError\u001b[0m                                 Traceback (most recent call last)",
      "\u001b[0;32m<ipython-input-80-5379bbb04ea8>\u001b[0m in \u001b[0;36m<module>\u001b[0;34m()\u001b[0m\n\u001b[1;32m      3\u001b[0m \u001b[0mval\u001b[0m\u001b[0;34m=\u001b[0m\u001b[0;34m[\u001b[0m\u001b[0;36m1\u001b[0m\u001b[0;34m,\u001b[0m\u001b[0;36m2\u001b[0m\u001b[0;34m,\u001b[0m\u001b[0;36m3\u001b[0m\u001b[0;34m,\u001b[0m\u001b[0;36m4\u001b[0m\u001b[0;34m,\u001b[0m\u001b[0;36m5\u001b[0m\u001b[0;34m]\u001b[0m\u001b[0;34m\u001b[0m\u001b[0;34m\u001b[0m\u001b[0m\n\u001b[1;32m      4\u001b[0m \u001b[0mresults\u001b[0m\u001b[0;34m=\u001b[0m\u001b[0mdeohagui\u001b[0m\u001b[0;34m(\u001b[0m\u001b[0;36m5\u001b[0m\u001b[0;34m)\u001b[0m\u001b[0;34m\u001b[0m\u001b[0;34m\u001b[0m\u001b[0m\n\u001b[0;32m----> 5\u001b[0;31m \u001b[0mprint\u001b[0m\u001b[0;34m(\u001b[0m\u001b[0mlist\u001b[0m\u001b[0;34m(\u001b[0m\u001b[0mresults\u001b[0m\u001b[0;34m)\u001b[0m\u001b[0;34m)\u001b[0m\u001b[0;34m\u001b[0m\u001b[0;34m\u001b[0m\u001b[0m\n\u001b[0m",
      "\u001b[0;31mTypeError\u001b[0m: 'int' object is not iterable"
     ]
    }
   ],
   "source": [
    "def deohagui(a):\n",
    "    return a+a;\n",
    "val=[1,2,3,4,5]\n",
    "results=deohagui(5)\n",
    "print(list(results))"
   ]
  },
  {
   "cell_type": "code",
   "execution_count": 95,
   "metadata": {},
   "outputs": [
    {
     "name": "stdout",
     "output_type": "stream",
     "text": [
      "12345\n",
      "0000012345\n",
      "000000000012345\n",
      "0000012345\n",
      "     12345\n",
      "0000012345\n"
     ]
    }
   ],
   "source": [
    "str='12345'\n",
    "print(str.zfill(5))\n",
    "print(str.zfill(10))\n",
    "print(str.zfill(15))\n",
    "print('%010d' %12345)\n",
    "print('%10d' %12345)\n",
    "print('%000000000000000010d' %12345)"
   ]
  },
  {
   "cell_type": "code",
   "execution_count": 105,
   "metadata": {},
   "outputs": [
    {
     "name": "stdout",
     "output_type": "stream",
     "text": [
      "오늘은 좋은날\n",
      "오늘은 좋은날\n",
      "오늘은 좋은날\n",
      "super cool\n",
      "super cool\n",
      "super cool\n"
     ]
    }
   ],
   "source": [
    "# 함수 : function\n",
    "# 함수는 일정한 작업을 수행하는 코드집합체. 보통 반복적으로 사용되는 코드들을 함수로 정의.\n",
    "# 즉 반복적 사용할 가치 있는 코드를 한 뭉치로 묶고. 어떤 입력값 주면 결과 반환. 또한 여러 코드 함수화하면 프로그램 흐름 일목요연# \n",
    "# 파악하기 쉬움\n",
    "# 다른 사람과 협업 시 코드가 섞이지 않게 하기 위한 목적도 있음 -> 모듈(module)\n",
    "\n",
    "for _ in range(3):\n",
    "    print('오늘은 좋은날')\n",
    "\n",
    "for 동해물과백두산이마르고닳도록 in range(3):\n",
    "    print('super cool')"
   ]
  },
  {
   "cell_type": "code",
   "execution_count": 110,
   "metadata": {},
   "outputs": [
    {
     "name": "stdout",
     "output_type": "stream",
     "text": [
      "오늘은 좋은날입니다\n",
      "오늘은 좋은날입니다\n",
      "오늘은 좋은날입니다\n"
     ]
    }
   ],
   "source": [
    "def sayToday():\n",
    "    for 동해물과백두산이마르고닳도록 in range(3):\n",
    "        print('오늘은 좋은날입니다')\n",
    "\n",
    "sayToday()"
   ]
  },
  {
   "cell_type": "code",
   "execution_count": 112,
   "metadata": {},
   "outputs": [
    {
     "name": "stdout",
     "output_type": "stream",
     "text": [
      "오늘은 멋진날입니다\n",
      "오늘은 멋진날입니다\n",
      "오늘은 멋진날입니다\n"
     ]
    }
   ],
   "source": [
    "def sayToday(msg):\n",
    "    for 동해물과백두산이마르고닳도록 in range(3):\n",
    "        print('오늘은 '+msg+'입니다')\n",
    "\n",
    "sayToday('멋진날')"
   ]
  },
  {
   "cell_type": "code",
   "execution_count": 114,
   "metadata": {},
   "outputs": [
    {
     "name": "stdout",
     "output_type": "stream",
     "text": [
      "오늘은 \"+ msg +\"입니다\n",
      "오늘은 \"+ msg +\"입니다\n",
      "오늘은 \"+ msg +\"입니다\n"
     ]
    }
   ],
   "source": [
    "def sayToday(msg):\n",
    "    for 동해물과백두산이마르고닳도록 in range(3):\n",
    "        print('오늘은 \"+ msg +\"입니다')\n",
    "\n",
    "sayToday('멋진날')"
   ]
  },
  {
   "cell_type": "code",
   "execution_count": 115,
   "metadata": {},
   "outputs": [
    {
     "ename": "TypeError",
     "evalue": "sayToday() missing 1 required positional argument: 'msg'",
     "output_type": "error",
     "traceback": [
      "\u001b[0;31m---------------------------------------------------------------------------\u001b[0m",
      "\u001b[0;31mTypeError\u001b[0m                                 Traceback (most recent call last)",
      "\u001b[0;32m<ipython-input-115-3017cce89541>\u001b[0m in \u001b[0;36m<module>\u001b[0;34m()\u001b[0m\n\u001b[1;32m      3\u001b[0m         \u001b[0mprint\u001b[0m\u001b[0;34m(\u001b[0m\u001b[0;34m'오늘은 '\u001b[0m\u001b[0;34m+\u001b[0m\u001b[0mmsg\u001b[0m\u001b[0;34m+\u001b[0m\u001b[0;34m'입니다'\u001b[0m\u001b[0;34m)\u001b[0m\u001b[0;34m\u001b[0m\u001b[0;34m\u001b[0m\u001b[0m\n\u001b[1;32m      4\u001b[0m \u001b[0;34m\u001b[0m\u001b[0m\n\u001b[0;32m----> 5\u001b[0;31m \u001b[0msayToday\u001b[0m\u001b[0;34m(\u001b[0m\u001b[0;34m)\u001b[0m\u001b[0;34m\u001b[0m\u001b[0;34m\u001b[0m\u001b[0m\n\u001b[0m",
      "\u001b[0;31mTypeError\u001b[0m: sayToday() missing 1 required positional argument: 'msg'"
     ]
    }
   ],
   "source": [
    "def sayToday(msg):\n",
    "    for 동해물과백두산이마르고닳도록 in range(3):\n",
    "        print('오늘은 '+msg+'입니다')\n",
    "\n",
    "sayToday()"
   ]
  },
  {
   "cell_type": "code",
   "execution_count": 116,
   "metadata": {},
   "outputs": [
    {
     "name": "stdout",
     "output_type": "stream",
     "text": [
      "오늘은 입니다\n",
      "오늘은 입니다\n",
      "오늘은 입니다\n"
     ]
    }
   ],
   "source": [
    "def sayToday(msg):\n",
    "    for 동해물과백두산이마르고닳도록 in range(3):\n",
    "        print('오늘은 입니다')\n",
    "\n",
    "sayToday('멋진날')"
   ]
  },
  {
   "cell_type": "code",
   "execution_count": 117,
   "metadata": {},
   "outputs": [
    {
     "ename": "TypeError",
     "evalue": "sayToday() missing 1 required positional argument: 'msg'",
     "output_type": "error",
     "traceback": [
      "\u001b[0;31m---------------------------------------------------------------------------\u001b[0m",
      "\u001b[0;31mTypeError\u001b[0m                                 Traceback (most recent call last)",
      "\u001b[0;32m<ipython-input-117-1768d5ae9796>\u001b[0m in \u001b[0;36m<module>\u001b[0;34m()\u001b[0m\n\u001b[1;32m      3\u001b[0m         \u001b[0mprint\u001b[0m\u001b[0;34m(\u001b[0m\u001b[0;34m'오늘은 \"+ msg +\"입니다'\u001b[0m\u001b[0;34m)\u001b[0m\u001b[0;34m\u001b[0m\u001b[0;34m\u001b[0m\u001b[0m\n\u001b[1;32m      4\u001b[0m \u001b[0;34m\u001b[0m\u001b[0m\n\u001b[0;32m----> 5\u001b[0;31m \u001b[0msayToday\u001b[0m\u001b[0;34m(\u001b[0m\u001b[0;34m)\u001b[0m\u001b[0;34m\u001b[0m\u001b[0;34m\u001b[0m\u001b[0m\n\u001b[0m",
      "\u001b[0;31mTypeError\u001b[0m: sayToday() missing 1 required positional argument: 'msg'"
     ]
    }
   ],
   "source": [
    "def sayToday(msg):\n",
    "    for 동해물과백두산이마르고닳도록 in range(3):\n",
    "        print('오늘은 \"+ msg +\"입니다')\n",
    "\n",
    "sayToday()"
   ]
  },
  {
   "cell_type": "code",
   "execution_count": 118,
   "metadata": {},
   "outputs": [
    {
     "ename": "TypeError",
     "evalue": "sayToday() missing 1 required positional argument: 'msg'",
     "output_type": "error",
     "traceback": [
      "\u001b[0;31m---------------------------------------------------------------------------\u001b[0m",
      "\u001b[0;31mTypeError\u001b[0m                                 Traceback (most recent call last)",
      "\u001b[0;32m<ipython-input-118-25fe3e5683f2>\u001b[0m in \u001b[0;36m<module>\u001b[0;34m()\u001b[0m\n\u001b[1;32m      3\u001b[0m         \u001b[0mprint\u001b[0m\u001b[0;34m(\u001b[0m\u001b[0;34m'오늘은 입니다'\u001b[0m\u001b[0;34m)\u001b[0m\u001b[0;34m\u001b[0m\u001b[0;34m\u001b[0m\u001b[0m\n\u001b[1;32m      4\u001b[0m \u001b[0;34m\u001b[0m\u001b[0m\n\u001b[0;32m----> 5\u001b[0;31m \u001b[0msayToday\u001b[0m\u001b[0;34m(\u001b[0m\u001b[0;34m)\u001b[0m\u001b[0;34m\u001b[0m\u001b[0;34m\u001b[0m\u001b[0m\n\u001b[0m",
      "\u001b[0;31mTypeError\u001b[0m: sayToday() missing 1 required positional argument: 'msg'"
     ]
    }
   ],
   "source": [
    "def sayToday(msg):\n",
    "    for 동해물과백두산이마르고닳도록 in range(3):\n",
    "        print('오늘은 입니다')\n",
    "\n",
    "sayToday()"
   ]
  },
  {
   "cell_type": "code",
   "execution_count": 8,
   "metadata": {},
   "outputs": [
    {
     "name": "stdout",
     "output_type": "stream",
     "text": [
      "결혼여부 (미혼:0, 기혼:1)?1\n",
      "연봉얼마 (단위: 만원)9000\n",
      "2250.0\n"
     ]
    }
   ],
   "source": [
    "#결혼, 연봉에 따라 함수 계산 => computetax 함수\n",
    "m=int(input('결혼여부 (미혼:0, 기혼:1)?'))\n",
    "s=int(input('연봉얼마 (단위: 만원)'))\n",
    "\n",
    "def computetax(m,s):\n",
    "    if m==0:\n",
    "        if s<=3000: return s*0.1\n",
    "        else: return s*0.25\n",
    "    else:\n",
    "        if s<=6000: return s*.01\n",
    "        else: return s*0.25\n",
    "\n",
    "\n",
    "print(computetax(m,s))"
   ]
  },
  {
   "cell_type": "code",
   "execution_count": 10,
   "metadata": {},
   "outputs": [
    {
     "name": "stdout",
     "output_type": "stream",
     "text": [
      "현재 연도 4자리 입력 (예: 2019)2019\n",
      "윤년임\n"
     ]
    }
   ],
   "source": [
    "#윤년 여부 체크 => leapyear 함수\n",
    "cy=int(input('현재 연도 4자리 입력 (예: 2019)'))\n",
    "\n",
    "def leapyear(cy):\n",
    "    if cy%4==0 and cy%100!=100: return '윤년임'\n",
    "    elif cy%400: return '윤년임'\n",
    "    else: return '윤년아님'\n",
    "    \n",
    "print(leapyear(cy))"
   ]
  },
  {
   "cell_type": "code",
   "execution_count": 59,
   "metadata": {},
   "outputs": [
    {
     "name": "stdout",
     "output_type": "stream",
     "text": [
      "처음 준돈: 750000\n",
      "실제 쓴돈: 712300\n",
      "37700 원 환산? (5만원(장),1만원(장),5천원(장),1천원(장),500원(개),100원(개),50원(개),10원(개),나머지(원) =>  (0, 3, 1, 2, 1, 2, 0, 0, 0)\n"
     ]
    }
   ],
   "source": [
    "#잔돈 계산 => mycharge 함수\n",
    "m=int(input('처음 준돈: '))\n",
    "p=int(input('실제 쓴돈: '))\n",
    "jan=m-p # <- 이렇게 함수 외부에서 별도로 찍어줘야 아래 프린트에서 적용 출력됨\n",
    "\n",
    "def getjandon(m,p):\n",
    "    a=50000\n",
    "    b=10000\n",
    "    c=5000\n",
    "    d=1000\n",
    "    e=500\n",
    "    f=100\n",
    "    g=50\n",
    "    h=10\n",
    "    jan=m-p\n",
    "    oman=jan//a\n",
    "    man=(jan%a)//b\n",
    "    ocheon=(jan%a%b)//c\n",
    "    cheon=(jan%a%b%c)//d\n",
    "    obaek=(jan%a%b%c%d)//e\n",
    "    baek=(jan%a%b%c%d%e)//f\n",
    "    oship=(jan%a%b%c%d%e%f)//g\n",
    "    ship=(jan%a%b%c%d%e%f%g)//h\n",
    "    remain=jan%a%b%c%d%e%f%g%h\n",
    "    return oman,man,ocheon,cheon,obaek,baek,oship,ship,remain\n",
    "\n",
    "print(jan,'원 환산? (5만원(장),1만원(장),5천원(장),1천원(장),500원(개),100원(개),50원(개),10원(개),나머지(원) => ',getjandon(m,p))"
   ]
  },
  {
   "cell_type": "code",
   "execution_count": 25,
   "metadata": {},
   "outputs": [
    {
     "name": "stdout",
     "output_type": "stream",
     "text": [
      "1\n",
      "3\n"
     ]
    }
   ],
   "source": [
    "print(10%3)\n",
    "print(10//3)"
   ]
  },
  {
   "cell_type": "code",
   "execution_count": 35,
   "metadata": {},
   "outputs": [
    {
     "name": "stdout",
     "output_type": "stream",
     "text": [
      "윤년임\n",
      "(17, 3, 1, 3, 1, 3, 1, 3, 8)\n",
      "10.0\n"
     ]
    }
   ],
   "source": [
    "print(leapyear(2008))\n",
    "print(jandon(888888))\n",
    "print(computetax(1,1000))"
   ]
  },
  {
   "cell_type": "code",
   "execution_count": 45,
   "metadata": {},
   "outputs": [
    {
     "name": "stdout",
     "output_type": "stream",
     "text": [
      "결혼여부 (미혼:0, 기혼:1)?1\n",
      "연봉얼마 (단위: 만원)9000\n",
      "기혼 8000 2000.0\n"
     ]
    }
   ],
   "source": [
    "#결혼, 연봉에 따라 함수 계산 => computetax 함수\n",
    "m=int(input('결혼여부 (미혼:0, 기혼:1)?'))\n",
    "s=int(input('연봉얼마 (단위: 만원)'))\n",
    "\n",
    "def computetax(m,s):\n",
    "    if m==0:\n",
    "        if s<=3000: tax=s*0.1\n",
    "        else: tax=s*0.25\n",
    "    else:\n",
    "        if s<=6000: tax=s*.01\n",
    "        else: tax=s*0.25\n",
    "\n",
    "    if m==0: m='미혼'\n",
    "    else: m='기혼'\n",
    "    \n",
    "    return m,s,tax\n",
    "        \n",
    "a,b,c=computetax(m,s)\n",
    "\n",
    "print(a,b,c)"
   ]
  },
  {
   "cell_type": "code",
   "execution_count": 48,
   "metadata": {},
   "outputs": [
    {
     "name": "stdout",
     "output_type": "stream",
     "text": [
      "현재 연도 4자리 입력 (예: 2019)2001\n",
      "윤년아님\n"
     ]
    }
   ],
   "source": [
    "#윤년 여부 체크 => leapyear 함수\n",
    "cy=int(input('현재 연도 4자리 입력 (예: 2019)'))\n",
    "\n",
    "def leapyear(cy):\n",
    "    if (cy%4==0 and cy%100!=100) or cy%400==0: msg='윤년임'\n",
    "    #elif cy%400==0: return '윤년임'\n",
    "    else: msg='윤년아님'\n",
    "    return msg\n",
    "    \n",
    "print(leapyear(cy))"
   ]
  },
  {
   "cell_type": "markdown",
   "metadata": {},
   "source": [
    "# 함수호출방식: call by\n",
    "# call by value, reference"
   ]
  },
  {
   "cell_type": "code",
   "execution_count": 61,
   "metadata": {},
   "outputs": [
    {
     "name": "stdout",
     "output_type": "stream",
     "text": [
      "(2, 1)\n"
     ]
    }
   ],
   "source": [
    "#swap 함수: 2개의 매개변수를 받아 변수 서로의 위치를 바꿔 출력!\n",
    "def swapp(a,b):\n",
    "    return b,a\n",
    "\n",
    "print(swapp(1,2))\n",
    "\n",
    "\n"
   ]
  },
  {
   "cell_type": "code",
   "execution_count": 63,
   "metadata": {},
   "outputs": [
    {
     "name": "stdout",
     "output_type": "stream",
     "text": [
      "swapp 호출 전 a:3, b:5\n",
      "바꾸기 전 a:3, b:5\n",
      "바꾼 후 a:5, b:3\n",
      "140668774524544\n",
      "swapp 호출 후 a:3, b:5\n",
      "140668774524480\n"
     ]
    }
   ],
   "source": [
    "#swap 함수: 2개의 매개변수를 받아 변수 서로의 위치를 바꿔 출력!\n",
    "def swapp(a,b):\n",
    "    print('바꾸기 전 a:%d, b:%d' %(a,b))\n",
    "    t=a\n",
    "    a=b\n",
    "    b=t\n",
    "    print('바꾼 후 a:%d, b:%d' %(a,b))\n",
    "    print(id(a))\n",
    "    \n",
    "a=3;b=5\n",
    "print('swapp 호출 전 a:%d, b:%d' %(a,b))\n",
    "swapp(a,b)\n",
    "print('swapp 호출 후 a:%d, b:%d' %(a,b))\n",
    "print(id(a))"
   ]
  },
  {
   "cell_type": "code",
   "execution_count": 89,
   "metadata": {},
   "outputs": [
    {
     "name": "stdout",
     "output_type": "stream",
     "text": [
      "swapp 호출 전 a:3, b:5\n",
      "바꾸기 전 a:3, b:5\n",
      "바꾼 후 a:5, b:3\n",
      "140668774524544\n",
      "swapp 호출 후 a:5, b:3\n",
      "140668774524544\n"
     ]
    }
   ],
   "source": [
    "#swap 함수: 2개의 매개변수를 받아 변수 서로의 위치를 바꿔 출력!\n",
    "def swapp(x,y):\n",
    "    global a\n",
    "    global b\n",
    "    a=x\n",
    "    b=y\n",
    "    print('바꾸기 전 a:%d, b:%d' %(a,b))\n",
    "    t=a\n",
    "    a=b\n",
    "    b=t\n",
    "    print('바꾼 후 a:%d, b:%d' %(a,b))\n",
    "    print(id(a))\n",
    "    \n",
    "x=3;y=5\n",
    "a=x;b=y\n",
    "print('swapp 호출 전 a:%d, b:%d' %(a,b))\n",
    "swapp(x,y)\n",
    "print('swapp 호출 후 a:%d, b:%d' %(a,b))\n",
    "print(id(a))"
   ]
  },
  {
   "cell_type": "code",
   "execution_count": null,
   "metadata": {},
   "outputs": [],
   "source": [
    "# call by object / reference (참조 주소 위치)\n",
    "# 함수 호출 시 전달하는 매개변수는 단순한 값 복사가 아닌, 그 값이 저장된 위치까지 담겨 있다\n",
    "# 파이썬은 call by reference 없음. 대신, object reference를 이용\n",
    "# 즉 매개변수 유형에 따라 call by value vs. reference 나눠 작동.\n",
    "# call by value => 단일값 (int, str, tuple)\n",
    "# 단, 값을 바꾸고 싶다면 global 키워드 사용\n",
    "# call by object => reference => 객체 (list, dict, class)\n",
    "\n",
    "#함수 내 선언된 변수는 함수 내에서만 사용가능!"
   ]
  },
  {
   "cell_type": "code",
   "execution_count": 81,
   "metadata": {},
   "outputs": [
    {
     "name": "stdout",
     "output_type": "stream",
     "text": [
      "3\n",
      "15\n",
      "45\n"
     ]
    }
   ],
   "source": [
    "#가변인수: 함수 매개변수 동적 정의 => 매개변수명 앞에 *로 정의함\n",
    "#plus 함수 매개변수는 2개로 설정되어 있음. 만일, 갯수 정의되지 않은 상태에서 입력한 모든 매개변수 합계 출력한다면?\n",
    "\n",
    "def plus(a,b,*args):\n",
    "    sum=0\n",
    "    sum=a+b\n",
    "    for i in args:\n",
    "        sum+=i\n",
    "    return sum\n",
    "    \n",
    "print(plus(1,2))\n",
    "print(plus(1,2,3,4,5))\n",
    "print(plus(9,8,7,6,5,4,3,2,1))"
   ]
  },
  {
   "cell_type": "code",
   "execution_count": 79,
   "metadata": {},
   "outputs": [
    {
     "name": "stdout",
     "output_type": "stream",
     "text": [
      "3\n",
      "15\n",
      "45\n"
     ]
    }
   ],
   "source": [
    "#가변인수: 함수 매개변수 동적 정의 => 매개변수명 앞에 *로 정의함\n",
    "#plus 함수 매개변수는 2개로 설정되어 있음. 만일, 갯수 정의되지 않은 상태에서 입력한 모든 매개변수 합계 출력한다면?\n",
    "\n",
    "def plus2(*args):\n",
    "    sum=0\n",
    "    for i in args:\n",
    "        sum+=i\n",
    "    return sum\n",
    "\n",
    "print(plus2(1,2))\n",
    "print(plus2(1,2,3,4,5))\n",
    "print(plus2(9,8,7,6,5,4,3,2,1))"
   ]
  },
  {
   "cell_type": "code",
   "execution_count": 85,
   "metadata": {},
   "outputs": [
    {
     "name": "stdout",
     "output_type": "stream",
     "text": [
      "15\n",
      "45\n"
     ]
    }
   ],
   "source": [
    "#가변인수: 함수 매개변수 동적 정의 => 매개변수명 앞에 *로 정의함\n",
    "#plus 함수 매개변수는 3개로 설정되어 있음. 만일, 갯수 정의되지 않은 상태에서 입력한 모든 매개변수 합계 출력한다면?\n",
    "\n",
    "def plus(a,b,c,*args):\n",
    "    sum=0\n",
    "    sum=a+b+c\n",
    "    for i in args:\n",
    "        sum+=i\n",
    "    return sum\n",
    "    \n",
    "print(plus(1,2,3,4,5))\n",
    "print(plus(9,8,7,6,5,4,3,2,1))"
   ]
  },
  {
   "cell_type": "code",
   "execution_count": 93,
   "metadata": {},
   "outputs": [
    {
     "name": "stdout",
     "output_type": "stream",
     "text": [
      "10\n",
      "15\n",
      "45\n"
     ]
    }
   ],
   "source": [
    "\n",
    "def plus(a,b,c,d,*args):\n",
    "    sum=0\n",
    "    sum=a+b+c+d\n",
    "    for i in args:\n",
    "        sum+=i\n",
    "    return sum\n",
    "\n",
    "print(plus(1,2,3,4))\n",
    "print(plus(1,2,3,4,5))\n",
    "print(plus(9,8,7,6,5,4,3,2,1))"
   ]
  },
  {
   "cell_type": "code",
   "execution_count": 99,
   "metadata": {},
   "outputs": [
    {
     "name": "stdout",
     "output_type": "stream",
     "text": [
      "[1, 2, 3, 4, 5, 6, 7, 8, 9]\n",
      "(45, 5.0, 9, 1)\n"
     ]
    }
   ],
   "source": [
    "#가변인수 이용해서 총합, 평균, 최대, 최소 구하는 함수 작성 (함수명 : statis)\n",
    "#statis(1,2,3,4,5,6,7,8,9)\n",
    "#총합:45 평균:5 최대:9 최소:1\n",
    "\n",
    "\n",
    "def statis(*args):\n",
    "    sum=0\n",
    "    list1=[]\n",
    "    dict1={}\n",
    "    for i in args:\n",
    "        sum+=i\n",
    "    avg=sum/9\n",
    "    for i in args:\n",
    "        list1.append(i)\n",
    "    maxx=max(list1)\n",
    "    minn=min(list1)\n",
    "    print(list1)\n",
    "    return sum,avg,maxx,minn\n",
    "    \n",
    "print(statis(1,2,3,4,5,6,7,8,9))"
   ]
  },
  {
   "cell_type": "code",
   "execution_count": 94,
   "metadata": {},
   "outputs": [
    {
     "data": {
      "text/plain": [
       "3"
      ]
     },
     "execution_count": 94,
     "metadata": {},
     "output_type": "execute_result"
    }
   ],
   "source": [
    "list=[1,2,3]\n",
    "max(list)"
   ]
  },
  {
   "cell_type": "code",
   "execution_count": 102,
   "metadata": {},
   "outputs": [
    {
     "name": "stdout",
     "output_type": "stream",
     "text": [
      "총합: 45 평균:5.0 최대:9 최소:1\n"
     ]
    }
   ],
   "source": [
    "def statis(*args):\n",
    "    tot=sum(args)\n",
    "    mean=tot/len(args)\n",
    "    high=max(args)\n",
    "    low=min(args)\n",
    "    fmt='총합: %d 평균:%.1f 최대:%d 최소:%d'\n",
    "    print(fmt %(tot,mean,high,low))\n",
    "    \n",
    "statis(1,2,3,4,5,6,7,8,9)"
   ]
  },
  {
   "cell_type": "code",
   "execution_count": 103,
   "metadata": {},
   "outputs": [
    {
     "name": "stdout",
     "output_type": "stream",
     "text": [
      "1\n",
      "None\n"
     ]
    }
   ],
   "source": [
    "print(print('1'))"
   ]
  },
  {
   "cell_type": "code",
   "execution_count": 104,
   "metadata": {},
   "outputs": [
    {
     "data": {
      "text/plain": [
       "20"
      ]
     },
     "execution_count": 104,
     "metadata": {},
     "output_type": "execute_result"
    }
   ],
   "source": [
    "#초기화인수\n",
    "#함수의 매개변수를 정의했지만, 매개변수 지정없이 함수를 호출하고 싶다면?\n",
    "\n",
    "\n",
    "def plus(x,y):\n",
    "    return x+y\n",
    "\n",
    "plus(10,10)"
   ]
  },
  {
   "cell_type": "code",
   "execution_count": 114,
   "metadata": {},
   "outputs": [
    {
     "name": "stdout",
     "output_type": "stream",
     "text": [
      "25\n",
      "22\n",
      "13\n",
      "17\n",
      "25\n"
     ]
    }
   ],
   "source": [
    "#초기화인수\n",
    "#함수의 매개변수를 정의했지만, 매개변수 지정없이 함수를 호출하고 싶다면?\n",
    "\n",
    "\n",
    "def plus(x=12,y=10):\n",
    "    return x+y\n",
    "\n",
    "print(plus(10,15))\n",
    "print(plus())\n",
    "print(plus(3))\n",
    "print(plus(7))\n",
    "print(plus(y=13))"
   ]
  },
  {
   "cell_type": "code",
   "execution_count": 116,
   "metadata": {},
   "outputs": [
    {
     "ename": "SyntaxError",
     "evalue": "non-default argument follows default argument (<ipython-input-116-646c1a59b8f8>, line 1)",
     "output_type": "error",
     "traceback": [
      "\u001b[0;36m  File \u001b[0;32m\"<ipython-input-116-646c1a59b8f8>\"\u001b[0;36m, line \u001b[0;32m1\u001b[0m\n\u001b[0;31m    def minus(a=10,b):\u001b[0m\n\u001b[0m             ^\u001b[0m\n\u001b[0;31mSyntaxError\u001b[0m\u001b[0;31m:\u001b[0m non-default argument follows default argument\n"
     ]
    }
   ],
   "source": [
    "def minus(a=10,b):\n",
    "    return a-b\n",
    "print(minus(5,5))"
   ]
  },
  {
   "cell_type": "code",
   "execution_count": 118,
   "metadata": {},
   "outputs": [
    {
     "name": "stdout",
     "output_type": "stream",
     "text": [
      "5\n"
     ]
    }
   ],
   "source": [
    "def minus(a=10,b=5):\n",
    "    return a-b\n",
    "print(minus())"
   ]
  },
  {
   "cell_type": "code",
   "execution_count": 120,
   "metadata": {},
   "outputs": [
    {
     "ename": "SyntaxError",
     "evalue": "non-default argument follows default argument (<ipython-input-120-bc598c291aa1>, line 1)",
     "output_type": "error",
     "traceback": [
      "\u001b[0;36m  File \u001b[0;32m\"<ipython-input-120-bc598c291aa1>\"\u001b[0;36m, line \u001b[0;32m1\u001b[0m\n\u001b[0;31m    def minus(a=10,b):\u001b[0m\n\u001b[0m             ^\u001b[0m\n\u001b[0;31mSyntaxError\u001b[0m\u001b[0;31m:\u001b[0m non-default argument follows default argument\n"
     ]
    }
   ],
   "source": [
    "def minus(a=10,b):\n",
    "    return a-b\n",
    "print(minus(b=3))"
   ]
  },
  {
   "cell_type": "code",
   "execution_count": 123,
   "metadata": {},
   "outputs": [
    {
     "name": "stdout",
     "output_type": "stream",
     "text": [
      "2\n",
      "2\n"
     ]
    }
   ],
   "source": [
    "def minus(a,b=5):\n",
    "    return a-b\n",
    "print(minus(a=7))\n",
    "print(minus(7))"
   ]
  },
  {
   "cell_type": "code",
   "execution_count": 131,
   "metadata": {},
   "outputs": [
    {
     "name": "stdout",
     "output_type": "stream",
     "text": [
      "12\n"
     ]
    }
   ],
   "source": [
    "def add(a,b=10,c=5):\n",
    "    return a+b+c\n",
    "print(add(5,2))"
   ]
  },
  {
   "cell_type": "code",
   "execution_count": 128,
   "metadata": {},
   "outputs": [
    {
     "name": "stdout",
     "output_type": "stream",
     "text": [
      "20\n"
     ]
    }
   ],
   "source": [
    "#lambda 함수 => 함수를 간략한 형태로 작성!\n",
    "\n",
    "plus = lambda a, b: a+b\n",
    "print(plus(10,10))"
   ]
  },
  {
   "cell_type": "code",
   "execution_count": 133,
   "metadata": {},
   "outputs": [
    {
     "name": "stdout",
     "output_type": "stream",
     "text": [
      "30\n"
     ]
    }
   ],
   "source": [
    "print((lambda x,y:x+y)(10,20))"
   ]
  },
  {
   "cell_type": "code",
   "execution_count": null,
   "metadata": {},
   "outputs": [],
   "source": [
    "print(list(map((lambda x: x*x),[1,2,3,4,5])))"
   ]
  },
  {
   "cell_type": "code",
   "execution_count": 134,
   "metadata": {},
   "outputs": [
    {
     "ename": "TypeError",
     "evalue": "'list' object is not callable",
     "output_type": "error",
     "traceback": [
      "\u001b[0;31m---------------------------------------------------------------------------\u001b[0m",
      "\u001b[0;31mTypeError\u001b[0m                                 Traceback (most recent call last)",
      "\u001b[0;32m<ipython-input-134-cdb6e2bba186>\u001b[0m in \u001b[0;36m<module>\u001b[0;34m\u001b[0m\n\u001b[1;32m      1\u001b[0m \u001b[0;32mdef\u001b[0m \u001b[0msq\u001b[0m\u001b[0;34m(\u001b[0m\u001b[0mx\u001b[0m\u001b[0;34m)\u001b[0m\u001b[0;34m:\u001b[0m\u001b[0;34m\u001b[0m\u001b[0;34m\u001b[0m\u001b[0m\n\u001b[1;32m      2\u001b[0m     \u001b[0;32mreturn\u001b[0m \u001b[0mx\u001b[0m\u001b[0;34m*\u001b[0m\u001b[0mx\u001b[0m\u001b[0;34m\u001b[0m\u001b[0;34m\u001b[0m\u001b[0m\n\u001b[0;32m----> 3\u001b[0;31m \u001b[0mprint\u001b[0m\u001b[0;34m(\u001b[0m\u001b[0mlist\u001b[0m\u001b[0;34m(\u001b[0m\u001b[0mmap\u001b[0m\u001b[0;34m(\u001b[0m\u001b[0msq\u001b[0m\u001b[0;34m,\u001b[0m\u001b[0;34m[\u001b[0m\u001b[0;36m1\u001b[0m\u001b[0;34m,\u001b[0m\u001b[0;36m2\u001b[0m\u001b[0;34m,\u001b[0m\u001b[0;36m3\u001b[0m\u001b[0;34m,\u001b[0m\u001b[0;36m4\u001b[0m\u001b[0;34m,\u001b[0m\u001b[0;36m5\u001b[0m\u001b[0;34m]\u001b[0m\u001b[0;34m)\u001b[0m\u001b[0;34m)\u001b[0m\u001b[0;34m)\u001b[0m\u001b[0;34m\u001b[0m\u001b[0;34m\u001b[0m\u001b[0m\n\u001b[0m",
      "\u001b[0;31mTypeError\u001b[0m: 'list' object is not callable"
     ]
    }
   ],
   "source": [
    "def sq(x):\n",
    "    return x*x\n",
    "print(list(map(sq,[1,2,3,4,5])))"
   ]
  },
  {
   "cell_type": "code",
   "execution_count": null,
   "metadata": {},
   "outputs": [],
   "source": []
  },
  {
   "cell_type": "code",
   "execution_count": null,
   "metadata": {},
   "outputs": [],
   "source": []
  }
 ],
 "metadata": {
  "kernelspec": {
   "display_name": "Python 3",
   "language": "python",
   "name": "python3"
  },
  "language_info": {
   "codemirror_mode": {
    "name": "ipython",
    "version": 3
   },
   "file_extension": ".py",
   "mimetype": "text/x-python",
   "name": "python",
   "nbconvert_exporter": "python",
   "pygments_lexer": "ipython3",
   "version": "3.6.8"
  }
 },
 "nbformat": 4,
 "nbformat_minor": 1
}
