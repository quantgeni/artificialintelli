{
 "cells": [
  {
   "cell_type": "markdown",
   "metadata": {},
   "source": [
    "# 자료구조\n",
    "### 데이터의 효율적 접근 및 저장/수정이 가능하도록 데이터 관계,집합을 지원하는 함수/명령어를 의미"
   ]
  },
  {
   "cell_type": "markdown",
   "metadata": {},
   "source": [
    "# 리스트\n",
    "### 순차적으로 데이터를 관리하는 자료구조. 순서가 중요한 의미를 가짐.\n",
    "### 다른 언어(C,C++,Java)의 배열과는 달리 서로 다른 자료형의 데이터를 함께 다룰 수 있음. 리스트의 각 요소는 [ ]을 사용해서 접근"
   ]
  },
  {
   "cell_type": "code",
   "execution_count": 3,
   "metadata": {},
   "outputs": [],
   "source": [
    "name='수지'\n",
    "kor=98;eng=99;mat=99\n",
    "tot=297;avg=99.8;grd='가'"
   ]
  },
  {
   "cell_type": "code",
   "execution_count": 18,
   "metadata": {},
   "outputs": [
    {
     "name": "stdout",
     "output_type": "stream",
     "text": [
      "수지 99 98 99\n",
      "수지,99,98,99,297,99.8,가,\n",
      "True False\n"
     ]
    }
   ],
   "source": [
    "sj1=['수지',99,98,99,297,99.8,'가']\n",
    "\n",
    "print(sj1[0],sj1[1],sj1[2],sj1[3])\n",
    "#리스트의 첫번째 요소를 가리키는 인덱스(위치값)은 0임\n",
    "\n",
    "#반복문을 이용해서 리스트 모든 요소 출력\n",
    "for i in range(len(sj1)):\n",
    "    print(sj1[i],end=',')\n",
    "print()\n",
    "print('수지' in sj1, '길동' in sj1)"
   ]
  },
  {
   "cell_type": "code",
   "execution_count": 9,
   "metadata": {},
   "outputs": [
    {
     "name": "stdout",
     "output_type": "stream",
     "text": [
      "H ! !\n"
     ]
    }
   ],
   "source": [
    "#문자열 리스트 <- 값 자체를 리스트에 저장 x. 값이 있는 주소를. ====> 간접주소지정방식\n",
    "\n",
    "msg='Hello, World!!'\n",
    "print(msg[0],msg[13],msg[len(msg)-1]) #마지막에 -1 해준 것에 유의 (0부터 시작하므로)"
   ]
  },
  {
   "cell_type": "code",
   "execution_count": 13,
   "metadata": {},
   "outputs": [
    {
     "name": "stdout",
     "output_type": "stream",
     "text": [
      "['수지', 99, 98, 99, 297, 99.8, '가']  ===> 요소 갯수는?  7\n"
     ]
    }
   ],
   "source": [
    "#리스트를 이용한 간단한 연산\n",
    "#길이 연산 : len() - 요소 갯수 출력\n",
    "\n",
    "    print(sj1,' ===> 요소 갯수는? ',len(sj1))"
   ]
  },
  {
   "cell_type": "code",
   "execution_count": 15,
   "metadata": {},
   "outputs": [
    {
     "name": "stdout",
     "output_type": "stream",
     "text": [
      "H\n"
     ]
    }
   ],
   "source": [
    "#리스트 특정 요소 참조 : [위치값index]\n",
    "#리스트 첫번째 요소는 인덱스 0임\n",
    "\n",
    "msg='Hello, World!!'\n",
    "print(msg[0])"
   ]
  },
  {
   "cell_type": "code",
   "execution_count": 65,
   "metadata": {},
   "outputs": [],
   "source": [
    "#주민번호 이용 성별 파악 (1이면 남 2면 여)\n",
    "jumin1='123456-1234567' #문자열도 리스트 취급 ㅇㅇ\n",
    "jumin2=[1,2,3,4,5,6,2,3,4,5,6,7,8]\n",
    "\n",
    "msg1='jumin1=남, jumin2=남'\n",
    "msg2='jumin1=남, jumin2=여'\n",
    "msg3='jumin1=여, jumin2=남'\n",
    "msg4='jumin1=여, jumin2=여'\n",
    "\n",
    "\n",
    "if jumin1[7]==1:\n",
    "    if jumin2[6]==1:print(msg1)\n",
    "    else:print(msg2)\n",
    "else:\n",
    "    if jumin1[7]==2:\n",
    "        if jumin2[6]==1:print(msg3)\n",
    "        else:print(msg4)  \n",
    "\n",
    "#이거 아무것도 안 뜸. 이유는? 리스트 밖으로 나온 값은 문자열인데 int와 == 여부 알아봤기 때문 ㅎㅎ"
   ]
  },
  {
   "cell_type": "code",
   "execution_count": 32,
   "metadata": {},
   "outputs": [],
   "source": [
    "#주민번호 이용 성별 파악 (1이면 남 2면 여)\n",
    "jumin1='123456-1234567' #문자열도 리스트 취급 ㅇㅇ\n",
    "jumin2=[1,2,3,4,5,6,2,3,4,5,6,7,8]\n",
    "\n",
    "msg1='jumin1=남, jumin2=남'\n",
    "msg2='jumin1=남, jumin2=여'\n",
    "msg3='jumin1=여, jumin2=남'\n",
    "msg4='jumin1=여, jumin2=여'\n",
    "\n",
    "if jumin1[7]==1:\n",
    "    if jumin2[6]==1:print(msg1)\n",
    "    else: print(msg2)\n",
    "else:\n",
    "    if jumin2[6]==1:print(msg3)\n",
    "    else: print(msg4)"
   ]
  },
  {
   "cell_type": "code",
   "execution_count": null,
   "metadata": {},
   "outputs": [],
   "source": [
    "#slice => 리스트 특정범위 내 요소 추출 시\n",
    "#리스트명[시작:끝-1:주기(간격)]"
   ]
  },
  {
   "cell_type": "code",
   "execution_count": 33,
   "metadata": {},
   "outputs": [
    {
     "name": "stdout",
     "output_type": "stream",
     "text": [
      "123456  =  123456\n"
     ]
    }
   ],
   "source": [
    "jumin1='123456-1234567'\n",
    "print(jumin1[:6],' = ',jumin1[0:6])"
   ]
  },
  {
   "cell_type": "code",
   "execution_count": 38,
   "metadata": {},
   "outputs": [
    {
     "name": "stdout",
     "output_type": "stream",
     "text": [
      "1234567  =  1234567  =  1234567\n"
     ]
    }
   ],
   "source": [
    "jumin1='123456-1234567' #생년월일 이후 데이터\n",
    "print(jumin1[7:],' = ',jumin1[7:14],' = ',jumin1[7:100000000000000000]) #3번째 관련 에러메시지 안뜸 - 알아서 배열 마지막으로 커트"
   ]
  },
  {
   "cell_type": "code",
   "execution_count": 41,
   "metadata": {},
   "outputs": [
    {
     "name": "stdout",
     "output_type": "stream",
     "text": [
      "135-1357\n"
     ]
    }
   ],
   "source": [
    "jumin1='123456-1234567' #홀수 요소만 추출\n",
    "print(jumin1[0:7:2]+jumin1[7:14:2])"
   ]
  },
  {
   "cell_type": "code",
   "execution_count": 46,
   "metadata": {},
   "outputs": [
    {
     "name": "stdout",
     "output_type": "stream",
     "text": [
      "7654321-654321\n",
      "123456-123456\n",
      "123456-123456\n",
      "123456-1234567\n"
     ]
    },
    {
     "ename": "IndexError",
     "evalue": "string index out of range",
     "output_type": "error",
     "traceback": [
      "\u001b[0;31m---------------------------------------------------------------------------\u001b[0m",
      "\u001b[0;31mIndexError\u001b[0m                                Traceback (most recent call last)",
      "\u001b[0;32m<ipython-input-46-b1db6357af8c>\u001b[0m in \u001b[0;36m<module>\u001b[0;34m\u001b[0m\n\u001b[1;32m      5\u001b[0m \u001b[0mprint\u001b[0m\u001b[0;34m(\u001b[0m\u001b[0mjumin1\u001b[0m\u001b[0;34m[\u001b[0m\u001b[0;36m0\u001b[0m\u001b[0;34m:\u001b[0m\u001b[0;34m-\u001b[0m\u001b[0;36m1\u001b[0m\u001b[0;34m]\u001b[0m\u001b[0;34m)\u001b[0m\u001b[0;34m\u001b[0m\u001b[0;34m\u001b[0m\u001b[0m\n\u001b[1;32m      6\u001b[0m \u001b[0mprint\u001b[0m\u001b[0;34m(\u001b[0m\u001b[0mjumin1\u001b[0m\u001b[0;34m[\u001b[0m\u001b[0;34m:\u001b[0m\u001b[0;36m10000\u001b[0m\u001b[0;34m]\u001b[0m\u001b[0;34m)\u001b[0m\u001b[0;34m\u001b[0m\u001b[0;34m\u001b[0m\u001b[0m\n\u001b[0;32m----> 7\u001b[0;31m \u001b[0mprint\u001b[0m\u001b[0;34m(\u001b[0m\u001b[0mjumin1\u001b[0m\u001b[0;34m[\u001b[0m\u001b[0;36m10000\u001b[0m\u001b[0;34m]\u001b[0m\u001b[0;34m)\u001b[0m\u001b[0;34m\u001b[0m\u001b[0;34m\u001b[0m\u001b[0m\n\u001b[0m",
      "\u001b[0;31mIndexError\u001b[0m: string index out of range"
     ]
    }
   ],
   "source": [
    "#주민번호 역순 출력\n",
    "jumin1='123456-1234567' \n",
    "print(jumin1[::-1])\n",
    "print(jumin1[:-1])\n",
    "print(jumin1[0:-1])\n",
    "print(jumin1[:10000]) #오류 안남\n",
    "print(jumin1[10000]) #오류남"
   ]
  },
  {
   "cell_type": "code",
   "execution_count": 66,
   "metadata": {},
   "outputs": [
    {
     "name": "stdout",
     "output_type": "stream",
     "text": [
      "['1', '', '', '', '', '', '', '', '', '', '', '', '', '', '', '', '', '', '', '', '', '', '', '', '', '', '', '', '3']\n"
     ]
    }
   ],
   "source": [
    "a=['1','','','','','','','','','','','','','','','','','','','','','','','','','','','','3']\n",
    "print(a[:100000000000000000000000000000])"
   ]
  },
  {
   "cell_type": "code",
   "execution_count": 68,
   "metadata": {},
   "outputs": [
    {
     "name": "stdout",
     "output_type": "stream",
     "text": [
      "jumin1=남, jumin2=여\n"
     ]
    }
   ],
   "source": [
    "#주민번호 이용 성별 파악 (1이면 남 2면 여)\n",
    "jumin1='123456-1234567' #문자열도 리스트 취급 ㅇㅇ\n",
    "jumin2=[1,2,3,4,5,6,2,3,4,5,6,7,8]\n",
    "\n",
    "msg1='jumin1=남, jumin2=남'\n",
    "msg2='jumin1=남, jumin2=여'\n",
    "msg3='jumin1=여, jumin2=남'\n",
    "msg4='jumin1=여, jumin2=여'\n",
    "\n",
    "\n",
    "if jumin1[7]=='1':\n",
    "    if jumin2[6]=='1':print(msg1)\n",
    "    else:print(msg2)\n",
    "else:\n",
    "    if jumin1[7]=='2':\n",
    "        if jumin2[6]=='1':print(msg3)\n",
    "        else:print(msg4)  \n"
   ]
  },
  {
   "cell_type": "code",
   "execution_count": 69,
   "metadata": {},
   "outputs": [
    {
     "name": "stdout",
     "output_type": "stream",
     "text": [
      "리스트의 합 :  45\n",
      "리스트의 평균 :  5.0\n",
      "리스트의 최대값 :  9\n",
      "리스트의 최소값 :  1\n"
     ]
    }
   ],
   "source": [
    "#리스트를 이용한 통계함수 사용\n",
    "val=[1,2,3,4,5,6,7,8,9]\n",
    "print('리스트의 합 : ',sum(val))\n",
    "print('리스트의 평균 : ',sum(val)/len(val))\n",
    "print('리스트의 최대값 : ',max(val))\n",
    "print('리스트의 최소값 : ',min(val))"
   ]
  },
  {
   "cell_type": "code",
   "execution_count": null,
   "metadata": {},
   "outputs": [],
   "source": []
  },
  {
   "cell_type": "code",
   "execution_count": 89,
   "metadata": {
    "scrolled": true
   },
   "outputs": [
    {
     "name": "stdout",
     "output_type": "stream",
     "text": [
      "5\n",
      "5.5\n"
     ]
    }
   ],
   "source": [
    "#중앙값: 정렬! 후 가운데 값.. 요소 수가 홀수/짝수 일때 다름 ㅇㅇ\n",
    "\n",
    "#요소개수가 홀수일 때\n",
    "val1=[1,2,3,4,5,6,7,8,9]\n",
    "val2=[1,2,3,4,5,6,7,8,9,10]\n",
    "mid1=int(len(val1)/2)\n",
    "mid2=int(len(val2)/2)\n",
    "print(val[mid1])\n",
    "\n",
    "#요소개수가 짝수일 때\n",
    "print(sum(val2[mid2-1:mid2+1])/2)"
   ]
  },
  {
   "cell_type": "code",
   "execution_count": 171,
   "metadata": {},
   "outputs": [
    {
     "name": "stdout",
     "output_type": "stream",
     "text": [
      "[1, 2, 3]\n",
      "[1, 10, 2, 3]\n",
      "[50, 1, 10, 2, 3]\n",
      "[50, 1, 2, 3]\n",
      "[50, 2, 3]\n",
      "[50, 2]\n",
      "[]\n",
      "[1, 2, 3, 6, 7, 10]\n",
      "['나', '바', '사', '아', '차', '파']\n"
     ]
    }
   ],
   "source": [
    "#요소추가 : insert(위치,값)\n",
    "#지정한 위치에 요소 추가함\n",
    "\n",
    "list3=[]\n",
    "list3.append(1)\n",
    "list3.append(2)\n",
    "list3.append(3)\n",
    "print(list3)\n",
    "\n",
    "list3.insert(1,10)\n",
    "print(list3)\n",
    "\n",
    "list3.insert(0,50)\n",
    "print(list3)\n",
    "\n",
    "#remove: 요소제거\n",
    "list3.remove(10) #위치값이 아닌 요소\n",
    "print(list3)\n",
    "\n",
    "#pop: 요소제거\n",
    "list3.pop(1) #위치값 지정한 것\n",
    "print(list3)\n",
    "\n",
    "list3.pop() #위치값 지정 안하면 마지막 요소 제거\n",
    "print(list3)\n",
    "\n",
    "#clear : 요소 모두 제거\n",
    "list3.clear()\n",
    "print(list3)\n",
    "\n",
    "#sort : 정렬하기\n",
    "list3=[6,3,7,2,1,10]\n",
    "list3.sort() #sort(list)하면 안 먹힘 ㅋㅋ\n",
    "print(list3)\n",
    "\n",
    "list3=['차','나','사','아','바','파']\n",
    "list3.sort() #sort(list)하면 안 먹힘 ㅋㅋ\n",
    "print(list3)"
   ]
  },
  {
   "cell_type": "code",
   "execution_count": 173,
   "metadata": {},
   "outputs": [
    {
     "name": "stdout",
     "output_type": "stream",
     "text": [
      "4 3\n",
      "3\n",
      "43\n"
     ]
    },
    {
     "ename": "AttributeError",
     "evalue": "'list' object has no attribute 'sum'",
     "output_type": "error",
     "traceback": [
      "\u001b[0;31m---------------------------------------------------------------------------\u001b[0m",
      "\u001b[0;31mAttributeError\u001b[0m                            Traceback (most recent call last)",
      "\u001b[0;32m<ipython-input-173-164eeeaab131>\u001b[0m in \u001b[0;36m<module>\u001b[0;34m\u001b[0m\n\u001b[1;32m      7\u001b[0m \u001b[0mprint\u001b[0m\u001b[0;34m(\u001b[0m\u001b[0mlist2\u001b[0m\u001b[0;34m.\u001b[0m\u001b[0mcount\u001b[0m\u001b[0;34m(\u001b[0m\u001b[0;36m7\u001b[0m\u001b[0;34m)\u001b[0m\u001b[0;34m)\u001b[0m \u001b[0;31m#요소7이 몇 개 있는지?\u001b[0m\u001b[0;34m\u001b[0m\u001b[0;34m\u001b[0m\u001b[0m\n\u001b[1;32m      8\u001b[0m \u001b[0mprint\u001b[0m\u001b[0;34m(\u001b[0m\u001b[0msum\u001b[0m\u001b[0;34m(\u001b[0m\u001b[0mlist2\u001b[0m\u001b[0;34m)\u001b[0m\u001b[0;34m)\u001b[0m\u001b[0;34m\u001b[0m\u001b[0;34m\u001b[0m\u001b[0m\n\u001b[0;32m----> 9\u001b[0;31m \u001b[0mprint\u001b[0m\u001b[0;34m(\u001b[0m\u001b[0mlist2\u001b[0m\u001b[0;34m.\u001b[0m\u001b[0msum\u001b[0m\u001b[0;34m(\u001b[0m\u001b[0;34m)\u001b[0m\u001b[0;34m)\u001b[0m \u001b[0;31m#에러\u001b[0m\u001b[0;34m\u001b[0m\u001b[0;34m\u001b[0m\u001b[0m\n\u001b[0m\u001b[1;32m     10\u001b[0m \u001b[0mprint\u001b[0m\u001b[0;34m(\u001b[0m\u001b[0mlist2\u001b[0m\u001b[0;34m.\u001b[0m\u001b[0mcount\u001b[0m\u001b[0;34m(\u001b[0m\u001b[0;34m)\u001b[0m\u001b[0;34m)\u001b[0m \u001b[0;31m#에러\u001b[0m\u001b[0;34m\u001b[0m\u001b[0;34m\u001b[0m\u001b[0m\n\u001b[1;32m     11\u001b[0m \u001b[0mprint\u001b[0m\u001b[0;34m(\u001b[0m\u001b[0mcount\u001b[0m\u001b[0;34m(\u001b[0m\u001b[0mlist2\u001b[0m\u001b[0;34m)\u001b[0m\u001b[0;34m)\u001b[0m \u001b[0;31m#에러\u001b[0m\u001b[0;34m\u001b[0m\u001b[0;34m\u001b[0m\u001b[0m\n",
      "\u001b[0;31mAttributeError\u001b[0m: 'list' object has no attribute 'sum'"
     ]
    }
   ],
   "source": [
    "#index\n",
    "list2=[6,3,7,2,1,10]\n",
    "print(list2.index(1),list2.index(2)) #요소 1, 2가 각각 인덱스 어디에 있는지? \n",
    "                                   #단, 예를들어 결과값 5가 출력된다면 5번째라는게 아니고 [5], 즉 6번째라는 의미 (배열은 0에서 시작하니)\n",
    "#count\n",
    "list2=[7,6,3,7,2,1,10,7]\n",
    "print(list2.count(7)) #요소7이 몇 개 있는지?\n",
    "print(sum(list2))\n",
    "print(list2.sum()) #에러\n",
    "print(list2.count()) #에러\n",
    "print(count(list2)) #에러\n"
   ]
  },
  {
   "cell_type": "code",
   "execution_count": 134,
   "metadata": {},
   "outputs": [
    {
     "name": "stdout",
     "output_type": "stream",
     "text": [
      "[1, 2, 1, 2, 1] ==> 2\n",
      "[17, 17]\n",
      "[2, 2, 2, 2, 1] ==> 2\n",
      "[26, 37, 26, 37]\n",
      "[1, 1, 1, 1, 1] ==> 1\n",
      "[]\n"
     ]
    }
   ],
   "source": [
    "val1=[12,17,19,17,24]\n",
    "val2=[26,37,26,37,91]\n",
    "val3=[28,30,32,44,56]\n",
    "\n",
    "###############################################\n",
    "cntval=[]\n",
    "maxval=[]\n",
    "\n",
    "for i in range(len(val1)):\n",
    "    cnt=val1.count(val1[i])\n",
    "    cntval.append(cnt)\n",
    "    \n",
    "print(cntval,'==>', max(cntval))\n",
    "maxcnt=max(cntval)\n",
    "\n",
    "for i in range(len(cntval)):\n",
    "    if cntval[i]==maxcnt:\n",
    "        maxval.append(val1[i])\n",
    "        \n",
    "print(maxval)\n",
    "###############################################\n",
    "cntval=[]\n",
    "maxval=[]\n",
    "\n",
    "for i in range(len(val2)):\n",
    "    cnt=val2.count(val2[i])\n",
    "    cntval.append(cnt)\n",
    "    \n",
    "print(cntval,'==>', max(cntval))\n",
    "maxcnt=max(cntval)\n",
    "\n",
    "for i in range(len(cntval)):\n",
    "    if cntval[i]==maxcnt:\n",
    "        maxval.append(val2[i])\n",
    "        \n",
    "print(maxval)\n",
    "###############################################\n",
    "cntval=[]\n",
    "maxval=[]\n",
    "\n",
    "for i in range(len(val3)):\n",
    "    cnt=val3.count(val3[i])\n",
    "    cntval.append(cnt)\n",
    "    \n",
    "print(cntval,'==>', max(cntval))\n",
    "maxcnt=max(cntval)\n",
    "\n",
    "for i in range(len(cntval)):\n",
    "    if cntval[i]==maxcnt and maxcnt>=2:\n",
    "        maxval.append(val3[i])\n",
    "        \n",
    "print(maxval)\n",
    "\n"
   ]
  },
  {
   "cell_type": "code",
   "execution_count": 137,
   "metadata": {},
   "outputs": [
    {
     "name": "stdout",
     "output_type": "stream",
     "text": [
      "[12, 10, 19, 17, 24]\n"
     ]
    }
   ],
   "source": [
    "val=[12,17,19,17,24]\n",
    "val[1]=10\n",
    "print(val)"
   ]
  },
  {
   "cell_type": "markdown",
   "metadata": {},
   "source": [
    "# 튜플\n",
    "## 차이: 리스트는 [ ], 튜플은 ( ) ㅏ용\n",
    "## 리스트는 값 추가 삭제 수정 가능. 튜플은 모두 불가"
   ]
  },
  {
   "cell_type": "code",
   "execution_count": 176,
   "metadata": {},
   "outputs": [
    {
     "ename": "AttributeError",
     "evalue": "'tuple' object has no attribute 'append'",
     "output_type": "error",
     "traceback": [
      "\u001b[0;31m---------------------------------------------------------------------------\u001b[0m",
      "\u001b[0;31mAttributeError\u001b[0m                            Traceback (most recent call last)",
      "\u001b[0;32m<ipython-input-176-1c72d74c6b02>\u001b[0m in \u001b[0;36m<module>\u001b[0;34m\u001b[0m\n\u001b[1;32m      1\u001b[0m \u001b[0mtuple1\u001b[0m\u001b[0;34m=\u001b[0m\u001b[0;34m(\u001b[0m\u001b[0;36m1\u001b[0m\u001b[0;34m,\u001b[0m\u001b[0;34m'a'\u001b[0m\u001b[0;34m,\u001b[0m\u001b[0;36m2\u001b[0m\u001b[0;34m,\u001b[0m\u001b[0;34m'b'\u001b[0m\u001b[0;34m,\u001b[0m\u001b[0;36m3\u001b[0m\u001b[0;34m,\u001b[0m\u001b[0;34m'c'\u001b[0m\u001b[0;34m)\u001b[0m\u001b[0;34m\u001b[0m\u001b[0;34m\u001b[0m\u001b[0m\n\u001b[1;32m      2\u001b[0m \u001b[0;34m\u001b[0m\u001b[0m\n\u001b[0;32m----> 3\u001b[0;31m \u001b[0mtuple1\u001b[0m\u001b[0;34m.\u001b[0m\u001b[0mappend\u001b[0m\u001b[0;34m(\u001b[0m\u001b[0;36m3\u001b[0m\u001b[0;34m)\u001b[0m \u001b[0;31m#에러. 튜플은 append 기능 지원x\u001b[0m\u001b[0;34m\u001b[0m\u001b[0;34m\u001b[0m\u001b[0m\n\u001b[0m",
      "\u001b[0;31mAttributeError\u001b[0m: 'tuple' object has no attribute 'append'"
     ]
    }
   ],
   "source": [
    "tuple1=(1,'a',2,'b',3,'c')\n",
    "\n",
    "tuple1.append(3) #에러. 튜플은 append 기능 지원x"
   ]
  },
  {
   "cell_type": "code",
   "execution_count": 177,
   "metadata": {},
   "outputs": [
    {
     "ename": "NameError",
     "evalue": "name 'tuple2' is not defined",
     "output_type": "error",
     "traceback": [
      "\u001b[0;31m---------------------------------------------------------------------------\u001b[0m",
      "\u001b[0;31mNameError\u001b[0m                                 Traceback (most recent call last)",
      "\u001b[0;32m<ipython-input-177-ab9da6c8f40c>\u001b[0m in \u001b[0;36m<module>\u001b[0;34m\u001b[0m\n\u001b[1;32m      1\u001b[0m \u001b[0mtuple2\u001b[0m\u001b[0;34m=\u001b[0m\u001b[0;34m(\u001b[0m\u001b[0;36m1\u001b[0m\u001b[0;34m,\u001b[0m\u001b[0;34m'a'\u001b[0m\u001b[0;34m,\u001b[0m\u001b[0;36m2\u001b[0m\u001b[0;34m,\u001b[0m\u001b[0;34m'b'\u001b[0m\u001b[0;34m,\u001b[0m\u001b[0;36m3\u001b[0m\u001b[0;34m,\u001b[0m\u001b[0;34m'c'\u001b[0m\u001b[0;34m)\u001b[0m\u001b[0;34m\u001b[0m\u001b[0;34m\u001b[0m\u001b[0m\n\u001b[1;32m      2\u001b[0m \u001b[0;32mdel\u001b[0m\u001b[0;34m(\u001b[0m\u001b[0mtuple2\u001b[0m\u001b[0;34m)\u001b[0m\u001b[0;34m\u001b[0m\u001b[0;34m\u001b[0m\u001b[0m\n\u001b[0;32m----> 3\u001b[0;31m \u001b[0mprint\u001b[0m\u001b[0;34m(\u001b[0m\u001b[0mtuple2\u001b[0m\u001b[0;34m)\u001b[0m \u001b[0;31m#이건 됨. 전체 삭제. tuple.remove(x) tuple.pop() tuple.clear() 모두 안됨!\u001b[0m\u001b[0;34m\u001b[0m\u001b[0;34m\u001b[0m\u001b[0m\n\u001b[0m\u001b[1;32m      4\u001b[0m \u001b[0;34m\u001b[0m\u001b[0m\n\u001b[1;32m      5\u001b[0m \u001b[0mval\u001b[0m\u001b[0;34m=\u001b[0m\u001b[0;34m[\u001b[0m\u001b[0;36m12\u001b[0m\u001b[0;34m,\u001b[0m\u001b[0;36m17\u001b[0m\u001b[0;34m,\u001b[0m\u001b[0;36m19\u001b[0m\u001b[0;34m,\u001b[0m\u001b[0;36m17\u001b[0m\u001b[0;34m,\u001b[0m\u001b[0;36m24\u001b[0m\u001b[0;34m]\u001b[0m\u001b[0;34m\u001b[0m\u001b[0;34m\u001b[0m\u001b[0m\n",
      "\u001b[0;31mNameError\u001b[0m: name 'tuple2' is not defined"
     ]
    }
   ],
   "source": [
    "tuple2=(1,'a',2,'b',3,'c')\n",
    "del(tuple2)\n",
    "print(tuple2) #이건 됨. 전체 삭제. tuple.remove(x) tuple.pop() tuple.clear() 모두 안됨!\n",
    "\n",
    "val=[12,17,19,17,24]\n",
    "del(val)\n",
    "print(val)"
   ]
  },
  {
   "cell_type": "code",
   "execution_count": 178,
   "metadata": {},
   "outputs": [
    {
     "ename": "AttributeError",
     "evalue": "'tuple' object has no attribute 'clear'",
     "output_type": "error",
     "traceback": [
      "\u001b[0;31m---------------------------------------------------------------------------\u001b[0m",
      "\u001b[0;31mAttributeError\u001b[0m                            Traceback (most recent call last)",
      "\u001b[0;32m<ipython-input-178-0cc8f2720b70>\u001b[0m in \u001b[0;36m<module>\u001b[0;34m\u001b[0m\n\u001b[1;32m      1\u001b[0m \u001b[0mtuple1\u001b[0m\u001b[0;34m=\u001b[0m\u001b[0;34m(\u001b[0m\u001b[0;36m1\u001b[0m\u001b[0;34m,\u001b[0m\u001b[0;34m'a'\u001b[0m\u001b[0;34m,\u001b[0m\u001b[0;36m2\u001b[0m\u001b[0;34m,\u001b[0m\u001b[0;34m'b'\u001b[0m\u001b[0;34m,\u001b[0m\u001b[0;36m3\u001b[0m\u001b[0;34m,\u001b[0m\u001b[0;34m'c'\u001b[0m\u001b[0;34m)\u001b[0m\u001b[0;34m\u001b[0m\u001b[0;34m\u001b[0m\u001b[0m\n\u001b[0;32m----> 2\u001b[0;31m \u001b[0mtuple1\u001b[0m\u001b[0;34m.\u001b[0m\u001b[0mclear\u001b[0m\u001b[0;34m(\u001b[0m\u001b[0;34m)\u001b[0m\u001b[0;34m\u001b[0m\u001b[0;34m\u001b[0m\u001b[0m\n\u001b[0m\u001b[1;32m      3\u001b[0m \u001b[0mprint\u001b[0m\u001b[0;34m(\u001b[0m\u001b[0mtuple1\u001b[0m\u001b[0;34m)\u001b[0m\u001b[0;34m\u001b[0m\u001b[0;34m\u001b[0m\u001b[0m\n\u001b[1;32m      4\u001b[0m \u001b[0mtuple\u001b[0m\u001b[0;34m=\u001b[0m\u001b[0mlist\u001b[0m\u001b[0;34m(\u001b[0m\u001b[0mtuple1\u001b[0m\u001b[0;34m)\u001b[0m\u001b[0;34m\u001b[0m\u001b[0;34m\u001b[0m\u001b[0m\n\u001b[1;32m      5\u001b[0m \u001b[0mprint\u001b[0m\u001b[0;34m(\u001b[0m\u001b[0mtuple1\u001b[0m\u001b[0;34m)\u001b[0m\u001b[0;34m\u001b[0m\u001b[0;34m\u001b[0m\u001b[0m\n",
      "\u001b[0;31mAttributeError\u001b[0m: 'tuple' object has no attribute 'clear'"
     ]
    }
   ],
   "source": [
    "tuple1=(1,'a',2,'b',3,'c')\n",
    "tuple1.clear()\n",
    "print(tuple1)\n",
    "tuple=list(tuple1)\n",
    "print(tuple1)"
   ]
  },
  {
   "cell_type": "code",
   "execution_count": 179,
   "metadata": {
    "scrolled": true
   },
   "outputs": [
    {
     "ename": "TypeError",
     "evalue": "'tuple' object does not support item assignment",
     "output_type": "error",
     "traceback": [
      "\u001b[0;31m---------------------------------------------------------------------------\u001b[0m",
      "\u001b[0;31mTypeError\u001b[0m                                 Traceback (most recent call last)",
      "\u001b[0;32m<ipython-input-179-23efc25f7251>\u001b[0m in \u001b[0;36m<module>\u001b[0;34m\u001b[0m\n\u001b[1;32m      1\u001b[0m \u001b[0mtuple1\u001b[0m\u001b[0;34m=\u001b[0m\u001b[0;34m(\u001b[0m\u001b[0;36m1\u001b[0m\u001b[0;34m,\u001b[0m\u001b[0;34m'a'\u001b[0m\u001b[0;34m,\u001b[0m\u001b[0;36m2\u001b[0m\u001b[0;34m,\u001b[0m\u001b[0;34m'b'\u001b[0m\u001b[0;34m,\u001b[0m\u001b[0;36m3\u001b[0m\u001b[0;34m,\u001b[0m\u001b[0;34m'c'\u001b[0m\u001b[0;34m)\u001b[0m\u001b[0;34m\u001b[0m\u001b[0;34m\u001b[0m\u001b[0m\n\u001b[0;32m----> 2\u001b[0;31m \u001b[0mtuple1\u001b[0m\u001b[0;34m[\u001b[0m\u001b[0;36m3\u001b[0m\u001b[0;34m]\u001b[0m\u001b[0;34m=\u001b[0m\u001b[0;36m10\u001b[0m\u001b[0;34m\u001b[0m\u001b[0;34m\u001b[0m\u001b[0m\n\u001b[0m\u001b[1;32m      3\u001b[0m \u001b[0mprint\u001b[0m\u001b[0;34m(\u001b[0m\u001b[0mtuple1\u001b[0m\u001b[0;34m)\u001b[0m\u001b[0;34m\u001b[0m\u001b[0;34m\u001b[0m\u001b[0m\n",
      "\u001b[0;31mTypeError\u001b[0m: 'tuple' object does not support item assignment"
     ]
    }
   ],
   "source": [
    "tuple1=(1,'a',2,'b',3,'c')\n",
    "tuple1[3]=10\n",
    "print(tuple1)"
   ]
  },
  {
   "cell_type": "code",
   "execution_count": 180,
   "metadata": {},
   "outputs": [
    {
     "ename": "SyntaxError",
     "evalue": "can't assign to function call (<ipython-input-180-25f92e3db9a7>, line 2)",
     "output_type": "error",
     "traceback": [
      "\u001b[0;36m  File \u001b[0;32m\"<ipython-input-180-25f92e3db9a7>\"\u001b[0;36m, line \u001b[0;32m2\u001b[0m\n\u001b[0;31m    tuple1(3)=10\u001b[0m\n\u001b[0m                ^\u001b[0m\n\u001b[0;31mSyntaxError\u001b[0m\u001b[0;31m:\u001b[0m can't assign to function call\n"
     ]
    }
   ],
   "source": [
    "tuple1=(1,'a',2,'b',3,'c')\n",
    "tuple1(3)=10\n",
    "print(tuple1)"
   ]
  },
  {
   "cell_type": "code",
   "execution_count": 188,
   "metadata": {
    "scrolled": true
   },
   "outputs": [
    {
     "name": "stdout",
     "output_type": "stream",
     "text": [
      "(7, 0, 0, 7, 0, 7, 1, 0, 7, 7, 7, 7, 7)\n"
     ]
    },
    {
     "ename": "TypeError",
     "evalue": "'list' object is not callable",
     "output_type": "error",
     "traceback": [
      "\u001b[0;31m---------------------------------------------------------------------------\u001b[0m",
      "\u001b[0;31mTypeError\u001b[0m                                 Traceback (most recent call last)",
      "\u001b[0;32m<ipython-input-188-74a2b74c998c>\u001b[0m in \u001b[0;36m<module>\u001b[0;34m\u001b[0m\n\u001b[1;32m      4\u001b[0m \u001b[0mjumin\u001b[0m\u001b[0;34m=\u001b[0m\u001b[0;34m(\u001b[0m\u001b[0;36m7\u001b[0m\u001b[0;34m,\u001b[0m\u001b[0;36m0\u001b[0m\u001b[0;34m,\u001b[0m\u001b[0;36m0\u001b[0m\u001b[0;34m,\u001b[0m\u001b[0;36m7\u001b[0m\u001b[0;34m,\u001b[0m\u001b[0;36m0\u001b[0m\u001b[0;34m,\u001b[0m\u001b[0;36m7\u001b[0m\u001b[0;34m,\u001b[0m\u001b[0;36m1\u001b[0m\u001b[0;34m,\u001b[0m\u001b[0;36m0\u001b[0m\u001b[0;34m,\u001b[0m\u001b[0;36m7\u001b[0m\u001b[0;34m,\u001b[0m\u001b[0;36m7\u001b[0m\u001b[0;34m,\u001b[0m\u001b[0;36m7\u001b[0m\u001b[0;34m,\u001b[0m\u001b[0;36m7\u001b[0m\u001b[0;34m,\u001b[0m\u001b[0;36m7\u001b[0m\u001b[0;34m)\u001b[0m\u001b[0;34m\u001b[0m\u001b[0;34m\u001b[0m\u001b[0m\n\u001b[1;32m      5\u001b[0m \u001b[0mprint\u001b[0m\u001b[0;34m(\u001b[0m\u001b[0mjumin\u001b[0m\u001b[0;34m)\u001b[0m\u001b[0;34m\u001b[0m\u001b[0;34m\u001b[0m\u001b[0m\n\u001b[0;32m----> 6\u001b[0;31m \u001b[0mjumin\u001b[0m\u001b[0;34m=\u001b[0m\u001b[0mlist\u001b[0m\u001b[0;34m(\u001b[0m\u001b[0mjumin\u001b[0m\u001b[0;34m)\u001b[0m\u001b[0;34m\u001b[0m\u001b[0;34m\u001b[0m\u001b[0m\n\u001b[0m\u001b[1;32m      7\u001b[0m \u001b[0mprint\u001b[0m\u001b[0;34m(\u001b[0m\u001b[0mjumin\u001b[0m\u001b[0;34m[\u001b[0m\u001b[0;36m0\u001b[0m\u001b[0;34m:\u001b[0m\u001b[0;36m6\u001b[0m\u001b[0;34m]\u001b[0m\u001b[0;34m)\u001b[0m\u001b[0;34m\u001b[0m\u001b[0;34m\u001b[0m\u001b[0m\n\u001b[1;32m      8\u001b[0m \u001b[0mjumin\u001b[0m\u001b[0;34m[\u001b[0m\u001b[0;36m6\u001b[0m\u001b[0;34m]\u001b[0m\u001b[0;34m=\u001b[0m\u001b[0;36m9\u001b[0m\u001b[0;34m\u001b[0m\u001b[0;34m\u001b[0m\u001b[0m\n",
      "\u001b[0;31mTypeError\u001b[0m: 'list' object is not callable"
     ]
    }
   ],
   "source": [
    "\n",
    "#만일 튜플의 요소를 변경해야 한다면 => 튜플을 리스트로 변환해서 수정한뒤 다시 튜플로 변환\n",
    "\n",
    "jumin=(7,0,0,7,0,7,1,0,7,7,7,7,7)\n",
    "print(jumin)\n",
    "jumin=list(jumin)\n",
    "print(jumin[0:6])\n",
    "jumin[6]=9\n",
    "jumin=tuple(jumin)\n",
    "print(jumin)"
   ]
  },
  {
   "cell_type": "code",
   "execution_count": 161,
   "metadata": {},
   "outputs": [
    {
     "name": "stdout",
     "output_type": "stream",
     "text": [
      "{1, 2, 3}\n",
      "{'o', 'W', '!', ',', ' ', 'r', 'd', 'l', 'e', 'H'}\n"
     ]
    }
   ],
   "source": [
    "#집합set\n",
    "#집합과 관련된 데이터 처리 위한 자료구조. 중복 허용x. 순서 없이 데이터 저장. 위치값 사용 불가.\n",
    "set1={1,2,3}\n",
    "print(set1)\n",
    "\n",
    "set2=set('Hello, World!!') #set화. 단, 중복된거 빼고 들어가는 문제 있음. 더불어 순서 없음. <= index로 뭔가 뽑아내는거 힘듬.\n",
    "print(set2)\n"
   ]
  },
  {
   "cell_type": "code",
   "execution_count": 168,
   "metadata": {},
   "outputs": [
    {
     "name": "stdout",
     "output_type": "stream",
     "text": [
      "{1, 2, 3}\n",
      "{'o', 'W', '!', ',', ' ', 'r', 'd', 'l', 'e', 'H'}\n"
     ]
    },
    {
     "ename": "TypeError",
     "evalue": "'list' object is not callable",
     "output_type": "error",
     "traceback": [
      "\u001b[0;31m---------------------------------------------------------------------------\u001b[0m",
      "\u001b[0;31mTypeError\u001b[0m                                 Traceback (most recent call last)",
      "\u001b[0;32m<ipython-input-168-efe58b910c24>\u001b[0m in \u001b[0;36m<module>\u001b[0;34m\u001b[0m\n\u001b[1;32m      8\u001b[0m \u001b[0;34m\u001b[0m\u001b[0m\n\u001b[1;32m      9\u001b[0m \u001b[0;31m#리스트나 튜플 변환 후 인덱싱 사용 가능\u001b[0m\u001b[0;34m\u001b[0m\u001b[0;34m\u001b[0m\u001b[0;34m\u001b[0m\u001b[0m\n\u001b[0;32m---> 10\u001b[0;31m \u001b[0mset2\u001b[0m\u001b[0;34m=\u001b[0m\u001b[0mlist\u001b[0m\u001b[0;34m(\u001b[0m\u001b[0mset2\u001b[0m\u001b[0;34m)\u001b[0m\u001b[0;34m\u001b[0m\u001b[0;34m\u001b[0m\u001b[0m\n\u001b[0m\u001b[1;32m     11\u001b[0m \u001b[0mprint\u001b[0m\u001b[0;34m(\u001b[0m\u001b[0mset2\u001b[0m\u001b[0;34m[\u001b[0m\u001b[0;36m0\u001b[0m\u001b[0;34m]\u001b[0m\u001b[0;34m)\u001b[0m\u001b[0;34m\u001b[0m\u001b[0;34m\u001b[0m\u001b[0m\n",
      "\u001b[0;31mTypeError\u001b[0m: 'list' object is not callable"
     ]
    }
   ],
   "source": [
    "#집합set\n",
    "#집합과 관련된 데이터 처리 위한 자료구조. 중복 허용x. 순서 없이 데이터 저장. 위치값 사용 불가.\n",
    "set1={1,2,3}\n",
    "print(set1)\n",
    "\n",
    "set2=set('Hello, World!!') #set화. 단, 중복된거 빼고 들어가는 문제 있음. 더불어 순서 없음. <= index로 뭔가 뽑아내는거 힘듬.\n",
    "print(set2)\n",
    "\n",
    "#리스트나 튜플 변환 후 인덱싱 사용 가능\n",
    "set2=list(set2)\n",
    "print(set2[0])"
   ]
  },
  {
   "cell_type": "code",
   "execution_count": 181,
   "metadata": {},
   "outputs": [
    {
     "ename": "TypeError",
     "evalue": "'list' object is not callable",
     "output_type": "error",
     "traceback": [
      "\u001b[0;31m---------------------------------------------------------------------------\u001b[0m",
      "\u001b[0;31mTypeError\u001b[0m                                 Traceback (most recent call last)",
      "\u001b[0;32m<ipython-input-181-96f197b8ef9e>\u001b[0m in \u001b[0;36m<module>\u001b[0;34m\u001b[0m\n\u001b[1;32m      2\u001b[0m \u001b[0;34m\u001b[0m\u001b[0m\n\u001b[1;32m      3\u001b[0m \u001b[0mlist1\u001b[0m\u001b[0;34m=\u001b[0m\u001b[0mset\u001b[0m\u001b[0;34m(\u001b[0m\u001b[0mlist1\u001b[0m\u001b[0;34m)\u001b[0m\u001b[0;34m\u001b[0m\u001b[0;34m\u001b[0m\u001b[0m\n\u001b[0;32m----> 4\u001b[0;31m \u001b[0mlist1\u001b[0m\u001b[0;34m=\u001b[0m\u001b[0mlist\u001b[0m\u001b[0;34m(\u001b[0m\u001b[0mlist1\u001b[0m\u001b[0;34m)\u001b[0m\u001b[0;34m\u001b[0m\u001b[0;34m\u001b[0m\u001b[0m\n\u001b[0m\u001b[1;32m      5\u001b[0m \u001b[0;34m\u001b[0m\u001b[0m\n\u001b[1;32m      6\u001b[0m \u001b[0mprint\u001b[0m\u001b[0;34m(\u001b[0m\u001b[0mlist1\u001b[0m\u001b[0;34m)\u001b[0m\u001b[0;34m\u001b[0m\u001b[0;34m\u001b[0m\u001b[0m\n",
      "\u001b[0;31mTypeError\u001b[0m: 'list' object is not callable"
     ]
    }
   ],
   "source": [
    "list1=[1,1,1,2,2,2,3,3,3]\n",
    "\n",
    "list1=set(list1)\n",
    "list1=list(list1)\n",
    "\n",
    "print(list1)"
   ]
  },
  {
   "cell_type": "code",
   "execution_count": 183,
   "metadata": {},
   "outputs": [
    {
     "name": "stdout",
     "output_type": "stream",
     "text": [
      "{1, 2, 6}\n",
      "{1, 2, 6}\n",
      "{1, 2, 3, 4, 5, 6, 7, 8, 9}\n",
      "{1, 2, 3, 4, 5, 6, 7, 8, 9}\n",
      "{3, 4, 5}\n",
      "{3, 4, 5}\n",
      "{8, 9, 7}\n"
     ]
    }
   ],
   "source": [
    "set1={1,2,3,4,5,6}\n",
    "set2={1,2,7,8,9,6}\n",
    "\n",
    "\n",
    "\n",
    "print(set1.intersection(set2))\n",
    "print(set1&set2)\n",
    "\n",
    "\n",
    "print(set1.union(set2))\n",
    "print(set1|set2)\n",
    "\n",
    "print(set1.difference(set2))\n",
    "print(set1-set2)\n",
    "print(set2-set1)\n",
    "\n"
   ]
  },
  {
   "cell_type": "code",
   "execution_count": 185,
   "metadata": {},
   "outputs": [
    {
     "ename": "AttributeError",
     "evalue": "'list' object has no attribute 'intersection'",
     "output_type": "error",
     "traceback": [
      "\u001b[0;31m---------------------------------------------------------------------------\u001b[0m",
      "\u001b[0;31mAttributeError\u001b[0m                            Traceback (most recent call last)",
      "\u001b[0;32m<ipython-input-185-68e90e876798>\u001b[0m in \u001b[0;36m<module>\u001b[0;34m\u001b[0m\n\u001b[1;32m      2\u001b[0m \u001b[0mlist2\u001b[0m\u001b[0;34m=\u001b[0m\u001b[0;34m[\u001b[0m\u001b[0;36m1\u001b[0m\u001b[0;34m,\u001b[0m\u001b[0;36m2\u001b[0m\u001b[0;34m,\u001b[0m\u001b[0;36m7\u001b[0m\u001b[0;34m,\u001b[0m\u001b[0;36m8\u001b[0m\u001b[0;34m,\u001b[0m\u001b[0;36m9\u001b[0m\u001b[0;34m,\u001b[0m\u001b[0;36m6\u001b[0m\u001b[0;34m]\u001b[0m\u001b[0;34m\u001b[0m\u001b[0;34m\u001b[0m\u001b[0m\n\u001b[1;32m      3\u001b[0m \u001b[0;34m\u001b[0m\u001b[0m\n\u001b[0;32m----> 4\u001b[0;31m \u001b[0mprint\u001b[0m\u001b[0;34m(\u001b[0m\u001b[0mlist1\u001b[0m\u001b[0;34m.\u001b[0m\u001b[0mintersection\u001b[0m\u001b[0;34m(\u001b[0m\u001b[0mlist2\u001b[0m\u001b[0;34m)\u001b[0m\u001b[0;34m)\u001b[0m\u001b[0;34m\u001b[0m\u001b[0;34m\u001b[0m\u001b[0m\n\u001b[0m\u001b[1;32m      5\u001b[0m \u001b[0mprint\u001b[0m\u001b[0;34m(\u001b[0m\u001b[0mlist1\u001b[0m\u001b[0;34m&\u001b[0m\u001b[0mlist2\u001b[0m\u001b[0;34m)\u001b[0m\u001b[0;34m\u001b[0m\u001b[0;34m\u001b[0m\u001b[0m\n",
      "\u001b[0;31mAttributeError\u001b[0m: 'list' object has no attribute 'intersection'"
     ]
    }
   ],
   "source": [
    "list1=[1,2,3,4,5,6]\n",
    "list2=[1,2,7,8,9,6]\n",
    "\n",
    "print(list1.intersection(list2))\n",
    "print(list1&list2)"
   ]
  },
  {
   "cell_type": "markdown",
   "metadata": {},
   "source": [
    "# 딕셔너리 dict\n",
    "#### 이름key과 값value으로 구성된 연관배열의 일종\n",
    "#### 자료생성은 {}를 이용하고, 이름값은  으로 구분해서 정의\n",
    "#### 리스트/튜플처럼 순차적으로 자료 찾지 않고 키를 통해 찾기 때문에 검색 속도 빠름\n"
   ]
  },
  {
   "cell_type": "code",
   "execution_count": null,
   "metadata": {},
   "outputs": [],
   "source": []
  },
  {
   "cell_type": "code",
   "execution_count": null,
   "metadata": {},
   "outputs": [],
   "source": []
  },
  {
   "cell_type": "code",
   "execution_count": null,
   "metadata": {},
   "outputs": [],
   "source": []
  },
  {
   "cell_type": "code",
   "execution_count": null,
   "metadata": {},
   "outputs": [],
   "source": []
  },
  {
   "cell_type": "code",
   "execution_count": null,
   "metadata": {},
   "outputs": [],
   "source": []
  },
  {
   "cell_type": "code",
   "execution_count": null,
   "metadata": {},
   "outputs": [],
   "source": []
  },
  {
   "cell_type": "code",
   "execution_count": null,
   "metadata": {},
   "outputs": [],
   "source": []
  },
  {
   "cell_type": "code",
   "execution_count": null,
   "metadata": {},
   "outputs": [],
   "source": []
  },
  {
   "cell_type": "code",
   "execution_count": null,
   "metadata": {},
   "outputs": [],
   "source": []
  },
  {
   "cell_type": "code",
   "execution_count": null,
   "metadata": {},
   "outputs": [],
   "source": []
  },
  {
   "cell_type": "code",
   "execution_count": null,
   "metadata": {},
   "outputs": [],
   "source": []
  },
  {
   "cell_type": "code",
   "execution_count": null,
   "metadata": {},
   "outputs": [],
   "source": []
  }
 ],
 "metadata": {
  "kernelspec": {
   "display_name": "Python 3",
   "language": "python",
   "name": "python3"
  },
  "language_info": {
   "codemirror_mode": {
    "name": "ipython",
    "version": 3
   },
   "file_extension": ".py",
   "mimetype": "text/x-python",
   "name": "python",
   "nbconvert_exporter": "python",
   "pygments_lexer": "ipython3",
   "version": "3.6.8"
  }
 },
 "nbformat": 4,
 "nbformat_minor": 2
}
