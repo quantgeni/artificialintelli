{
 "cells": [
  {
   "cell_type": "code",
   "execution_count": null,
   "metadata": {},
   "outputs": [],
   "source": [
    "class SungJukService:\n",
    "    def readSungJuk(self):\n",
    "        name=input('이름은? ')\n",
    "        kor=int(input('국어는? : '))\n",
    "        eng=int(input('영어는? : '))\n",
    "        mat=int(input('수학은? : '))\n",
    "        return SungJukVO(name,kor,eng,mat)\n",
    "\n",
    "    def computeSungJuk(self,sj):\n",
    "        sj.tot=sj.kor+sj.eng+sj.mat\n",
    "        sj.mean=sj.tot/5\n",
    "        if sj.mean>=90:sj.grade='A'\n",
    "        elif sj.mean>=90:sj.grade='B'\n",
    "        elif sj.mean>=90:sj.grade='C'           \n",
    "        elif sj.mean>=90:sj.grade='D'\n",
    "        else:sj.grade='F'\n",
    "        return sj.tot,sj.mean,sj.grade"
   ]
  }
 ],
 "metadata": {
  "kernelspec": {
   "display_name": "Python 3",
   "language": "python",
   "name": "python3"
  },
  "language_info": {
   "codemirror_mode": {
    "name": "ipython",
    "version": 3
   },
   "file_extension": ".py",
   "mimetype": "text/x-python",
   "name": "python",
   "nbconvert_exporter": "python",
   "pygments_lexer": "ipython3",
   "version": "3.6.8"
  }
 },
 "nbformat": 4,
 "nbformat_minor": 2
}
