{
 "cells": [
  {
   "cell_type": "code",
   "execution_count": 3,
   "metadata": {},
   "outputs": [
    {
     "name": "stdout",
     "output_type": "stream",
     "text": [
      "[1, 4, 9, 16, 25]\n"
     ]
    }
   ],
   "source": [
    "ex=[1,2,3,4,5]\n",
    "f=lambda x:x**2\n",
    "print(list(map(f,ex)))"
   ]
  },
  {
   "cell_type": "markdown",
   "metadata": {},
   "source": [
    "# OOP: Object Oriented Programming\n",
    "## 프로그램을 명령어들의 단순 그룹체라고 보는 시각에서 벗어나,\n",
    "## '하나의 독립된 객체들의 모음'이라고 보는 시각에 근거해서 프로그래밍하는 패러다임\n",
    "\n",
    "## 프로그램을 보다 유연하게 작성할 수 있고, 프로그램 코드의 재사용성을 높일 수 있음.\n",
    "### => 대규모 소프트웨어 개발 시 유지보수가 용이해짐\n",
    "\n",
    "## 프로그램의 각 구성요소를 실제 세계의 객체와 유사하게 디자인해서 (추상화)\n",
    "## 클래스를 정의하는 것에 중점을 둠"
   ]
  },
  {
   "cell_type": "code",
   "execution_count": 8,
   "metadata": {},
   "outputs": [
    {
     "name": "stdout",
     "output_type": "stream",
     "text": [
      "이름은? : 손담비\n",
      "국어점수는? : 99\n",
      "영어점수는? : 97\n",
      "수학점수는? : 92\n",
      "입력=> 이름:손담비 국어:99 영어:97 수학:92\n",
      "결과=> 총점:288 평균:96 학점:수\n"
     ]
    }
   ],
   "source": [
    "#성적처리프로그램. 이름 국어 영어 수학 입력 시 총점,형균,학점 출력 => 관련 명령어들을 단순 나열하듯이 프로그래밍\n",
    "\n",
    "#입력처리\n",
    "name=input('이름은? : ')\n",
    "kor=int(input('국어점수는? : '))\n",
    "eng=int(input('영어점수는? : '))\n",
    "mat=int(input('수학점수는? : '))\n",
    "\n",
    "#성적처리\n",
    "tot=kor+eng+mat\n",
    "mean=tot/3\n",
    "grd='가'\n",
    "if mean>=90:grd='수'\n",
    "elif mean>=80:grd='우'\n",
    "elif mean>=70:grd='미'\n",
    "elif mean>=60:grd='양'\n",
    "else:grd='공부좀해'\n",
    "\n",
    "#결과출력\n",
    "print('입력=> 이름:%s 국어:%d 영어:%d 수학:%d' %(name,kor,eng,mat))\n",
    "print('결과=> 총점:%d 평균:%1.f 학점:%s' %(tot,mean,grd))"
   ]
  },
  {
   "cell_type": "code",
   "execution_count": 11,
   "metadata": {},
   "outputs": [
    {
     "name": "stdout",
     "output_type": "stream",
     "text": [
      "이름은? : 손담비\n",
      "국어점수는? : 99\n",
      "영어점수는? : 98\n",
      "수학점수는? : 97\n",
      "입력=> 이름:손담비 국어:99 영어:98 수학:97\n",
      "결과=> 총점:294 평균:98 학점:수\n"
     ]
    }
   ],
   "source": [
    "#성적처리프로그램II\n",
    "#함수기반\n",
    "\n",
    "#def SungJukProgram():\n",
    "#    pass\n",
    "#함수에 너무 많은 기능 부여x. 함수에 하나의 기능만 부여하도록 프로그래밍\n",
    "\n",
    "def readSungJuk(): #성적 데이터 입력받음\n",
    "    name=input('이름은? : ')\n",
    "    kor=int(input('국어점수는? : '))\n",
    "    eng=int(input('영어점수는? : '))\n",
    "    mat=int(input('수학점수는? : '))\n",
    "    return name,kor,eng,mat #return 잊지 말 것!\n",
    "\n",
    "def computeSungJuk(kor,eng,mat): #성적처리\n",
    "    tot=kor+eng+mat\n",
    "    mean=tot/3\n",
    "    grd='가'\n",
    "    if mean>=90:grd='수'\n",
    "    elif mean>=80:grd='우'\n",
    "    elif mean>=70:grd='미'\n",
    "    elif mean>=60:grd='양'\n",
    "    else:grd='공부좀해'\n",
    "    return tot,mean,grd\n",
    "\n",
    "def printSungJuk():\n",
    "    print('입력=> 이름:%s 국어:%d 영어:%d 수학:%d' %(name,kor,eng,mat))\n",
    "    print('결과=> 총점:%d 평균:%1.f 학점:%s' %(tot,mean,grd))\n",
    "\n",
    "\n",
    "name,kor,eng,mat=readSungJuk()\n",
    "tot,mean,grd=computeSungJuk(kor,eng,mat)\n",
    "printSungJuk()"
   ]
  },
  {
   "cell_type": "code",
   "execution_count": 12,
   "metadata": {},
   "outputs": [
    {
     "name": "stdout",
     "output_type": "stream",
     "text": [
      "이름은? : 손담비\n",
      "국어점수는? : 98\n",
      "영어점수는? : 99\n",
      "수학점수는? : 90\n",
      "입력=> 이름:손담비 국어:98 영어:99 수학:90\n",
      "결과=> 총점:287 평균:96 학점:수\n"
     ]
    }
   ],
   "source": [
    "#성적처리프로그램II\n",
    "#함수기반\n",
    "\n",
    "#def SungJukProgram():\n",
    "#    pass\n",
    "#함수에 너무 많은 기능 부여x. 함수에 하나의 기능만 부여하도록 프로그래밍\n",
    "\n",
    "def readSungJuk(): #성적 데이터 입력받음\n",
    "    name=input('이름은? : ')\n",
    "    kor=int(input('국어점수는? : '))\n",
    "    eng=int(input('영어점수는? : '))\n",
    "    mat=int(input('수학점수는? : '))\n",
    "    return name,kor,eng,mat #return 잊지 말 것!\n",
    "\n",
    "def computeSungJuk(kor,eng,mat): #성적처리\n",
    "    tot=kor+eng+mat\n",
    "    mean=tot/3\n",
    "    grd='가'\n",
    "    if mean>=90:grd='수'\n",
    "    elif mean>=80:grd='우'\n",
    "    elif mean>=70:grd='미'\n",
    "    elif mean>=60:grd='양'\n",
    "    else:grd='공부좀해'\n",
    "    return tot,mean,grd\n",
    "\n",
    "def printSungJuk(name,kor,eng,mat,tot,mean,grd):\n",
    "    print('입력=> 이름:%s 국어:%d 영어:%d 수학:%d' %(name,kor,eng,mat))\n",
    "    print('결과=> 총점:%d 평균:%1.f 학점:%s' %(tot,mean,grd))\n",
    "\n",
    "\n",
    "name,kor,eng,mat=readSungJuk()\n",
    "tot,mean,grd=computeSungJuk(kor,eng,mat)\n",
    "printSungJuk(name,kor,eng,mat,tot,mean,grd)\n",
    "\n",
    "#각 기능별 세분화. 함수 정의하고 모듈로 작성함. => divide and conquer\n",
    "#함수 호출 시 매개변수 지정이 불편. 함수와 관련된 변수가 많아지면 관리가 어려움"
   ]
  },
  {
   "cell_type": "code",
   "execution_count": 43,
   "metadata": {},
   "outputs": [
    {
     "name": "stdout",
     "output_type": "stream",
     "text": [
      "black\n",
      "red\n",
      "black\n",
      "speed up!\n",
      "speed up!\n",
      "speed down!\n",
      "speed down!\n",
      "<__main__.Car2 object at 0x7effe6c65b00> red sports car\n"
     ]
    }
   ],
   "source": [
    "#성적처리프로그램III\n",
    "#OOP 기반 프로그래밍\n",
    "# 함수들과 관련 번수들을 하나로 묶음\n",
    "\n",
    "class SungJukVO(): #변수들로 구성된 클래스\n",
    "    pass\n",
    "    \n",
    "class SungJukDAO(): #method(함수)들로구성된 클래스\n",
    "    pass\n",
    "#클래스 정의\n",
    "#class 클래스 이름():\n",
    "#  멤버변수 정의\n",
    "#  메서드 정의\n",
    "class SungJuk():\n",
    "    pass\n",
    "\n",
    "#색상, 속도라는 '변수'와 속도올리기, 속도내리기라는 '기능'이 포함된 클래스 Car 정의하기\n",
    "class Car(): #괄호 빼도 됨\n",
    "    color='black' #색상\n",
    "    speed=0 #속도\n",
    "    \n",
    "    def spup(self): #속도 업\n",
    "        print('speed up!')\n",
    "    def spdn(self): #속도 다운\n",
    "        print('speed down!')\n",
    "    \n",
    "#클래스에 대한 변수를 생성하고 사용하기\n",
    "#객체변수명=클래스명()\n",
    "#객체변수명.멤버변수명\n",
    "#객체변수명.메서드명()\n",
    "#클래스 정의 => 현실세계 사물을 컴퓨터 프로그램에서 다루기 위해 추상화해서 만든 결과물 => 설계도, 틀\n",
    "#자바Java에서 자료형. 자바에서 변수 선언 시 '자료형 변수명' 형태 사용.\n",
    "#int kor,eng,mat,tot\n",
    "#float mean\n",
    "#char grd 글자 1자\n",
    "#str\n",
    "#위 예처럼 변수 하나에는 값 하나만 저장할 수 있음\n",
    "\n",
    "redcar=Car()\n",
    "print(redcar.color)\n",
    "redcar.color='red'\n",
    "print(redcar.color)\n",
    "print(Car().color) #이건 여전히 black (redcar는 전역변수..)\n",
    "\n",
    "redcar.spup()\n",
    "Car().spup()\n",
    "redcar.spdn()\n",
    "Car().spdn()\n",
    "\n",
    "greencar=Car()\n",
    "greencar.color='green'\n",
    "bluecar=Car()\n",
    "bluecar.color='blue'  \n",
    "\n",
    "#변수에 하나 이상 값 저장하려면? String name, String[] names\n",
    "#동일한 유형 여러개 값 저장함\n",
    "\n",
    "#변수에 값들 뿐 아니라 함수들도 저장하려면? => 클래스 자료형 사용\n",
    "#클래스 => 사용자가 직접 만드는 사용자 정의 자료형\n",
    "\n",
    "#class SungJuk\n",
    "#SungJuk sj (SungJuk형 변수name정의) // SungJuk도 int, float과 같은 내장형 데이터타입과 같이 데이터타입이되 내장형이 아닌 \n",
    "#user-customed datatype => class type의 핵심\n",
    "\n",
    "#클래스를 이용한 객체를 선언하고 변수에 값을 대입하는 것은 다소 불편함.\n",
    "#따라서 객체 선언시 해당변수에 값 대입하는 것이 편할 수 있음\n",
    "\n",
    "class Car2:\n",
    "    #생성자 constructor\n",
    "    #객체 생성시 사용하는 함수\n",
    "    #매직함수:클래스 정의 시 기본적으로 제공되는 특수 함수들 (보통 __로 시작)\n",
    "    def __init__(self,color,speed,size,wheels):\n",
    "        self.color=color\n",
    "        self.speed=speed\n",
    "        self.size=size\n",
    "        self.wheels=wheels\n",
    "        \n",
    "#객체 생성 및 초기화 \n",
    "redcar=Car2('red','280','sports car','4')\n",
    "print(redcar,redcar.color,redcar.size)"
   ]
  },
  {
   "cell_type": "code",
   "execution_count": 35,
   "metadata": {},
   "outputs": [
    {
     "name": "stdout",
     "output_type": "stream",
     "text": [
      "[1, 2, 3, '가']\n"
     ]
    }
   ],
   "source": [
    "a=[1,2,3,'가']\n",
    "print(a)"
   ]
  },
  {
   "cell_type": "code",
   "execution_count": 47,
   "metadata": {},
   "outputs": [
    {
     "name": "stdout",
     "output_type": "stream",
     "text": [
      "<__main__.Car2b object at 0x7effe6c78240>\n",
      " \n"
     ]
    }
   ],
   "source": [
    "class Car2b:\n",
    "    #생성자 constructor\n",
    "    #객체 생성시 사용하는 함수\n",
    "    def __init__(self):\n",
    "        self.color=''\n",
    "        self.speed=''\n",
    "        self.size=''\n",
    "        self.wheels=''\n",
    "        \n",
    "    #객체 생성 및 초기화\n",
    "    \n",
    "redcar=Car2b()\n",
    "print(redcar)\n",
    "print(redcar.color,redcar.size)"
   ]
  },
  {
   "cell_type": "code",
   "execution_count": 46,
   "metadata": {},
   "outputs": [
    {
     "name": "stdout",
     "output_type": "stream",
     "text": [
      "<__main__.Car2b object at 0x7effe6c786a0>\n",
      "red sports car\n"
     ]
    }
   ],
   "source": [
    "class Car2c:\n",
    "    #생성자 constructor\n",
    "    #객체 생성시 사용하는 함수\n",
    "    def __init__(self):\n",
    "        self.color=''\n",
    "        self.speed=''\n",
    "        self.size=''\n",
    "        self.wheels=''\n",
    "        \n",
    "#캡슐화 위배!\n",
    "redcar=Car2b()\n",
    "redcar.color='red'\n",
    "redcar.speed='280'\n",
    "redcar.size='sports car'\n",
    "redcar.wheels='4'\n",
    "print(redcar)\n",
    "print(redcar.color,redcar.size)\n",
    "#클래스의 멤버변수를 출력하는 것이 불편!"
   ]
  },
  {
   "cell_type": "code",
   "execution_count": 56,
   "metadata": {},
   "outputs": [
    {
     "name": "stdout",
     "output_type": "stream",
     "text": [
      "red 280 sports car 4\n"
     ]
    }
   ],
   "source": [
    "class Car2d:\n",
    "    #생성자 매직함수\n",
    "    def __init__(hi,color,speed,size,wheels):\n",
    "        hi.color=color\n",
    "        hi.speed=speed\n",
    "        hi.size=size\n",
    "        hi.wheels=wheels\n",
    "        \n",
    "    def __str__(hi):\n",
    "        msg='%s %s %s %s'%(hi.color,hi.speed,hi.size,hi.wheels)\n",
    "        return msg\n",
    "\n",
    "redcar=Car2d('red','280','sports car','4')\n",
    "print(redcar)"
   ]
  },
  {
   "cell_type": "code",
   "execution_count": 53,
   "metadata": {},
   "outputs": [
    {
     "ename": "TypeError",
     "evalue": "__init__() missing 4 required positional arguments: 'color', 'speed', 'size', and 'wheels'",
     "output_type": "error",
     "traceback": [
      "\u001b[0;31m---------------------------------------------------------------------------\u001b[0m",
      "\u001b[0;31mTypeError\u001b[0m                                 Traceback (most recent call last)",
      "\u001b[0;32m<ipython-input-53-4846cd4047b9>\u001b[0m in \u001b[0;36m<module>\u001b[0;34m\u001b[0m\n\u001b[1;32m     11\u001b[0m         \u001b[0;32mreturn\u001b[0m \u001b[0mmsg\u001b[0m\u001b[0;34m\u001b[0m\u001b[0;34m\u001b[0m\u001b[0m\n\u001b[1;32m     12\u001b[0m \u001b[0;34m\u001b[0m\u001b[0m\n\u001b[0;32m---> 13\u001b[0;31m \u001b[0mredcar\u001b[0m\u001b[0;34m=\u001b[0m\u001b[0mCar2d\u001b[0m\u001b[0;34m(\u001b[0m\u001b[0;34m)\u001b[0m\u001b[0;34m\u001b[0m\u001b[0;34m\u001b[0m\u001b[0m\n\u001b[0m",
      "\u001b[0;31mTypeError\u001b[0m: __init__() missing 4 required positional arguments: 'color', 'speed', 'size', and 'wheels'"
     ]
    }
   ],
   "source": [
    "class Car2d:\n",
    "    #생성자 매직함수\n",
    "    def __init__(hi,color,speed,size,wheels):\n",
    "        self.color=color\n",
    "        self.speed=speed\n",
    "        self.size=size\n",
    "        self.wheels=wheels\n",
    "        \n",
    "    def __str__(self):\n",
    "        msg='%s %s %s %s'%(self.color,self.speed,self.size,self.wheels)\n",
    "        return msg\n",
    "\n",
    "redcar=Car2d()"
   ]
  },
  {
   "cell_type": "code",
   "execution_count": 61,
   "metadata": {},
   "outputs": [
    {
     "name": "stdout",
     "output_type": "stream",
     "text": [
      "100\n",
      "Steven King\n"
     ]
    },
    {
     "ename": "AttributeError",
     "evalue": "'str' object has no attribute 'self'",
     "output_type": "error",
     "traceback": [
      "\u001b[0;31m---------------------------------------------------------------------------\u001b[0m",
      "\u001b[0;31mAttributeError\u001b[0m                            Traceback (most recent call last)",
      "\u001b[0;32m<ipython-input-61-568a9583eb7b>\u001b[0m in \u001b[0;36m<module>\u001b[0;34m\u001b[0m\n\u001b[1;32m     23\u001b[0m \u001b[0mprint\u001b[0m\u001b[0;34m(\u001b[0m\u001b[0memp1\u001b[0m\u001b[0;34m.\u001b[0m\u001b[0mempid\u001b[0m\u001b[0;34m)\u001b[0m\u001b[0;34m\u001b[0m\u001b[0;34m\u001b[0m\u001b[0m\n\u001b[1;32m     24\u001b[0m \u001b[0mprint\u001b[0m\u001b[0;34m(\u001b[0m\u001b[0memp1\u001b[0m\u001b[0;34m.\u001b[0m\u001b[0mfname\u001b[0m\u001b[0;34m,\u001b[0m\u001b[0memp1\u001b[0m\u001b[0;34m.\u001b[0m\u001b[0mlname\u001b[0m\u001b[0;34m)\u001b[0m\u001b[0;34m\u001b[0m\u001b[0;34m\u001b[0m\u001b[0m\n\u001b[0;32m---> 25\u001b[0;31m \u001b[0mprint\u001b[0m\u001b[0;34m(\u001b[0m\u001b[0memp1\u001b[0m\u001b[0;34m)\u001b[0m\u001b[0;34m\u001b[0m\u001b[0;34m\u001b[0m\u001b[0m\n\u001b[0m\u001b[1;32m     26\u001b[0m \u001b[0;34m\u001b[0m\u001b[0m\n",
      "\u001b[0;32m<ipython-input-61-568a9583eb7b>\u001b[0m in \u001b[0;36m__str__\u001b[0;34m(self)\u001b[0m\n\u001b[1;32m     16\u001b[0m         \u001b[0mself\u001b[0m\u001b[0;34m.\u001b[0m\u001b[0mdeptid\u001b[0m\u001b[0;34m=\u001b[0m\u001b[0mdeptid\u001b[0m\u001b[0;34m\u001b[0m\u001b[0;34m\u001b[0m\u001b[0m\n\u001b[1;32m     17\u001b[0m     \u001b[0;32mdef\u001b[0m \u001b[0m__str__\u001b[0m\u001b[0;34m(\u001b[0m\u001b[0mself\u001b[0m\u001b[0;34m)\u001b[0m\u001b[0;34m:\u001b[0m \u001b[0;31m#클래스 내 모든 변수를 tostring화 시키는거!\u001b[0m\u001b[0;34m\u001b[0m\u001b[0;34m\u001b[0m\u001b[0m\n\u001b[0;32m---> 18\u001b[0;31m         \u001b[0mmsg\u001b[0m\u001b[0;34m=\u001b[0m\u001b[0;34m'%s,%s,%s,%s,%s,%s,%s,%s,%s,%s,%s,%s'\u001b[0m \u001b[0;34m%\u001b[0m\u001b[0;34m(\u001b[0m\u001b[0mself\u001b[0m\u001b[0;34m.\u001b[0m\u001b[0mempid\u001b[0m\u001b[0;34m,\u001b[0m\u001b[0mself\u001b[0m\u001b[0;34m.\u001b[0m\u001b[0mfname\u001b[0m\u001b[0;34m,\u001b[0m\u001b[0mself\u001b[0m\u001b[0;34m.\u001b[0m\u001b[0mlname\u001b[0m\u001b[0;34m,\u001b[0m\u001b[0mself\u001b[0m\u001b[0;34m.\u001b[0m\u001b[0memail\u001b[0m\u001b[0;34m,\u001b[0m\u001b[0mself\u001b[0m\u001b[0;34m.\u001b[0m\u001b[0mphone\u001b[0m\u001b[0;34m,\u001b[0m\u001b[0mself\u001b[0m\u001b[0;34m.\u001b[0m\u001b[0mhdata\u001b[0m\u001b[0;34m,\u001b[0m\u001b[0mself\u001b[0m\u001b[0;34m.\u001b[0m\u001b[0mjobid\u001b[0m\u001b[0;34m,\u001b[0m\u001b[0mself\u001b[0m\u001b[0;34m.\u001b[0m\u001b[0msal\u001b[0m\u001b[0;34m,\u001b[0m\u001b[0mself\u001b[0m\u001b[0;34m.\u001b[0m\u001b[0mcomm\u001b[0m\u001b[0;34m,\u001b[0m\u001b[0mself\u001b[0m\u001b[0;34m.\u001b[0m\u001b[0mmgrid\u001b[0m\u001b[0;34m.\u001b[0m\u001b[0mself\u001b[0m\u001b[0;34m.\u001b[0m\u001b[0mdeptid\u001b[0m\u001b[0;34m)\u001b[0m\u001b[0;34m\u001b[0m\u001b[0;34m\u001b[0m\u001b[0m\n\u001b[0m\u001b[1;32m     19\u001b[0m         \u001b[0;32mreturn\u001b[0m \u001b[0mmsg\u001b[0m\u001b[0;34m\u001b[0m\u001b[0;34m\u001b[0m\u001b[0m\n\u001b[1;32m     20\u001b[0m \u001b[0;34m\u001b[0m\u001b[0m\n",
      "\u001b[0;31mAttributeError\u001b[0m: 'str' object has no attribute 'self'"
     ]
    }
   ],
   "source": [
    "#Employee.csv 파일의 각 행을 저장하는 클래스 Employees를 작성하세요\n",
    "#empid, fname, lname, email, phone, hdata, jobid, sal, comm, mgrid, deptid\n",
    "\n",
    "class Employees:\n",
    "    def __init__(self, empid, fname, lname, email, phone, hdata, jobid, sal, comm, mgrid, deptid):\n",
    "        self.empid=empid\n",
    "        self.fname=fname\n",
    "        self.lname=lname\n",
    "        self.email=email         \n",
    "        self.phone=phone\n",
    "        self.hdata=hdata\n",
    "        self.jobid=jobid\n",
    "        self.sal=sal\n",
    "        self.comm=comm\n",
    "        self.mgrid=mgrid\n",
    "        self.deptid=deptid\n",
    "    def __str__(self): #클래스 내 모든 변수를 tostring화 시키는거!\n",
    "        msg='%s,%s,%s,%s,%s,%s,%s,%s,%s,%s,%s,%s' %(self.empid,self.fname,self.lname,self.email,self.phone,self.hdata,self.jobid,self.sal,self.comm,self.mgrid.self.deptid)\n",
    "        return msg\n",
    "\n",
    "emp1=Employees('100','Steven','King','SKING','515.123.4567','2003-06-17','AD_PRES','24000','0','100','90')\n",
    "\n",
    "print(emp1.empid)\n",
    "print(emp1.fname,emp1.lname)\n",
    "print(emp1)\n",
    "    "
   ]
  },
  {
   "cell_type": "code",
   "execution_count": null,
   "metadata": {},
   "outputs": [],
   "source": [
    "#iris.csv 파일의 각 행을 저장하는 클래스 Iris를 작성하세요\n",
    "#slength,swidth,plength,pwidth,spes\n",
    "\n",
    "\n",
    "\n",
    "class Iris:\n",
    "    def __init__(self,):\n",
    "        \n",
    "    def __str__(self):\n",
    "        msg='%s,%s,%s,%s,%s' %(self.slength,self.swidth,self.plength.self.pwidth,self.spes)\n",
    "        return msg\n",
    "\n",
    "\n",
    "\n",
    "print(emp1.empid)\n",
    "print(emp1.fname,emp1.lname)\n",
    "print(emp1)"
   ]
  },
  {
   "cell_type": "code",
   "execution_count": 52,
   "metadata": {},
   "outputs": [
    {
     "ename": "NameError",
     "evalue": "name 'color' is not defined",
     "output_type": "error",
     "traceback": [
      "\u001b[0;31m---------------------------------------------------------------------------\u001b[0m",
      "\u001b[0;31mNameError\u001b[0m                                 Traceback (most recent call last)",
      "\u001b[0;32m<ipython-input-52-e1e28a7f5f0b>\u001b[0m in \u001b[0;36m<module>\u001b[0;34m\u001b[0m\n\u001b[1;32m     12\u001b[0m \u001b[0;34m\u001b[0m\u001b[0m\n\u001b[1;32m     13\u001b[0m \u001b[0mredcar\u001b[0m\u001b[0;34m=\u001b[0m\u001b[0mCar2d\u001b[0m\u001b[0;34m(\u001b[0m\u001b[0;34m'red'\u001b[0m\u001b[0;34m,\u001b[0m\u001b[0;34m'280'\u001b[0m\u001b[0;34m,\u001b[0m\u001b[0;34m'sports car'\u001b[0m\u001b[0;34m,\u001b[0m\u001b[0;34m'4'\u001b[0m\u001b[0;34m)\u001b[0m\u001b[0;34m\u001b[0m\u001b[0;34m\u001b[0m\u001b[0m\n\u001b[0;32m---> 14\u001b[0;31m \u001b[0mprint\u001b[0m\u001b[0;34m(\u001b[0m\u001b[0mredcar\u001b[0m\u001b[0;34m)\u001b[0m\u001b[0;34m\u001b[0m\u001b[0;34m\u001b[0m\u001b[0m\n\u001b[0m",
      "\u001b[0;32m<ipython-input-52-e1e28a7f5f0b>\u001b[0m in \u001b[0;36m__str__\u001b[0;34m(self)\u001b[0m\n\u001b[1;32m      8\u001b[0m \u001b[0;34m\u001b[0m\u001b[0m\n\u001b[1;32m      9\u001b[0m     \u001b[0;32mdef\u001b[0m \u001b[0m__str__\u001b[0m\u001b[0;34m(\u001b[0m\u001b[0mself\u001b[0m\u001b[0;34m)\u001b[0m\u001b[0;34m:\u001b[0m\u001b[0;34m\u001b[0m\u001b[0;34m\u001b[0m\u001b[0m\n\u001b[0;32m---> 10\u001b[0;31m         \u001b[0mmsg\u001b[0m\u001b[0;34m=\u001b[0m\u001b[0;34m'%s %s %s %s'\u001b[0m\u001b[0;34m%\u001b[0m\u001b[0;34m(\u001b[0m\u001b[0mcolor\u001b[0m\u001b[0;34m,\u001b[0m\u001b[0mspeed\u001b[0m\u001b[0;34m,\u001b[0m\u001b[0msize\u001b[0m\u001b[0;34m,\u001b[0m\u001b[0mwheels\u001b[0m\u001b[0;34m)\u001b[0m\u001b[0;34m\u001b[0m\u001b[0;34m\u001b[0m\u001b[0m\n\u001b[0m\u001b[1;32m     11\u001b[0m         \u001b[0;32mreturn\u001b[0m \u001b[0mmsg\u001b[0m\u001b[0;34m\u001b[0m\u001b[0;34m\u001b[0m\u001b[0m\n\u001b[1;32m     12\u001b[0m \u001b[0;34m\u001b[0m\u001b[0m\n",
      "\u001b[0;31mNameError\u001b[0m: name 'color' is not defined"
     ]
    }
   ],
   "source": [
    "class Car2d:\n",
    "    #생성자 매직함수\n",
    "    def __init__(self,color,speed,size,wheels):\n",
    "        color=color\n",
    "        speed=speed\n",
    "        size=size\n",
    "        wheels=wheels\n",
    "        \n",
    "    def __str__(self):\n",
    "        msg='%s %s %s %s'%(color,speed,size,wheels)\n",
    "        return msg\n",
    "\n",
    "redcar=Car2d('red','280','sports car','4')\n",
    "print(redcar)"
   ]
  },
  {
   "cell_type": "code",
   "execution_count": 66,
   "metadata": {},
   "outputs": [
    {
     "name": "stdout",
     "output_type": "stream",
     "text": [
      "수지,98,87,75\n",
      "지현,98,87,75\n",
      "139637549881720\n"
     ]
    },
    {
     "ename": "TypeError",
     "evalue": "__init__() missing 4 required positional arguments: 'name', 'kor', 'eng', and 'mat'",
     "output_type": "error",
     "traceback": [
      "\u001b[0;31m---------------------------------------------------------------------------\u001b[0m",
      "\u001b[0;31mTypeError\u001b[0m                                 Traceback (most recent call last)",
      "\u001b[0;32m<ipython-input-66-4da9374f251c>\u001b[0m in \u001b[0;36m<module>\u001b[0;34m\u001b[0m\n\u001b[1;32m     18\u001b[0m \u001b[0;34m\u001b[0m\u001b[0m\n\u001b[1;32m     19\u001b[0m \u001b[0mprint\u001b[0m\u001b[0;34m(\u001b[0m\u001b[0mid\u001b[0m\u001b[0;34m(\u001b[0m\u001b[0msj1\u001b[0m\u001b[0;34m.\u001b[0m\u001b[0mname\u001b[0m\u001b[0;34m)\u001b[0m\u001b[0;34m)\u001b[0m\u001b[0;34m\u001b[0m\u001b[0;34m\u001b[0m\u001b[0m\n\u001b[0;32m---> 20\u001b[0;31m \u001b[0mprint\u001b[0m\u001b[0;34m(\u001b[0m\u001b[0mid\u001b[0m\u001b[0;34m(\u001b[0m\u001b[0mSungJuk\u001b[0m\u001b[0;34m(\u001b[0m\u001b[0;34m)\u001b[0m\u001b[0;34m.\u001b[0m\u001b[0mname\u001b[0m\u001b[0;34m)\u001b[0m\u001b[0;34m)\u001b[0m\u001b[0;34m\u001b[0m\u001b[0;34m\u001b[0m\u001b[0m\n\u001b[0m",
      "\u001b[0;31mTypeError\u001b[0m: __init__() missing 4 required positional arguments: 'name', 'kor', 'eng', and 'mat'"
     ]
    }
   ],
   "source": [
    "#성적프로그램\n",
    "\n",
    "class SungJuk:\n",
    "    def __init__(self,name,kor,eng,mat):\n",
    "        self.name=name\n",
    "        self.kor=kor\n",
    "        self.eng=eng\n",
    "        self.mat=mat\n",
    "    def __str__(self):\n",
    "        msg='%s,%s,%s,%s' %(self.name,self.kor,self.eng,self.mat)\n",
    "        return msg\n",
    "    \n",
    "sj1=SungJuk('수지',98,87,75)\n",
    "print(sj1)\n",
    "\n",
    "sj1.name='지현'\n",
    "print(sj1)\n",
    "\n"
   ]
  },
  {
   "cell_type": "code",
   "execution_count": 79,
   "metadata": {},
   "outputs": [
    {
     "name": "stdout",
     "output_type": "stream",
     "text": [
      "이름?: 홍길동\n",
      "국성?: 95\n",
      "영성?: 95\n",
      "수성?: 59\n",
      "홍길동,95,95,59,249,83.0,우\n"
     ]
    }
   ],
   "source": [
    "class SungJuk:\n",
    "    def __init__(self,name,kor,eng,mat):\n",
    "        self.name=name\n",
    "        self.kor=kor\n",
    "        self.eng=eng\n",
    "        self.mat=mat\n",
    "    def __str__(self):\n",
    "        msg='%s,%s,%s,%s,%d,%.1f,%s' %(self.name,self.kor,self.eng,self.mat,self.tot,self.mean,self.grd)\n",
    "        return msg\n",
    "    def computeSungJuk(self):\n",
    "        self.tot=self.kor+self.eng+self.mat\n",
    "        self.mean=self.tot/3\n",
    "        self.grd='가'\n",
    "        if self.mean>=90:self.grd='수'\n",
    "        elif self.mean>=80:self.grd='우'\n",
    "        elif self.mean>=70:self.grd='미'\n",
    "        elif self.mean>=60:self.grd='양'\n",
    "        else:self.grd='공부좀해'\n",
    "\n",
    "\n",
    "name=input('이름?: ') \n",
    "kor=int(input('국성?: '))\n",
    "eng=int(input('영성?: '))\n",
    "mat=int(input('수성?: '))\n",
    "\n",
    "sj=SungJuk(name,kor,eng,mat)\n",
    "sj.computeSungJuk()\n",
    "print(sj)"
   ]
  },
  {
   "cell_type": "code",
   "execution_count": 80,
   "metadata": {},
   "outputs": [
    {
     "name": "stdout",
     "output_type": "stream",
     "text": [
      "이름?: 홍길동\n",
      "국성?: 98\n",
      "영성?: 97\n",
      "수성?: 95\n"
     ]
    },
    {
     "ename": "AttributeError",
     "evalue": "'SungJuk' object has no attribute 'tot'",
     "output_type": "error",
     "traceback": [
      "\u001b[0;31m---------------------------------------------------------------------------\u001b[0m",
      "\u001b[0;31mAttributeError\u001b[0m                            Traceback (most recent call last)",
      "\u001b[0;32m<ipython-input-80-dbe8d1805b89>\u001b[0m in \u001b[0;36m<module>\u001b[0;34m\u001b[0m\n\u001b[1;32m     26\u001b[0m \u001b[0msj\u001b[0m\u001b[0;34m=\u001b[0m\u001b[0mSungJuk\u001b[0m\u001b[0;34m(\u001b[0m\u001b[0mname\u001b[0m\u001b[0;34m,\u001b[0m\u001b[0mkor\u001b[0m\u001b[0;34m,\u001b[0m\u001b[0meng\u001b[0m\u001b[0;34m,\u001b[0m\u001b[0mmat\u001b[0m\u001b[0;34m)\u001b[0m\u001b[0;34m\u001b[0m\u001b[0;34m\u001b[0m\u001b[0m\n\u001b[1;32m     27\u001b[0m \u001b[0;31m#sj.computeSungJuk()\u001b[0m\u001b[0;34m\u001b[0m\u001b[0;34m\u001b[0m\u001b[0;34m\u001b[0m\u001b[0m\n\u001b[0;32m---> 28\u001b[0;31m \u001b[0mprint\u001b[0m\u001b[0;34m(\u001b[0m\u001b[0msj\u001b[0m\u001b[0;34m)\u001b[0m\u001b[0;34m\u001b[0m\u001b[0;34m\u001b[0m\u001b[0m\n\u001b[0m",
      "\u001b[0;32m<ipython-input-80-dbe8d1805b89>\u001b[0m in \u001b[0;36m__str__\u001b[0;34m(self)\u001b[0m\n\u001b[1;32m      6\u001b[0m         \u001b[0mself\u001b[0m\u001b[0;34m.\u001b[0m\u001b[0mmat\u001b[0m\u001b[0;34m=\u001b[0m\u001b[0mmat\u001b[0m\u001b[0;34m\u001b[0m\u001b[0;34m\u001b[0m\u001b[0m\n\u001b[1;32m      7\u001b[0m     \u001b[0;32mdef\u001b[0m \u001b[0m__str__\u001b[0m\u001b[0;34m(\u001b[0m\u001b[0mself\u001b[0m\u001b[0;34m)\u001b[0m\u001b[0;34m:\u001b[0m\u001b[0;34m\u001b[0m\u001b[0;34m\u001b[0m\u001b[0m\n\u001b[0;32m----> 8\u001b[0;31m         \u001b[0mmsg\u001b[0m\u001b[0;34m=\u001b[0m\u001b[0;34m'%s,%s,%s,%s,%d,%.1f,%s'\u001b[0m \u001b[0;34m%\u001b[0m\u001b[0;34m(\u001b[0m\u001b[0mself\u001b[0m\u001b[0;34m.\u001b[0m\u001b[0mname\u001b[0m\u001b[0;34m,\u001b[0m\u001b[0mself\u001b[0m\u001b[0;34m.\u001b[0m\u001b[0mkor\u001b[0m\u001b[0;34m,\u001b[0m\u001b[0mself\u001b[0m\u001b[0;34m.\u001b[0m\u001b[0meng\u001b[0m\u001b[0;34m,\u001b[0m\u001b[0mself\u001b[0m\u001b[0;34m.\u001b[0m\u001b[0mmat\u001b[0m\u001b[0;34m,\u001b[0m\u001b[0mself\u001b[0m\u001b[0;34m.\u001b[0m\u001b[0mtot\u001b[0m\u001b[0;34m,\u001b[0m\u001b[0mself\u001b[0m\u001b[0;34m.\u001b[0m\u001b[0mmean\u001b[0m\u001b[0;34m,\u001b[0m\u001b[0mself\u001b[0m\u001b[0;34m.\u001b[0m\u001b[0mgrd\u001b[0m\u001b[0;34m)\u001b[0m\u001b[0;34m\u001b[0m\u001b[0;34m\u001b[0m\u001b[0m\n\u001b[0m\u001b[1;32m      9\u001b[0m         \u001b[0;32mreturn\u001b[0m \u001b[0mmsg\u001b[0m\u001b[0;34m\u001b[0m\u001b[0;34m\u001b[0m\u001b[0m\n\u001b[1;32m     10\u001b[0m     \u001b[0;32mdef\u001b[0m \u001b[0mcomputeSungJuk\u001b[0m\u001b[0;34m(\u001b[0m\u001b[0mself\u001b[0m\u001b[0;34m)\u001b[0m\u001b[0;34m:\u001b[0m\u001b[0;34m\u001b[0m\u001b[0;34m\u001b[0m\u001b[0m\n",
      "\u001b[0;31mAttributeError\u001b[0m: 'SungJuk' object has no attribute 'tot'"
     ]
    }
   ],
   "source": [
    "class SungJuk:\n",
    "    def __init__(self,name,kor,eng,mat):\n",
    "        self.name=name\n",
    "        self.kor=kor\n",
    "        self.eng=eng\n",
    "        self.mat=mat\n",
    "    def __str__(self):\n",
    "        msg='%s,%s,%s,%s,%d,%.1f,%s' %(self.name,self.kor,self.eng,self.mat,self.tot,self.mean,self.grd)\n",
    "        return msg\n",
    "    def computeSungJuk(self):\n",
    "        self.tot=self.kor+self.eng+self.mat\n",
    "        self.mean=self.tot/3\n",
    "        self.grd='가'\n",
    "        if self.mean>=90:self.grd='수'\n",
    "        elif self.mean>=80:self.grd='우'\n",
    "        elif self.mean>=70:self.grd='미'\n",
    "        elif self.mean>=60:self.grd='양'\n",
    "        else:self.grd='공부좀해'\n",
    "\n",
    "\n",
    "name=input('이름?: ') \n",
    "kor=int(input('국성?: '))\n",
    "eng=int(input('영성?: '))\n",
    "mat=int(input('수성?: '))\n",
    "\n",
    "sj=SungJuk(name,kor,eng,mat)\n",
    "#sj.computeSungJuk()\n",
    "print(sj)"
   ]
  },
  {
   "cell_type": "code",
   "execution_count": 85,
   "metadata": {},
   "outputs": [
    {
     "name": "stdout",
     "output_type": "stream",
     "text": [
      "이름?: 홍길동\n",
      "국성?: 95\n",
      "영성?: 95\n",
      "수성?: 39\n",
      "홍길동,95,95,39,0,0.0,가\n"
     ]
    }
   ],
   "source": [
    "class SungJuk:\n",
    "    def __init__(self,name,kor,eng,mat):\n",
    "        self.name=name\n",
    "        self.kor=kor\n",
    "        self.eng=eng\n",
    "        self.mat=mat\n",
    "        self.tot=0\n",
    "        self.mean=0.0\n",
    "        self.grd='가'\n",
    "    def __str__(self):\n",
    "        msg='%s,%s,%s,%s,%d,%.1f,%s' %(self.name,self.kor,self.eng,self.mat,self.tot,self.mean,self.grd)\n",
    "        return msg\n",
    "    def computeSungJuk(self):\n",
    "        self.tot=self.kor+self.eng+self.mat\n",
    "        self.mean=self.tot/3\n",
    "        self.grd='가'\n",
    "        if self.mean>=90:self.grd='수'\n",
    "        elif self.mean>=80:self.grd='우'\n",
    "        elif self.mean>=70:self.grd='미'\n",
    "        elif self.mean>=60:self.grd='양'\n",
    "        else:self.grd='공부좀해'\n",
    "\n",
    "\n",
    "name=input('이름?: ') \n",
    "kor=int(input('국성?: '))\n",
    "eng=int(input('영성?: '))\n",
    "mat=int(input('수성?: '))\n",
    "\n",
    "sj=SungJuk(name,kor,eng,mat)\n",
    "#sj.computeSungJuk()\n",
    "print(sj)"
   ]
  },
  {
   "cell_type": "code",
   "execution_count": 83,
   "metadata": {},
   "outputs": [
    {
     "name": "stdout",
     "output_type": "stream",
     "text": [
      "139638117500480\n",
      "139638117500480\n",
      "139638117500480\n",
      "139638117500512\n"
     ]
    }
   ],
   "source": [
    "a=3\n",
    "b=3\n",
    "c=3\n",
    "\n",
    "print(id(a))\n",
    "print(id(b))\n",
    "print(id(c))\n",
    "a=4\n",
    "print(id(a))"
   ]
  },
  {
   "cell_type": "markdown",
   "metadata": {},
   "source": [
    "# 캡슐화:관련기능을 한곳에 모아둠. 변수/매서드 가시성 제어. 코드보안성 증대\n",
    "# 상속(확장): 기능추가+코드재사용\n",
    "# 다형성:오버로딩(overloading:기능추가.메서드다중정의)+오버라이딩(overriding:기능변경.코드재정의)"
   ]
  },
  {
   "cell_type": "code",
   "execution_count": 87,
   "metadata": {},
   "outputs": [],
   "source": [
    "#OOP 5대 원칙\n",
    "#S(단일책임의원칙)OLID\n",
    "#결합도,응집도\n",
    "\n",
    "#객체지향에서의 클래스 특성 (MVC)\n",
    "#값만 저장하는 클래스 => VO, DTO\n",
    "#기능만을 모아둔 클래스\n",
    "#.. : CRUD, DAO,BO\n",
    "\n",
    "#UI를 모아둔 클래스\n",
    "# 웹개발, GUI개발..UO.. -_-;;\n",
    "\n"
   ]
  },
  {
   "cell_type": "code",
   "execution_count": 94,
   "metadata": {},
   "outputs": [
    {
     "name": "stdout",
     "output_type": "stream",
     "text": [
      "이름?: 홍길동\n",
      "국성?: 95\n",
      "영성?: 98\n",
      "수성?: 95\n",
      "홍길동,95,98,95,0,0.0,가\n",
      "홍길동,95,98,95,288,96.0,수\n"
     ]
    }
   ],
   "source": [
    "class SungJukVO:\n",
    "    def __init__(self,name,kor,eng,mat):\n",
    "        self.name=name\n",
    "        self.kor=kor\n",
    "        self.eng=eng\n",
    "        self.mat=mat\n",
    "        self.tot=0\n",
    "        self.mean=0.0\n",
    "        self.grd='가'\n",
    "    def __str__(self):\n",
    "        msg='%s,%s,%s,%s,%d,%.1f,%s' %(self.name,self.kor,self.eng,self.mat,self.tot,self.mean,self.grd)\n",
    "        return msg\n",
    "            \n",
    "class SungJukDAO:\n",
    "    def readSungJuk(self):\n",
    "        name=input('이름?: ') \n",
    "        kor=int(input('국성?: '))\n",
    "        eng=int(input('영성?: '))\n",
    "        mat=int(input('수성?: '))\n",
    "        return SungJukVO(name,kor,eng,mat)                  \n",
    "    def computeSungJuk(self,sj):\n",
    "        sj.tot=sj.kor+sj.eng+sj.mat\n",
    "        sj.mean=sj.tot/3\n",
    "        sj.grd='가'\n",
    "        if sj.mean>=90:sj.grd='수'\n",
    "        elif sj.mean>=80:sj.grd='우'\n",
    "        elif sj.mean>=70:sj.grd='미'\n",
    "        elif sj.mean>=60:sj.grd='양'\n",
    "        else:sj.grd='공부좀해'\n",
    "\n",
    "sjsrv=SungJukDAO()\n",
    "hi=sjsrv.readSungJuk()\n",
    "print(hi)\n",
    "sjsrv.computeSungJuk(hi)\n",
    "print(hi)\n",
    "\n"
   ]
  },
  {
   "cell_type": "code",
   "execution_count": 95,
   "metadata": {},
   "outputs": [
    {
     "name": "stdout",
     "output_type": "stream",
     "text": [
      "3\n"
     ]
    }
   ],
   "source": [
    "def add(a,b): return a+b\n",
    "x=add(1,2)\n",
    "print(x)"
   ]
  },
  {
   "cell_type": "code",
   "execution_count": 105,
   "metadata": {},
   "outputs": [
    {
     "name": "stdout",
     "output_type": "stream",
     "text": [
      "<class 'str'>\n",
      "<class 'str'>\n",
      "<class '__main__.hi'>\n",
      "<class 'type'>\n"
     ]
    }
   ],
   "source": [
    "class hi:\n",
    "    def hello(self,a):\n",
    "        return a\n",
    "    \n",
    "oh=hi()\n",
    "oh.hello('hi')\n",
    "print(type(oh.hello('hi')))\n",
    "print(type(oh.hello('hi')))\n",
    "print(type(hi()))"
   ]
  },
  {
   "cell_type": "code",
   "execution_count": 102,
   "metadata": {},
   "outputs": [
    {
     "name": "stdout",
     "output_type": "stream",
     "text": [
      "<class 'str'>\n"
     ]
    }
   ],
   "source": [
    "a='1'\n",
    "print(type(a))"
   ]
  },
  {
   "cell_type": "code",
   "execution_count": 121,
   "metadata": {},
   "outputs": [
    {
     "name": "stdout",
     "output_type": "stream",
     "text": [
      "red 10 big gold\n"
     ]
    }
   ],
   "source": [
    "class hi:\n",
    "    #생성자 매직함수\n",
    "    def __init__(self,color,speed,size,wheels):\n",
    "        self.color=color\n",
    "        self.speed=speed\n",
    "        self.size=size\n",
    "        self.wheels=wheels\n",
    "        \n",
    "    def __str__(self):\n",
    "        msg='%s %s %s %s'%(self.color,self.speed,self.size,self.wheels)\n",
    "        return msg\n",
    "    \n",
    "hello=hi('red','10','big','gold')\n",
    "print(hello)"
   ]
  },
  {
   "cell_type": "code",
   "execution_count": 125,
   "metadata": {},
   "outputs": [
    {
     "name": "stdout",
     "output_type": "stream",
     "text": [
      "<class '__main__.hi'>\n"
     ]
    }
   ],
   "source": [
    "class hi:\n",
    "    #생성자 매직함수\n",
    "    def __init__(color,speed,size,wheels):\n",
    "        color=color\n",
    "        speed=speed\n",
    "        size=size\n",
    "        wheels=wheels\n",
    "        \n",
    "    def __str__(color,speed,size,wheels):\n",
    "        msg='%s %s %s %s'%(color,speed,size,wheels)\n",
    "        return msg\n",
    "    \n",
    "hi('red','10','big')\n",
    "print(hi)"
   ]
  },
  {
   "cell_type": "code",
   "execution_count": 180,
   "metadata": {},
   "outputs": [
    {
     "name": "stdout",
     "output_type": "stream",
     "text": [
      "fast\n"
     ]
    }
   ],
   "source": [
    "class hi:\n",
    "    def __init__(x,speed):\n",
    "        x.speed=speed\n",
    "        \n",
    "    def hey(u,what):\n",
    "        print(what.speed)\n",
    "\n",
    "a=hi('fast')\n",
    "a.hey(a)"
   ]
  },
  {
   "cell_type": "code",
   "execution_count": 181,
   "metadata": {},
   "outputs": [
    {
     "name": "stdout",
     "output_type": "stream",
     "text": [
      "fast\n"
     ]
    }
   ],
   "source": [
    "class hi:\n",
    "    def __init__(x,speed):\n",
    "        x.speed=speed\n",
    "        \n",
    "    def hey(x):\n",
    "        print(x.speed)\n",
    "\n",
    "a=hi('fast')\n",
    "a.hey()"
   ]
  },
  {
   "cell_type": "code",
   "execution_count": 198,
   "metadata": {},
   "outputs": [
    {
     "name": "stdout",
     "output_type": "stream",
     "text": [
      "idontknow\n"
     ]
    }
   ],
   "source": [
    "class hi:\n",
    "    def __init__(skt,when):\n",
    "        skt.when=when\n",
    "        \n",
    "    def hey(game,ncsoft):\n",
    "        print(ncsoft.when)\n",
    "\n",
    "a=hi('idontknow')\n",
    "a.hey(a)"
   ]
  },
  {
   "cell_type": "code",
   "execution_count": 194,
   "metadata": {},
   "outputs": [
    {
     "name": "stdout",
     "output_type": "stream",
     "text": [
      "idontknow\n"
     ]
    }
   ],
   "source": [
    "class hi:\n",
    "    def __init__(skt,when):\n",
    "        skt.when=when\n",
    "        \n",
    "    def hey(ncsoft):\n",
    "        print(ncsoft.when)\n",
    "\n",
    "a=hi('idontknow')\n",
    "a.hey()"
   ]
  },
  {
   "cell_type": "code",
   "execution_count": 199,
   "metadata": {},
   "outputs": [
    {
     "name": "stdout",
     "output_type": "stream",
     "text": [
      "idontknow\n"
     ]
    }
   ],
   "source": [
    "class hi:\n",
    "    def __init__(skt,when):\n",
    "        skt.when=when\n",
    "        \n",
    "    def hey(ncsoft,game):\n",
    "        print(ncsoft.when)\n",
    "\n",
    "a=hi('idontknow')\n",
    "a.hey(a)"
   ]
  },
  {
   "cell_type": "code",
   "execution_count": 200,
   "metadata": {},
   "outputs": [
    {
     "name": "stdout",
     "output_type": "stream",
     "text": [
      "idontknow\n"
     ]
    }
   ],
   "source": [
    "class hi:\n",
    "    def __init__(skt,when):\n",
    "        skt.when=when\n",
    "        \n",
    "    def hey(ncsoft,game):\n",
    "        print(ncsoft.when)\n",
    "\n",
    "a=hi('idontknow')\n",
    "a.hey(hi('idontknow'))"
   ]
  },
  {
   "cell_type": "code",
   "execution_count": 212,
   "metadata": {},
   "outputs": [
    {
     "name": "stdout",
     "output_type": "stream",
     "text": [
      "<__main__.hi object at 0x7efff4148400>\n",
      "<__main__.hi object at 0x7efff4148f28>\n",
      "<__main__.hi object at 0x7efff4148f28>\n"
     ]
    }
   ],
   "source": [
    "class hi:\n",
    "    #생성자 매직함수\n",
    "    def __init__(self,color,speed,size,wheels):\n",
    "        print(self)\n",
    "\n",
    "hi('red','10','big','gold')\n",
    "hello=hi('black','70','small','silver')\n",
    "print(hello)"
   ]
  },
  {
   "cell_type": "code",
   "execution_count": 209,
   "metadata": {},
   "outputs": [
    {
     "name": "stdout",
     "output_type": "stream",
     "text": [
      "<__main__.hi object at 0x7efff4379908>\n",
      "<__main__.hi object at 0x7efff4379908>\n"
     ]
    }
   ],
   "source": [
    "class hi:\n",
    "    #생성자 매직함수\n",
    "    def __init__(self,color,speed,size,wheels):\n",
    "        print(self)\n",
    "\n",
    "hello=hi('red','10','big','gold')\n",
    "print(hello)"
   ]
  },
  {
   "cell_type": "code",
   "execution_count": 215,
   "metadata": {},
   "outputs": [
    {
     "name": "stdout",
     "output_type": "stream",
     "text": [
      "idontknow\n"
     ]
    }
   ],
   "source": [
    "class hi:\n",
    "    def __init__(self,when):\n",
    "        self.when=when\n",
    "        \n",
    "    def hey(self):\n",
    "        print(self.when)\n",
    "\n",
    "a=hi('idontknow')\n",
    "a.hey()"
   ]
  },
  {
   "cell_type": "code",
   "execution_count": 216,
   "metadata": {},
   "outputs": [
    {
     "ename": "TypeError",
     "evalue": "__init__() takes 1 positional argument but 2 were given",
     "output_type": "error",
     "traceback": [
      "\u001b[0;31m---------------------------------------------------------------------------\u001b[0m",
      "\u001b[0;31mTypeError\u001b[0m                                 Traceback (most recent call last)",
      "\u001b[0;32m<ipython-input-216-aa79c8c4c472>\u001b[0m in \u001b[0;36m<module>\u001b[0;34m\u001b[0m\n\u001b[1;32m      6\u001b[0m         \u001b[0mprint\u001b[0m\u001b[0;34m(\u001b[0m\u001b[0mself\u001b[0m\u001b[0;34m.\u001b[0m\u001b[0mwhen\u001b[0m\u001b[0;34m)\u001b[0m\u001b[0;34m\u001b[0m\u001b[0;34m\u001b[0m\u001b[0m\n\u001b[1;32m      7\u001b[0m \u001b[0;34m\u001b[0m\u001b[0m\n\u001b[0;32m----> 8\u001b[0;31m \u001b[0ma\u001b[0m\u001b[0;34m=\u001b[0m\u001b[0mhi\u001b[0m\u001b[0;34m(\u001b[0m\u001b[0;34m'idontknow'\u001b[0m\u001b[0;34m)\u001b[0m\u001b[0;34m\u001b[0m\u001b[0;34m\u001b[0m\u001b[0m\n\u001b[0m\u001b[1;32m      9\u001b[0m \u001b[0ma\u001b[0m\u001b[0;34m.\u001b[0m\u001b[0mhey\u001b[0m\u001b[0;34m(\u001b[0m\u001b[0;34m)\u001b[0m\u001b[0;34m\u001b[0m\u001b[0;34m\u001b[0m\u001b[0m\n",
      "\u001b[0;31mTypeError\u001b[0m: __init__() takes 1 positional argument but 2 were given"
     ]
    }
   ],
   "source": [
    "class hi:\n",
    "    def __init__(self):\n",
    "        self.when=when\n",
    "        \n",
    "    def hey(self):\n",
    "        print(self.when)\n",
    "\n",
    "a=hi('idontknow')\n",
    "a.hey()"
   ]
  },
  {
   "cell_type": "code",
   "execution_count": 234,
   "metadata": {},
   "outputs": [
    {
     "name": "stdout",
     "output_type": "stream",
     "text": [
      "사번?: 2009\n",
      "이름은?: 길동\n",
      "성은?: 홍\n",
      "직책은?: 세무\n",
      "입사일?: 20090705\n",
      "급여는?: 7800\n",
      "커미션%?: 0.3\n",
      "2009, 길동, 홍, 세무, 20090705, 7800, 0.3\n"
     ]
    }
   ],
   "source": [
    "class EmpVO:\n",
    "    def __init__(self,empno,name,lname,jobid,hdate,sal,comm):\n",
    "        self.empno=empno\n",
    "        self.name=name\n",
    "        self.lname=lname\n",
    "        self.jobid=jobid\n",
    "        self.hdate=hdate\n",
    "        self.sal=sal\n",
    "        self.comm=comm\n",
    "        self.asal=0\n",
    "        self.bns=0\n",
    "    def __str__(self):\n",
    "        msg='%s, %s, %s, %s, %s, %d, %.1f' %(self.empno,self.name,self.lname,self.jobid,self.hdate,self.sal,self.comm)\n",
    "        return msg\n",
    "\n",
    "class EmpDAO:\n",
    "    def readEmp(self):\n",
    "        empno=input('사번?: ')\n",
    "        name=input('이름은?: ')\n",
    "        lname=input('성은?: ')\n",
    "        jobid=input('직책은?: ')\n",
    "        hdate=input('입사일?: ')\n",
    "        sal=int(input('급여는?: '))\n",
    "        comm=float(input('커미션%?: '))\n",
    "        return EmpVO(empno,name,lname,jobid,hdate,sal,comm)\n",
    "    \n",
    "    def computeSalary(self,emp):\n",
    "        emp.asal=emp.sal*12\n",
    "        emp.bns=emp.sal*emp.comm\n",
    "        \n",
    "empsrv=EmpDAO()\n",
    "emp1=empsrv.readEmp()\n",
    "empsrv.computeSalary(emp1)\n",
    "print(emp1)"
   ]
  },
  {
   "cell_type": "code",
   "execution_count": 228,
   "metadata": {},
   "outputs": [
    {
     "name": "stdout",
     "output_type": "stream",
     "text": [
      "붓꽃길이?: 100\n",
      "붓꽃너비?: 50\n",
      "붓꽃받침길이?: 30\n",
      "붓꽃받침너비?: 30\n",
      "품종?: 모름\n",
      "100.0, 50.0, 30.0, 30.0, 모름\n",
      "52.5, 40.0, 33.0, 1091.7\n"
     ]
    }
   ],
   "source": [
    "class IrisVO:\n",
    "    def __init__(self,sl,sw,pl,pw,sp):\n",
    "        self.sl=sl\n",
    "        self.sw=sw\n",
    "        self.pl=pl\n",
    "        self.pw=pw\n",
    "        self.sp=sp\n",
    "    def __str__(self):\n",
    "        msg='%s, %s, %s, %s, %s' %(self.sl,self.sw,self.pl,self.pw,self.sp)\n",
    "        return msg\n",
    "\n",
    "from statistics import mean,median,stdev,variance    \n",
    "class IrisDAO:\n",
    "    def readIris(self):\n",
    "        sl=float(input('붓꽃길이?: '))\n",
    "        sw=float(input('붓꽃너비?: '))\n",
    "        pl=float(input('붓꽃받침길이?: '))\n",
    "        pw=float(input('붓꽃받침너비?: '))\n",
    "        sp=input('품종?: ')\n",
    "        return IrisVO(sl,sw,pl,pw,sp)\n",
    "    def computeStatistics(self,iris):\n",
    "        vals=[iris.sl,iris.sw,iris.pl,iris.pw]\n",
    "        msg='%.1f, %.1f, %.1f, %.1f'%(mean(vals),median(vals),stdev(vals),variance(vals))\n",
    "        print(msg)\n",
    "        \n",
    "irissrv=IrisDAO()\n",
    "iris=irissrv.readIris()\n",
    "print(iris)\n",
    "irissrv.computeStatistics(iris)\n",
    "        "
   ]
  },
  {
   "cell_type": "code",
   "execution_count": 239,
   "metadata": {},
   "outputs": [
    {
     "name": "stdout",
     "output_type": "stream",
     "text": [
      "so sleepy\n"
     ]
    }
   ],
   "source": [
    "class Say:\n",
    "    def Speak(self,word):\n",
    "        self.word=word\n",
    "    def Print(self):\n",
    "        print(self.word)\n",
    "\n",
    "mouth=Say()\n",
    "mouth.Speak('so sleepy')\n",
    "mouth.Print()"
   ]
  },
  {
   "cell_type": "code",
   "execution_count": 272,
   "metadata": {},
   "outputs": [
    {
     "name": "stdout",
     "output_type": "stream",
     "text": [
      "{'dfdfdfdfdfdfdfdf': 'so sleepy'}\n",
      "so sleepy\n",
      "so sleepy\n"
     ]
    }
   ],
   "source": [
    "class Say:\n",
    "    def Speak(selfdfdfdfdfd,dfdfdfdfdfdfdfdf):\n",
    "        selfdfdfdfdfd.dfdfdfdfdfdfdfdf=dfdfdfdfdfdfdfdf\n",
    "    def Printtt(selfffffffffffffffffff): #self=mouth\n",
    "        print(selfffffffffffffffffff.dfdfdfdfdfdfdfdf) #self.word=mouth.word\n",
    "\n",
    "mouth=Say()\n",
    "mouth.Speak('so sleepy')\n",
    "\n",
    "print(mouth.__dict__)\n",
    "print(mouth.dfdfdfdfdfdfdfdf)\n",
    "\n",
    "mouth.Printtt()"
   ]
  },
  {
   "cell_type": "code",
   "execution_count": null,
   "metadata": {},
   "outputs": [],
   "source": []
  },
  {
   "cell_type": "code",
   "execution_count": null,
   "metadata": {},
   "outputs": [],
   "source": []
  },
  {
   "cell_type": "code",
   "execution_count": null,
   "metadata": {},
   "outputs": [],
   "source": []
  },
  {
   "cell_type": "code",
   "execution_count": null,
   "metadata": {},
   "outputs": [],
   "source": []
  },
  {
   "cell_type": "code",
   "execution_count": null,
   "metadata": {},
   "outputs": [],
   "source": []
  },
  {
   "cell_type": "code",
   "execution_count": null,
   "metadata": {},
   "outputs": [],
   "source": []
  },
  {
   "cell_type": "code",
   "execution_count": null,
   "metadata": {},
   "outputs": [],
   "source": []
  }
 ],
 "metadata": {
  "kernelspec": {
   "display_name": "Python 3",
   "language": "python",
   "name": "python3"
  },
  "language_info": {
   "codemirror_mode": {
    "name": "ipython",
    "version": 3
   },
   "file_extension": ".py",
   "mimetype": "text/x-python",
   "name": "python",
   "nbconvert_exporter": "python",
   "pygments_lexer": "ipython3",
   "version": "3.6.8"
  }
 },
 "nbformat": 4,
 "nbformat_minor": 2
}
