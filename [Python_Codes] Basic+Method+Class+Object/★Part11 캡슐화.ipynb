{
 "cells": [
  {
   "cell_type": "markdown",
   "metadata": {},
   "source": [
    "### 캡슐화\n",
    "## OOP 3대 특징 중 캡슐화에 근거해서\n",
    "## 객체명.멤버변수로 값을 수정/조회하는 것은 비추 \n",
    "## 먼저, 접근제어 기능을 이용해서 '객체명.변수명'으로는 사용하지 못하게 막고\n",
    "## 이것을 위한 특수한 메서드(setter,getter)를 사용하는 것을 추천\n"
   ]
  },
  {
   "cell_type": "code",
   "execution_count": 1,
   "metadata": {},
   "outputs": [
    {
     "name": "stdout",
     "output_type": "stream",
     "text": [
      "가\n",
      "0\n",
      "가나다\n"
     ]
    }
   ],
   "source": [
    "class ABC:\n",
    "    a='가'\n",
    "    b=0\n",
    "\n",
    "abc=ABC() #객체 생성\n",
    "print(abc.a) #멤버변수 출력\n",
    "print(abc.b)\n",
    "abc.a='가나다' #멤버면수 수정\n",
    "print(abc.a)"
   ]
  },
  {
   "cell_type": "code",
   "execution_count": 5,
   "metadata": {},
   "outputs": [
    {
     "ename": "AttributeError",
     "evalue": "'XYT' object has no attribute 'a'",
     "output_type": "error",
     "traceback": [
      "\u001b[0;31m---------------------------------------------------------------------------\u001b[0m",
      "\u001b[0;31mAttributeError\u001b[0m                            Traceback (most recent call last)",
      "\u001b[0;32m<ipython-input-5-5279654ee943>\u001b[0m in \u001b[0;36m<module>\u001b[0;34m\u001b[0m\n\u001b[1;32m      6\u001b[0m \u001b[0;34m\u001b[0m\u001b[0m\n\u001b[1;32m      7\u001b[0m \u001b[0mxyz\u001b[0m\u001b[0;34m=\u001b[0m\u001b[0mXYT\u001b[0m\u001b[0;34m(\u001b[0m\u001b[0;34m)\u001b[0m\u001b[0;34m\u001b[0m\u001b[0;34m\u001b[0m\u001b[0m\n\u001b[0;32m----> 8\u001b[0;31m \u001b[0mprint\u001b[0m\u001b[0;34m(\u001b[0m\u001b[0mxyz\u001b[0m\u001b[0;34m.\u001b[0m\u001b[0ma\u001b[0m\u001b[0;34m)\u001b[0m\u001b[0;34m\u001b[0m\u001b[0;34m\u001b[0m\u001b[0m\n\u001b[0m",
      "\u001b[0;31mAttributeError\u001b[0m: 'XYT' object has no attribute 'a'"
     ]
    }
   ],
   "source": [
    "#접근제어기능을 사용한 클래스\n",
    "class XYT:\n",
    "    __a='가' #멤버명 앞에 __를 추가하면 private멤버로 정의됨\n",
    "    __b=0\n",
    "\n",
    "\n",
    "xyz=XYT()\n",
    "print(xyz.a)"
   ]
  },
  {
   "cell_type": "code",
   "execution_count": 6,
   "metadata": {},
   "outputs": [
    {
     "name": "stdout",
     "output_type": "stream",
     "text": [
      "139843734814432\n",
      "139843734814432\n"
     ]
    }
   ],
   "source": [
    "#접근제어기능을 사용한 클래스\n",
    "class XYT:\n",
    "    a='가' #멤버명 앞에 __를 추가하면 private멤버로 정의됨\n",
    "    b=0\n",
    "\n",
    "xyz=XYT()\n",
    "print(id(xyz.a))\n",
    "print(id(XYT.a))"
   ]
  },
  {
   "cell_type": "code",
   "execution_count": 8,
   "metadata": {},
   "outputs": [
    {
     "name": "stdout",
     "output_type": "stream",
     "text": [
      "139843734455120\n",
      "139843734454880\n"
     ]
    }
   ],
   "source": [
    "#접근제어기능을 사용한 클래스\n",
    "class XYT:\n",
    "    a='가' #멤버명 앞에 __를 추가하면 private멤버로 정의됨\n",
    "    b=0\n",
    "\n",
    "xyz=XYT()\n",
    "xyz.a='가'\n",
    "print(id(xyz.a))\n",
    "print(id(XYT.a))"
   ]
  },
  {
   "cell_type": "code",
   "execution_count": 26,
   "metadata": {},
   "outputs": [
    {
     "name": "stdout",
     "output_type": "stream",
     "text": [
      "{}\n",
      "가\n",
      "{'_XYT__a': '가나다'}\n",
      "가나다\n"
     ]
    }
   ],
   "source": [
    "#접근제어기능을 사용한 클래스\n",
    "class XYT:\n",
    "    __a='가' #멤버명 앞에 __를 추가하면 private멤버로 정의됨\n",
    "    __b=0\n",
    "\n",
    "    def setA(self,a): #속성에 값을 대입하는 함수\n",
    "        self.__a=a\n",
    "\n",
    "    def getA(self): #속성에 값을 return하는 함수\n",
    "        return self.__a\n",
    "\n",
    "\n",
    "xyz=XYT()\n",
    "print(xyz.__dict__)\n",
    "print(xyz.getA()) #위 dict를 보면 알 수 있지만, instance xyz는 getA(self)에서의 .__a 값이 없음. \n",
    "                  #자신의 네임스페이스에 값이 없자 클래스 XYT의 네임스페이스로 이동해서 .__a값을 가져옴\n",
    "xyz.setA('가나다') \n",
    "print(xyz.__dict__) #인스턴스 xyz의 네임스페이스에 '가나다'가 생긴 것을 알 수 있음\n",
    "print(xyz.getA()) #인스턴스 xyz가 자신의 네임스페이스에서 '가나다'를 가져옴"
   ]
  },
  {
   "cell_type": "code",
   "execution_count": null,
   "metadata": {},
   "outputs": [],
   "source": [
    "#VO 클래스를 만드는 방법\n",
    "#생성자: __init__ 함수 사용\n",
    "#멤버변수는 private으로 (__ 사용)\n",
    "#멤버변수 대표 문자열 : __str__ 함수 사용\n",
    "#캡슐화 : @property(=> get), @setter(=> set) 사용"
   ]
  },
  {
   "cell_type": "code",
   "execution_count": 39,
   "metadata": {},
   "outputs": [
    {
     "name": "stdout",
     "output_type": "stream",
     "text": [
      "수지 98 76 87\n",
      "\n",
      "{'_SungJukVO__name': '수지', '_SungJukVO__kor': 98, '_SungJukVO__eng': 76, '_SungJukVO__mat': 87}\n",
      "\n",
      "{'__module__': '__main__', '__init__': <function SungJukVO.__init__ at 0x7f2fe122c9d8>, '__str__': <function SungJukVO.__str__ at 0x7f2fe122c950>, 'name': <property object at 0x7f2fe122a818>, 'kor': <property object at 0x7f2fe122a778>, 'eng': <property object at 0x7f2fe151b318>, 'mat': <property object at 0x7f2fe122a728>, '__dict__': <attribute '__dict__' of 'SungJukVO' objects>, '__weakref__': <attribute '__weakref__' of 'SungJukVO' objects>, '__doc__': None}\n",
      "\n",
      "{'_SungJukVO__name': '수지', '_SungJukVO__kor': 98, '_SungJukVO__eng': 76, '_SungJukVO__mat': '지현'}\n",
      "\n",
      "지현\n"
     ]
    }
   ],
   "source": [
    "\n",
    "class SungJukVO:\n",
    "    def __init__(self,name,kor,eng,mat):\n",
    "        self.__name=name\n",
    "        self.__kor=kor\n",
    "        self.__eng=eng\n",
    "        self.__mat=mat\n",
    "    def __str__(self):\n",
    "        msg='%s %s %s %s' %(self.__name,self.__kor,self.__eng,self.__mat)\n",
    "        return msg\n",
    "    \n",
    "    #setter/getter\n",
    "    @property\n",
    "    def name(self):\n",
    "        return self.__name\n",
    "    \n",
    "    @name.setter\n",
    "    def name(self,name):\n",
    "        self.__name=name\n",
    "\n",
    "    @property\n",
    "    def kor(self):\n",
    "        return self.__kor\n",
    "    \n",
    "    @kor.setter\n",
    "    def kor(self,kor):\n",
    "        self.__kor=kor\n",
    "        \n",
    "    @property\n",
    "    def eng(self):\n",
    "        return self.__eng\n",
    "    \n",
    "    @eng.setter\n",
    "    def name(self,eng):\n",
    "        self.__eng=eng\n",
    "        \n",
    "    @property\n",
    "    def mat(self):\n",
    "        return self.__mat\n",
    "    \n",
    "    @mat.setter\n",
    "    def name(self,mat):\n",
    "        self.__mat=mat\n",
    "        \n",
    "sj=SungJukVO('수지',98,76,87)\n",
    "print(sj)\n",
    "print()\n",
    "print(sj.__dict__)\n",
    "print()\n",
    "print(SungJukVO.__dict__)\n",
    "print()\n",
    "sj.name='지현'\n",
    "print(sj.__dict__)\n",
    "print()\n",
    "print(sj.name)"
   ]
  },
  {
   "cell_type": "code",
   "execution_count": 42,
   "metadata": {},
   "outputs": [
    {
     "name": "stdout",
     "output_type": "stream",
     "text": [
      "수지 98 76 87\n",
      "지현\n"
     ]
    }
   ],
   "source": [
    "class SungJukVU:\n",
    "    def __init__(self,name,kor,eng,mat):\n",
    "        self.__name=name\n",
    "        self.__kor=kor\n",
    "        self.__eng=eng\n",
    "        self.__mat=mat\n",
    "    def __str__(self):\n",
    "        msg='%s %s %s %s' %(self.__name,self.__kor,self.__eng,self.__mat)\n",
    "        return msg\n",
    "    \n",
    "sdj=SungJukVU('수지',98,76,87)\n",
    "print(sdj)\n",
    "sdj.name='지현'\n",
    "print(sdj.name)"
   ]
  },
  {
   "cell_type": "code",
   "execution_count": 53,
   "metadata": {},
   "outputs": [
    {
     "name": "stdout",
     "output_type": "stream",
     "text": [
      "139843612109088\n",
      "{'_SungJukVTU__name': '수지', '_SungJukVTU__kor': 98, '_SungJukVTU__eng': 76, '_SungJukVTU__mat': 87}\n",
      "139843612108736\n",
      "{'_SungJukVTU__name': '지현', '_SungJukVTU__kor': 98, '_SungJukVTU__eng': 76, '_SungJukVTU__mat': 87}\n",
      "지현\n"
     ]
    }
   ],
   "source": [
    "class SungJukVTU:\n",
    "    def __init__(self,name,kor,eng,mat):\n",
    "        self.__name=name\n",
    "        self.__kor=kor\n",
    "        self.__eng=eng\n",
    "        self.__mat=mat\n",
    "    def __str__(self):\n",
    "        msg='%s %s %s %s' %(self.__name,self.__kor,self.__eng,self.__mat)\n",
    "        return msg\n",
    "\n",
    "    #setter/getter\n",
    "    @property\n",
    "    def name(self):\n",
    "        return self.__name\n",
    "    \n",
    "    @name.setter\n",
    "    def name(self,name):\n",
    "        self.__name=name\n",
    "\n",
    "    @property\n",
    "    def kor(self):\n",
    "        return self.__kor\n",
    "    \n",
    "    @kor.setter\n",
    "    def kor(self,kor):\n",
    "        self.__kor=kor\n",
    "        \n",
    "    @property\n",
    "    def eng(self):\n",
    "        return self.__eng\n",
    "    \n",
    "    @eng.setter\n",
    "    def eng(self,eng):\n",
    "        self.__eng=eng\n",
    "        \n",
    "    @property\n",
    "    def mat(self):\n",
    "        return self.__mat\n",
    "    \n",
    "    @mat.setter\n",
    "    def mat(self,mat):\n",
    "        self.__mat=mat\n",
    "    \n",
    "sdjo=SungJukVTU('수지',98,76,87)\n",
    "print(id(sdjo.name))\n",
    "print(sdjo.__dict__)\n",
    "sdjo.name='지현' #이건 name변수가 아닌 name메소드에 대입한 것 (setter) => self.__name '지현' 저장소의 주소값이 sdjo.name에 새로 만들어짐\n",
    "print(id(sdjo.name))\n",
    "print(sdjo.__dict__)\n",
    "print(sdjo.name)"
   ]
  },
  {
   "cell_type": "code",
   "execution_count": 47,
   "metadata": {},
   "outputs": [
    {
     "name": "stdout",
     "output_type": "stream",
     "text": [
      "{'_SungJukVTU__name': '수지', '_SungJukVTU__kor': 98, '_SungJukVTU__eng': 76, '_SungJukVTU__mat': 87}\n"
     ]
    },
    {
     "ename": "AttributeError",
     "evalue": "'SungJukVTU' object has no attribute 'name'",
     "output_type": "error",
     "traceback": [
      "\u001b[0;31m---------------------------------------------------------------------------\u001b[0m",
      "\u001b[0;31mAttributeError\u001b[0m                            Traceback (most recent call last)",
      "\u001b[0;32m<ipython-input-47-85af085e5f36>\u001b[0m in \u001b[0;36m<module>\u001b[0;34m\u001b[0m\n\u001b[1;32m     11\u001b[0m \u001b[0msdjo\u001b[0m\u001b[0;34m=\u001b[0m\u001b[0mSungJukVTU\u001b[0m\u001b[0;34m(\u001b[0m\u001b[0;34m'수지'\u001b[0m\u001b[0;34m,\u001b[0m\u001b[0;36m98\u001b[0m\u001b[0;34m,\u001b[0m\u001b[0;36m76\u001b[0m\u001b[0;34m,\u001b[0m\u001b[0;36m87\u001b[0m\u001b[0;34m)\u001b[0m\u001b[0;34m\u001b[0m\u001b[0;34m\u001b[0m\u001b[0m\n\u001b[1;32m     12\u001b[0m \u001b[0mprint\u001b[0m\u001b[0;34m(\u001b[0m\u001b[0msdjo\u001b[0m\u001b[0;34m.\u001b[0m\u001b[0m__dict__\u001b[0m\u001b[0;34m)\u001b[0m\u001b[0;34m\u001b[0m\u001b[0;34m\u001b[0m\u001b[0m\n\u001b[0;32m---> 13\u001b[0;31m \u001b[0mprint\u001b[0m\u001b[0;34m(\u001b[0m\u001b[0msdjo\u001b[0m\u001b[0;34m.\u001b[0m\u001b[0mname\u001b[0m\u001b[0;34m)\u001b[0m\u001b[0;34m\u001b[0m\u001b[0;34m\u001b[0m\u001b[0m\n\u001b[0m",
      "\u001b[0;31mAttributeError\u001b[0m: 'SungJukVTU' object has no attribute 'name'"
     ]
    }
   ],
   "source": [
    "class SungJukVTU:\n",
    "    def __init__(self,name,kor,eng,mat):\n",
    "        self.__name=name\n",
    "        self.__kor=kor\n",
    "        self.__eng=eng\n",
    "        self.__mat=mat\n",
    "    def __str__(self):\n",
    "        msg='%s %s %s %s' %(self.__name,self.__kor,self.__eng,self.__mat)\n",
    "        return msg\n",
    "    \n",
    "sdjo=SungJukVTU('수지',98,76,87)\n",
    "print(sdjo.__dict__)\n",
    "print(sdjo.name)"
   ]
  },
  {
   "cell_type": "code",
   "execution_count": 62,
   "metadata": {},
   "outputs": [
    {
     "name": "stdout",
     "output_type": "stream",
     "text": [
      "{'_XYT__a': '가나다'}\n",
      "가나다\n"
     ]
    }
   ],
   "source": [
    "#접근제어기능을 사용한 클래스\n",
    "class XYT:\n",
    "    __a='가' #멤버명 앞에 __를 추가하면 private멤버로 정의됨\n",
    "    __b=0\n",
    "\n",
    "    def name1(self,a): #속성에 값을 대입하는 함수\n",
    "        self.__a=a\n",
    "\n",
    "    def name2(self): #속성에 값을 return하는 함수\n",
    "        return self.__a\n",
    "\n",
    "xyz=XYT()\n",
    "xyz.name1('가나다') \n",
    "print(xyz.__dict__)\n",
    "print(xyz.name2())"
   ]
  },
  {
   "cell_type": "code",
   "execution_count": 65,
   "metadata": {},
   "outputs": [
    {
     "name": "stdout",
     "output_type": "stream",
     "text": [
      "139843612109792\n",
      "{'_SungJukVTU__name': '수지', '_SungJukVTU__kor': 98, '_SungJukVTU__eng': 76, '_SungJukVTU__mat': 87}\n",
      "지현\n"
     ]
    }
   ],
   "source": [
    "class SungJukVTU:\n",
    "    def __init__(self,name,kor,eng,mat):\n",
    "        self.__name=name\n",
    "        self.__kor=kor\n",
    "        self.__eng=eng\n",
    "        self.__mat=mat\n",
    "    def __str__(self):\n",
    "        msg='%s %s %s %s' %(self.__name,self.__kor,self.__eng,self.__mat)\n",
    "        return msg\n",
    "\n",
    "    #setter/getter\n",
    "    @property\n",
    "    def name(self):\n",
    "        return self.__name\n",
    "    \n",
    "    @name.setter\n",
    "    def name(self,name):\n",
    "        self.__name=name\n",
    "\n",
    "    @property\n",
    "    def kor(self):\n",
    "        return self.__kor\n",
    "    \n",
    "    @kor.setter\n",
    "    def kor(self,kor):\n",
    "        self.__kor=kor\n",
    "        \n",
    "    @property\n",
    "    def eng(self):\n",
    "        return self.__eng\n",
    "    \n",
    "    @eng.setter\n",
    "    def eng(self,eng):\n",
    "        self.__eng=eng\n",
    "        \n",
    "    @property\n",
    "    def mat(self):\n",
    "        return self.__mat\n",
    "    \n",
    "    @mat.setter\n",
    "    def mat(self,mat):\n",
    "        self.__mat=mat\n",
    "    \n",
    "sdjo=SungJukVTU('수지',98,76,87)\n",
    "print(id(sdjo.name))\n",
    "print(sdjo.__dict__)\n",
    "sdjo.name='지현' \n",
    "print(sdjo.name)"
   ]
  },
  {
   "cell_type": "code",
   "execution_count": null,
   "metadata": {},
   "outputs": [],
   "source": [
    "#한빛서점 도서, 고객, 주문 데이터를 저장하기 위한 BookVO, CustomerVO,OrderVO 클래스 정의\n",
    "Book: bookid bkname pub price\n",
    "\n",
    "Cust: custid name addr phone\n",
    "        \n",
    "Order: ordid custid bookid sprice odate"
   ]
  },
  {
   "cell_type": "code",
   "execution_count": 86,
   "metadata": {},
   "outputs": [
    {
     "name": "stdout",
     "output_type": "stream",
     "text": [
      "1 ,축구의역사,굿스포츠,7000\n",
      "1 ,야구의역사,굿스포츠,7000\n"
     ]
    }
   ],
   "source": [
    "class BookVO:\n",
    "    def __init__(self,bookid,bkname,pub,price):\n",
    "        self.__bookid=bookid\n",
    "        self.__bkname=bkname\n",
    "        self.__pub=pub\n",
    "        self.__price=price\n",
    "        \n",
    "    def __str__(self):\n",
    "        msg='%s ,%s,%s,%s' %(self.__bookid,self.__bkname,self.__pub,self.__price)\n",
    "        return msg\n",
    "    \n",
    "    #setter/gettera\n",
    "    @property\n",
    "    def bookid(self):\n",
    "        return self__.bookid\n",
    "        \n",
    "    @bookid.setter\n",
    "    def bookid(self,bookid):\n",
    "        self.__bookid=bookid\n",
    "                \n",
    "    @property\n",
    "    def bkname(self):\n",
    "        return self__.bkname\n",
    "        \n",
    "    @bkname.setter\n",
    "    def bkname(self,bkname):\n",
    "        self.__bkname=bkname\n",
    "\n",
    "    @property\n",
    "    def pub(self):\n",
    "        return self__.pub\n",
    "        \n",
    "    @pub.setter\n",
    "    def pub(self,pub):\n",
    "        self.__pub=pub\n",
    "        \n",
    "    @property\n",
    "    def price(self):\n",
    "        return self__.price\n",
    "    \n",
    "    @price.setter\n",
    "    def price(self,price):\n",
    "        self.__price=price\n",
    "        \n",
    "bk1=BookVO(1,'축구의역사','굿스포츠',7000)\n",
    "print(bk1)\n",
    "bk1.bkname='야구의역사'\n",
    "print(bk1)\n",
    "        \n",
    "    \n"
   ]
  },
  {
   "cell_type": "code",
   "execution_count": 81,
   "metadata": {},
   "outputs": [
    {
     "name": "stdout",
     "output_type": "stream",
     "text": [
      "1,박지성,영국 맨체스터,000-5000-0001\n"
     ]
    }
   ],
   "source": [
    "class CustVO:\n",
    "    def __init__(self,custid,name,addr,phone):\n",
    "        self.__custid=custid\n",
    "        self.__name=name\n",
    "        self.__addr=addr\n",
    "        self.__phone=phone\n",
    "        \n",
    "    def __str__(self):\n",
    "        msg='%s,%s,%s,%s' %(self.__custid,self.__name,self.__addr,self.__phone)\n",
    "        return msg\n",
    "    \n",
    "    @property\n",
    "    def custid(self):\n",
    "        return self.__custid\n",
    "    @custid.setter\n",
    "    def custid(self,custid):       \n",
    "        self.__custid=custid\n",
    "    \n",
    "    @property\n",
    "    def name(self):\n",
    "        return self.__name\n",
    "    @name.setter\n",
    "    def name(name):\n",
    "        self.__name=name\n",
    "\n",
    "    @property\n",
    "    def addr(self):\n",
    "        return self.__addr\n",
    "    @addr.setter\n",
    "    def addr(self,addr):\n",
    "        self.__addr=addr\n",
    "    \n",
    "    @property\n",
    "    def phone(self):\n",
    "        return self.__phone\n",
    "    @phone.setter\n",
    "    def phone(self,phone):\n",
    "        self.__phone=phone\n",
    "    \n",
    "ph1=CustVO(1,'박지성','영국 맨체스터','000-5000-0001')\n",
    "print(ph1)\n",
    "    "
   ]
  },
  {
   "cell_type": "code",
   "execution_count": null,
   "metadata": {},
   "outputs": [],
   "source": [
    "class CustVO:\n",
    "    def __init__(self,custid,name,addr,phone):\n",
    "        self.__custid=custid\n",
    "        self.__name=name\n",
    "        self.__addr=addr\n",
    "        self.__phone=phone\n",
    "        \n",
    "    def __str__(self):\n",
    "        msg='%s,%s,%s,%s' %(self.__custid,self.__name,self.__addr,self.__phone)\n",
    "        return msg\n",
    "    \n",
    "    @property\n",
    "    def custid(self):\n",
    "        return self.__custid\n",
    "    @custid.setter\n",
    "    def custid(self,custid):       \n",
    "        self.__custid=custid\n",
    "    \n",
    "    @property\n",
    "    def name(self):\n",
    "        return self.__name\n",
    "    @name.setter\n",
    "    def name(name):\n",
    "        self.__name=name\n",
    "\n",
    "    @property\n",
    "    def addr(self):\n",
    "        return self.__addr\n",
    "    @addr.setter\n",
    "    def addr(self,addr):\n",
    "        self.__addr=addr\n",
    "    \n",
    "    @property\n",
    "    def phone(self):\n",
    "        return self.__phone\n",
    "    @phone.setter\n",
    "    def phone(self,phone):\n",
    "        self.__phone=phone\n",
    "    \n",
    "ph1=CustVO(1,'박지성','영국 맨체스터','000-5000-0001')\n",
    "print(ph1)"
   ]
  },
  {
   "cell_type": "code",
   "execution_count": 96,
   "metadata": {},
   "outputs": [
    {
     "name": "stdout",
     "output_type": "stream",
     "text": [
      "1,박지성,영국 맨체스터,10101010\n"
     ]
    }
   ],
   "source": [
    "class CustVO:\n",
    "    def __init__(self,custid,name,addr,phone):\n",
    "        self.__custid=custid\n",
    "        self.__name=name\n",
    "        self.__addr=addr\n",
    "        self.__phone=phone\n",
    "        \n",
    "    def __str__(self):\n",
    "        msg='%s,%s,%s,%s' %(self.__custid,self.__name,self.__addr,self.__phone)\n",
    "        return msg\n",
    "    \n",
    "    @property\n",
    "    def custid(self):\n",
    "        return self.__custid\n",
    "    @custid.setter\n",
    "    def custid(self,custid):       \n",
    "        self.__custid=custid\n",
    "    \n",
    "    @property\n",
    "    def name(self):\n",
    "        return self.__name\n",
    "    @name.setter\n",
    "    def name(name):\n",
    "        self.__name=name\n",
    "\n",
    "    @property\n",
    "    def addr(self):\n",
    "        return self.__addr\n",
    "    @addr.setter\n",
    "    def addr(self,addr):\n",
    "        self.__addr=addr\n",
    "    \n",
    "    @property\n",
    "    def phone(self):\n",
    "        return self.__phone\n",
    "    @phone.setter\n",
    "    def phone(self,phone):\n",
    "        self.__phone=phone\n",
    "    \n",
    "ph1=CustVO(1,'박지성','영국 맨체스터','000-5000-0001')\n",
    "ph1.phone='10101010'\n",
    "print(ph1)"
   ]
  },
  {
   "cell_type": "code",
   "execution_count": 123,
   "metadata": {},
   "outputs": [
    {
     "name": "stdout",
     "output_type": "stream",
     "text": [
      "1,박지성,영국 맨체스터,3434343\n"
     ]
    }
   ],
   "source": [
    "class CustVO:\n",
    "    def __init__(self,custid,name,addr,phone):\n",
    "        self.custid=custid\n",
    "        self.name=name\n",
    "        self.addr=addr\n",
    "        self.phone=phone\n",
    "        \n",
    "    def __str__(self):\n",
    "        msg='%s,%s,%s,%s' %(self.custid,self.name,self.addr,self.phone)\n",
    "        return msg\n",
    "    \n",
    "    \n",
    "ph1=CustVO(1,'박지성','영국 맨체스터','000-5000-0001')\n",
    "ph1.phone='10101010'\n",
    "ph1.phone='3434343'\n",
    "print(ph1)"
   ]
  },
  {
   "cell_type": "code",
   "execution_count": null,
   "metadata": {},
   "outputs": [],
   "source": []
  },
  {
   "cell_type": "code",
   "execution_count": null,
   "metadata": {},
   "outputs": [],
   "source": []
  },
  {
   "cell_type": "code",
   "execution_count": null,
   "metadata": {},
   "outputs": [],
   "source": []
  },
  {
   "cell_type": "code",
   "execution_count": null,
   "metadata": {},
   "outputs": [],
   "source": [
    "#아래는 4/10일 시험 ㅋㅋ"
   ]
  },
  {
   "cell_type": "code",
   "execution_count": null,
   "metadata": {},
   "outputs": [],
   "source": []
  }
 ],
 "metadata": {
  "kernelspec": {
   "display_name": "Python 3",
   "language": "python",
   "name": "python3"
  },
  "language_info": {
   "codemirror_mode": {
    "name": "ipython",
    "version": 3
   },
   "file_extension": ".py",
   "mimetype": "text/x-python",
   "name": "python",
   "nbconvert_exporter": "python",
   "pygments_lexer": "ipython3",
   "version": "3.6.8"
  }
 },
 "nbformat": 4,
 "nbformat_minor": 2
}
