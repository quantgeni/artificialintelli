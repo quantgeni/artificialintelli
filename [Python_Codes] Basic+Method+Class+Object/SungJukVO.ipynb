{
 "cells": [
  {
   "cell_type": "code",
   "execution_count": null,
   "metadata": {},
   "outputs": [],
   "source": [
    "class SungJukVO:\n",
    "    def __init__(self,name,kor,eng,mat):\n",
    "        self.name=name \n",
    "        self.kor=kor \n",
    "        self.eng=eng \n",
    "        self.mat=mat\n",
    "        self.tot=0\n",
    "        self.mean=0.0\n",
    "        self.grade='가'\n",
    "        self.sjno=0\n",
    "        self.regdate=''\n",
    "           \n",
    "    def __str__(self):\n",
    "        msg='%s,%s,%s,%s,%s,%s,%s,%s,%s' %(self.sjno,self.name, self.kor, self.eng, self.mat,self.tot,self.mean,self.grade,self.regdate)\n",
    "        return msg\n",
    "    \n",
    "    def setEtc(self,sjno,tot,mean,grade,regdate):\n",
    "        self.sjno=sjno\n",
    "        self.tot=tot\n",
    "        self.mean=mean\n",
    "        self.grade=grade\n",
    "        self.regdate=regdate\n",
    "        \n",
    "    def printList(self):\n",
    "        msg='%s,%s,%s,%s,%s,%s' %(self.sjno,self.name,self.kor,self.eng,self.mat,str(self.regdate)[0:10]) #regdate 슬라이스 치는거 ㅇㅇ\n",
    "                                                                                                      # (뒤에 시간 안 보려고)\n",
    "                                                                                                      # (뒤에 시간 안 보려고)        \n",
    "        return msg"
   ]
  }
 ],
 "metadata": {
  "kernelspec": {
   "display_name": "Python 3",
   "language": "python",
   "name": "python3"
  },
  "language_info": {
   "codemirror_mode": {
    "name": "ipython",
    "version": 3
   },
   "file_extension": ".py",
   "mimetype": "text/x-python",
   "name": "python",
   "nbconvert_exporter": "python",
   "pygments_lexer": "ipython3",
   "version": "3.6.8"
  }
 },
 "nbformat": 4,
 "nbformat_minor": 2
}
