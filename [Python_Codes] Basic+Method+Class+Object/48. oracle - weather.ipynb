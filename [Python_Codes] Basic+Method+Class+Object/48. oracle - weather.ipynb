{
 "cells": [
  {
   "cell_type": "code",
   "execution_count": 7,
   "metadata": {},
   "outputs": [
    {
     "name": "stdout",
     "output_type": "stream",
     "text": [
      "[]\n"
     ]
    }
   ],
   "source": [
    "from bs4 import BeautifulSoup\n",
    "import requests\n",
    "import cx_Oracle\n",
    "import os\n",
    "\n",
    "headers={'User-Agent':'Mozilla/5.0 (Windows NT 10.0; Win64; x64) AppleWebKit/537.36 (KHTML, like Gecko) Chrome/73.0.3683.103 Safari/537.36'}\n",
    "#브라우저가 아니지만 브라우저인 것처럼 하기 위해 인위적으로 가짜 브라우저 정보 만든 것 (스크레이핑/크롤링 사실 숨기기 위해)\n",
    "url='http://www.kma.go.kr/weather/forecast/mid-term-rss3.jsp?stnId=109'\n",
    "\n",
    "res=requests.get(url,headers=headers)\n",
    "rss=BeautifulSoup(res.text,'lxml')\n",
    "\n",
    "wts=[]\n",
    "for w in rss.find_all('data'):\n",
    "    wts.append(w.tmef.text)\n",
    "    wts.append(w.wf.text)\n",
    "    wts.append(w.tmn.text)\n",
    "    wts.append(w.tmx.text)\n",
    "\n",
    "print(wts)\n",
    "#weathers 테이블에 날씨정보를 저장하는 sql\n",
    "#insert into weathers values ('','','','','')\n",
    "\n",
    "#mysql에 날씨 정보 저장하기\n",
    "sql = 'insert into weathers values (:tmef,:wf,:tmn,:tmx)'\n",
    "os.putenv('NLS_LANG','.UTF8')\n",
    "\n",
    "conn=cx_Oracle.connect('bigdata','bigdata','52.79.135.218/xe')\n",
    "curs=conn.cursor()\n",
    "\n",
    "cnt=int(len(wts)/4)\n",
    "for i in range(0,cnt):\n",
    "    i*=4\n",
    "    curs.execute(sql,tmef=wts[i],wf=wts[i+1],tmn=wts[i+2],tmx=wts[i+3])\n",
    "    \n",
    "conn.commit()\n",
    "conn.close()"
   ]
  }
 ],
 "metadata": {
  "kernelspec": {
   "display_name": "Python 3",
   "language": "python",
   "name": "python3"
  },
  "language_info": {
   "codemirror_mode": {
    "name": "ipython",
    "version": 3
   },
   "file_extension": ".py",
   "mimetype": "text/x-python",
   "name": "python",
   "nbconvert_exporter": "python",
   "pygments_lexer": "ipython3",
   "version": "3.6.8"
  }
 },
 "nbformat": 4,
 "nbformat_minor": 2
}
