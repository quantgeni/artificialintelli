{
 "cells": [
  {
   "cell_type": "markdown",
   "metadata": {},
   "source": [
    "### 변수 variable 선언\n",
    "### 변수는 어떠한 값 저장하는 메모리상 공간(그릇)\n",
    "### 메모리상공간은 고유주소(16진수) 할당\n",
    "### 개발자가 이런 공간 위치를 16진수로 일일이 기억하기 어려움\n",
    "### 메모리상 주소를 문자이름으로 대응시켜 어떤 값을 저장하는데 사용하는 것을 변수라 함\n",
    "### 자바, C++는 달리 변수 선언이 자료형 지정x\n",
    "### 변수에 저장될 값 유형을 추론해서 변수 자료형이 자동으로 지정!!"
   ]
  },
  {
   "cell_type": "code",
   "execution_count": 5,
   "metadata": {},
   "outputs": [
    {
     "name": "stdout",
     "output_type": "stream",
     "text": [
      "True 123 456.789 Hello\n"
     ]
    }
   ],
   "source": [
    "boolVar=True #블리언형\n",
    "intVar=123   #정수형\n",
    "floatVar=456.789 #실수형\n",
    "strVar='Hello' #문자형\n",
    "print(boolVar,intVar,floatVar,strVar)"
   ]
  },
  {
   "cell_type": "markdown",
   "metadata": {},
   "source": [
    "# 변수 할당 시 하나의 코드로 수행"
   ]
  },
  {
   "cell_type": "code",
   "execution_count": 8,
   "metadata": {},
   "outputs": [],
   "source": [
    "a=1\n",
    "b=1\n",
    "a,b=1,2 #a,b변수에 값을 한번에 할당\n",
    "a=1; b=2 # 두 개 명령문을 ;을 사이에 두고 각각 실행"
   ]
  },
  {
   "cell_type": "markdown",
   "metadata": {},
   "source": [
    "# 생성한 변수 유형 확인"
   ]
  },
  {
   "cell_type": "code",
   "execution_count": 11,
   "metadata": {},
   "outputs": [
    {
     "name": "stdout",
     "output_type": "stream",
     "text": [
      "<class 'bool'>\n",
      "<class 'int'>\n",
      "<class 'float'>\n",
      "<class 'str'>\n"
     ]
    }
   ],
   "source": [
    "print(type(boolVar))\n",
    "print(type(intVar))\n",
    "print(type(floatVar))\n",
    "print(type(strVar))"
   ]
  },
  {
   "cell_type": "markdown",
   "metadata": {},
   "source": [
    "# 변수명 규칙 \n",
    "### -> 대/소문자 구분, 첫글자 영문 시작, 예약어불가\n",
    "####    (예약어:  True, False, None, and, or, not, break, continue, return, if, else, elif, for, while, except, finally, gloval, import, try 등)\n"
   ]
  },
  {
   "cell_type": "code",
   "execution_count": 14,
   "metadata": {},
   "outputs": [
    {
     "name": "stdout",
     "output_type": "stream",
     "text": [
      "1\n",
      "3\n"
     ]
    }
   ],
   "source": [
    "a=10\n",
    "b=3\n",
    "print(a%b) #나머지만\n",
    "print(a//b) #몫만"
   ]
  },
  {
   "cell_type": "code",
   "execution_count": 16,
   "metadata": {},
   "outputs": [
    {
     "name": "stdout",
     "output_type": "stream",
     "text": [
      "\n",
      "첫째줄\n",
      "둘째줄\n",
      "셋째줄\n",
      "넷째줄\n",
      "다섯번째줄\n",
      "\n"
     ]
    }
   ],
   "source": [
    "str = \"\"\"\n",
    "첫째줄\n",
    "둘째줄\n",
    "셋째줄\n",
    "넷째줄\n",
    "다섯번째줄\n",
    "\"\"\"\n",
    "print(str) #쌍따옴표 3개"
   ]
  },
  {
   "cell_type": "code",
   "execution_count": 19,
   "metadata": {},
   "outputs": [
    {
     "ename": "SyntaxError",
     "evalue": "EOL while scanning string literal (<ipython-input-19-91f5d9da2025>, line 1)",
     "output_type": "error",
     "traceback": [
      "\u001b[0;36m  File \u001b[0;32m\"<ipython-input-19-91f5d9da2025>\"\u001b[0;36m, line \u001b[0;32m1\u001b[0m\n\u001b[0;31m    str = \"\u001b[0m\n\u001b[0m           ^\u001b[0m\n\u001b[0;31mSyntaxError\u001b[0m\u001b[0;31m:\u001b[0m EOL while scanning string literal\n"
     ]
    }
   ],
   "source": [
    "str = \"\n",
    "첫째줄\n",
    "둘째줄\n",
    "셋째줄\n",
    "넷째줄\n",
    "다섯번째줄\n",
    "\"\n",
    "print(str)"
   ]
  },
  {
   "cell_type": "code",
   "execution_count": 21,
   "metadata": {},
   "outputs": [
    {
     "name": "stdout",
     "output_type": "stream",
     "text": [
      "\n",
      "첫째줄\n",
      "둘째줄\n",
      "셋째줄\n",
      "넷째줄\n",
      "다섯번째줄\n",
      "\n"
     ]
    }
   ],
   "source": [
    "str = '''\n",
    "첫째줄\n",
    "둘째줄\n",
    "셋째줄\n",
    "넷째줄\n",
    "다섯번째줄\n",
    "'''\n",
    "print(str) #따옴표 3개"
   ]
  },
  {
   "cell_type": "markdown",
   "metadata": {},
   "source": [
    "# 산술연산자 : + - * / %(나머지) //(몫) **(제곱)"
   ]
  },
  {
   "cell_type": "code",
   "execution_count": 24,
   "metadata": {},
   "outputs": [
    {
     "name": "stdout",
     "output_type": "stream",
     "text": [
      "5/3 = 1.6666666666666667\n",
      "5//3 = 1\n",
      "5%3 = 2\n",
      "5**3 = 125\n"
     ]
    }
   ],
   "source": [
    "print('5/3 =',5/3)\n",
    "print('5//3 =',5//3)\n",
    "print('5%3 =',5%3) -- 나머지가 위의 1에서의 소수점 이하 아님에 유의!! \n",
    "print('5**3 =',5**3)"
   ]
  },
  {
   "cell_type": "markdown",
   "metadata": {},
   "source": [
    "# 우선순위 : ()을 사용하면 연산 우선순위 변경"
   ]
  },
  {
   "cell_type": "code",
   "execution_count": 26,
   "metadata": {},
   "outputs": [
    {
     "name": "stdout",
     "output_type": "stream",
     "text": [
      "47 2.5555555555555554\n",
      "63 0.7777777777777778\n"
     ]
    }
   ],
   "source": [
    "a,b,c=2,5,9\n",
    "print(a+b*c,a+b/c)\n",
    "print((a+b)*c,(a+b)/c)"
   ]
  },
  {
   "cell_type": "code",
   "execution_count": null,
   "metadata": {},
   "outputs": [],
   "source": []
  }
 ],
 "metadata": {
  "kernelspec": {
   "display_name": "Python 3",
   "language": "python",
   "name": "python3"
  },
  "language_info": {
   "codemirror_mode": {
    "name": "ipython",
    "version": 3
   },
   "file_extension": ".py",
   "mimetype": "text/x-python",
   "name": "python",
   "nbconvert_exporter": "python",
   "pygments_lexer": "ipython3",
   "version": "3.6.8"
  }
 },
 "nbformat": 4,
 "nbformat_minor": 2
}
