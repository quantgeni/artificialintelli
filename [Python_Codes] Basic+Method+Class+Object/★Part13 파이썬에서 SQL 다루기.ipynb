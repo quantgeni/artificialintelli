{
 "cells": [
  {
   "cell_type": "markdown",
   "metadata": {},
   "source": [
    "# 파이썬으로 MySQL 다루기\n",
    "### 파이썬에서 MySQL 데이터베이스를 사용하려면 Python DB API 규약에 맞게 작성된 MySQL DB 모듈이 필요\n",
    "### 일반적으로 PyMysql 모듈을 많이 사용\n",
    "### => pip install PyMysql 먼저 해야 함 (리눅스...)\n",
    "### => pip install --user PyMysql 먼저 해야 함 (리눅스...) <- 이걸로? -_-;;"
   ]
  },
  {
   "cell_type": "code",
   "execution_count": 10,
   "metadata": {},
   "outputs": [],
   "source": [
    "import pymysql"
   ]
  },
  {
   "cell_type": "code",
   "execution_count": 22,
   "metadata": {},
   "outputs": [],
   "source": [
    "#mysql 데이터베이스 연결\n",
    "conn=pymysql.connect(host='52.79.135.218',user='bigdata',password='bigdata0220',db='bigdata',charset='utf8')"
   ]
  },
  {
   "cell_type": "code",
   "execution_count": 23,
   "metadata": {},
   "outputs": [],
   "source": [
    "#connection으로부터 cursor 생성\n",
    "curs=conn.cursor()"
   ]
  },
  {
   "cell_type": "code",
   "execution_count": 27,
   "metadata": {},
   "outputs": [
    {
     "data": {
      "text/plain": [
       "10"
      ]
     },
     "execution_count": 27,
     "metadata": {},
     "output_type": "execute_result"
    }
   ],
   "source": [
    "#SQL 질의문 생성 및 실행\n",
    "sql='select * from Bookss'\n",
    "curs.execute(sql)"
   ]
  },
  {
   "cell_type": "code",
   "execution_count": 25,
   "metadata": {},
   "outputs": [
    {
     "name": "stdout",
     "output_type": "stream",
     "text": [
      "(1, '축구의 역사', '굿스포츠', 7000, datetime.datetime(2019, 2, 26, 5, 42, 55))\n",
      "(2, '축구아는 여자', '나무수', 13000, datetime.datetime(2019, 2, 26, 5, 42, 55))\n",
      "(3, '축구의 이해', '대한미디어', 22000, datetime.datetime(2019, 2, 26, 5, 42, 55))\n",
      "(4, '골프 바이블', '대한미디어', 35000, datetime.datetime(2019, 2, 26, 5, 42, 55))\n",
      "(5, '피겨 교본', '굿스포츠', 8000, datetime.datetime(2019, 2, 26, 5, 42, 55))\n",
      "(6, '역도 단계별기술', '굿스포츠', 6000, datetime.datetime(2019, 2, 26, 5, 42, 55))\n",
      "(7, '야구의 추억', '이상미디어', 20000, datetime.datetime(2019, 2, 26, 5, 42, 55))\n",
      "(8, '야구를 부탁해', '이상미디어', 13000, datetime.datetime(2019, 2, 26, 5, 42, 55))\n",
      "(9, '올림픽 이야기', '삼성당', 7500, datetime.datetime(2019, 2, 26, 5, 42, 55))\n",
      "(10, 'Olympic Champions', 'Pearson', 13000, datetime.datetime(2019, 2, 26, 5, 42, 55))\n"
     ]
    }
   ],
   "source": [
    "#결과집합처리\n",
    "for rs in curs.fetchall():\n",
    "    print(rs)"
   ]
  },
  {
   "cell_type": "code",
   "execution_count": 58,
   "metadata": {},
   "outputs": [
    {
     "name": "stdout",
     "output_type": "stream",
     "text": [
      "(1, 1, 1, 6000, datetime.datetime(2014, 7, 1, 0, 0), '축구의 역사', '굿스포츠', 7000, datetime.datetime(2019, 2, 28, 3, 11), '박지성', '영국 맨체스타', '000-5000-0001', datetime.datetime(2019, 2, 28, 3, 11, 5))\n",
      "(1, 3, 2, 21000, datetime.datetime(2014, 7, 3, 0, 0), '축구의 이해', '대한미디어', 22000, datetime.datetime(2019, 2, 28, 3, 11), '박지성', '영국 맨체스타', '000-5000-0001', datetime.datetime(2019, 2, 28, 3, 11, 5))\n",
      "(1, 2, 6, 12000, datetime.datetime(2014, 7, 7, 0, 0), '축구아는 여자', '나무수', 13000, datetime.datetime(2019, 2, 28, 3, 11), '박지성', '영국 맨체스타', '000-5000-0001', datetime.datetime(2019, 2, 28, 3, 11, 5))\n",
      "(2, 5, 3, 8000, datetime.datetime(2014, 7, 3, 0, 0), '피겨 교본', '굿스포츠', 8000, datetime.datetime(2019, 2, 28, 3, 11), '김연아', '대한민국 서울', '000-6000-0001', datetime.datetime(2019, 2, 28, 3, 11, 5))\n",
      "(2, 10, 9, 7000, datetime.datetime(2014, 7, 9, 0, 0), 'Olympic Champions', 'Pearson', 13000, datetime.datetime(2019, 2, 28, 3, 11), '김연아', '대한민국 서울', '000-6000-0001', datetime.datetime(2019, 2, 28, 3, 11, 5))\n",
      "(3, 6, 4, 6000, datetime.datetime(2014, 7, 4, 0, 0), '역도 단계별기술', '굿스포츠', 6000, datetime.datetime(2019, 2, 28, 3, 11), '장미란', '대한민국 강원도', '000-7000-0001', datetime.datetime(2019, 2, 28, 3, 11, 5))\n",
      "(3, 10, 8, 12000, datetime.datetime(2014, 7, 8, 0, 0), 'Olympic Champions', 'Pearson', 13000, datetime.datetime(2019, 2, 28, 3, 11), '장미란', '대한민국 강원도', '000-7000-0001', datetime.datetime(2019, 2, 28, 3, 11, 5))\n",
      "(3, 8, 10, 13000, datetime.datetime(2014, 7, 10, 0, 0), '야구를 부탁해', '이상미디어', 13000, datetime.datetime(2019, 2, 28, 3, 11), '장미란', '대한민국 강원도', '000-7000-0001', datetime.datetime(2019, 2, 28, 3, 11, 5))\n",
      "(4, 7, 5, 20000, datetime.datetime(2014, 7, 5, 0, 0), '야구의 추억', '이상미디어', 20000, datetime.datetime(2019, 2, 28, 3, 11), '추신수', '미국 클리블랜드', '000-8000-0001', datetime.datetime(2019, 2, 28, 3, 11, 5))\n",
      "(4, 8, 7, 13000, datetime.datetime(2014, 7, 7, 0, 0), '야구를 부탁해', '이상미디어', 13000, datetime.datetime(2019, 2, 28, 3, 11), '추신수', '미국 클리블랜드', '000-8000-0001', datetime.datetime(2019, 2, 28, 3, 11, 5))\n"
     ]
    }
   ],
   "source": [
    "#HR데이터베이스의 Books, Customers, Orders를 inner join한 후 조회\n",
    "#mysql 데이터베이스 연결\n",
    "conn=pymysql.connect(host='52.79.135.218',user='bigdata',password='bigdata0220',db='hr',charset='utf8')\n",
    "\n",
    "#connection으로부터 cursor 생성\n",
    "curs=conn.cursor()\n",
    "\n",
    "#SQL 질의문 생성 및 실행\n",
    "sql='select * from Orders join Books using (book'\\\n",
    "'id)'\\\n",
    "' join Customers using (custid)'\n",
    "curs.execute(sql)\n",
    "\n",
    "#결과집합처리\n",
    "#i=0\n",
    "for rs in curs.fetchall():\n",
    "    #i+=1\n",
    "    #print(i)\n",
    "    print(rs)\n",
    "    #print(rs[0],rs[1],rs[2]) #배열기반 커서\n",
    "    \n",
    "curs.close() #커서도 닫음\n",
    "conn.close()"
   ]
  },
  {
   "cell_type": "code",
   "execution_count": 83,
   "metadata": {},
   "outputs": [
    {
     "name": "stdout",
     "output_type": "stream",
     "text": [
      "[1, 2, 3, 4, 5, 6, 7, 8, 9, 10, 11, 12, 13, 14, 15, 16, 17, 18, 19, 20, 21, 22, 23, 24, 25, 26, 27, 28, 29, 30, 31, 32, 33, 34, 35, 36, 37, 38, 39, 40, 41, 42, 43, 44, 45, 46, 47, 48, 49, 50, 51, 52, 53, 54, 55, 56, 57, 58, 59, 60, 61, 62, 63, 64, 65, 66, 67, 68, 69, 70, 71, 72, 73, 74, 75, 76, 77, 78, 79, 80, 81, 82, 83, 84, 85, 86, 87, 88, 89, 90, 91, 92, 93, 94, 95, 96, 97, 98, 99, 100]\n",
      "[2, 4, 6, 8, 10, 12, 14, 16, 18, 20, 22, 24, 26, 28, 30, 32, 34, 36, 38, 40, 42, 44, 46, 48, 50, 52, 54, 56, 58, 60, 62, 64, 66, 68, 70, 72, 74, 76, 78, 80, 82, 84, 86, 88, 90, 92, 94, 96, 98, 100]\n",
      "[3, 6, 9, 12, 15, 18, 21, 24, 27, 30, 33, 36, 39, 42, 45, 48, 51, 54, 57, 60, 63, 66, 69, 72, 75, 78, 81, 84, 87, 90, 93, 96, 99]\n",
      "[5, 10, 15, 20, 25, 30, 35, 40, 45, 50, 55, 60, 65, 70, 75, 80, 85, 90, 95, 100]\n"
     ]
    },
    {
     "ename": "ProgrammingError",
     "evalue": "(1064, \"You have an error in your SQL syntax; check the manual that corresponds to your MariaDB server version for the right syntax to use near ')' at line 1\")",
     "output_type": "error",
     "traceback": [
      "\u001b[0;31m---------------------------------------------------------------------------\u001b[0m",
      "\u001b[0;31mProgrammingError\u001b[0m                          Traceback (most recent call last)",
      "\u001b[0;32m<ipython-input-83-290a05ea974f>\u001b[0m in \u001b[0;36m<module>\u001b[0;34m\u001b[0m\n\u001b[1;32m     43\u001b[0m \u001b[0msql3\u001b[0m\u001b[0;34m=\u001b[0m\u001b[0;34m'select * from numbers235'\u001b[0m\u001b[0;34m\u001b[0m\u001b[0;34m\u001b[0m\u001b[0m\n\u001b[1;32m     44\u001b[0m \u001b[0;34m\u001b[0m\u001b[0m\n\u001b[0;32m---> 45\u001b[0;31m \u001b[0mcurs\u001b[0m\u001b[0;34m.\u001b[0m\u001b[0mexecute\u001b[0m\u001b[0;34m(\u001b[0m\u001b[0msql1\u001b[0m\u001b[0;34m)\u001b[0m\u001b[0;34m\u001b[0m\u001b[0;34m\u001b[0m\u001b[0m\n\u001b[0m\u001b[1;32m     46\u001b[0m \u001b[0mcurs\u001b[0m\u001b[0;34m.\u001b[0m\u001b[0mexecute\u001b[0m\u001b[0;34m(\u001b[0m\u001b[0msql2\u001b[0m\u001b[0;34m)\u001b[0m\u001b[0;34m\u001b[0m\u001b[0;34m\u001b[0m\u001b[0m\n\u001b[1;32m     47\u001b[0m \u001b[0mcurs\u001b[0m\u001b[0;34m.\u001b[0m\u001b[0mexecute\u001b[0m\u001b[0;34m(\u001b[0m\u001b[0msql3\u001b[0m\u001b[0;34m)\u001b[0m\u001b[0;34m\u001b[0m\u001b[0;34m\u001b[0m\u001b[0m\n",
      "\u001b[0;32m/usr/local/python3/lib/python3.6/site-packages/pymysql/cursors.py\u001b[0m in \u001b[0;36mexecute\u001b[0;34m(self, query, args)\u001b[0m\n\u001b[1;32m    168\u001b[0m         \u001b[0mquery\u001b[0m \u001b[0;34m=\u001b[0m \u001b[0mself\u001b[0m\u001b[0;34m.\u001b[0m\u001b[0mmogrify\u001b[0m\u001b[0;34m(\u001b[0m\u001b[0mquery\u001b[0m\u001b[0;34m,\u001b[0m \u001b[0margs\u001b[0m\u001b[0;34m)\u001b[0m\u001b[0;34m\u001b[0m\u001b[0;34m\u001b[0m\u001b[0m\n\u001b[1;32m    169\u001b[0m \u001b[0;34m\u001b[0m\u001b[0m\n\u001b[0;32m--> 170\u001b[0;31m         \u001b[0mresult\u001b[0m \u001b[0;34m=\u001b[0m \u001b[0mself\u001b[0m\u001b[0;34m.\u001b[0m\u001b[0m_query\u001b[0m\u001b[0;34m(\u001b[0m\u001b[0mquery\u001b[0m\u001b[0;34m)\u001b[0m\u001b[0;34m\u001b[0m\u001b[0;34m\u001b[0m\u001b[0m\n\u001b[0m\u001b[1;32m    171\u001b[0m         \u001b[0mself\u001b[0m\u001b[0;34m.\u001b[0m\u001b[0m_executed\u001b[0m \u001b[0;34m=\u001b[0m \u001b[0mquery\u001b[0m\u001b[0;34m\u001b[0m\u001b[0;34m\u001b[0m\u001b[0m\n\u001b[1;32m    172\u001b[0m         \u001b[0;32mreturn\u001b[0m \u001b[0mresult\u001b[0m\u001b[0;34m\u001b[0m\u001b[0;34m\u001b[0m\u001b[0m\n",
      "\u001b[0;32m/usr/local/python3/lib/python3.6/site-packages/pymysql/cursors.py\u001b[0m in \u001b[0;36m_query\u001b[0;34m(self, q)\u001b[0m\n\u001b[1;32m    326\u001b[0m         \u001b[0mself\u001b[0m\u001b[0;34m.\u001b[0m\u001b[0m_last_executed\u001b[0m \u001b[0;34m=\u001b[0m \u001b[0mq\u001b[0m\u001b[0;34m\u001b[0m\u001b[0;34m\u001b[0m\u001b[0m\n\u001b[1;32m    327\u001b[0m         \u001b[0mself\u001b[0m\u001b[0;34m.\u001b[0m\u001b[0m_clear_result\u001b[0m\u001b[0;34m(\u001b[0m\u001b[0;34m)\u001b[0m\u001b[0;34m\u001b[0m\u001b[0;34m\u001b[0m\u001b[0m\n\u001b[0;32m--> 328\u001b[0;31m         \u001b[0mconn\u001b[0m\u001b[0;34m.\u001b[0m\u001b[0mquery\u001b[0m\u001b[0;34m(\u001b[0m\u001b[0mq\u001b[0m\u001b[0;34m)\u001b[0m\u001b[0;34m\u001b[0m\u001b[0;34m\u001b[0m\u001b[0m\n\u001b[0m\u001b[1;32m    329\u001b[0m         \u001b[0mself\u001b[0m\u001b[0;34m.\u001b[0m\u001b[0m_do_get_result\u001b[0m\u001b[0;34m(\u001b[0m\u001b[0;34m)\u001b[0m\u001b[0;34m\u001b[0m\u001b[0;34m\u001b[0m\u001b[0m\n\u001b[1;32m    330\u001b[0m         \u001b[0;32mreturn\u001b[0m \u001b[0mself\u001b[0m\u001b[0;34m.\u001b[0m\u001b[0mrowcount\u001b[0m\u001b[0;34m\u001b[0m\u001b[0;34m\u001b[0m\u001b[0m\n",
      "\u001b[0;32m/usr/local/python3/lib/python3.6/site-packages/pymysql/connections.py\u001b[0m in \u001b[0;36mquery\u001b[0;34m(self, sql, unbuffered)\u001b[0m\n\u001b[1;32m    515\u001b[0m                 \u001b[0msql\u001b[0m \u001b[0;34m=\u001b[0m \u001b[0msql\u001b[0m\u001b[0;34m.\u001b[0m\u001b[0mencode\u001b[0m\u001b[0;34m(\u001b[0m\u001b[0mself\u001b[0m\u001b[0;34m.\u001b[0m\u001b[0mencoding\u001b[0m\u001b[0;34m,\u001b[0m \u001b[0;34m'surrogateescape'\u001b[0m\u001b[0;34m)\u001b[0m\u001b[0;34m\u001b[0m\u001b[0;34m\u001b[0m\u001b[0m\n\u001b[1;32m    516\u001b[0m         \u001b[0mself\u001b[0m\u001b[0;34m.\u001b[0m\u001b[0m_execute_command\u001b[0m\u001b[0;34m(\u001b[0m\u001b[0mCOMMAND\u001b[0m\u001b[0;34m.\u001b[0m\u001b[0mCOM_QUERY\u001b[0m\u001b[0;34m,\u001b[0m \u001b[0msql\u001b[0m\u001b[0;34m)\u001b[0m\u001b[0;34m\u001b[0m\u001b[0;34m\u001b[0m\u001b[0m\n\u001b[0;32m--> 517\u001b[0;31m         \u001b[0mself\u001b[0m\u001b[0;34m.\u001b[0m\u001b[0m_affected_rows\u001b[0m \u001b[0;34m=\u001b[0m \u001b[0mself\u001b[0m\u001b[0;34m.\u001b[0m\u001b[0m_read_query_result\u001b[0m\u001b[0;34m(\u001b[0m\u001b[0munbuffered\u001b[0m\u001b[0;34m=\u001b[0m\u001b[0munbuffered\u001b[0m\u001b[0;34m)\u001b[0m\u001b[0;34m\u001b[0m\u001b[0;34m\u001b[0m\u001b[0m\n\u001b[0m\u001b[1;32m    518\u001b[0m         \u001b[0;32mreturn\u001b[0m \u001b[0mself\u001b[0m\u001b[0;34m.\u001b[0m\u001b[0m_affected_rows\u001b[0m\u001b[0;34m\u001b[0m\u001b[0;34m\u001b[0m\u001b[0m\n\u001b[1;32m    519\u001b[0m \u001b[0;34m\u001b[0m\u001b[0m\n",
      "\u001b[0;32m/usr/local/python3/lib/python3.6/site-packages/pymysql/connections.py\u001b[0m in \u001b[0;36m_read_query_result\u001b[0;34m(self, unbuffered)\u001b[0m\n\u001b[1;32m    730\u001b[0m         \u001b[0;32melse\u001b[0m\u001b[0;34m:\u001b[0m\u001b[0;34m\u001b[0m\u001b[0;34m\u001b[0m\u001b[0m\n\u001b[1;32m    731\u001b[0m             \u001b[0mresult\u001b[0m \u001b[0;34m=\u001b[0m \u001b[0mMySQLResult\u001b[0m\u001b[0;34m(\u001b[0m\u001b[0mself\u001b[0m\u001b[0;34m)\u001b[0m\u001b[0;34m\u001b[0m\u001b[0;34m\u001b[0m\u001b[0m\n\u001b[0;32m--> 732\u001b[0;31m             \u001b[0mresult\u001b[0m\u001b[0;34m.\u001b[0m\u001b[0mread\u001b[0m\u001b[0;34m(\u001b[0m\u001b[0;34m)\u001b[0m\u001b[0;34m\u001b[0m\u001b[0;34m\u001b[0m\u001b[0m\n\u001b[0m\u001b[1;32m    733\u001b[0m         \u001b[0mself\u001b[0m\u001b[0;34m.\u001b[0m\u001b[0m_result\u001b[0m \u001b[0;34m=\u001b[0m \u001b[0mresult\u001b[0m\u001b[0;34m\u001b[0m\u001b[0;34m\u001b[0m\u001b[0m\n\u001b[1;32m    734\u001b[0m         \u001b[0;32mif\u001b[0m \u001b[0mresult\u001b[0m\u001b[0;34m.\u001b[0m\u001b[0mserver_status\u001b[0m \u001b[0;32mis\u001b[0m \u001b[0;32mnot\u001b[0m \u001b[0;32mNone\u001b[0m\u001b[0;34m:\u001b[0m\u001b[0;34m\u001b[0m\u001b[0;34m\u001b[0m\u001b[0m\n",
      "\u001b[0;32m/usr/local/python3/lib/python3.6/site-packages/pymysql/connections.py\u001b[0m in \u001b[0;36mread\u001b[0;34m(self)\u001b[0m\n\u001b[1;32m   1073\u001b[0m     \u001b[0;32mdef\u001b[0m \u001b[0mread\u001b[0m\u001b[0;34m(\u001b[0m\u001b[0mself\u001b[0m\u001b[0;34m)\u001b[0m\u001b[0;34m:\u001b[0m\u001b[0;34m\u001b[0m\u001b[0;34m\u001b[0m\u001b[0m\n\u001b[1;32m   1074\u001b[0m         \u001b[0;32mtry\u001b[0m\u001b[0;34m:\u001b[0m\u001b[0;34m\u001b[0m\u001b[0;34m\u001b[0m\u001b[0m\n\u001b[0;32m-> 1075\u001b[0;31m             \u001b[0mfirst_packet\u001b[0m \u001b[0;34m=\u001b[0m \u001b[0mself\u001b[0m\u001b[0;34m.\u001b[0m\u001b[0mconnection\u001b[0m\u001b[0;34m.\u001b[0m\u001b[0m_read_packet\u001b[0m\u001b[0;34m(\u001b[0m\u001b[0;34m)\u001b[0m\u001b[0;34m\u001b[0m\u001b[0;34m\u001b[0m\u001b[0m\n\u001b[0m\u001b[1;32m   1076\u001b[0m \u001b[0;34m\u001b[0m\u001b[0m\n\u001b[1;32m   1077\u001b[0m             \u001b[0;32mif\u001b[0m \u001b[0mfirst_packet\u001b[0m\u001b[0;34m.\u001b[0m\u001b[0mis_ok_packet\u001b[0m\u001b[0;34m(\u001b[0m\u001b[0;34m)\u001b[0m\u001b[0;34m:\u001b[0m\u001b[0;34m\u001b[0m\u001b[0;34m\u001b[0m\u001b[0m\n",
      "\u001b[0;32m/usr/local/python3/lib/python3.6/site-packages/pymysql/connections.py\u001b[0m in \u001b[0;36m_read_packet\u001b[0;34m(self, packet_type)\u001b[0m\n\u001b[1;32m    682\u001b[0m \u001b[0;34m\u001b[0m\u001b[0m\n\u001b[1;32m    683\u001b[0m         \u001b[0mpacket\u001b[0m \u001b[0;34m=\u001b[0m \u001b[0mpacket_type\u001b[0m\u001b[0;34m(\u001b[0m\u001b[0mbuff\u001b[0m\u001b[0;34m,\u001b[0m \u001b[0mself\u001b[0m\u001b[0;34m.\u001b[0m\u001b[0mencoding\u001b[0m\u001b[0;34m)\u001b[0m\u001b[0;34m\u001b[0m\u001b[0;34m\u001b[0m\u001b[0m\n\u001b[0;32m--> 684\u001b[0;31m         \u001b[0mpacket\u001b[0m\u001b[0;34m.\u001b[0m\u001b[0mcheck_error\u001b[0m\u001b[0;34m(\u001b[0m\u001b[0;34m)\u001b[0m\u001b[0;34m\u001b[0m\u001b[0;34m\u001b[0m\u001b[0m\n\u001b[0m\u001b[1;32m    685\u001b[0m         \u001b[0;32mreturn\u001b[0m \u001b[0mpacket\u001b[0m\u001b[0;34m\u001b[0m\u001b[0;34m\u001b[0m\u001b[0m\n\u001b[1;32m    686\u001b[0m \u001b[0;34m\u001b[0m\u001b[0m\n",
      "\u001b[0;32m/usr/local/python3/lib/python3.6/site-packages/pymysql/protocol.py\u001b[0m in \u001b[0;36mcheck_error\u001b[0;34m(self)\u001b[0m\n\u001b[1;32m    218\u001b[0m             \u001b[0merrno\u001b[0m \u001b[0;34m=\u001b[0m \u001b[0mself\u001b[0m\u001b[0;34m.\u001b[0m\u001b[0mread_uint16\u001b[0m\u001b[0;34m(\u001b[0m\u001b[0;34m)\u001b[0m\u001b[0;34m\u001b[0m\u001b[0;34m\u001b[0m\u001b[0m\n\u001b[1;32m    219\u001b[0m             \u001b[0;32mif\u001b[0m \u001b[0mDEBUG\u001b[0m\u001b[0;34m:\u001b[0m \u001b[0mprint\u001b[0m\u001b[0;34m(\u001b[0m\u001b[0;34m\"errno =\"\u001b[0m\u001b[0;34m,\u001b[0m \u001b[0merrno\u001b[0m\u001b[0;34m)\u001b[0m\u001b[0;34m\u001b[0m\u001b[0;34m\u001b[0m\u001b[0m\n\u001b[0;32m--> 220\u001b[0;31m             \u001b[0merr\u001b[0m\u001b[0;34m.\u001b[0m\u001b[0mraise_mysql_exception\u001b[0m\u001b[0;34m(\u001b[0m\u001b[0mself\u001b[0m\u001b[0;34m.\u001b[0m\u001b[0m_data\u001b[0m\u001b[0;34m)\u001b[0m\u001b[0;34m\u001b[0m\u001b[0;34m\u001b[0m\u001b[0m\n\u001b[0m\u001b[1;32m    221\u001b[0m \u001b[0;34m\u001b[0m\u001b[0m\n\u001b[1;32m    222\u001b[0m     \u001b[0;32mdef\u001b[0m \u001b[0mdump\u001b[0m\u001b[0;34m(\u001b[0m\u001b[0mself\u001b[0m\u001b[0;34m)\u001b[0m\u001b[0;34m:\u001b[0m\u001b[0;34m\u001b[0m\u001b[0;34m\u001b[0m\u001b[0m\n",
      "\u001b[0;32m/usr/local/python3/lib/python3.6/site-packages/pymysql/err.py\u001b[0m in \u001b[0;36mraise_mysql_exception\u001b[0;34m(data)\u001b[0m\n\u001b[1;32m    107\u001b[0m         \u001b[0merrval\u001b[0m \u001b[0;34m=\u001b[0m \u001b[0mdata\u001b[0m\u001b[0;34m[\u001b[0m\u001b[0;36m3\u001b[0m\u001b[0;34m:\u001b[0m\u001b[0;34m]\u001b[0m\u001b[0;34m.\u001b[0m\u001b[0mdecode\u001b[0m\u001b[0;34m(\u001b[0m\u001b[0;34m'utf-8'\u001b[0m\u001b[0;34m,\u001b[0m \u001b[0;34m'replace'\u001b[0m\u001b[0;34m)\u001b[0m\u001b[0;34m\u001b[0m\u001b[0;34m\u001b[0m\u001b[0m\n\u001b[1;32m    108\u001b[0m     \u001b[0merrorclass\u001b[0m \u001b[0;34m=\u001b[0m \u001b[0merror_map\u001b[0m\u001b[0;34m.\u001b[0m\u001b[0mget\u001b[0m\u001b[0;34m(\u001b[0m\u001b[0merrno\u001b[0m\u001b[0;34m,\u001b[0m \u001b[0mInternalError\u001b[0m\u001b[0;34m)\u001b[0m\u001b[0;34m\u001b[0m\u001b[0;34m\u001b[0m\u001b[0m\n\u001b[0;32m--> 109\u001b[0;31m     \u001b[0;32mraise\u001b[0m \u001b[0merrorclass\u001b[0m\u001b[0;34m(\u001b[0m\u001b[0merrno\u001b[0m\u001b[0;34m,\u001b[0m \u001b[0merrval\u001b[0m\u001b[0;34m)\u001b[0m\u001b[0;34m\u001b[0m\u001b[0;34m\u001b[0m\u001b[0m\n\u001b[0m",
      "\u001b[0;31mProgrammingError\u001b[0m: (1064, \"You have an error in your SQL syntax; check the manual that corresponds to your MariaDB server version for the right syntax to use near ')' at line 1\")"
     ]
    }
   ],
   "source": [
    "#1-100까지 2배수, 3배수, 5배수를 테이블에 저장\n",
    "#테이블 이름 => numbers235\n",
    "#칼럼명은 각각 no,no2,no3,no5\n",
    "\n",
    "#테이블생성:create table\n",
    "#값 저장:insert into\n",
    "#테이블삭제:drop table\n",
    "#작업내용 서버에 반영\n",
    "\n",
    "#HR데이터베이스의 Books, Customers, Orders를 inner join한 후 조회\n",
    "#mysql 데이터베이스 연결\n",
    "conn=pymysql.connect(host='52.79.135.218',user='bigdata',password='bigdata0220',db='hr',charset='utf8')\n",
    "\n",
    "#connection으로부터 cursor 생성\n",
    "curs=conn.cursor()\n",
    "\n",
    "#SQL 질의문 생성 및 실행\n",
    "sql1=' create table numbers235 ( '\\\n",
    "' no int, '\\\n",
    "' no2 int, '\\\n",
    "' no3 int, '\\\n",
    "' no5 int, '\\\n",
    "' ) '\n",
    "\n",
    "no=[]\n",
    "no2=[]\n",
    "no3=[]\n",
    "no5=[]\n",
    "for i in range(1,100+1):\n",
    "    no.append(i)\n",
    "    if i%2==0:\n",
    "        no2.append(i) \n",
    "    if i%3==0:\n",
    "        no3.append(i)\n",
    "    if i%5==0:\n",
    "        no5.append(i)\n",
    "\n",
    "print(no);print(no2);print(no3);print(no5)\n",
    "\n",
    "sql2=' insert into numbers235 '\\\n",
    "' values(no,no2,no3,no5) '\n",
    "\n",
    "sql3='select * from numbers235'\n",
    "\n",
    "curs.execute(sql1)\n",
    "curs.execute(sql2)\n",
    "curs.execute(sql3)\n",
    "\n",
    "#결과집합처리\n",
    "#i=0\n",
    "for rs in curs.fetchall(sql3):\n",
    "    #i+=1\n",
    "    #print(i)\n",
    "    print(rs)\n",
    "    #print(rs[0],rs[1],rs[2]) #배열기반 커서\n",
    "    \n",
    "curs.close() #커서도 닫음\n",
    "conn.close()"
   ]
  },
  {
   "cell_type": "code",
   "execution_count": null,
   "metadata": {},
   "outputs": [],
   "source": [
    "#HR데이터베이스의 Books, Customers, Orders를 inner join한 후 조회\n",
    "#mysql 데이터베이스 연결\n",
    "import pymysql\n",
    "conn=pymysql.connect(host='52.79.135.218',user='bigdata',password='bigdata0220',db='hr',charset='utf8')\n",
    "\n",
    "#connection으로부터 cursor 생성\n",
    "curs=conn.cursor()\n",
    "\n",
    "#SQL 질의문 생성 및 실행\n",
    "sq1='drop table numbers235'\n",
    "\n",
    "sql2='create table numbers235 (no int, no2 int, no3 int, no5 int)'\n",
    "\n",
    "sql3='insert into numbers235 values (%s,%s,%s,%s)'\n",
    "\n",
    "curs.execute(sql1)\n",
    "curs.execute(sql2)\n",
    "    \n",
    "for i in range(1,100+1):\n",
    "    curs.execute(' insert into numbers235 values('+str(i)+','+str(i*2)+','+str(i*3)+','+str(i*5)+') ')\n",
    "    #insert 질의문 작성 시 질의문과 입력값을 함께 사용하면 가독성 떨어지고 유지보수 어려움. 또한 SQL injection 공격 당할 빌미 제공\n",
    "conn.commit()\n",
    "conn.close()"
   ]
  },
  {
   "cell_type": "code",
   "execution_count": 110,
   "metadata": {},
   "outputs": [],
   "source": [
    "#HR데이터베이스의 Books, Customers, Orders를 inner join한 후 조회\n",
    "#mysql 데이터베이스 연결\n",
    "import pymysql\n",
    "conn=pymysql.connect(host='52.79.135.218',user='bigdata',password='bigdata0220',db='hr',charset='utf8')\n",
    "\n",
    "#connection으로부터 cursor 생성\n",
    "curs=conn.cursor()\n",
    "\n",
    "#SQL 질의문 생성 및 실행\n",
    "sql1='drop table numbers235'\n",
    "\n",
    "sql2='create table numbers235 (no int, no2 int, no3 int, no5 int)'\n",
    "\n",
    "sql3='insert into numbers235 values (%s,%s,%s,%s)'\n",
    "\n",
    "sql4='select * from numbers235'\n",
    "\n",
    "curs.execute(sql1)\n",
    "curs.execute(sql2)\n",
    "\n",
    "for i in range(1,100+1):\n",
    "    curs.execute(sql3,(i,i*2,i*3,i*5))\n",
    "    #SQL 질의문 작성 시 매개변수 binding 이용하면 가독성 좋아지고 유지보수 용이함. SQL injection 공격 대비도 됨\n",
    "\n",
    "#curs.execute(sql4)\n",
    "#for rs in curs.fetchall():\n",
    "    #print(rs)\n",
    "\n",
    "conn.commit()\n",
    "conn.close()"
   ]
  },
  {
   "cell_type": "code",
   "execution_count": 124,
   "metadata": {},
   "outputs": [
    {
     "name": "stdout",
     "output_type": "stream",
     "text": [
      "('손담비', 57, 84, 32, 173, Decimal('57.7'), 'F! Study more!')\n"
     ]
    }
   ],
   "source": [
    "import pymysql\n",
    "conn=pymysql.connect(host='52.79.135.218',user='bigdata',password='bigdata0220',db='bigdata',charset='utf8')\n",
    "\n",
    "sql='select * from SungJuk'\n",
    "\n",
    "curs=conn.cursor()\n",
    "curs.execute(sql)\n",
    "\n",
    "for rs in curs.fetchall():\n",
    "    print(rs)"
   ]
  },
  {
   "cell_type": "code",
   "execution_count": null,
   "metadata": {},
   "outputs": [],
   "source": []
  },
  {
   "cell_type": "code",
   "execution_count": 136,
   "metadata": {},
   "outputs": [
    {
     "name": "stdout",
     "output_type": "stream",
     "text": [
      "140 46.666666666666664 F! Study more!\n"
     ]
    }
   ],
   "source": [
    "tot,mean,grade=computeSungJuk(50,55,35)\n",
    "print(tot,mean,grade)\n",
    "\n",
    "def computeSungJuk(kor,eng,mat):\n",
    "    tot=kor+eng+mat\n",
    "    mean=tot/3\n",
    "    if mean>=90:grade='A'\n",
    "    elif mean>=90:grade='B'\n",
    "    elif mean>=90:grade='C'\n",
    "    elif mean>=90:grade='D'\n",
    "    else:grade='F! Study more!'\n",
    "    return tot,mean,grade"
   ]
  },
  {
   "cell_type": "code",
   "execution_count": 142,
   "metadata": {},
   "outputs": [
    {
     "name": "stdout",
     "output_type": "stream",
     "text": [
      "165 55.0 F! Study more!\n"
     ]
    }
   ],
   "source": [
    "tot,mean,grade=computeSungJuk3(75,55,35)\n",
    "print(tot,mean,grade)\n",
    "\n",
    "def computeSungJuk3(kor,eng,mat):\n",
    "    tot=kor+eng+mat\n",
    "    mean=tot/3\n",
    "    if mean>=90:grade='A'\n",
    "    elif mean>=90:grade='B'\n",
    "    elif mean>=90:grade='C'\n",
    "    elif mean>=90:grade='D'\n",
    "    else:grade='F! Study more!'\n",
    "    return tot,mean,grade\n",
    "\n"
   ]
  },
  {
   "cell_type": "code",
   "execution_count": 167,
   "metadata": {},
   "outputs": [
    {
     "name": "stdout",
     "output_type": "stream",
     "text": [
      "당신의 이름은?: 손담비\n",
      "국어점수? 95\n",
      "영어점수? 93\n",
      "수학점수? 22\n"
     ]
    },
    {
     "name": "stderr",
     "output_type": "stream",
     "text": [
      "/usr/local/python3/lib/python3.6/site-packages/pymysql/cursors.py:170: Warning: (1265, \"Data truncated for column 'grade' at row 1\")\n",
      "  result = self._query(query)\n"
     ]
    }
   ],
   "source": [
    "#성적 테이블 만들고 이름 국어 영어 수학 입력 시 총점 평균 학점 계산 테이블 저장\n",
    "#테이블명 SungJuk\n",
    "import pymysql\n",
    "conn=pymysql.connect(host='52.79.135.218',user='bigdata',password='bigdata0220',db='bigdata',charset='utf8')\n",
    "\n",
    "\n",
    "def computeSungJuk(kor,eng,mat):\n",
    "    tot=kor+eng+mat\n",
    "    mean=tot/3\n",
    "    if mean>=90:grade='A'\n",
    "    elif mean>=90:grade='B'\n",
    "    elif mean>=90:grade='C'\n",
    "    elif mean>=90:grade='D'\n",
    "    else:grade='F! Study more!'\n",
    "    return tot,mean,grade\n",
    "        \n",
    "sql1='drop table SungJuk'\n",
    "sql2=' create table SungJuk(sjno int primary key auto_increment, ' \\\n",
    "' name varchar(10), kor int default 0, eng int default 0, mat int default 0, tot int default 0, mean decimal(4,1) default 0.0, ' \\\n",
    "' grade varchar(2), regdate datetime default current_timestamp)'\n",
    "sql3='insert into SungJuk(name,kor,eng,mat,tot,mean,grade) values (%s,%s,%s,%s,%s,%s,%s)'\n",
    "\n",
    "curs=conn.cursor() #커서 생성\n",
    "#curs.execute(sql1)\n",
    "curs.execute(sql2)\n",
    "conn.commit()\n",
    "\n",
    "name=input('당신의 이름은?: ')\n",
    "kor=int(input('국어점수? '))\n",
    "eng=int(input('영어점수? '))\n",
    "mat=int(input('수학점수? '))\n",
    "tot,mean,grade=computeSungJuk(kor,eng,mat)\n",
    "\n",
    "param=(name,kor,eng,mat,tot,mean,grade)\n",
    "\n",
    "curs.execute(sql3,param) #param은 set\n",
    "conn.commit()\n",
    "curs.close\n",
    "conn.close()"
   ]
  },
  {
   "cell_type": "code",
   "execution_count": 216,
   "metadata": {},
   "outputs": [
    {
     "name": "stdout",
     "output_type": "stream",
     "text": [
      "2,손담비,95,78,57,2019-04-10\n",
      "1,손담비,95,93,22,2019-04-10\n",
      "F!,손담비,95,93,22,22,210,70.0,2019-04-10 03:08:34\n"
     ]
    }
   ],
   "source": [
    "#클래스를 이용해서 작성\n",
    "\n",
    "#학번 이름 국어 영어 총점 평균 학점 등록일\n",
    "import pymysql\n",
    "\n",
    "class SungJukVO:\n",
    "    def __init__(self,name,kor,eng,mat):\n",
    "        self.name=name \n",
    "        self.kor=kor \n",
    "        self.eng=eng \n",
    "        self.mat=mat\n",
    "        self.tot=0\n",
    "        self.mean=0.0\n",
    "        self.grade='가'\n",
    "        self.sjno=0\n",
    "        self.regdate=''\n",
    "           \n",
    "    def __str__(self):\n",
    "        msg='%s,%s,%s,%s,%s,%s,%s,%s,%s' %(self.sjno,self.name, self.kor, self.eng, self.mat,self.tot,self.mean,self.grade,self.regdate)\n",
    "        return msg\n",
    "    \n",
    "    def setEtc(self,sjno,tot,mean,grade,regdate):\n",
    "        self.sjno=sjno\n",
    "        self.tot=tot\n",
    "        self.mean=mean\n",
    "        self.grade=grade\n",
    "        self.regdate=regdate\n",
    "        \n",
    "    def printList(self):\n",
    "        msg='%s,%s,%s,%s,%s,%s' %(self.sjno,self.name,self.kor,self.eng,self.mat,str(self.regdate)[0:10]) #regdate 슬라이스 치는거 ㅇㅇ\n",
    "                                                                                                      # (뒤에 시간 안 보려고)\n",
    "                                                                                                      # (뒤에 시간 안 보려고)        \n",
    "        return msg\n",
    "\n",
    "#데이터 입력받기, 성적 처리\n",
    "class SungJukService:\n",
    "    def readSungJuk(self):\n",
    "        name=input('이름은? ')\n",
    "        kor=int(input('국어는? : '))\n",
    "        eng=int(input('영어는? : '))\n",
    "        mat=int(input('수학은? : '))\n",
    "        return SungJukVO(name,kor,eng,mat)\n",
    "\n",
    "    def computeSungJuk(self,sj):\n",
    "        sj.tot=sj.kor+sj.eng+sj.mat\n",
    "        sj.mean=sj.tot/5\n",
    "        if sj.mean>=90:sj.grade='A'\n",
    "        elif sj.mean>=90:sj.grade='B'\n",
    "        elif sj.mean>=90:sj.grade='C'           \n",
    "        elif sj.mean>=90:sj.grade='D'\n",
    "        else:sj.grade='F'\n",
    "        return sj.tot,sj.mean,sj.grade\n",
    "            \n",
    "#디비에 입력 조회 수정 삭제\n",
    "class SungJukDAO:\n",
    "    __insertsql=' insert into SungJuk '\\\n",
    "    ' (name,kor,eng,mat,tot,mean,grade) '\\\n",
    "    ' values (%s,%s,%s,%s,%s,%s,%s) '\n",
    "    __selectsql=' select sjno,name,kor,eng,mat, '\\\n",
    "    ' regdate from SungJuk order by sjno desc '\n",
    "    __selectonesql=' select * from SungJuk where sjno=(%s) '\n",
    "    \n",
    "    def makeConn(self):\n",
    "        connstr=['52.79.135.218','bigdata','bigdata0220','utf8']\n",
    "        conn=pymysql.connect(host=connstr[0],user=connstr[1],password=connstr[2],db=connstr[1],charset=connstr[3])\n",
    "        return conn\n",
    "    \n",
    "    def closeConn(self,conn):\n",
    "        conn.commit()\n",
    "        conn.close\n",
    "        \n",
    "    def insertSungJuk(self,sj):\n",
    "        param=(sj.name,sj.kor,sj.eng,sj.mat,sj.tot,sj.mean,sj.grade)\n",
    "        conn=self.makeConn()\n",
    "        cursor=conn.cursor()\n",
    "        cursor.execute(self.__insertsql,param)\n",
    "        self.closeConn(conn)\n",
    "    \n",
    "    def selectSungJuk(self):\n",
    "        conn=self.makeConn()\n",
    "        \n",
    "        cursor=conn.cursor()\n",
    "        cursor.execute(self.__selectsql)\n",
    "        \n",
    "        #for rs in cursor.fetchall():\n",
    "         #   print(rs)\n",
    "        #클래스/함수에 너무 많은 기능/책임 부여하지 않음 (심지어 출력 결과도 이상함)\n",
    "    \n",
    "        #질의 결과 모든 행 출력 방법. 결과들 뽑아서 리스트 저장 후 출력\n",
    "        rows=cursor.fetchall()\n",
    "        sjs=[]\n",
    "        for rs in rows:\n",
    "            sj=SungJukVO(rs[1],rs[2],rs[3],rs[4]) #sj인스턴스를 만들어서\n",
    "            sj.setEtc(rs[0],0,0,0,rs[5]) #쿼리 조회 목적 상 tot,mean,grade 안 쓸거니까 ㅋㅋ\n",
    "            sjs.append(sj) #sjs리스트에 클래스(멤버변수)를 통째로 넣기?!!\n",
    "        \n",
    "        self.closeConn(conn)\n",
    "        return sjs #루프 돌린 리스트(최종)를 리턴\n",
    "    \n",
    "    def selectOneSungJuk(self,sjno):\n",
    "        param=(sjno)\n",
    "        conn=self.makeConn()\n",
    "        cursor=conn.cursor()\n",
    "        cursor.execute(self.__selectonesql,param)\n",
    "        \n",
    "        #for rs in cursor.fetchall():\n",
    "         #   print(rs)\n",
    "\n",
    "        \n",
    "        rows=cursor.fetchall()\n",
    "        sjs2=[]\n",
    "        for rs in rows:\n",
    "            sj2=SungJukVO(rs[1],rs[2],rs[3],rs[4]) #sj인스턴스를 만들어서\n",
    "            sj2.setEtc(rs[7],rs[4],rs[5],rs[6],rs[8])\n",
    "            sjs2.append(sj2) #sjs리스트에 클래스(멤버변수)를 통째로 넣기?!!\n",
    "        self.closeConn(conn)\n",
    "        return sjs2 #루프 돌린 리스트(최종)를 리턴             \n",
    "        \n",
    "    def updateSungJuk(self):\n",
    "        conn=self.makeConn()\n",
    "        self.closeConn(conn)\n",
    "        \n",
    "    def deleteSungJuk(self):\n",
    "        conn=self.makeConn()\n",
    "        self.closeConn(conn)\n",
    "        \n",
    "#성적 프로그램 실행 테스트\n",
    "#sjsrv=SungJukService()\n",
    "sjdao=SungJukDAO()\n",
    "#성적 데이터를 입력하고 성적을 처리하려면 해당 코드가 작성되어 있는 메서드를 호출해야 함\n",
    "#readSungJuk,computeSungJuk 메서드를 호출하려면 해당 메서드가 있는 클래스를 instantiate해야 함 \n",
    "\n",
    "#sj1=sjsrv.readSungJuk()\n",
    "#sjsrv.computeSungJuk(sj1)\n",
    "#print(sj1)\n",
    "\n",
    "#성적프로그램디비실행테스트\n",
    "#sjdao=SungJukDAO\n",
    "#sjdao.insertSungJuk(sj1)\n",
    "\n",
    "\n",
    "sjdao.selectSungJuk()\n",
    "sjs=sjdao.selectSungJuk()\n",
    "for sj in sjs:print(sj.printList())\n",
    "    \n",
    "sjs2=sjdao.selectOneSungJuk(1)\n",
    "for sj2 in sjs2:print(sj2)"
   ]
  },
  {
   "cell_type": "code",
   "execution_count": 234,
   "metadata": {},
   "outputs": [
    {
     "data": {
      "text/plain": [
       "'Ernie 직원은 나이가 23이고, 성별은 남자입니다'"
      ]
     },
     "execution_count": 234,
     "metadata": {},
     "output_type": "execute_result"
    }
   ],
   "source": [
    "class Staff:\n",
    "#생성자 __init__\n",
    "    def __init__(self,empid,name,deptname,gender,tech,age):\n",
    "        self.__empid=empid\n",
    "        self.__name=name\n",
    "        self.__deptname=deptname\n",
    "        self.__gender=gender\n",
    "        self.__tech=tech\n",
    "        self.__age=age\n",
    "#문자열화 함수\n",
    "    def printBIO(self):\n",
    "        if self.__gender=='M':self.__gender='남자'\n",
    "        else:self.__gender='여자'\n",
    "        msg='%s 직원은 나이가 %d이고, 성별은 %s입니다' %(self.__name,self.__age,self.__gender)\n",
    "        return msg   \n",
    "#setter/getter\n",
    "    @property\n",
    "    def empid(self):\n",
    "        return self.__empid\n",
    "    @empid.setter\n",
    "    def name(self,empid):\n",
    "        self.__empid=empid\n",
    "    @property\n",
    "    def name(self):\n",
    "        return self.__name\n",
    "    @name.setter\n",
    "    def name(self,name):\n",
    "        self.__name=name\n",
    "    @property\n",
    "    def deptname(self):\n",
    "        return self.__deptname\n",
    "    @deptname.setter\n",
    "    def deptname(self,deptname):\n",
    "        self.__deptname=deptname\n",
    "    @property\n",
    "    def gender(self):\n",
    "        return self.__gender\n",
    "    @gender.setter\n",
    "    def gender(self,gender):\n",
    "        self.__gender=gender\n",
    "    @property\n",
    "    def tech(self):\n",
    "        return self.__tech\n",
    "    @tech.setter\n",
    "    def tech(self,tech):\n",
    "        self.__tech=tech\n",
    "    @property\n",
    "    def age(self):\n",
    "        return self.__age\n",
    "    @age.setter\n",
    "    def age(self,age):\n",
    "        self.__age=age \n",
    "#Ernie 직원 정보 객체화 (instantiate)\n",
    "Ernie=Staff(3,'Ernie','Sales','M','UNIX,Perl',23)\n",
    "#printBIO() 함수 호출\n",
    "Ernie.printBIO()"
   ]
  },
  {
   "cell_type": "code",
   "execution_count": 236,
   "metadata": {},
   "outputs": [
    {
     "name": "stdout",
     "output_type": "stream",
     "text": [
      "34\n"
     ]
    }
   ],
   "source": [
    "i=0\n",
    "sum=0\n",
    "while True:\n",
    "    i+=1\n",
    "    if i==5 or i==7 or i==9:\n",
    "        continue\n",
    "    if i>10:\n",
    "        break\n",
    "    sum+=i\n",
    "    \n",
    "print(sum)"
   ]
  },
  {
   "cell_type": "code",
   "execution_count": 240,
   "metadata": {},
   "outputs": [
    {
     "name": "stdout",
     "output_type": "stream",
     "text": [
      "[1, 2, 3, 11]\n"
     ]
    }
   ],
   "source": [
    "def f(k,m):\n",
    "    k=k+1\n",
    "    m.append(k)\n",
    "    \n",
    "k=10\n",
    "m=[1,2,3]\n",
    "\n",
    "f(k,m)\n",
    "print(m)"
   ]
  },
  {
   "cell_type": "code",
   "execution_count": 242,
   "metadata": {},
   "outputs": [
    {
     "data": {
      "text/plain": [
       "5.7"
      ]
     },
     "execution_count": 242,
     "metadata": {},
     "output_type": "execute_result"
    }
   ],
   "source": [
    "round(5.678,1)"
   ]
  },
  {
   "cell_type": "code",
   "execution_count": 270,
   "metadata": {},
   "outputs": [
    {
     "data": {
      "text/plain": [
       "8"
      ]
     },
     "execution_count": 270,
     "metadata": {},
     "output_type": "execute_result"
    }
   ],
   "source": [
    "import random\n",
    "\n",
    "random.randint(5,10)"
   ]
  },
  {
   "cell_type": "code",
   "execution_count": 272,
   "metadata": {},
   "outputs": [
    {
     "data": {
      "text/plain": [
       "'Ernie 직원은 나이가 23이고, 성별은 남자입니다'"
      ]
     },
     "execution_count": 272,
     "metadata": {},
     "output_type": "execute_result"
    }
   ],
   "source": [
    "\n",
    "class Staff:\n",
    "#생성자 __init__\n",
    "    def __init__(self,empid,name,deptname,gender,tech,age):\n",
    "        self.__empid=empid\n",
    "        self.__name=name\n",
    "        self.__deptname=deptname\n",
    "        self.__gender=gender\n",
    "        self.__tech=tech\n",
    "        self.__age=age\n",
    "\n",
    "#문자열화 함수 (단, 테이블 상 gender가 'M' 또는 'F'로 저장된 것을 감안, 하기와 같이 각각 '남자', '여자' 변환 if조건문을 추가함)\n",
    "    def printBIO(self):\n",
    "        if self.__gender=='M':self.__gender='남자'\n",
    "        else:self.__gender='여자'\n",
    "        msg='%s 직원은 나이가 %d이고, 성별은 %s입니다' %(self.__name,self.__age,self.__gender)\n",
    "        return msg\n",
    "    \n",
    "#setter/getter\n",
    "    @property\n",
    "    def empid(self):\n",
    "        return self.__empid\n",
    "    \n",
    "    @empid.setter\n",
    "    def name(self,empid):\n",
    "        self.__empid=empid\n",
    "\n",
    "    @property\n",
    "    def name(self):\n",
    "        return self.__name\n",
    "    \n",
    "    @name.setter\n",
    "    def name(self,name):\n",
    "        self.__name=name\n",
    "\n",
    "    @property\n",
    "    def deptname(self):\n",
    "        return self.__deptname\n",
    "    \n",
    "    @deptname.setter\n",
    "    def deptname(self,deptname):\n",
    "        self.__deptname=deptname\n",
    "        \n",
    "    @property\n",
    "    def gender(self):\n",
    "        return self.__gender\n",
    "    \n",
    "    @gender.setter\n",
    "    def gender(self,gender):\n",
    "        self.__gender=gender\n",
    "        \n",
    "    @property\n",
    "    def tech(self):\n",
    "        return self.__tech\n",
    "    \n",
    "    @tech.setter\n",
    "    def tech(self,tech):\n",
    "        self.__tech=tech\n",
    "        \n",
    "    @property\n",
    "    def age(self):\n",
    "        return self.__age\n",
    "    \n",
    "    @age.setter\n",
    "    def age(self,age):\n",
    "        self.__age=age \n",
    "\n",
    "#Ernie 직원 정보 객체화 (instantiate)\n",
    "Ernie=Staff(3,'Ernie','Sales','M','UNIX,Perl',23)\n",
    "\n",
    "#printBIO() 함수 호출\n",
    "Ernie.printBIO()\n",
    "\n",
    "#결과: 'Ernie 직원은 나이가 23이고, 성별은 남자입니다'"
   ]
  },
  {
   "cell_type": "code",
   "execution_count": null,
   "metadata": {},
   "outputs": [],
   "source": []
  }
 ],
 "metadata": {
  "kernelspec": {
   "display_name": "Python 3",
   "language": "python",
   "name": "python3"
  },
  "language_info": {
   "codemirror_mode": {
    "name": "ipython",
    "version": 3
   },
   "file_extension": ".py",
   "mimetype": "text/x-python",
   "name": "python",
   "nbconvert_exporter": "python",
   "pygments_lexer": "ipython3",
   "version": "3.6.8"
  }
 },
 "nbformat": 4,
 "nbformat_minor": 2
}
