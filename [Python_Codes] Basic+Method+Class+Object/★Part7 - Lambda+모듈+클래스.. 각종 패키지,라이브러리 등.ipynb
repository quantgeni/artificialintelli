{
 "cells": [
  {
   "cell_type": "code",
   "execution_count": 1,
   "metadata": {},
   "outputs": [
    {
     "name": "stdout",
     "output_type": "stream",
     "text": [
      "20\n"
     ]
    }
   ],
   "source": [
    "#lambda 함수 => 함수를 간략한 형태로 작성!\n",
    "\n",
    "plus = lambda a, b: a+b\n",
    "print(plus(10,10))"
   ]
  },
  {
   "cell_type": "code",
   "execution_count": 12,
   "metadata": {},
   "outputs": [
    {
     "name": "stdout",
     "output_type": "stream",
     "text": [
      "30\n"
     ]
    }
   ],
   "source": [
    "print((lambda x,y:x+y)(10,20))"
   ]
  },
  {
   "cell_type": "code",
   "execution_count": 2,
   "metadata": {},
   "outputs": [
    {
     "name": "stdout",
     "output_type": "stream",
     "text": [
      "[1, 4, 9, 16, 25]\n"
     ]
    }
   ],
   "source": [
    "print(list(map((lambda x: x*x),[1,2,3,4,5])))"
   ]
  },
  {
   "cell_type": "code",
   "execution_count": 3,
   "metadata": {},
   "outputs": [
    {
     "name": "stdout",
     "output_type": "stream",
     "text": [
      "[1, 4, 9, 16, 25]\n"
     ]
    }
   ],
   "source": [
    "def sq(x):\n",
    "    return x*x\n",
    "print(list(map(sq,[1,2,3,4,5])))"
   ]
  },
  {
   "cell_type": "code",
   "execution_count": 5,
   "metadata": {},
   "outputs": [
    {
     "ename": "SyntaxError",
     "evalue": "invalid syntax (<ipython-input-5-4e57d986d2ca>, line 1)",
     "output_type": "error",
     "traceback": [
      "\u001b[0;36m  File \u001b[0;32m\"<ipython-input-5-4e57d986d2ca>\"\u001b[0;36m, line \u001b[0;32m1\u001b[0m\n\u001b[0;31m    print(list(map((x: x*x),[1,2,3,4,5])))\u001b[0m\n\u001b[0m                     ^\u001b[0m\n\u001b[0;31mSyntaxError\u001b[0m\u001b[0;31m:\u001b[0m invalid syntax\n"
     ]
    }
   ],
   "source": [
    "print(list(map((x: x*x),[1,2,3,4,5]))) #이건 에러 ㅋㅋ 넌 누구냐 에러"
   ]
  },
  {
   "cell_type": "code",
   "execution_count": 14,
   "metadata": {},
   "outputs": [
    {
     "ename": "TypeError",
     "evalue": "<lambda>() takes 1 positional argument but 2 were given",
     "output_type": "error",
     "traceback": [
      "\u001b[0;31m---------------------------------------------------------------------------\u001b[0m",
      "\u001b[0;31mTypeError\u001b[0m                                 Traceback (most recent call last)",
      "\u001b[0;32m<ipython-input-14-0e5716617fd7>\u001b[0m in \u001b[0;36m<module>\u001b[0;34m\u001b[0m\n\u001b[0;32m----> 1\u001b[0;31m \u001b[0mprint\u001b[0m\u001b[0;34m(\u001b[0m\u001b[0;34m(\u001b[0m\u001b[0;32mlambda\u001b[0m \u001b[0mx\u001b[0m\u001b[0;34m:\u001b[0m\u001b[0mx\u001b[0m\u001b[0;34m+\u001b[0m\u001b[0mx\u001b[0m\u001b[0;34m*\u001b[0m\u001b[0mx\u001b[0m\u001b[0;34m)\u001b[0m \u001b[0;34m(\u001b[0m\u001b[0;36m10\u001b[0m\u001b[0;34m,\u001b[0m\u001b[0;36m10\u001b[0m\u001b[0;34m)\u001b[0m\u001b[0;34m)\u001b[0m\u001b[0;34m\u001b[0m\u001b[0;34m\u001b[0m\u001b[0m\n\u001b[0m",
      "\u001b[0;31mTypeError\u001b[0m: <lambda>() takes 1 positional argument but 2 were given"
     ]
    }
   ],
   "source": [
    "print((lambda x:x+x*x) (10,10))"
   ]
  },
  {
   "cell_type": "code",
   "execution_count": 17,
   "metadata": {},
   "outputs": [
    {
     "name": "stdout",
     "output_type": "stream",
     "text": [
      "110\n"
     ]
    }
   ],
   "source": [
    "print((lambda x,y:x*x+y) (10,10))"
   ]
  },
  {
   "cell_type": "code",
   "execution_count": 19,
   "metadata": {},
   "outputs": [
    {
     "ename": "TypeError",
     "evalue": "'int' object is not iterable",
     "output_type": "error",
     "traceback": [
      "\u001b[0;31m---------------------------------------------------------------------------\u001b[0m",
      "\u001b[0;31mTypeError\u001b[0m                                 Traceback (most recent call last)",
      "\u001b[0;32m<ipython-input-19-31c01e958b37>\u001b[0m in \u001b[0;36m<module>\u001b[0;34m\u001b[0m\n\u001b[0;32m----> 1\u001b[0;31m \u001b[0mprint\u001b[0m\u001b[0;34m(\u001b[0m\u001b[0mlist\u001b[0m\u001b[0;34m(\u001b[0m\u001b[0;34m(\u001b[0m\u001b[0;32mlambda\u001b[0m \u001b[0mx\u001b[0m\u001b[0;34m,\u001b[0m\u001b[0my\u001b[0m\u001b[0;34m:\u001b[0m\u001b[0mx\u001b[0m\u001b[0;34m*\u001b[0m\u001b[0mx\u001b[0m\u001b[0;34m+\u001b[0m\u001b[0my\u001b[0m\u001b[0;34m)\u001b[0m \u001b[0;34m(\u001b[0m\u001b[0;36m10\u001b[0m\u001b[0;34m,\u001b[0m\u001b[0;36m10\u001b[0m\u001b[0;34m)\u001b[0m\u001b[0;34m)\u001b[0m\u001b[0;34m)\u001b[0m\u001b[0;34m\u001b[0m\u001b[0;34m\u001b[0m\u001b[0m\n\u001b[0m",
      "\u001b[0;31mTypeError\u001b[0m: 'int' object is not iterable"
     ]
    }
   ],
   "source": [
    "print(list((lambda x,y:x*x+y) (10,10)))"
   ]
  },
  {
   "cell_type": "code",
   "execution_count": 22,
   "metadata": {},
   "outputs": [
    {
     "ename": "TypeError",
     "evalue": "'int' object is not iterable",
     "output_type": "error",
     "traceback": [
      "\u001b[0;31m---------------------------------------------------------------------------\u001b[0m",
      "\u001b[0;31mTypeError\u001b[0m                                 Traceback (most recent call last)",
      "\u001b[0;32m<ipython-input-22-a51478664b62>\u001b[0m in \u001b[0;36m<module>\u001b[0;34m\u001b[0m\n\u001b[1;32m      1\u001b[0m \u001b[0ma\u001b[0m\u001b[0;34m=\u001b[0m\u001b[0;36m1\u001b[0m\u001b[0;34m\u001b[0m\u001b[0;34m\u001b[0m\u001b[0m\n\u001b[0;32m----> 2\u001b[0;31m \u001b[0mprint\u001b[0m\u001b[0;34m(\u001b[0m\u001b[0mlist\u001b[0m\u001b[0;34m(\u001b[0m\u001b[0ma\u001b[0m\u001b[0;34m)\u001b[0m\u001b[0;34m)\u001b[0m\u001b[0;34m\u001b[0m\u001b[0;34m\u001b[0m\u001b[0m\n\u001b[0m",
      "\u001b[0;31mTypeError\u001b[0m: 'int' object is not iterable"
     ]
    }
   ],
   "source": [
    "a=1\n",
    "print(list(a))"
   ]
  },
  {
   "cell_type": "markdown",
   "metadata": {},
   "source": [
    "# 모듈 방식을 이용하면 사용용도에 따라 파일 별로 구분 작성. \n",
    "### 타인이 만들어둔 코드를 자신의 프로그램에서 활용 가능. \n",
    "### 즉, 모듈은 하나의 .py 파일을 의미하며 변수,함수,클래스들을 모아둔 것!\n",
    "\n",
    "# 패키지? 모듈들을 모아놓은 컬렉션을 의미. 파이썬에서는 하나의 directory에 모아둔 모듈들을 의미.\n",
    "### 일반적으로 패키지의 디렉토리에는 __init__.py라는 패키지 초기화 파일이 존재 (py 3.3 이상부터는 없어도 패키지 인식 가능)\n",
    "\n",
    "#### => 패키지는 다른 모듈들의 컨테이너. 패키지 안 다른 하위 패키지 포함할 수 있음."
   ]
  },
  {
   "cell_type": "markdown",
   "metadata": {},
   "source": [
    "## 모듈은 현재 directory 내 파일이나 파이썬 라이브러리 directory (.../lib/site-packages)에 있는 파일형태에서 불러올 수 있음.\n",
    "\n",
    "## 모듈을 불러오려면 import 명령을 사용. 모듈 내 정의된 변수, 함수, 클래스를 사용하려면 모듈명.변수명, 모듈명.함수, 모듈명.클래스 로 초기화 해야 함"
   ]
  },
  {
   "cell_type": "code",
   "execution_count": 23,
   "metadata": {},
   "outputs": [],
   "source": [
    "sayHello='Hello, World!!'\n",
    "def sayHi():\n",
    "    print('Hello, module!!')"
   ]
  },
  {
   "cell_type": "code",
   "execution_count": 39,
   "metadata": {},
   "outputs": [
    {
     "name": "stdout",
     "output_type": "stream",
     "text": [
      "Hello, World!!\n",
      "Hello, module!!\n"
     ]
    }
   ],
   "source": [
    "import _20zzyzzy\n",
    "\n",
    "print(_20zzyzzy.sayHello)\n",
    "_20zzyzzy.sayHi()"
   ]
  },
  {
   "cell_type": "code",
   "execution_count": 38,
   "metadata": {
    "scrolled": true
   },
   "outputs": [
    {
     "name": "stdout",
     "output_type": "stream",
     "text": [
      "Hello, World!!\n",
      "Hello, module!!\n"
     ]
    }
   ],
   "source": [
    "import _20zzyzzy\n",
    "\n",
    "print(_20zzyzzy.sayHello)\n",
    "_20zzyzzy.sayHi()"
   ]
  },
  {
   "cell_type": "code",
   "execution_count": 37,
   "metadata": {},
   "outputs": [
    {
     "name": "stdout",
     "output_type": "stream",
     "text": [
      "Hello, World!!\n",
      "Hello, module!!\n"
     ]
    }
   ],
   "source": [
    "#매번 변수,함수,클래스 호출 시 모듈명을 앞에 붙이는 건 매우 번거로움\n",
    "#from 모듈이름 import 모듈함수 <- 왼쪽과 같이 쓰면 모듈명 붙이지 않아도 됨\n",
    "\n",
    "from _20zzyzzy import sayHello\n",
    "from _20zzyzzy import sayHi\n",
    "\n",
    "print(sayHello)\n",
    "sayHi()"
   ]
  },
  {
   "cell_type": "code",
   "execution_count": null,
   "metadata": {},
   "outputs": [],
   "source": [
    "#매번 변수,함수,클래스 호출 시 모듈명을 앞에 붙이는 건 매우 번거로움\n",
    "#from 모듈이름 import 모듈함수 <- 왼쪽과 같이 쓰면 모듈명 붙이지 않아도 됨\n",
    "\n",
    "from _20zzyzzy import sayHello,sayHi # <- 추천!\n",
    "\n",
    "print(sayHello)\n",
    "sayHi()"
   ]
  },
  {
   "cell_type": "code",
   "execution_count": null,
   "metadata": {},
   "outputs": [],
   "source": [
    "#매번 변수,함수,클래스 호출 시 모듈명을 앞에 붙이는 건 매우 번거로움\n",
    "#from 모듈이름 import 모듈함수 <- 왼쪽과 같이 쓰면 모듈명 붙이지 않아도 됨\n",
    "\n",
    "from _20zzyzzy import * #<- 모듈 내 있는 모든 함수를 모듈명 없이 사용 가능 (비추)\n",
    "\n",
    "print(sayHello)\n",
    "sayHi()"
   ]
  },
  {
   "cell_type": "code",
   "execution_count": 35,
   "metadata": {},
   "outputs": [
    {
     "name": "stdout",
     "output_type": "stream",
     "text": [
      "('_ast', '_codecs', '_collections', '_functools', '_imp', '_io', '_locale', '_operator', '_signal', '_sre', '_stat', '_string', '_symtable', '_thread', '_tracemalloc', '_warnings', '_weakref', 'atexit', 'builtins', 'errno', 'faulthandler', 'gc', 'itertools', 'marshal', 'posix', 'pwd', 'sys', 'time', 'xxsubtype', 'zipimport')\n"
     ]
    }
   ],
   "source": [
    "#시스템 모듈 확인\n",
    "import sys\n",
    "print(sys.builtin_module_names)"
   ]
  },
  {
   "cell_type": "code",
   "execution_count": 36,
   "metadata": {
    "scrolled": true
   },
   "outputs": [
    {
     "data": {
      "text/plain": [
       "['__doc__',\n",
       " '__file__',\n",
       " '__loader__',\n",
       " '__name__',\n",
       " '__package__',\n",
       " '__spec__',\n",
       " 'acos',\n",
       " 'acosh',\n",
       " 'asin',\n",
       " 'asinh',\n",
       " 'atan',\n",
       " 'atan2',\n",
       " 'atanh',\n",
       " 'ceil',\n",
       " 'copysign',\n",
       " 'cos',\n",
       " 'cosh',\n",
       " 'degrees',\n",
       " 'e',\n",
       " 'erf',\n",
       " 'erfc',\n",
       " 'exp',\n",
       " 'expm1',\n",
       " 'fabs',\n",
       " 'factorial',\n",
       " 'floor',\n",
       " 'fmod',\n",
       " 'frexp',\n",
       " 'fsum',\n",
       " 'gamma',\n",
       " 'gcd',\n",
       " 'hypot',\n",
       " 'inf',\n",
       " 'isclose',\n",
       " 'isfinite',\n",
       " 'isinf',\n",
       " 'isnan',\n",
       " 'ldexp',\n",
       " 'lgamma',\n",
       " 'log',\n",
       " 'log10',\n",
       " 'log1p',\n",
       " 'log2',\n",
       " 'modf',\n",
       " 'nan',\n",
       " 'pi',\n",
       " 'pow',\n",
       " 'radians',\n",
       " 'sin',\n",
       " 'sinh',\n",
       " 'sqrt',\n",
       " 'tan',\n",
       " 'tanh',\n",
       " 'tau',\n",
       " 'trunc']"
      ]
     },
     "execution_count": 36,
     "metadata": {},
     "output_type": "execute_result"
    }
   ],
   "source": [
    "import math\n",
    "dir(math) #패키지 내 함수명 확인"
   ]
  },
  {
   "cell_type": "code",
   "execution_count": 47,
   "metadata": {},
   "outputs": [
    {
     "name": "stdout",
     "output_type": "stream",
     "text": [
      "6\n",
      "7\n",
      "123\n",
      "124\n",
      "1.7320508075688772\n",
      "343.0\n",
      "3.141592653589793\n",
      "2.718281828459045\n"
     ]
    }
   ],
   "source": [
    "import math\n",
    "print(math.factorial(3))\n",
    "print(math.gcd(21,28)) #최대공약수\n",
    "print(math.floor(123.75)) #소수점 이하 버림\n",
    "print(math.ceil(123.25)) #소수점 이하 올림\n",
    "print(math.sqrt(3)) #3의 제곱근\n",
    "print(math.pow(7,3)) #7의 3승\n",
    "print(math.pi) #원주율\n",
    "print(math.e) #자연상수"
   ]
  },
  {
   "cell_type": "code",
   "execution_count": 57,
   "metadata": {},
   "outputs": [
    {
     "name": "stdout",
     "output_type": "stream",
     "text": [
      "14\n",
      "0.7723527194299217\n",
      "0.24024712002414683 2.402471200241468 24.024712002414685\n",
      "25\n"
     ]
    }
   ],
   "source": [
    "#난수생성: random\n",
    "\n",
    "import random\n",
    "random.seed(20190402)#난수생성 기준설정\n",
    "\n",
    "print(random.randint(1,45))\n",
    "\n",
    "print(random.random()) #0-1 사이 임의의 실수\n",
    "\n",
    "key=random.random()\n",
    "print(key,key*10,key*100)\n",
    "print(int((key*100)%45)+1) #<- 1~45 사이 임의 정수 <- 복원 추출 (중복 요소 발생)"
   ]
  },
  {
   "cell_type": "code",
   "execution_count": 50,
   "metadata": {},
   "outputs": [],
   "source": [
    "import random\n",
    "random.seed(20190402)"
   ]
  },
  {
   "cell_type": "code",
   "execution_count": 112,
   "metadata": {},
   "outputs": [
    {
     "name": "stdout",
     "output_type": "stream",
     "text": [
      "14\n",
      "17\n",
      "13\n",
      "2\n",
      "27\n",
      "18\n"
     ]
    }
   ],
   "source": [
    "for _ in range(6):\n",
    "    key=random.random()\n",
    "    print(int((key*100)%45)+1)"
   ]
  },
  {
   "cell_type": "code",
   "execution_count": 159,
   "metadata": {},
   "outputs": [
    {
     "name": "stdout",
     "output_type": "stream",
     "text": [
      "['백반', '자장면', '돈까스', '라면/김밥', '회덮밥']\n",
      "라면/김밥\n",
      "회덮밥\n",
      "['회덮밥', '백반', '라면/김밥', '자장면', '돈까스']\n",
      "['돈까스']\n"
     ]
    }
   ],
   "source": [
    "#무작위 추출 : 복원/비복원\n",
    "\n",
    "lunch = ['백반','자장면','돈까스','라면/김밥','회덮밥']\n",
    "print(lunch)\n",
    "\n",
    "print(lunch[random.randint(0,len(lunch)-1)])\n",
    "print(random.choice(lunch)) #무작위 1개 추출 <- 비복원 추출\n",
    "print(random.sample(lunch,5)) #<- 비복원 추출 (뒤에 숫자 갯수만큼 랜덤으로)\n",
    "print(random.sample(lunch,1)) #<- 비복원 추출"
   ]
  },
  {
   "cell_type": "code",
   "execution_count": 167,
   "metadata": {},
   "outputs": [
    {
     "name": "stdout",
     "output_type": "stream",
     "text": [
      "[1, 2, 3, 4, 5, 6, 7, 8, 9, 10, 11, 12, 13, 14, 15, 16, 17, 18, 19, 20, 21, 22, 23, 24, 25, 26, 27, 28, 29, 30, 31, 32, 33, 34, 35, 36, 37, 38, 39, 40, 41, 42, 43, 44, 45]\n",
      "[19, 3, 16, 27, 10, 5]\n"
     ]
    }
   ],
   "source": [
    "#로또 생성기 (1~45, 6)을 sample함수를 이용하다면?\n",
    "\n",
    "lotto=[]\n",
    "for num in range(1,45+1):\n",
    "    lotto.append(num)\n",
    "    \n",
    "print(lotto)\n",
    "print(random.sample(lotto,6))"
   ]
  },
  {
   "cell_type": "code",
   "execution_count": 170,
   "metadata": {},
   "outputs": [
    {
     "name": "stdout",
     "output_type": "stream",
     "text": [
      "[35, 39, 4, 8, 25, 2]\n"
     ]
    }
   ],
   "source": [
    "#로또 생성기 (1~45, 6)을 sample함수를 이용하다면?\n",
    "\n",
    "\n",
    "print(random.sample(range(1,45+1),6))"
   ]
  },
  {
   "cell_type": "code",
   "execution_count": 173,
   "metadata": {},
   "outputs": [
    {
     "name": "stdout",
     "output_type": "stream",
     "text": [
      "['백반', '자장면', '돈까스', '라면/김밥', '회덮밥']\n",
      "[('백반', '자장면'), ('백반', '돈까스'), ('백반', '라면/김밥'), ('백반', '회덮밥'), ('자장면', '돈까스'), ('자장면', '라면/김밥'), ('자장면', '회덮밥'), ('돈까스', '라면/김밥'), ('돈까스', '회덮밥'), ('라면/김밥', '회덮밥')]\n",
      "[('백반', '백반'), ('백반', '자장면'), ('백반', '돈까스'), ('백반', '라면/김밥'), ('백반', '회덮밥'), ('자장면', '자장면'), ('자장면', '돈까스'), ('자장면', '라면/김밥'), ('자장면', '회덮밥'), ('돈까스', '돈까스'), ('돈까스', '라면/김밥'), ('돈까스', '회덮밥'), ('라면/김밥', '라면/김밥'), ('라면/김밥', '회덮밥'), ('회덮밥', '회덮밥')]\n"
     ]
    }
   ],
   "source": [
    "import itertools\n",
    "\n",
    "lunch = ['백반','자장면','돈까스','라면/김밥','회덮밥']\n",
    "print(lunch)\n",
    "print(list(itertools.combinations(lunch,2))) #비복원임\n",
    "print(list(itertools.combinations_with_replacement(lunch,2))) #복원임!!"
   ]
  },
  {
   "cell_type": "code",
   "execution_count": 176,
   "metadata": {},
   "outputs": [
    {
     "name": "stdout",
     "output_type": "stream",
     "text": [
      "5\n",
      "5\n",
      "2.7386127875258306\n",
      "7.5\n"
     ]
    }
   ],
   "source": [
    "#통계 관련\n",
    "import statistics\n",
    "val=[1,2,3,4,5,6,7,8,9]\n",
    "\n",
    "print(statistics.median(val))\n",
    "print(statistics.mean(val))\n",
    "print(statistics.stdev(val))\n",
    "print(statistics.variance(val)) #n-1 (자유도)로 남음.."
   ]
  },
  {
   "cell_type": "code",
   "execution_count": null,
   "metadata": {},
   "outputs": [],
   "source": []
  }
 ],
 "metadata": {
  "kernelspec": {
   "display_name": "Python 3",
   "language": "python",
   "name": "python3"
  },
  "language_info": {
   "codemirror_mode": {
    "name": "ipython",
    "version": 3
   },
   "file_extension": ".py",
   "mimetype": "text/x-python",
   "name": "python",
   "nbconvert_exporter": "python",
   "pygments_lexer": "ipython3",
   "version": "3.6.8"
  }
 },
 "nbformat": 4,
 "nbformat_minor": 2
}
